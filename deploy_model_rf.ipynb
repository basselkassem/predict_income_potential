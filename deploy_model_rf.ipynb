{
  "nbformat": 4,
  "nbformat_minor": 0,
  "metadata": {
    "celltoolbar": "Raw Cell Format",
    "kernelspec": {
      "name": "python36",
      "display_name": "Python 3.6 with Spark",
      "language": "python3"
    },
    "language_info": {
      "mimetype": "text/x-python",
      "nbconvert_exporter": "python",
      "name": "python",
      "pygments_lexer": "ipython3",
      "version": "3.6.8",
      "file_extension": ".py",
      "codemirror_mode": {
        "version": 3,
        "name": "ipython"
      }
    },
    "colab": {
      "name": "deploy_model_rf.ipynb",
      "provenance": [],
      "collapsed_sections": [],
      "include_colab_link": true
    }
  },
  "cells": [
    {
      "cell_type": "markdown",
      "metadata": {
        "id": "view-in-github",
        "colab_type": "text"
      },
      "source": [
        "<a href=\"https://colab.research.google.com/github/basselkassem/predict_income_potential/blob/master/deploy_model_rf.ipynb\" target=\"_parent\"><img src=\"https://colab.research.google.com/assets/colab-badge.svg\" alt=\"Open In Colab\"/></a>"
      ]
    },
    {
      "cell_type": "markdown",
      "metadata": {
        "id": "th1pYDpUQdLs",
        "colab_type": "text"
      },
      "source": [
        "# Download Lib"
      ]
    },
    {
      "cell_type": "markdown",
      "metadata": {
        "id": "HwNEA4a6QSeR",
        "colab_type": "text"
      },
      "source": [
        "We'll be using those libraries:\n",
        "\n",
        "1. [Watson Machine Learning Client](http://wml-api-pyclient.mybluemix.net/): Client library to work with the Watson Machine Learning service on IBM Cloud.\n",
        "1. [Pixiedust](https://github.com/pixiedust/pixiedust): Python Helper library for Jupyter Notebooks\n",
        "1. [ibmos2spark](https://github.com/ibm-watson-data-lab/ibmos2spark): Facilitates Data I/O between Spark and IBM Object Storage services"
      ]
    },
    {
      "cell_type": "code",
      "metadata": {
        "id": "xi--p8nKQSeX",
        "colab_type": "code",
        "colab": {},
        "outputId": "e02164d7-e127-40a5-f173-437d2a7f15d5"
      },
      "source": [
        "!pip install --upgrade ibmos2spark\n",
        "!pip install --upgrade pixiedust\n",
        "!pip install --upgrade watson-machine-learning-client"
      ],
      "execution_count": 0,
      "outputs": [
        {
          "output_type": "stream",
          "text": [
            "Waiting for a Spark session to start...\n",
            "Spark Initialization Done! ApplicationId = app-20191022200129-0000\n",
            "KERNEL_ID = 10c23acb-988c-4444-9c85-6f186ae992b7\n",
            "Collecting ibmos2spark\n",
            "  Downloading https://files.pythonhosted.org/packages/c6/81/1edb24382edef1ca636e87972b2da286b8271a586c728a21f916d3cd76cd/ibmos2spark-1.0.1-py2.py3-none-any.whl\n",
            "Installing collected packages: ibmos2spark\n",
            "Successfully installed ibmos2spark-1.0.1\n",
            "Collecting pixiedust\n",
            "\u001b[?25l  Downloading https://files.pythonhosted.org/packages/bc/a8/e84b2ed12ee387589c099734b6f914a520e1fef2733c955982623080e813/pixiedust-1.1.17.tar.gz (197kB)\n",
            "\u001b[K    100% |################################| 204kB 4.1MB/s eta 0:00:01\n",
            "\u001b[?25hCollecting mpld3 (from pixiedust)\n",
            "\u001b[?25l  Downloading https://files.pythonhosted.org/packages/91/95/a52d3a83d0a29ba0d6898f6727e9858fe7a43f6c2ce81a5fe7e05f0f4912/mpld3-0.3.tar.gz (788kB)\n",
            "\u001b[K    100% |################################| 798kB 2.7MB/s eta 0:00:01\n",
            "\u001b[?25hCollecting lxml (from pixiedust)\n",
            "\u001b[?25l  Downloading https://files.pythonhosted.org/packages/ec/be/5ab8abdd8663c0386ec2dd595a5bc0e23330a0549b8a91e32f38c20845b6/lxml-4.4.1-cp36-cp36m-manylinux1_x86_64.whl (5.8MB)\n",
            "\u001b[K    100% |################################| 5.8MB 1.9MB/s eta 0:00:01\n",
            "\u001b[?25hCollecting geojson (from pixiedust)\n",
            "  Downloading https://files.pythonhosted.org/packages/e4/8d/9e28e9af95739e6d2d2f8d4bef0b3432da40b7c3588fbad4298c1be09e48/geojson-2.5.0-py2.py3-none-any.whl\n",
            "Collecting astunparse (from pixiedust)\n",
            "  Downloading https://files.pythonhosted.org/packages/2e/37/5dd0dd89b87bb5f0f32a7e775458412c52d78f230ab8d0c65df6aabc4479/astunparse-1.6.2-py2.py3-none-any.whl\n",
            "Collecting markdown (from pixiedust)\n",
            "\u001b[?25l  Downloading https://files.pythonhosted.org/packages/c0/4e/fd492e91abdc2d2fcb70ef453064d980688762079397f779758e055f6575/Markdown-3.1.1-py2.py3-none-any.whl (87kB)\n",
            "\u001b[K    100% |################################| 92kB 2.1MB/s eta 0:00:01\n",
            "\u001b[?25hCollecting colour (from pixiedust)\n",
            "  Downloading https://files.pythonhosted.org/packages/74/46/e81907704ab203206769dee1385dc77e1407576ff8f50a0681d0a6b541be/colour-0.1.5-py2.py3-none-any.whl\n",
            "Collecting requests (from pixiedust)\n",
            "\u001b[?25l  Downloading https://files.pythonhosted.org/packages/51/bd/23c926cd341ea6b7dd0b2a00aba99ae0f828be89d72b2190f27c11d4b7fb/requests-2.22.0-py2.py3-none-any.whl (57kB)\n",
            "\u001b[K    100% |################################| 61kB 1.8MB/s eta 0:00:01\n",
            "\u001b[?25hCollecting wheel<1.0,>=0.23.0 (from astunparse->pixiedust)\n",
            "  Downloading https://files.pythonhosted.org/packages/00/83/b4a77d044e78ad1a45610eb88f745be2fd2c6d658f9798a15e384b7d57c9/wheel-0.33.6-py2.py3-none-any.whl\n",
            "Collecting six<2.0,>=1.6.1 (from astunparse->pixiedust)\n",
            "  Downloading https://files.pythonhosted.org/packages/73/fb/00a976f728d0d1fecfe898238ce23f502a721c0ac0ecfedb80e0d88c64e9/six-1.12.0-py2.py3-none-any.whl\n",
            "Collecting setuptools>=36 (from markdown->pixiedust)\n",
            "\u001b[?25l  Downloading https://files.pythonhosted.org/packages/6a/9a/50fadfd53ec909e4399b67c74cc7f4e883488035cfcdb90b685758fa8b34/setuptools-41.4.0-py2.py3-none-any.whl (580kB)\n",
            "\u001b[K    100% |################################| 583kB 4.7MB/s eta 0:00:01\n",
            "\u001b[?25hCollecting urllib3!=1.25.0,!=1.25.1,<1.26,>=1.21.1 (from requests->pixiedust)\n",
            "\u001b[?25l  Downloading https://files.pythonhosted.org/packages/e0/da/55f51ea951e1b7c63a579c09dd7db825bb730ec1fe9c0180fc77bfb31448/urllib3-1.25.6-py2.py3-none-any.whl (125kB)\n",
            "\u001b[K    100% |################################| 133kB 4.7MB/s eta 0:00:01\n",
            "\u001b[?25hCollecting chardet<3.1.0,>=3.0.2 (from requests->pixiedust)\n",
            "\u001b[?25l  Downloading https://files.pythonhosted.org/packages/bc/a9/01ffebfb562e4274b6487b4bb1ddec7ca55ec7510b22e4c51f14098443b8/chardet-3.0.4-py2.py3-none-any.whl (133kB)\n",
            "\u001b[K    100% |################################| 143kB 4.6MB/s eta 0:00:01\n",
            "\u001b[?25hCollecting idna<2.9,>=2.5 (from requests->pixiedust)\n",
            "\u001b[?25l  Downloading https://files.pythonhosted.org/packages/14/2c/cd551d81dbe15200be1cf41cd03869a46fe7226e7450af7a6545bfc474c9/idna-2.8-py2.py3-none-any.whl (58kB)\n",
            "\u001b[K    100% |################################| 61kB 2.9MB/s eta 0:00:01\n",
            "\u001b[?25hCollecting certifi>=2017.4.17 (from requests->pixiedust)\n",
            "\u001b[?25l  Downloading https://files.pythonhosted.org/packages/18/b0/8146a4f8dd402f60744fa380bc73ca47303cccf8b9190fd16a827281eac2/certifi-2019.9.11-py2.py3-none-any.whl (154kB)\n",
            "\u001b[K    100% |################################| 163kB 4.8MB/s eta 0:00:01\n",
            "\u001b[?25hBuilding wheels for collected packages: pixiedust, mpld3\n",
            "  Building wheel for pixiedust (setup.py) ... \u001b[?25ldone\n",
            "\u001b[?25h  Stored in directory: /home/spark/shared/.cache/pip/wheels/25/fa/a5/09c1e8f4c91b34c5f7f4ac6e41be81dd0667030a2372546a8d\n",
            "  Building wheel for mpld3 (setup.py) ... \u001b[?25ldone\n",
            "\u001b[?25h  Stored in directory: /home/spark/shared/.cache/pip/wheels/c0/47/fb/8a64f89aecfe0059830479308ad42d62e898a3e3cefdf6ba28\n",
            "Successfully built pixiedust mpld3\n",
            "\u001b[31mtensorflow 1.13.1 requires tensorboard<1.14.0,>=1.13.0, which is not installed.\u001b[0m\n",
            "\u001b[31mibm-cos-sdk-core 2.4.3 has requirement urllib3<1.25,>=1.20, but you'll have urllib3 1.25.6 which is incompatible.\u001b[0m\n",
            "\u001b[31mbotocore 1.12.82 has requirement urllib3<1.25,>=1.20, but you'll have urllib3 1.25.6 which is incompatible.\u001b[0m\n",
            "Installing collected packages: mpld3, lxml, geojson, wheel, six, astunparse, setuptools, markdown, colour, urllib3, chardet, idna, certifi, requests, pixiedust\n",
            "Successfully installed astunparse-1.6.2 certifi-2019.9.11 chardet-3.0.4 colour-0.1.5 geojson-2.5.0 idna-2.8 lxml-4.4.1 markdown-3.1.1 mpld3-0.3 pixiedust-1.1.17 requests-2.22.0 setuptools-41.4.0 six-1.12.0 urllib3-1.25.6 wheel-0.33.6\n",
            "Collecting watson-machine-learning-client\n",
            "\u001b[?25l  Downloading https://files.pythonhosted.org/packages/ac/5c/be0d3efe27704bbd43481b7de364ade8c686e867617caba8654989e0864b/watson_machine_learning_client-1.0.375-py3-none-any.whl (536kB)\n",
            "\u001b[K    100% |################################| 542kB 3.7MB/s eta 0:00:01\n",
            "\u001b[?25hCollecting pandas (from watson-machine-learning-client)\n",
            "\u001b[?25l  Downloading https://files.pythonhosted.org/packages/86/12/08b092f6fc9e4c2552e37add0861d0e0e0d743f78f1318973caad970b3fc/pandas-0.25.2-cp36-cp36m-manylinux1_x86_64.whl (10.4MB)\n",
            "\u001b[K    100% |################################| 10.4MB 1.4MB/s eta 0:00:01\n",
            "\u001b[?25hCollecting tabulate (from watson-machine-learning-client)\n",
            "\u001b[?25l  Downloading https://files.pythonhosted.org/packages/66/d4/977fdd5186b7cdbb7c43a7aac7c5e4e0337a84cb802e154616f3cfc84563/tabulate-0.8.5.tar.gz (45kB)\n",
            "\u001b[K    100% |################################| 51kB 1.6MB/s eta 0:00:01\n",
            "\u001b[?25hCollecting certifi (from watson-machine-learning-client)\n",
            "  Using cached https://files.pythonhosted.org/packages/18/b0/8146a4f8dd402f60744fa380bc73ca47303cccf8b9190fd16a827281eac2/certifi-2019.9.11-py2.py3-none-any.whl\n",
            "Collecting requests (from watson-machine-learning-client)\n",
            "  Using cached https://files.pythonhosted.org/packages/51/bd/23c926cd341ea6b7dd0b2a00aba99ae0f828be89d72b2190f27c11d4b7fb/requests-2.22.0-py2.py3-none-any.whl\n",
            "Collecting tqdm (from watson-machine-learning-client)\n",
            "\u001b[?25l  Downloading https://files.pythonhosted.org/packages/e1/c1/bc1dba38b48f4ae3c4428aea669c5e27bd5a7642a74c8348451e0bd8ff86/tqdm-4.36.1-py2.py3-none-any.whl (52kB)\n",
            "\u001b[K    100% |################################| 61kB 3.2MB/s eta 0:00:01\n",
            "\u001b[?25hCollecting urllib3 (from watson-machine-learning-client)\n",
            "  Using cached https://files.pythonhosted.org/packages/e0/da/55f51ea951e1b7c63a579c09dd7db825bb730ec1fe9c0180fc77bfb31448/urllib3-1.25.6-py2.py3-none-any.whl\n",
            "Collecting ibm-cos-sdk (from watson-machine-learning-client)\n",
            "\u001b[?25l  Downloading https://files.pythonhosted.org/packages/26/54/381e37afdac8c4b1059fdbb0e9ecfe28c3e385ec2782fb8c415793d6f3ed/ibm-cos-sdk-2.5.4.tar.gz (52kB)\n",
            "\u001b[K    100% |################################| 61kB 1.9MB/s eta 0:00:01\n",
            "\u001b[?25hCollecting lomond (from watson-machine-learning-client)\n",
            "  Downloading https://files.pythonhosted.org/packages/0f/b1/02eebed49c754b01b17de7705caa8c4ceecfb4f926cdafc220c863584360/lomond-0.3.3-py2.py3-none-any.whl\n",
            "Collecting pytz>=2017.2 (from pandas->watson-machine-learning-client)\n",
            "\u001b[?25l  Downloading https://files.pythonhosted.org/packages/e7/f9/f0b53f88060247251bf481fa6ea62cd0d25bf1b11a87888e53ce5b7c8ad2/pytz-2019.3-py2.py3-none-any.whl (509kB)\n"
          ],
          "name": "stdout"
        },
        {
          "output_type": "stream",
          "text": [
            "\u001b[K    100% |################################| 512kB 4.6MB/s eta 0:00:01\n",
            "\u001b[?25hCollecting numpy>=1.13.3 (from pandas->watson-machine-learning-client)\n",
            "\u001b[?25l  Downloading https://files.pythonhosted.org/packages/0e/46/ae6773894f7eacf53308086287897ec568eac9768918d913d5b9d366c5db/numpy-1.17.3-cp36-cp36m-manylinux1_x86_64.whl (20.0MB)\n",
            "\u001b[K    100% |################################| 20.0MB 1.0MB/s eta 0:00:01\n",
            "\u001b[?25hCollecting python-dateutil>=2.6.1 (from pandas->watson-machine-learning-client)\n",
            "\u001b[?25l  Downloading https://files.pythonhosted.org/packages/41/17/c62faccbfbd163c7f57f3844689e3a78bae1f403648a6afb1d0866d87fbb/python_dateutil-2.8.0-py2.py3-none-any.whl (226kB)\n",
            "\u001b[K    100% |################################| 235kB 5.2MB/s eta 0:00:01\n",
            "\u001b[?25hCollecting idna<2.9,>=2.5 (from requests->watson-machine-learning-client)\n",
            "  Using cached https://files.pythonhosted.org/packages/14/2c/cd551d81dbe15200be1cf41cd03869a46fe7226e7450af7a6545bfc474c9/idna-2.8-py2.py3-none-any.whl\n",
            "Collecting chardet<3.1.0,>=3.0.2 (from requests->watson-machine-learning-client)\n",
            "  Using cached https://files.pythonhosted.org/packages/bc/a9/01ffebfb562e4274b6487b4bb1ddec7ca55ec7510b22e4c51f14098443b8/chardet-3.0.4-py2.py3-none-any.whl\n",
            "Collecting ibm-cos-sdk-core>=2.0.0 (from ibm-cos-sdk->watson-machine-learning-client)\n",
            "\u001b[?25l  Downloading https://files.pythonhosted.org/packages/6e/19/5e41dd03cf9c5b6f953b28199b02e0ece55ef8d4b724b80750cb6761f976/ibm-cos-sdk-core-2.5.4.tar.gz (751kB)\n",
            "\u001b[K    100% |################################| 757kB 3.2MB/s eta 0:00:01\n",
            "\u001b[?25hCollecting ibm-cos-sdk-s3transfer>=2.0.0 (from ibm-cos-sdk->watson-machine-learning-client)\n",
            "\u001b[?25l  Downloading https://files.pythonhosted.org/packages/1d/91/99c14759514446c1058b0a66754c646f83e29e41e6f2e3f7711356a16933/ibm-cos-sdk-s3transfer-2.5.4.tar.gz (133kB)\n",
            "\u001b[K    100% |################################| 143kB 5.0MB/s eta 0:00:01\n",
            "\u001b[?25hCollecting jmespath<1.0.0,>=0.7.1 (from ibm-cos-sdk->watson-machine-learning-client)\n",
            "  Downloading https://files.pythonhosted.org/packages/83/94/7179c3832a6d45b266ddb2aac329e101367fbdb11f425f13771d27f225bb/jmespath-0.9.4-py2.py3-none-any.whl\n",
            "Collecting six>=1.10.0 (from lomond->watson-machine-learning-client)\n",
            "  Using cached https://files.pythonhosted.org/packages/73/fb/00a976f728d0d1fecfe898238ce23f502a721c0ac0ecfedb80e0d88c64e9/six-1.12.0-py2.py3-none-any.whl\n",
            "Collecting docutils<0.16,>=0.10 (from ibm-cos-sdk-core>=2.0.0->ibm-cos-sdk->watson-machine-learning-client)\n",
            "\u001b[?25l  Downloading https://files.pythonhosted.org/packages/22/cd/a6aa959dca619918ccb55023b4cb151949c64d4d5d55b3f4ffd7eee0c6e8/docutils-0.15.2-py3-none-any.whl (547kB)\n",
            "\u001b[K    100% |################################| 552kB 4.9MB/s eta 0:00:01\n",
            "\u001b[?25hBuilding wheels for collected packages: tabulate, ibm-cos-sdk, ibm-cos-sdk-core, ibm-cos-sdk-s3transfer\n",
            "  Building wheel for tabulate (setup.py) ... \u001b[?25ldone\n",
            "\u001b[?25h  Stored in directory: /home/spark/shared/.cache/pip/wheels/e1/41/5e/e201f95d90fc84f93aa629b6638adacda680fe63aac47174ab\n",
            "  Building wheel for ibm-cos-sdk (setup.py) ... \u001b[?25ldone\n",
            "\u001b[?25h  Stored in directory: /home/spark/shared/.cache/pip/wheels/6f/90/cc/78216d4fb08b6736364c4c68da6662feafc1094c4dd17f47c7\n",
            "  Building wheel for ibm-cos-sdk-core (setup.py) ... \u001b[?25ldone\n",
            "\u001b[?25h  Stored in directory: /home/spark/shared/.cache/pip/wheels/fc/44/91/3ac9ece0b3759e16ec32ff19e7ea09a9ae10ef5a9e175810b3\n",
            "  Building wheel for ibm-cos-sdk-s3transfer (setup.py) ... \u001b[?25ldone\n",
            "\u001b[?25h  Stored in directory: /home/spark/shared/.cache/pip/wheels/d6/e3/e6/e3adc8d4bace3d11c5a96658a1cd3eceeabeb41fdc788e19aa\n",
            "Successfully built tabulate ibm-cos-sdk ibm-cos-sdk-core ibm-cos-sdk-s3transfer\n",
            "\u001b[31mtensorflow 1.13.1 requires tensorboard<1.14.0,>=1.13.0, which is not installed.\u001b[0m\n",
            "\u001b[31mbotocore 1.12.82 has requirement urllib3<1.25,>=1.20, but you'll have urllib3 1.25.6 which is incompatible.\u001b[0m\n",
            "Installing collected packages: pytz, numpy, six, python-dateutil, pandas, tabulate, certifi, idna, urllib3, chardet, requests, tqdm, jmespath, docutils, ibm-cos-sdk-core, ibm-cos-sdk-s3transfer, ibm-cos-sdk, lomond, watson-machine-learning-client\n",
            "Successfully installed certifi-2019.9.11 chardet-3.0.4 docutils-0.15.2 ibm-cos-sdk-2.5.4 ibm-cos-sdk-core-2.5.4 ibm-cos-sdk-s3transfer-2.5.4 idna-2.8 jmespath-0.9.4 lomond-0.3.3 numpy-1.17.3 pandas-0.25.2 python-dateutil-2.8.0 pytz-2019.3 requests-2.22.0 six-1.12.0 tabulate-0.8.5 tqdm-4.36.1 urllib3-1.25.6 watson-machine-learning-client-1.0.375\n"
          ],
          "name": "stdout"
        }
      ]
    },
    {
      "cell_type": "markdown",
      "metadata": {
        "id": "PpF0CzybQSei",
        "colab_type": "text"
      },
      "source": [
        "# Load data"
      ]
    },
    {
      "cell_type": "code",
      "metadata": {
        "id": "f_QOhx6LQSek",
        "colab_type": "code",
        "colab": {},
        "outputId": "1b768a03-93d2-4df6-ca80-b01b1a6323ad"
      },
      "source": [
        "import ibmos2spark\n",
        "credentials = {\n",
        "    'endpoint': 'https://s3-api.us-geo.objectstorage.service.networklayer.com',\n",
        "    'service_id': 'iam-ServiceId-e5857043-ddb4-49a1-81b0-d00a29224da0',\n",
        "    'iam_service_endpoint': 'https://iam.ng.bluemix.net/oidc/token',\n",
        "    'api_key': ''\n",
        "}\n",
        "\n",
        "configuration_name = 'os_3b5d6725d31e421f902328ed36b65f14_configs'\n",
        "cos = ibmos2spark.CloudObjectStorage(sc, credentials, configuration_name, 'bluemix_cos')\n",
        "\n",
        "from pyspark.sql import SparkSession\n",
        "spark = SparkSession.builder.getOrCreate()\n",
        "df_data = spark.read\\\n",
        "  .format('org.apache.spark.sql.execution.datasources.csv.CSVFileFormat')\\\n",
        "  .option('header', 'true')\\\n",
        "  .option('inferSchema','True')\\\n",
        "  .load(cos.url('rf_data.csv', 'predictincomepotential-donotdelete-pr-tg55qtqcmgw2hz'))\n",
        "df_data.take(2)\n"
      ],
      "execution_count": 0,
      "outputs": [
        {
          "output_type": "execute_result",
          "data": {
            "text/plain": [
              "[Row(_c0=0, age=39, workclass='state-gov', final_weight=77516, education_duration=13, marital_status='never-married', occupation='adm-clerical', relationship='not-in-family', race='white', sex='male', capital_gain=2174, capital_loss=0, hours_per_week=40, native_country='united-states', has_missing_values=0, com_workclass='government', com_marital_status='never-married', com_native_country='north_america', age final_weight=3023124.0, age education_duration=507.0, age hours_per_week=1560.0, age capital_gain=84786.0, age capital_loss=0.0, final_weight education_duration=1007708.0, final_weight hours_per_week=3100640.0, final_weight capital_gain=168519784.0, final_weight capital_loss=0.0, education_duration hours_per_week=520.0, education_duration capital_gain=28262.0, education_duration capital_loss=0.0, hours_per_week capital_gain=86960.0, hours_per_week capital_loss=0.0, target=0),\n",
              " Row(_c0=1, age=50, workclass='self-emp-not-inc', final_weight=83311, education_duration=13, marital_status='married-civ-spouse', occupation='exec-managerial', relationship='husband', race='white', sex='male', capital_gain=0, capital_loss=0, hours_per_week=13, native_country='united-states', has_missing_values=0, com_workclass='self-employed', com_marital_status='married-civ-spouse', com_native_country='north_america', age final_weight=4165550.0, age education_duration=650.0, age hours_per_week=650.0, age capital_gain=0.0, age capital_loss=0.0, final_weight education_duration=1083043.0, final_weight hours_per_week=1083043.0, final_weight capital_gain=0.0, final_weight capital_loss=0.0, education_duration hours_per_week=169.0, education_duration capital_gain=0.0, education_duration capital_loss=0.0, hours_per_week capital_gain=0.0, hours_per_week capital_loss=0.0, target=0)]"
            ]
          },
          "metadata": {
            "tags": []
          },
          "execution_count": 2
        }
      ]
    },
    {
      "cell_type": "code",
      "metadata": {
        "id": "grvZCvV5QSez",
        "colab_type": "code",
        "colab": {}
      },
      "source": [
        "from project_lib import Project\n",
        "import numpy as np\n",
        "project = Project(spark.sparkContext, '', '')\n",
        "pc = project.project_context\n",
        "\n",
        "# Fetch the file\n",
        "my_file = project.get_file(\"features.pkl.npy\")\n",
        "\n",
        "features = list(np.load(my_file))"
      ],
      "execution_count": 0,
      "outputs": []
    },
    {
      "cell_type": "markdown",
      "metadata": {
        "id": "AeMFEKTjQ7eE",
        "colab_type": "text"
      },
      "source": [
        "# Clean data"
      ]
    },
    {
      "cell_type": "code",
      "metadata": {
        "id": "BdG7FSR_QSe5",
        "colab_type": "code",
        "colab": {}
      },
      "source": [
        "df_data = df_data.drop('_c0')"
      ],
      "execution_count": 0,
      "outputs": []
    },
    {
      "cell_type": "code",
      "metadata": {
        "id": "S7XPlzj4QSe-",
        "colab_type": "code",
        "colab": {}
      },
      "source": [
        "df = df_data.drop('native_country')\n",
        "df = df.withColumn(\"has_missing_values1\", df.has_missing_values.cast('string'))\n",
        "df =df.drop(\"has_missing_values\").withColumnRenamed(\"has_missing_values1\", \"has_missing_values\")\n",
        "\n",
        "df = df.withColumn(\"target1\", df.target.cast('string'))\n",
        "df = df.drop(\"target\").withColumnRenamed(\"target1\", \"target\")"
      ],
      "execution_count": 0,
      "outputs": []
    },
    {
      "cell_type": "code",
      "metadata": {
        "id": "IWqXZ3GWQSfE",
        "colab_type": "code",
        "colab": {},
        "outputId": "1131f8d9-1e6c-4edd-b901-15329654d951"
      },
      "source": [
        "df.printSchema()"
      ],
      "execution_count": 0,
      "outputs": [
        {
          "output_type": "stream",
          "text": [
            "root\n",
            " |-- age: integer (nullable = true)\n",
            " |-- workclass: string (nullable = true)\n",
            " |-- final_weight: integer (nullable = true)\n",
            " |-- education_duration: integer (nullable = true)\n",
            " |-- marital_status: string (nullable = true)\n",
            " |-- occupation: string (nullable = true)\n",
            " |-- relationship: string (nullable = true)\n",
            " |-- race: string (nullable = true)\n",
            " |-- sex: string (nullable = true)\n",
            " |-- capital_gain: integer (nullable = true)\n",
            " |-- capital_loss: integer (nullable = true)\n",
            " |-- hours_per_week: integer (nullable = true)\n",
            " |-- com_workclass: string (nullable = true)\n",
            " |-- com_marital_status: string (nullable = true)\n",
            " |-- com_native_country: string (nullable = true)\n",
            " |-- age final_weight: double (nullable = true)\n",
            " |-- age education_duration: double (nullable = true)\n",
            " |-- age hours_per_week: double (nullable = true)\n",
            " |-- age capital_gain: double (nullable = true)\n",
            " |-- age capital_loss: double (nullable = true)\n",
            " |-- final_weight education_duration: double (nullable = true)\n",
            " |-- final_weight hours_per_week: double (nullable = true)\n",
            " |-- final_weight capital_gain: double (nullable = true)\n",
            " |-- final_weight capital_loss: double (nullable = true)\n",
            " |-- education_duration hours_per_week: double (nullable = true)\n",
            " |-- education_duration capital_gain: double (nullable = true)\n",
            " |-- education_duration capital_loss: double (nullable = true)\n",
            " |-- hours_per_week capital_gain: double (nullable = true)\n",
            " |-- hours_per_week capital_loss: double (nullable = true)\n",
            " |-- has_missing_values: string (nullable = true)\n",
            " |-- target: string (nullable = true)\n",
            "\n"
          ],
          "name": "stdout"
        }
      ]
    },
    {
      "cell_type": "markdown",
      "metadata": {
        "id": "55zGr183QSfZ",
        "colab_type": "text"
      },
      "source": [
        "# Create a Spark machine learning model\n",
        "\n",
        "### 4.1 Prepare data"
      ]
    },
    {
      "cell_type": "code",
      "metadata": {
        "id": "T9u7dedRQSfd",
        "colab_type": "code",
        "colab": {},
        "outputId": "fd324b30-deef-4850-8e52-8dd2436e7ef1"
      },
      "source": [
        "split_data = df.randomSplit([0.8, 0.20], 24)\n",
        "train_data = split_data[0]\n",
        "test_data = split_data[1]\n",
        "\n",
        "print(\"Number of training records: \" + str(train_data.count()))\n",
        "print(\"Number of testing records : \" + str(test_data.count()))"
      ],
      "execution_count": 0,
      "outputs": [
        {
          "output_type": "stream",
          "text": [
            "Number of training records: 38993\n",
            "Number of testing records : 9820\n"
          ],
          "name": "stdout"
        }
      ]
    },
    {
      "cell_type": "markdown",
      "metadata": {
        "id": "2PT4zNITQSfh",
        "colab_type": "text"
      },
      "source": [
        "# Create pipeline and train a model\n",
        "\n",
        "In this section we will create a Spark machine learning pipeline and then train the model. In the first step we need to import the Spark machine learning packages that will be needed in the subsequent steps. A sequence of data processing is called a _data pipeline_. Each step in the pipeline processes the data and passes the result to the next step in the pipeline, this allows you to transform and fit your model with the raw input data."
      ]
    },
    {
      "cell_type": "code",
      "metadata": {
        "id": "Zd9HzhOOQSfj",
        "colab_type": "code",
        "colab": {}
      },
      "source": [
        "from pyspark.ml.feature import StringIndexer, IndexToString, VectorAssembler\n",
        "from pyspark.ml.classification import RandomForestClassifier\n",
        "from pyspark.ml.evaluation import BinaryClassificationEvaluator\n",
        "from pyspark.ml import Pipeline, Model"
      ],
      "execution_count": 0,
      "outputs": []
    },
    {
      "cell_type": "code",
      "metadata": {
        "id": "R629rhePQSfn",
        "colab_type": "code",
        "colab": {}
      },
      "source": [
        "stringIndexer_label = StringIndexer(inputCol=\"target\", outputCol=\"label\").fit(df)"
      ],
      "execution_count": 0,
      "outputs": []
    },
    {
      "cell_type": "markdown",
      "metadata": {
        "id": "eeYMeahvQSfs",
        "colab_type": "text"
      },
      "source": [
        "In the following step, convert all the string fields to numeric ones by using the StringIndexer transformer."
      ]
    },
    {
      "cell_type": "code",
      "metadata": {
        "id": "9tDaX_VNQSfu",
        "colab_type": "code",
        "colab": {}
      },
      "source": [
        "stringIndexer_workclass = StringIndexer(inputCol=\"workclass\", outputCol=\"workclass_lbl\")\n",
        "stringIndexer_marital_status = StringIndexer(inputCol=\"marital_status\", outputCol=\"marital_status_lbl\")\n",
        "stringIndexer_occupation = StringIndexer(inputCol=\"occupation\", outputCol=\"occupation_lbl\")\n",
        "stringIndexer_relationship = StringIndexer(inputCol=\"relationship\", outputCol=\"relationship_lbl\")\n",
        "stringIndexer_race = StringIndexer(inputCol=\"race\", outputCol=\"race_lbl\")\n",
        "stringIndexer_sex = StringIndexer(inputCol=\"sex\", outputCol=\"sex_lbl\")\n",
        "stringIndexer_has_missing_values = StringIndexer(inputCol = 'has_missing_values', outputCol = 'has_missing_values_lbl')\n",
        "stringIndexer_com_workclass = StringIndexer(inputCol = 'com_workclass', outputCol = 'com_workclass_lbl')\n",
        "stringIndexer_com_marital_status = StringIndexer(inputCol = 'com_marital_status', outputCol = 'com_marital_status_lbl')\n",
        "stringIndexer_com_native_country = StringIndexer(inputCol = 'com_native_country', outputCol = 'com_native_country_lbl')"
      ],
      "execution_count": 0,
      "outputs": []
    },
    {
      "cell_type": "code",
      "metadata": {
        "id": "ciiRA3egQSfx",
        "colab_type": "code",
        "colab": {}
      },
      "source": [
        "cat_features = [\n",
        " 'workclass',\n",
        " 'marital_status',\n",
        " 'occupation',\n",
        " 'relationship',\n",
        " 'race',\n",
        " 'sex',\n",
        " 'has_missing_values',\n",
        " 'com_workclass',\n",
        " 'com_marital_status',\n",
        " 'com_native_country',]\n",
        "feats = df.columns\n",
        "if 'target' in feats: feats.remove('target')"
      ],
      "execution_count": 0,
      "outputs": []
    },
    {
      "cell_type": "code",
      "metadata": {
        "id": "9B_O9tbfQSf1",
        "colab_type": "code",
        "colab": {}
      },
      "source": [
        "cont_features = list(set(feats).difference(set(cat_features)))\n",
        "all_feat = [feat + '_lbl' for feat in cat_features] + cont_features"
      ],
      "execution_count": 0,
      "outputs": []
    },
    {
      "cell_type": "code",
      "metadata": {
        "id": "e93LROQDQSf7",
        "colab_type": "code",
        "colab": {}
      },
      "source": [
        "vectorAssembler_features = VectorAssembler(inputCols = all_feat, outputCol=\"features\")"
      ],
      "execution_count": 0,
      "outputs": []
    },
    {
      "cell_type": "markdown",
      "metadata": {
        "id": "jz1j8fo3QSf-",
        "colab_type": "text"
      },
      "source": [
        "Next, define estimators you want to use for classification. Random Forest is used in the following example."
      ]
    },
    {
      "cell_type": "code",
      "metadata": {
        "id": "DDmrrk1wQSgA",
        "colab_type": "code",
        "colab": {}
      },
      "source": [
        "rf = RandomForestClassifier(labelCol=\"label\", featuresCol=\"features\")"
      ],
      "execution_count": 0,
      "outputs": []
    },
    {
      "cell_type": "markdown",
      "metadata": {
        "id": "J1JExvM4QSgE",
        "colab_type": "text"
      },
      "source": [
        "Finally, indexed labels back to original labels."
      ]
    },
    {
      "cell_type": "code",
      "metadata": {
        "id": "E3E67t2UQSgF",
        "colab_type": "code",
        "colab": {}
      },
      "source": [
        "labelConverter = IndexToString(inputCol=\"prediction\", outputCol=\"predictedLabel\", labels=stringIndexer_label.labels)"
      ],
      "execution_count": 0,
      "outputs": []
    },
    {
      "cell_type": "markdown",
      "metadata": {
        "id": "jR1nKJtDQSgI",
        "colab_type": "text"
      },
      "source": [
        "Let's build the pipeline now. A pipeline consists of transformers and an estimator."
      ]
    },
    {
      "cell_type": "code",
      "metadata": {
        "id": "Js-SsVUFQSgL",
        "colab_type": "code",
        "colab": {}
      },
      "source": [
        "pipeline_rf = Pipeline(stages=[stringIndexer_label,\n",
        "                                         stringIndexer_workclass,\n",
        "                                         stringIndexer_marital_status,\n",
        "                                         stringIndexer_occupation,\n",
        "                                         stringIndexer_relationship,\n",
        "                                         stringIndexer_race,\n",
        "                                         stringIndexer_sex,\n",
        "                                        stringIndexer_has_missing_values,\n",
        "                                        stringIndexer_com_workclass,\n",
        "                                        stringIndexer_com_marital_status,\n",
        "                                        stringIndexer_com_native_country,\n",
        "                                          vectorAssembler_features,\n",
        "                               rf, labelConverter])"
      ],
      "execution_count": 0,
      "outputs": []
    },
    {
      "cell_type": "markdown",
      "metadata": {
        "id": "oeKxasIZQSgP",
        "colab_type": "text"
      },
      "source": [
        "Now, we can train your Random Forest model by using the previously defined **pipeline** and **training data**."
      ]
    },
    {
      "cell_type": "code",
      "metadata": {
        "id": "hcimD0tQQSgR",
        "colab_type": "code",
        "colab": {}
      },
      "source": [
        "model_rf = pipeline_rf.fit(train_data)"
      ],
      "execution_count": 0,
      "outputs": []
    },
    {
      "cell_type": "markdown",
      "metadata": {
        "id": "uzgWqGscQSgV",
        "colab_type": "text"
      },
      "source": [
        "# Model Evaluation"
      ]
    },
    {
      "cell_type": "code",
      "metadata": {
        "id": "uav_I7lJQSgW",
        "colab_type": "code",
        "colab": {}
      },
      "source": [
        "train_predictions = model_rf.transform(train_data)\n",
        "test_predictions = model_rf.transform(test_data)"
      ],
      "execution_count": 0,
      "outputs": []
    },
    {
      "cell_type": "code",
      "metadata": {
        "id": "hRVfo32vQSge",
        "colab_type": "code",
        "colab": {}
      },
      "source": [
        "Xy_train = train_data.toPandas()\n",
        "Xy_test = test_data.toPandas()"
      ],
      "execution_count": 0,
      "outputs": []
    },
    {
      "cell_type": "code",
      "metadata": {
        "id": "lDpLYDswQSgi",
        "colab_type": "code",
        "colab": {}
      },
      "source": [
        "X_train, y_train = Xy_train.drop(columns = 'target'), Xy_train[['target']]\n",
        "X_test, y_test = Xy_test.drop(columns = 'target'), Xy_test[['target']]"
      ],
      "execution_count": 0,
      "outputs": []
    },
    {
      "cell_type": "code",
      "metadata": {
        "id": "jQVKVz5yQSgn",
        "colab_type": "code",
        "colab": {}
      },
      "source": [
        "y_train_hat = train_predictions.select('prediction', 'predictedLabel').toPandas()\n",
        "y_test_hat = test_predictions.select('prediction', 'predictedLabel').toPandas()"
      ],
      "execution_count": 0,
      "outputs": []
    },
    {
      "cell_type": "code",
      "metadata": {
        "id": "dSEyB9cbQSgr",
        "colab_type": "code",
        "colab": {},
        "outputId": "b2cd6a71-1467-43cb-bbf3-6049c21f3f31"
      },
      "source": [
        "y_train.loc[:, 'target'] = y_train.loc[:, 'target'].astype(int)\n",
        "y_test.loc[:, 'target'] = y_test.loc[:, 'target'].astype(int)\n",
        "y_train_hat = y_train_hat['prediction']\n",
        "y_test_hat = y_test_hat['prediction']"
      ],
      "execution_count": 0,
      "outputs": [
        {
          "output_type": "stream",
          "text": [
            "/home/spark/shared/user-libs/python3.6/pandas/core/indexing.py:576: SettingWithCopyWarning: \n",
            "A value is trying to be set on a copy of a slice from a DataFrame.\n",
            "Try using .loc[row_indexer,col_indexer] = value instead\n",
            "\n",
            "See the caveats in the documentation: http://pandas.pydata.org/pandas-docs/stable/user_guide/indexing.html#returning-a-view-versus-a-copy\n",
            "  self.obj[item_labels[indexer[info_axis]]] = value\n"
          ],
          "name": "stderr"
        }
      ]
    },
    {
      "cell_type": "code",
      "metadata": {
        "id": "qmuBpJtGQSgv",
        "colab_type": "code",
        "colab": {},
        "outputId": "03353688-f0f2-417f-cf06-593d1dadbf97"
      },
      "source": [
        "from sklearn.metrics import f1_score, accuracy_score, roc_auc_score\n",
        "tr_acc = accuracy_score(y_train, y_train_hat)\n",
        "tr_f1 = f1_score(y_train, y_train_hat)\n",
        "tr_auc = roc_auc_score(y_train, y_train_hat)\n",
        "\n",
        "test_acc = accuracy_score(y_test, y_test_hat)\n",
        "test_f1 = f1_score(y_test, y_test_hat)\n",
        "test_auc = roc_auc_score(y_test, y_test_hat)\n",
        "print('------train-----------')\n",
        "print('accuracy_score: ', tr_acc)\n",
        "print('f1_score: ', tr_f1)\n",
        "print('roc_auc_score: ', tr_auc)\n",
        "print('------test-------------')\n",
        "print('accuracy_score: ', test_acc)\n",
        "print('f1_score: ', test_f1)\n",
        "print('roc_auc_score: ', test_auc)"
      ],
      "execution_count": 0,
      "outputs": [
        {
          "output_type": "stream",
          "text": [
            "------train-----------\n",
            "accuracy_score:  0.851050188495371\n",
            "f1_score:  0.6397022332506204\n",
            "roc_auc_score:  0.7478433278433532\n",
            "------test-------------\n",
            "accuracy_score:  0.8539714867617108\n",
            "f1_score:  0.6317411402157166\n",
            "roc_auc_score:  0.7439425958402399\n"
          ],
          "name": "stdout"
        }
      ]
    },
    {
      "cell_type": "code",
      "metadata": {
        "id": "7roQMwR0QSgy",
        "colab_type": "code",
        "colab": {},
        "outputId": "56ce320e-4bca-4ea6-b53c-6a4b4506865a"
      },
      "source": [
        "from sklearn.metrics import confusion_matrix\n",
        "import seaborn as sns\n",
        "import matplotlib.pyplot as plt\n",
        "%matplotlib inline\n",
        "labels = [0, 1]\n",
        "cm = confusion_matrix(y_test, y_test_hat, labels)\n",
        "print(cm)\n",
        "ax =  plt.subplot()\n",
        "sns.heatmap(cm, annot = True, ax = ax);\n",
        "\n",
        "ax.set_xlabel('Predicted labels');\n",
        "ax.set_ylabel('True labels'); \n",
        "ax.set_title('Confusion Matrix'); \n",
        "ax.xaxis.set_ticklabels(['<=50k', '>50k']); \n",
        "ax.yaxis.set_ticklabels(['<=50k', '>50k']);"
      ],
      "execution_count": 0,
      "outputs": [
        {
          "output_type": "stream",
          "text": [
            "[[7127  407]\n",
            " [1019 1267]]\n"
          ],
          "name": "stdout"
        },
        {
          "output_type": "display_data",
          "data": {
            "image/png": "[encoded data removed]",
            "text/plain": [
              "<Figure size 432x288 with 2 Axes>"
            ]
          },
          "metadata": {
            "tags": [],
            "needs_background": "light"
          }
        }
      ]
    },
    {
      "cell_type": "code",
      "metadata": {
        "id": "gS5hbMHeQSg2",
        "colab_type": "code",
        "colab": {},
        "outputId": "69d03310-a0b8-4f61-e4a5-c1286599b451"
      },
      "source": [
        "from sklearn.metrics import classification_report\n",
        "print(classification_report(y_test, y_test_hat))"
      ],
      "execution_count": 0,
      "outputs": [
        {
          "output_type": "stream",
          "text": [
            "              precision    recall  f1-score   support\n",
            "\n",
            "           0       0.87      0.95      0.91      7534\n",
            "           1       0.76      0.55      0.64      2286\n",
            "\n",
            "   micro avg       0.85      0.85      0.85      9820\n",
            "   macro avg       0.82      0.75      0.77      9820\n",
            "weighted avg       0.85      0.85      0.85      9820\n",
            "\n"
          ],
          "name": "stdout"
        }
      ]
    },
    {
      "cell_type": "markdown",
      "metadata": {
        "id": "LiwfwhjVQSg7",
        "colab_type": "text"
      },
      "source": [
        "# Persist model\n"
      ]
    },
    {
      "cell_type": "code",
      "metadata": {
        "id": "pteqDd1oQSg8",
        "colab_type": "code",
        "colab": {}
      },
      "source": [
        "wml_credentials = {\n",
        "  \"apikey\": \"\",\n",
        "  \"iam_apikey_description\": \"\",\n",
        "  \"iam_apikey_name\": \"Service credentials-1\",\n",
        "  \"iam_role_crn\": \"crn:v1:bluemix:public:iam::::serviceRole:Writer\",\n",
        "  \"iam_serviceid_crn\": \"\",\n",
        "  \"instance_id\": \"de9133b0-3524-4add-a7ed-258f25382a48\",\n",
        "  \"url\": \"https://us-south.ml.cloud.ibm.com\"\n",
        "}"
      ],
      "execution_count": 0,
      "outputs": []
    },
    {
      "cell_type": "code",
      "metadata": {
        "id": "pkrdL2dPQSg-",
        "colab_type": "code",
        "colab": {},
        "outputId": "9b505341-4134-4277-ad72-e29246d83fd4"
      },
      "source": [
        "from watson_machine_learning_client import WatsonMachineLearningAPIClient\n",
        "client = WatsonMachineLearningAPIClient(wml_credentials)\n",
        "print(client.version)"
      ],
      "execution_count": 0,
      "outputs": [
        {
          "output_type": "stream",
          "text": [
            "1.0.375\n"
          ],
          "name": "stdout"
        },
        {
          "output_type": "stream",
          "text": [
            "WARNING:watson_machine_learning_client.wml_client_error:Loading model with artifact_uid: 'f636cf34-77da-4506-9e18-660c4940aaf8' failed.\n",
            "Reason: 'NoneType' object has no attribute 'groups'\n"
          ],
          "name": "stderr"
        }
      ]
    },
    {
      "cell_type": "markdown",
      "metadata": {
        "id": "rZF9It2FQShB",
        "colab_type": "text"
      },
      "source": [
        "Create model artifact (abstraction layer)."
      ]
    },
    {
      "cell_type": "code",
      "metadata": {
        "id": "bdoiRJuHQShC",
        "colab_type": "code",
        "colab": {}
      },
      "source": [
        "model_props = {client.repository.ModelMetaNames.AUTHOR_NAME: \"Bassel Kassem\", \n",
        "               client.repository.ModelMetaNames.NAME: \"predict_income_potential_Model\"}\n",
        "published_model = client.repository.store_model(model=model_rf, pipeline=pipeline_rf, meta_props=model_props, training_data=train_data)"
      ],
      "execution_count": 0,
      "outputs": []
    },
    {
      "cell_type": "markdown",
      "metadata": {
        "id": "7rq5MJFnQShE",
        "colab_type": "text"
      },
      "source": [
        "\n",
        "## Save pipeline and model\n",
        "\n",
        "In this subsection you will learn how to save pipeline and model artifacts to your Watson Machine Learning instance."
      ]
    },
    {
      "cell_type": "code",
      "metadata": {
        "id": "JxFA5khUQShF",
        "colab_type": "code",
        "colab": {}
      },
      "source": [
        "import json\n",
        "published_model_uid = client.repository.get_model_uid(published_model)\n",
        "model_details = client.repository.get_details(published_model_uid)"
      ],
      "execution_count": 0,
      "outputs": []
    },
    {
      "cell_type": "markdown",
      "metadata": {
        "id": "2m7t_HexQShQ",
        "colab_type": "text"
      },
      "source": [
        "# Accessing Watson ML Models and Deployments through API\n",
        "\n",
        "Instead of jumping from your notebook into a web browser, manage your model and delopment through a set of APIs"
      ]
    },
    {
      "cell_type": "markdown",
      "metadata": {
        "id": "WYT9AlB0QShS",
        "colab_type": "text"
      },
      "source": [
        "### Deploy model to WML Service"
      ]
    },
    {
      "cell_type": "code",
      "metadata": {
        "id": "p1ZPMIVpQShT",
        "colab_type": "code",
        "colab": {},
        "outputId": "42d6cd18-fd05-4459-bca3-8e2a455c0834"
      },
      "source": [
        "created_deployment = client.deployments.create(published_model_uid, name=\"predict_income_potential\")"
      ],
      "execution_count": 0,
      "outputs": [
        {
          "output_type": "stream",
          "text": [
            "\n",
            "\n",
            "#######################################################################################\n",
            "\n",
            "Synchronous deployment creation for uid: '72356087-ffae-4dee-95f6-816ec6d14674' started\n",
            "\n",
            "#######################################################################################\n",
            "\n",
            "\n",
            "INITIALIZING\n",
            "DEPLOY_IN_PROGRESS.\n",
            "DEPLOY_SUCCESS\n",
            "\n",
            "\n",
            "------------------------------------------------------------------------------------------------\n",
            "Successfully finished deployment creation, deployment_uid='4144e5b8-66a1-449b-89b1-d9c459c57810'\n",
            "------------------------------------------------------------------------------------------------\n",
            "\n",
            "\n"
          ],
          "name": "stdout"
        }
      ]
    },
    {
      "cell_type": "markdown",
      "metadata": {
        "id": "iBkFi4WnQShX",
        "colab_type": "text"
      },
      "source": [
        "### Print the scoring endpoint"
      ]
    },
    {
      "cell_type": "code",
      "metadata": {
        "id": "m2V_SF-PQShY",
        "colab_type": "code",
        "colab": {},
        "outputId": "1f01b310-d324-47b8-9627-d14e081a294b"
      },
      "source": [
        "scoring_endpoint = client.deployments.get_scoring_url(created_deployment)\n",
        "print(scoring_endpoint)"
      ],
      "execution_count": 0,
      "outputs": [
        {
          "output_type": "stream",
          "text": [
            "https://us-south.ml.cloud.ibm.com/v3/wml_instances/de9133b0-3524-4add-a7ed-258f25382a48/deployments/4144e5b8-66a1-449b-89b1-d9c459c57810/online\n"
          ],
          "name": "stdout"
        }
      ]
    },
    {
      "cell_type": "markdown",
      "metadata": {
        "id": "ZmQQ5iFRQShi",
        "colab_type": "text"
      },
      "source": [
        "## 6.1 Invoke prediction model deployment\n"
      ]
    },
    {
      "cell_type": "code",
      "metadata": {
        "pixiedust": {
          "displayParams": {}
        },
        "id": "5kYL0nqFQShj",
        "colab_type": "code",
        "colab": {},
        "outputId": "4dcf356d-b66c-49a9-d46e-7d749aaff263"
      },
      "source": [
        "sample = X_test.tail(1)\n",
        "sample"
      ],
      "execution_count": 0,
      "outputs": [
        {
          "output_type": "execute_result",
          "data": {
            "text/html": [
              "<div>\n",
              "<style scoped>\n",
              "    .dataframe tbody tr th:only-of-type {\n",
              "        vertical-align: middle;\n",
              "    }\n",
              "\n",
              "    .dataframe tbody tr th {\n",
              "        vertical-align: top;\n",
              "    }\n",
              "\n",
              "    .dataframe thead th {\n",
              "        text-align: right;\n",
              "    }\n",
              "</style>\n",
              "<table border=\"1\" class=\"dataframe\">\n",
              "  <thead>\n",
              "    <tr style=\"text-align: right;\">\n",
              "      <th></th>\n",
              "      <th>age</th>\n",
              "      <th>workclass</th>\n",
              "      <th>final_weight</th>\n",
              "      <th>education_duration</th>\n",
              "      <th>marital_status</th>\n",
              "      <th>occupation</th>\n",
              "      <th>relationship</th>\n",
              "      <th>race</th>\n",
              "      <th>sex</th>\n",
              "      <th>capital_gain</th>\n",
              "      <th>...</th>\n",
              "      <th>final_weight education_duration</th>\n",
              "      <th>final_weight hours_per_week</th>\n",
              "      <th>final_weight capital_gain</th>\n",
              "      <th>final_weight capital_loss</th>\n",
              "      <th>education_duration hours_per_week</th>\n",
              "      <th>education_duration capital_gain</th>\n",
              "      <th>education_duration capital_loss</th>\n",
              "      <th>hours_per_week capital_gain</th>\n",
              "      <th>hours_per_week capital_loss</th>\n",
              "      <th>has_missing_values</th>\n",
              "    </tr>\n",
              "  </thead>\n",
              "  <tbody>\n",
              "    <tr>\n",
              "      <th>9819</th>\n",
              "      <td>90</td>\n",
              "      <td>self-emp-not-inc</td>\n",
              "      <td>122348</td>\n",
              "      <td>15</td>\n",
              "      <td>married-civ-spouse</td>\n",
              "      <td>prof-specialty</td>\n",
              "      <td>husband</td>\n",
              "      <td>white</td>\n",
              "      <td>male</td>\n",
              "      <td>20051</td>\n",
              "      <td>...</td>\n",
              "      <td>1835220.0</td>\n",
              "      <td>5505660.0</td>\n",
              "      <td>2.453200e+09</td>\n",
              "      <td>0.0</td>\n",
              "      <td>675.0</td>\n",
              "      <td>300765.0</td>\n",
              "      <td>0.0</td>\n",
              "      <td>902295.0</td>\n",
              "      <td>0.0</td>\n",
              "      <td>0</td>\n",
              "    </tr>\n",
              "  </tbody>\n",
              "</table>\n",
              "<p>1 rows × 30 columns</p>\n",
              "</div>"
            ],
            "text/plain": [
              "      age         workclass  final_weight  education_duration  \\\n",
              "9819   90  self-emp-not-inc        122348                  15   \n",
              "\n",
              "          marital_status      occupation relationship   race   sex  \\\n",
              "9819  married-civ-spouse  prof-specialty      husband  white  male   \n",
              "\n",
              "      capital_gain  ...  final_weight education_duration  \\\n",
              "9819         20051  ...                        1835220.0   \n",
              "\n",
              "      final_weight hours_per_week final_weight capital_gain  \\\n",
              "9819                    5505660.0              2.453200e+09   \n",
              "\n",
              "     final_weight capital_loss education_duration hours_per_week  \\\n",
              "9819                       0.0                             675.0   \n",
              "\n",
              "      education_duration capital_gain  education_duration capital_loss  \\\n",
              "9819                         300765.0                              0.0   \n",
              "\n",
              "      hours_per_week capital_gain  hours_per_week capital_loss  \\\n",
              "9819                     902295.0                          0.0   \n",
              "\n",
              "      has_missing_values  \n",
              "9819                   0  \n",
              "\n",
              "[1 rows x 30 columns]"
            ]
          },
          "metadata": {
            "tags": []
          },
          "execution_count": 32
        }
      ]
    },
    {
      "cell_type": "code",
      "metadata": {
        "id": "X38yN_ojQShp",
        "colab_type": "code",
        "colab": {},
        "outputId": "0d40da3d-b2c3-4243-bb4c-d21698a52f5b"
      },
      "source": [
        "scoring_payload = { \"fields\": list(sample.columns.values),\"values\":[list(sample.values[0])]}\n",
        "print(scoring_payload)"
      ],
      "execution_count": 0,
      "outputs": [
        {
          "output_type": "stream",
          "text": [
            "{'fields': ['age', 'workclass', 'final_weight', 'education_duration', 'marital_status', 'occupation', 'relationship', 'race', 'sex', 'capital_gain', 'capital_loss', 'hours_per_week', 'com_workclass', 'com_marital_status', 'com_native_country', 'age final_weight', 'age education_duration', 'age hours_per_week', 'age capital_gain', 'age capital_loss', 'final_weight education_duration', 'final_weight hours_per_week', 'final_weight capital_gain', 'final_weight capital_loss', 'education_duration hours_per_week', 'education_duration capital_gain', 'education_duration capital_loss', 'hours_per_week capital_gain', 'hours_per_week capital_loss', 'has_missing_values'], 'values': [[90, 'self-emp-not-inc', 122348, 15, 'married-civ-spouse', 'prof-specialty', 'husband', 'white', 'male', 20051, 0, 45, 'self-employed', 'married-civ-spouse', 'north_america', 11011320.0, 1350.0, 4050.0, 1804590.0, 0.0, 1835220.0, 5505660.0, 2453199748.0, 0.0, 675.0, 300765.0, 0.0, 902295.0, 0.0, '0']]}\n"
          ],
          "name": "stdout"
        }
      ]
    },
    {
      "cell_type": "code",
      "metadata": {
        "id": "a-7SnL7rQShs",
        "colab_type": "code",
        "colab": {},
        "outputId": "01aee27e-13f6-4607-93f3-8faa70ec6fe3"
      },
      "source": [
        "predictions = client.deployments.score(scoring_endpoint, scoring_payload)\n",
        "print(json.dumps(predictions, indent=2))\n",
        "print(predictions['values'][0][30])"
      ],
      "execution_count": 0,
      "outputs": [
        {
          "output_type": "stream",
          "text": [
            "{\n",
            "  \"fields\": [\n",
            "    \"age\",\n",
            "    \"workclass\",\n",
            "    \"final_weight\",\n",
            "    \"education_duration\",\n",
            "    \"marital_status\",\n",
            "    \"occupation\",\n",
            "    \"relationship\",\n",
            "    \"race\",\n",
            "    \"sex\",\n",
            "    \"capital_gain\",\n",
            "    \"capital_loss\",\n",
            "    \"hours_per_week\",\n",
            "    \"com_workclass\",\n",
            "    \"com_marital_status\",\n",
            "    \"com_native_country\",\n",
            "    \"age final_weight\",\n",
            "    \"age education_duration\",\n",
            "    \"age hours_per_week\",\n",
            "    \"age capital_gain\",\n",
            "    \"age capital_loss\",\n",
            "    \"final_weight education_duration\",\n",
            "    \"final_weight hours_per_week\",\n",
            "    \"final_weight capital_gain\",\n",
            "    \"final_weight capital_loss\",\n",
            "    \"education_duration hours_per_week\",\n",
            "    \"education_duration capital_gain\",\n",
            "    \"education_duration capital_loss\",\n",
            "    \"hours_per_week capital_gain\",\n",
            "    \"hours_per_week capital_loss\",\n",
            "    \"has_missing_values\",\n",
            "    \"target\",\n",
            "    \"label\",\n",
            "    \"workclass_lbl\",\n",
            "    \"marital_status_lbl\",\n",
            "    \"occupation_lbl\",\n",
            "    \"relationship_lbl\",\n",
            "    \"race_lbl\",\n",
            "    \"sex_lbl\",\n",
            "    \"has_missing_values_lbl\",\n",
            "    \"com_workclass_lbl\",\n",
            "    \"com_marital_status_lbl\",\n",
            "    \"com_native_country_lbl\",\n",
            "    \"features\",\n",
            "    \"rawPrediction\",\n",
            "    \"probability\",\n",
            "    \"prediction\",\n",
            "    \"predictedLabel\"\n",
            "  ],\n",
            "  \"values\": [\n",
            "    [\n",
            "      90,\n",
            "      \"self-emp-not-inc\",\n",
            "      122348,\n",
            "      15,\n",
            "      \"married-civ-spouse\",\n",
            "      \"prof-specialty\",\n",
            "      \"husband\",\n",
            "      \"white\",\n",
            "      \"male\",\n",
            "      20051,\n",
            "      0,\n",
            "      45,\n",
            "      \"self-employed\",\n",
            "      \"married-civ-spouse\",\n",
            "      \"north_america\",\n",
            "      11011320.0,\n",
            "      1350.0,\n",
            "      4050.0,\n",
            "      1804590.0,\n",
            "      0.0,\n",
            "      1835220.0,\n",
            "      5505660.0,\n",
            "      2453199748,\n",
            "      0.0,\n",
            "      675.0,\n",
            "      300765.0,\n",
            "      0.0,\n",
            "      902295.0,\n",
            "      0.0,\n",
            "      \"0\",\n",
            "      \"0\",\n",
            "      0.0,\n",
            "      1.0,\n",
            "      0.0,\n",
            "      0.0,\n",
            "      0.0,\n",
            "      0.0,\n",
            "      0.0,\n",
            "      0.0,\n",
            "      2.0,\n",
            "      0.0,\n",
            "      0.0,\n",
            "      [\n",
            "        30,\n",
            "        [\n",
            "          0,\n",
            "          7,\n",
            "          10,\n",
            "          11,\n",
            "          12,\n",
            "          13,\n",
            "          15,\n",
            "          16,\n",
            "          17,\n",
            "          18,\n",
            "          20,\n",
            "          21,\n",
            "          22,\n",
            "          23,\n",
            "          25,\n",
            "          27,\n",
            "          29\n",
            "        ],\n",
            "        [\n",
            "          1.0,\n",
            "          2.0,\n",
            "          300765.0,\n",
            "          1804590.0,\n",
            "          5505660.0,\n",
            "          675.0,\n",
            "          1350.0,\n",
            "          1835220.0,\n",
            "          2453199748,\n",
            "          902295.0,\n",
            "          90.0,\n",
            "          15.0,\n",
            "          11011320.0,\n",
            "          20051.0,\n",
            "          45.0,\n",
            "          4050.0,\n",
            "          122348.0\n",
            "        ]\n",
            "      ],\n",
            "      [\n",
            "        0.14703577750949606,\n",
            "        19.852964222490506\n",
            "      ],\n",
            "      [\n",
            "        0.007351788875474802,\n",
            "        0.9926482111245252\n",
            "      ],\n",
            "      1.0,\n",
            "      \"1\"\n",
            "    ]\n",
            "  ]\n",
            "}\n",
            "0\n"
          ],
          "name": "stdout"
        }
      ]
    },
    {
      "cell_type": "markdown",
      "metadata": {
        "id": "kgltKc4vQShv",
        "colab_type": "text"
      },
      "source": [
        "### Narrow down prediction results to just the prediction"
      ]
    },
    {
      "cell_type": "code",
      "metadata": {
        "id": "K9HgnMBbQShw",
        "colab_type": "code",
        "colab": {},
        "outputId": "2e0cdaf9-e253-4af7-fec3-24bdc962e1b0"
      },
      "source": [
        "print('Am I going to earn more than 50k? {}'.format(client.deployments.score(scoring_endpoint, scoring_payload)\n",
        "['values'][0][46]))"
      ],
      "execution_count": 0,
      "outputs": [
        {
          "output_type": "stream",
          "text": [
            "Am I going to earn more than 50k? 0\n"
          ],
          "name": "stdout"
        }
      ]
    },
    {
      "cell_type": "code",
      "metadata": {
        "id": "HEVHu58dQSiA",
        "colab_type": "code",
        "colab": {}
      },
      "source": [
        ""
      ],
      "execution_count": 0,
      "outputs": []
    }
  ]
}