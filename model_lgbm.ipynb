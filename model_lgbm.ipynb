{
  "nbformat": 4,
  "nbformat_minor": 0,
  "metadata": {
    "colab": {
      "name": "model_lgbm.ipynb",
      "provenance": [],
      "collapsed_sections": [
        "Qsbiy6NycWaj",
        "rHcoSpY8bQV7",
        "Kz8djr-1c5f0",
        "tVoIkIKjdI-N",
        "PUmNTmFscuaf"
      ],
      "include_colab_link": true
    },
    "kernelspec": {
      "name": "python3",
      "display_name": "Python 3"
    },
    "accelerator": "GPU"
  },
  "cells": [
    {
      "cell_type": "markdown",
      "metadata": {
        "id": "view-in-github",
        "colab_type": "text"
      },
      "source": [
        "<a href=\"https://colab.research.google.com/github/basselkassem/predict_income_potential/blob/master/model_lgbm.ipynb\" target=\"_parent\"><img src=\"https://colab.research.google.com/assets/colab-badge.svg\" alt=\"Open In Colab\"/></a>"
      ]
    },
    {
      "cell_type": "code",
      "metadata": {
        "id": "8EsY30Mlq6Bz",
        "colab_type": "code",
        "outputId": "7b34d888-1acd-43b5-8fa0-ecd670e2e438",
        "colab": {
          "base_uri": "https://localhost:8080/",
          "height": 129
        }
      },
      "source": [
        "from google.colab import drive\n",
        "drive.mount('/content/gdrive')\n",
        "data_path = \"/content/gdrive/My Drive/Colab Notebooks/predict_income_potential/data/\""
      ],
      "execution_count": 1,
      "outputs": [
        {
          "output_type": "stream",
          "text": [
            "Go to this URL in a browser: https://accounts.google.com/o/oauth2/auth?client_id=947318989803-6bn6qk8qdgf4n4g3pfee6491hc0brc4i.apps.googleusercontent.com&redirect_uri=urn%3Aietf%3Awg%3Aoauth%3A2.0%3Aoob&scope=email%20https%3A%2F%2Fwww.googleapis.com%2Fauth%2Fdocs.test%20https%3A%2F%2Fwww.googleapis.com%2Fauth%2Fdrive%20https%3A%2F%2Fwww.googleapis.com%2Fauth%2Fdrive.photos.readonly%20https%3A%2F%2Fwww.googleapis.com%2Fauth%2Fpeopleapi.readonly&response_type=code\n",
            "\n",
            "Enter your authorization code:\n",
            "··········\n",
            "Mounted at /content/gdrive\n"
          ],
          "name": "stdout"
        }
      ]
    },
    {
      "cell_type": "markdown",
      "metadata": {
        "id": "FIHH7JjBdYwg",
        "colab_type": "text"
      },
      "source": [
        "# Import Libs"
      ]
    },
    {
      "cell_type": "code",
      "metadata": {
        "id": "jyuwooeo0Th7",
        "colab_type": "code",
        "colab": {}
      },
      "source": [
        "import pandas as pd\n",
        "import numpy as np\n",
        "import lightgbm as lgb\n",
        "from sklearn.metrics import log_loss \n",
        "from sklearn.model_selection import train_test_split\n",
        "import matplotlib.pyplot as plt\n",
        "%matplotlib inline\n",
        "from sklearn.metrics import f1_score, accuracy_score, roc_auc_score\n",
        "from sklearn.decomposition import PCA\n",
        "from sklearn.feature_selection import RFE\n",
        "from sklearn.linear_model import LassoCV"
      ],
      "execution_count": 0,
      "outputs": []
    },
    {
      "cell_type": "markdown",
      "metadata": {
        "id": "CtLkdYLddUhz",
        "colab_type": "text"
      },
      "source": [
        "# Load Data"
      ]
    },
    {
      "cell_type": "code",
      "metadata": {
        "id": "CVde-Gq-0kgf",
        "colab_type": "code",
        "outputId": "0ec5a836-7c64-4141-ff75-f56823af9df1",
        "colab": {
          "base_uri": "https://localhost:8080/",
          "height": 90
        }
      },
      "source": [
        "cont_cat_lb = pd.read_pickle(data_path + 'data_cont_cat_lb.pkl')\n",
        "cont_cat_oh = pd.read_pickle(data_path + 'data_cont_cat_oh.pkl')\n",
        "bin_lb_cat_lb = pd.read_pickle(data_path + 'data_bin_lb_cat_lb.pkl')\n",
        "bin_oh_cat_oh = pd.read_pickle(data_path + 'data_bin_oh_cat_oh.pkl')\n",
        "\n",
        "print('cont_cat_lb: ', cont_cat_lb.shape)\n",
        "print('cont_cat_oh: ', cont_cat_oh.shape)\n",
        "print('bin_lb_cat_lb: ', bin_lb_cat_lb.shape)\n",
        "print('bin_oh_cat_oh: ', bin_oh_cat_oh.shape)"
      ],
      "execution_count": 3,
      "outputs": [
        {
          "output_type": "stream",
          "text": [
            "cont_cat_lb:  (48813, 39)\n",
            "cont_cat_oh:  (48813, 133)\n",
            "bin_lb_cat_lb:  (48813, 39)\n",
            "bin_oh_cat_oh:  (48813, 659)\n"
          ],
          "name": "stdout"
        }
      ]
    },
    {
      "cell_type": "markdown",
      "metadata": {
        "id": "Qsbiy6NycWaj",
        "colab_type": "text"
      },
      "source": [
        "# Utile Function"
      ]
    },
    {
      "cell_type": "code",
      "metadata": {
        "id": "lz2O16zEcZXg",
        "colab_type": "code",
        "colab": {}
      },
      "source": [
        "\n",
        "def evaluate_test_model(X, y, verbose = True):\n",
        "  X_train, X_test, y_train, y_test = train_test_split(X, y, test_size=0.33, random_state=42)\n",
        "\n",
        "  gbm = lgb.LGBMClassifier(n_estimators = 1000, silent = True)\n",
        "  gbm.fit(X_train, y_train, eval_set = [(X_test, y_test)], early_stopping_rounds = 10, verbose = 0)\n",
        "\n",
        "  y_train_hat = gbm.predict(X_train)\n",
        "  y_test_hat = gbm.predict(X_test)\n",
        "\n",
        "  tr_acc = accuracy_score(y_train, y_train_hat)\n",
        "  tr_f1 = f1_score(y_train, y_train_hat)\n",
        "  tr_auc = roc_auc_score(y_train, y_train_hat)\n",
        "\n",
        "  test_acc = accuracy_score(y_test, y_test_hat)\n",
        "  test_f1 = f1_score(y_test, y_test_hat)\n",
        "  test_auc = roc_auc_score(y_test, y_test_hat)\n",
        "  if verbose:\n",
        "    print('------train-----------')\n",
        "    print('accuracy_score: ', tr_acc)\n",
        "    print('f1_score: ', tr_f1)\n",
        "    print('roc_auc_score: ', tr_auc)\n",
        "    print('------test-------------')\n",
        "    print('accuracy_score: ', test_acc)\n",
        "    print('f1_score: ', test_f1)\n",
        "    print('roc_auc_score: ', test_auc)\n",
        "  return [test_acc, test_f1, test_auc]"
      ],
      "execution_count": 0,
      "outputs": []
    },
    {
      "cell_type": "markdown",
      "metadata": {
        "id": "G1M_EhqRZGQ5",
        "colab_type": "text"
      },
      "source": [
        "# Test data encoding"
      ]
    },
    {
      "cell_type": "markdown",
      "metadata": {
        "colab_type": "text",
        "id": "cn63DjbrZ5gA"
      },
      "source": [
        "## Continuous Feature Vs Binnig"
      ]
    },
    {
      "cell_type": "markdown",
      "metadata": {
        "id": "rHcoSpY8bQV7",
        "colab_type": "text"
      },
      "source": [
        "### Contiuous Featrue"
      ]
    },
    {
      "cell_type": "code",
      "metadata": {
        "id": "MWKoQZjxcRzm",
        "colab_type": "code",
        "colab": {
          "base_uri": "https://localhost:8080/",
          "height": 182
        },
        "outputId": "1ffe7e53-ec2c-47d0-9e5a-203c12180cfe"
      },
      "source": [
        "data = cont_cat_lb\n",
        "X, y = data.drop(columns = 'target'), data['target']\n",
        "evaluate_test_model(X, y)"
      ],
      "execution_count": 56,
      "outputs": [
        {
          "output_type": "stream",
          "text": [
            "------train-----------\n",
            "accuracy_score:  0.8889126712328768\n",
            "f1_score:  0.7458551941238196\n",
            "roc_auc_score:  0.8188570477903212\n",
            "------test-------------\n",
            "accuracy_score:  0.8732385622943696\n",
            "f1_score:  0.7130410342889264\n",
            "roc_auc_score:  0.7972260517006872\n"
          ],
          "name": "stdout"
        },
        {
          "output_type": "execute_result",
          "data": {
            "text/plain": [
              "(0.8732385622943696, 0.7130410342889264, 0.7972260517006872)"
            ]
          },
          "metadata": {
            "tags": []
          },
          "execution_count": 56
        }
      ]
    },
    {
      "cell_type": "markdown",
      "metadata": {
        "id": "Kz8djr-1c5f0",
        "colab_type": "text"
      },
      "source": [
        "### Binned Features\n",
        "\n"
      ]
    },
    {
      "cell_type": "code",
      "metadata": {
        "id": "td9U-NAIa1da",
        "colab_type": "code",
        "colab": {
          "base_uri": "https://localhost:8080/",
          "height": 164
        },
        "outputId": "2c5ad750-8441-4f51-ece6-ed9adb5ff6a8"
      },
      "source": [
        "data = bin_lb_cat_lb\n",
        "X, y = data.drop(columns = 'target'), data['target']\n",
        "evaluate_test_model(X, y)"
      ],
      "execution_count": 47,
      "outputs": [
        {
          "output_type": "stream",
          "text": [
            "------train-----------\n",
            "accuracy_score:  0.8801369863013698\n",
            "f1_score:  0.724796405504072\n",
            "roc_auc_score:  0.8056286689943598\n",
            "------test-------------\n",
            "accuracy_score:  0.866161772921969\n",
            "f1_score:  0.6981237748529824\n",
            "roc_auc_score:  0.7887243367238381\n"
          ],
          "name": "stdout"
        }
      ]
    },
    {
      "cell_type": "markdown",
      "metadata": {
        "id": "Ds-cbtmKZ0lI",
        "colab_type": "text"
      },
      "source": [
        "## Label encoding Vs One-hot encoding"
      ]
    },
    {
      "cell_type": "markdown",
      "metadata": {
        "id": "tVoIkIKjdI-N",
        "colab_type": "text"
      },
      "source": [
        "### One-hot encoding"
      ]
    },
    {
      "cell_type": "code",
      "metadata": {
        "id": "3_mM6V-gdNzB",
        "colab_type": "code",
        "colab": {
          "base_uri": "https://localhost:8080/",
          "height": 164
        },
        "outputId": "b86dde68-1e80-47e9-8f35-db451341e1c3"
      },
      "source": [
        "data = cont_cat_oh\n",
        "X, y = data.drop(columns = 'target'), data['target']\n",
        "evaluate_test_model(X, y)"
      ],
      "execution_count": 48,
      "outputs": [
        {
          "output_type": "stream",
          "text": [
            "------train-----------\n",
            "accuracy_score:  0.8833170254403131\n",
            "f1_score:  0.7321729365524987\n",
            "roc_auc_score:  0.8101021552821349\n",
            "------test-------------\n",
            "accuracy_score:  0.8752871065863803\n",
            "f1_score:  0.7194525904203324\n",
            "roc_auc_score:  0.8019738286097503\n"
          ],
          "name": "stdout"
        }
      ]
    },
    {
      "cell_type": "markdown",
      "metadata": {
        "id": "E8NnJAoedPOa",
        "colab_type": "text"
      },
      "source": [
        "### Label Encoding"
      ]
    },
    {
      "cell_type": "code",
      "metadata": {
        "id": "k7GcYC2Cdt-m",
        "colab_type": "code",
        "colab": {
          "base_uri": "https://localhost:8080/",
          "height": 164
        },
        "outputId": "e5e66608-6089-4d71-9574-691daa016bb7"
      },
      "source": [
        "data = cont_cat_lb\n",
        "X, y = data.drop(columns = 'target'), data['target']\n",
        "evaluate_test_model(X, y)"
      ],
      "execution_count": 49,
      "outputs": [
        {
          "output_type": "stream",
          "text": [
            "------train-----------\n",
            "accuracy_score:  0.8889126712328768\n",
            "f1_score:  0.7458551941238196\n",
            "roc_auc_score:  0.8188570477903212\n",
            "------test-------------\n",
            "accuracy_score:  0.8732385622943696\n",
            "f1_score:  0.7130410342889264\n",
            "roc_auc_score:  0.7972260517006872\n"
          ],
          "name": "stdout"
        }
      ]
    },
    {
      "cell_type": "markdown",
      "metadata": {
        "id": "PUmNTmFscuaf",
        "colab_type": "text"
      },
      "source": [
        "# Test reducing data dimensionality"
      ]
    },
    {
      "cell_type": "code",
      "metadata": {
        "id": "hFvcuuHShgpw",
        "colab_type": "code",
        "colab": {
          "base_uri": "https://localhost:8080/",
          "height": 35
        },
        "outputId": "fccf3331-493f-4564-d240-aa950ffd588f"
      },
      "source": [
        "data = bin_oh_cat_oh\n",
        "print(data.shape)\n",
        "max_pranciple_component = 100"
      ],
      "execution_count": 98,
      "outputs": [
        {
          "output_type": "stream",
          "text": [
            "(48813, 659)\n"
          ],
          "name": "stdout"
        }
      ]
    },
    {
      "cell_type": "code",
      "metadata": {
        "id": "uvjXf01AediE",
        "colab_type": "code",
        "colab": {
          "base_uri": "https://localhost:8080/",
          "height": 1000
        },
        "outputId": "d4e643ea-2173-4e85-c929-56b23839f610"
      },
      "source": [
        "result = []\n",
        "for component_num in range(2, max_pranciple_component):\n",
        "  pca = PCA(component_num)\n",
        "  X, y = data.drop(columns = 'target'), data['target']\n",
        "  projected_X = pca.fit_transform(X)\n",
        "  print('Reducing data dimension to: ',  component_num)\n",
        "  res = evaluate_test_model(projected_X, y, False)\n",
        "  result.append(res)\n"
      ],
      "execution_count": 99,
      "outputs": [
        {
          "output_type": "stream",
          "text": [
            "Reducing data dimension to:  2\n",
            "Reducing data dimension to:  3\n",
            "Reducing data dimension to:  4\n",
            "Reducing data dimension to:  5\n",
            "Reducing data dimension to:  6\n",
            "Reducing data dimension to:  7\n",
            "Reducing data dimension to:  8\n",
            "Reducing data dimension to:  9\n",
            "Reducing data dimension to:  10\n",
            "Reducing data dimension to:  11\n",
            "Reducing data dimension to:  12\n",
            "Reducing data dimension to:  13\n",
            "Reducing data dimension to:  14\n",
            "Reducing data dimension to:  15\n",
            "Reducing data dimension to:  16\n",
            "Reducing data dimension to:  17\n",
            "Reducing data dimension to:  18\n",
            "Reducing data dimension to:  19\n",
            "Reducing data dimension to:  20\n",
            "Reducing data dimension to:  21\n",
            "Reducing data dimension to:  22\n",
            "Reducing data dimension to:  23\n",
            "Reducing data dimension to:  24\n",
            "Reducing data dimension to:  25\n",
            "Reducing data dimension to:  26\n",
            "Reducing data dimension to:  27\n",
            "Reducing data dimension to:  28\n",
            "Reducing data dimension to:  29\n",
            "Reducing data dimension to:  30\n",
            "Reducing data dimension to:  31\n",
            "Reducing data dimension to:  32\n",
            "Reducing data dimension to:  33\n",
            "Reducing data dimension to:  34\n",
            "Reducing data dimension to:  35\n",
            "Reducing data dimension to:  36\n",
            "Reducing data dimension to:  37\n",
            "Reducing data dimension to:  38\n",
            "Reducing data dimension to:  39\n",
            "Reducing data dimension to:  40\n",
            "Reducing data dimension to:  41\n",
            "Reducing data dimension to:  42\n",
            "Reducing data dimension to:  43\n",
            "Reducing data dimension to:  44\n",
            "Reducing data dimension to:  45\n",
            "Reducing data dimension to:  46\n",
            "Reducing data dimension to:  47\n",
            "Reducing data dimension to:  48\n",
            "Reducing data dimension to:  49\n",
            "Reducing data dimension to:  50\n",
            "Reducing data dimension to:  51\n",
            "Reducing data dimension to:  52\n",
            "Reducing data dimension to:  53\n",
            "Reducing data dimension to:  54\n",
            "Reducing data dimension to:  55\n",
            "Reducing data dimension to:  56\n",
            "Reducing data dimension to:  57\n",
            "Reducing data dimension to:  58\n",
            "Reducing data dimension to:  59\n",
            "Reducing data dimension to:  60\n",
            "Reducing data dimension to:  61\n",
            "Reducing data dimension to:  62\n",
            "Reducing data dimension to:  63\n",
            "Reducing data dimension to:  64\n",
            "Reducing data dimension to:  65\n",
            "Reducing data dimension to:  66\n",
            "Reducing data dimension to:  67\n",
            "Reducing data dimension to:  68\n",
            "Reducing data dimension to:  69\n",
            "Reducing data dimension to:  70\n",
            "Reducing data dimension to:  71\n",
            "Reducing data dimension to:  72\n",
            "Reducing data dimension to:  73\n",
            "Reducing data dimension to:  74\n",
            "Reducing data dimension to:  75\n",
            "Reducing data dimension to:  76\n",
            "Reducing data dimension to:  77\n",
            "Reducing data dimension to:  78\n",
            "Reducing data dimension to:  79\n",
            "Reducing data dimension to:  80\n",
            "Reducing data dimension to:  81\n",
            "Reducing data dimension to:  82\n",
            "Reducing data dimension to:  83\n",
            "Reducing data dimension to:  84\n",
            "Reducing data dimension to:  85\n",
            "Reducing data dimension to:  86\n",
            "Reducing data dimension to:  87\n",
            "Reducing data dimension to:  88\n",
            "Reducing data dimension to:  89\n",
            "Reducing data dimension to:  90\n",
            "Reducing data dimension to:  91\n",
            "Reducing data dimension to:  92\n",
            "Reducing data dimension to:  93\n",
            "Reducing data dimension to:  94\n",
            "Reducing data dimension to:  95\n",
            "Reducing data dimension to:  96\n",
            "Reducing data dimension to:  97\n",
            "Reducing data dimension to:  98\n",
            "Reducing data dimension to:  99\n"
          ],
          "name": "stdout"
        }
      ]
    },
    {
      "cell_type": "code",
      "metadata": {
        "id": "XA_PMHHVpCYy",
        "colab_type": "code",
        "colab": {}
      },
      "source": [
        "result = np.array(result)"
      ],
      "execution_count": 0,
      "outputs": []
    },
    {
      "cell_type": "code",
      "metadata": {
        "id": "bvfwllb1kqmI",
        "colab_type": "code",
        "colab": {
          "base_uri": "https://localhost:8080/",
          "height": 269
        },
        "outputId": "11e1c434-12e7-42d9-f322-4f344dcebb3a"
      },
      "source": [
        "acc = result[:, 0]\n",
        "f1 = result[:, 1]\n",
        "auc = result[:, 2]\n",
        "x = np.arange(2, max_pranciple_component)\n",
        "plt.plot(x, acc, label = 'accuracy')\n",
        "plt.plot(x, f1, label = 'f1')\n",
        "plt.plot(x, auc, label = 'auc')\n",
        "plt.legend()\n",
        "plt.show()"
      ],
      "execution_count": 101,
      "outputs": [
        {
          "output_type": "display_data",
          "data": {
            "image/png": "[encoded data removed]",
            "text/plain": [
              "<Figure size 432x288 with 1 Axes>"
            ]
          },
          "metadata": {
            "tags": []
          }
        }
      ]
    },
    {
      "cell_type": "code",
      "metadata": {
        "id": "YTqPfoDZpPlI",
        "colab_type": "code",
        "colab": {
          "base_uri": "https://localhost:8080/",
          "height": 35
        },
        "outputId": "5a543a29-d753-4ea5-fe27-74e921195840"
      },
      "source": [
        "result[90]"
      ],
      "execution_count": 106,
      "outputs": [
        {
          "output_type": "execute_result",
          "data": {
            "text/plain": [
              "array([0.85691229, 0.67123092, 0.77042987])"
            ]
          },
          "metadata": {
            "tags": []
          },
          "execution_count": 106
        }
      ]
    },
    {
      "cell_type": "markdown",
      "metadata": {
        "id": "9ZLYjfX-sq19",
        "colab_type": "text"
      },
      "source": [
        "# Feature Selection"
      ]
    },
    {
      "cell_type": "code",
      "metadata": {
        "id": "ADIKE_KwRtCV",
        "colab_type": "code",
        "colab": {}
      },
      "source": [
        "data = cont_cat_lb\n",
        "X, y = data.drop(columns = 'target'), data['target']"
      ],
      "execution_count": 0,
      "outputs": []
    },
    {
      "cell_type": "markdown",
      "metadata": {
        "id": "2Yn3S6PsQU5L",
        "colab_type": "text"
      },
      "source": [
        "## Determine the optimal number of features"
      ]
    },
    {
      "cell_type": "code",
      "metadata": {
        "id": "D-OOHldKsumu",
        "colab_type": "code",
        "colab": {
          "base_uri": "https://localhost:8080/",
          "height": 54
        },
        "outputId": "a67d056a-b080-46c8-dda0-32eb8fc46112"
      },
      "source": [
        "features_number = np.arange(1, data.shape[1])            \n",
        "high_score = 0\n",
        "feature_number = 0           \n",
        "score_list =[]\n",
        "for n in range(len(features_number)):\n",
        "    X_train, X_test, y_train, y_test = train_test_split(X, y, test_size = 0.3, random_state = 42)\n",
        "    model = lgb.LGBMClassifier(n_estimators = 200, silent = True)\n",
        "    #gbm.fit(X_train, y_train, eval_set = [(X_test, y_test)], early_stopping_rounds = 10, verbose = 0)\n",
        "    rfe = RFE(model, features_number[n])\n",
        "    X_train_rfe = rfe.fit_transform(X_train, y_train)\n",
        "    X_test_rfe = rfe.transform(X_test)\n",
        "    model.fit(X_train_rfe, y_train)\n",
        "    score = model.score(X_test_rfe, y_test)\n",
        "    score_list.append(score)\n",
        "    if(score > high_score):\n",
        "        high_score = score\n",
        "        feature_number = features_number[n]\n",
        "\n",
        "print(\"Optimum number of features: %d\" %feature_number)\n",
        "print(\"Score with %d features: %f\" % (feature_number, high_score))"
      ],
      "execution_count": 13,
      "outputs": [
        {
          "output_type": "stream",
          "text": [
            "Optimum number of features: 26\n",
            "Score with 26 features: 0.874624\n"
          ],
          "name": "stdout"
        }
      ]
    },
    {
      "cell_type": "markdown",
      "metadata": {
        "id": "Zx-P3FLrRUpm",
        "colab_type": "text"
      },
      "source": [
        "## Recursive Feature Elimination"
      ]
    },
    {
      "cell_type": "code",
      "metadata": {
        "id": "y5tOENzosogf",
        "colab_type": "code",
        "colab": {
          "base_uri": "https://localhost:8080/",
          "height": 201
        },
        "outputId": "91a54592-a8e4-4130-b174-b77f978c8013"
      },
      "source": [
        "cols = list(X.columns)\n",
        "model =lgb.LGBMClassifier(n_estimators = 200, silent = True)\n",
        "rfe = RFE(model, feature_number)             \n",
        "X_rfe = rfe.fit_transform(X,y)  \n",
        "model.fit(X_rfe,y)              \n",
        "temp = pd.Series(rfe.support_,index = cols)\n",
        "selected_features_rfe = temp[temp == True].index\n",
        "print(selected_features_rfe)"
      ],
      "execution_count": 16,
      "outputs": [
        {
          "output_type": "stream",
          "text": [
            "Index(['age', 'workclass', 'final_weight', 'education_duration',\n",
            "       'marital_status', 'occupation', 'relationship', 'race', 'sex',\n",
            "       'capital_gain', 'capital_loss', 'hours_per_week', 'native_country',\n",
            "       'com_workclass', 'com_marital_status', 'com_native_country',\n",
            "       'age final_weight', 'age education_duration', 'age hours_per_week',\n",
            "       'age capital_gain', 'age capital_loss',\n",
            "       'final_weight education_duration', 'final_weight hours_per_week',\n",
            "       'final_weight capital_loss', 'education_duration hours_per_week',\n",
            "       'education_duration capital_gain'],\n",
            "      dtype='object')\n"
          ],
          "name": "stdout"
        }
      ]
    },
    {
      "cell_type": "code",
      "metadata": {
        "id": "5CXehWzDEvV7",
        "colab_type": "code",
        "colab": {}
      },
      "source": [
        "selected_features = ['age', 'workclass', 'final_weight', 'education_duration',\n",
        "       'marital_status', 'occupation', 'relationship', 'race', 'sex',\n",
        "       'capital_gain', 'capital_loss', 'hours_per_week', 'native_country',\n",
        "       'com_workclass', 'com_marital_status', 'com_native_country',\n",
        "       'age final_weight', 'age education_duration', 'age hours_per_week',\n",
        "       'age capital_gain', 'age capital_loss',\n",
        "       'final_weight education_duration', 'final_weight hours_per_week',\n",
        "       'final_weight capital_loss', 'education_duration hours_per_week',\n",
        "       'education_duration capital_gain']"
      ],
      "execution_count": 0,
      "outputs": []
    },
    {
      "cell_type": "markdown",
      "metadata": {
        "id": "YQdGrVUeczlK",
        "colab_type": "text"
      },
      "source": [
        "# Model Defintion"
      ]
    },
    {
      "cell_type": "code",
      "metadata": {
        "id": "-Pd46xxOHId_",
        "colab_type": "code",
        "colab": {}
      },
      "source": [
        "data = cont_cat_lb#[selected_features + ['target']]\n",
        "X, y = data.drop(columns = 'target'), data['target']"
      ],
      "execution_count": 0,
      "outputs": []
    },
    {
      "cell_type": "code",
      "metadata": {
        "id": "ApUOE6xhamtu",
        "colab_type": "code",
        "colab": {
          "base_uri": "https://localhost:8080/",
          "height": 423
        },
        "outputId": "708a81ed-cbc6-4154-92bc-ea12ee9d7f06"
      },
      "source": [
        "from hyperopt import hp, tpe\n",
        "from hyperopt.fmin import fmin\n",
        "from sklearn.model_selection import cross_val_score, StratifiedKFold\n",
        "from sklearn.metrics import make_scorer\n",
        "\n",
        "def objective(params):\n",
        "  params = {\n",
        "      'learning_rate': '{:.3f}'.format(params['learning_rate']),\n",
        "      'num_leaves': int(params['num_leaves']),\n",
        "      'min_data_in_leaf': int(params['min_data_in_leaf']),\n",
        "      'max_depth': int(params['max_depth']),\n",
        "      'bagging_fraction': '{:.3f}'.format(params['bagging_fraction']),\n",
        "      'feature_fraction':'{:.3f}'.format(params['feature_fraction']),\n",
        "      #'bagging_freq': int(params['bagging_freq']),\n",
        "  }\n",
        "  clf = lgb.LGBMClassifier(\n",
        "      n_estimators = 1000,\n",
        "      **params\n",
        "    )\n",
        "  score = cross_val_score(clf,\n",
        "                          X, y, \n",
        "                          scoring = make_scorer(f1_score), \n",
        "                          cv = StratifiedKFold(n_splits = 5)\n",
        "                          ).mean()\n",
        "  print(\"F1-score {:.3f} params {}\".format(score, params))\n",
        "  return score\n",
        "\n",
        "space = {\n",
        "    'learning_rate': hp.uniform('learning_rate', 0.01, 0.2),\n",
        "    'num_leaves': hp.quniform('num_leaves', 8, 512, 2),\n",
        "    'min_data_in_leaf': hp.quniform('min_data_in_leaf', 20, 500, 5),\n",
        "    'max_depth': hp.quniform('max_depth', 2, 16, 1),\n",
        "    'bagging_fraction': hp.uniform('bagging_fraction', 0.1, 1),\n",
        "    'feature_fraction': hp.uniform('feature_fraction', 0.1, 1),\n",
        "    #'bagging_freq': hp.quniform('bagging_freq', 0, 30, 1),\n",
        "}\n",
        "\n",
        "best = fmin(fn = objective,\n",
        "            space = space,\n",
        "            algo = tpe.suggest,\n",
        "            max_evals = 20)"
      ],
      "execution_count": 57,
      "outputs": [
        {
          "output_type": "stream",
          "text": [
            "F1-score 0.704 params {'learning_rate': '0.055', 'num_leaves': 388, 'min_data_in_leaf': 450, 'max_depth': 13, 'bagging_fraction': '0.540', 'feature_fraction': '0.383'}\n",
            "F1-score 0.709 params {'learning_rate': '0.048', 'num_leaves': 230, 'min_data_in_leaf': 430, 'max_depth': 5, 'bagging_fraction': '0.906', 'feature_fraction': '0.442'}\n",
            "F1-score 0.707 params {'learning_rate': '0.081', 'num_leaves': 114, 'min_data_in_leaf': 465, 'max_depth': 8, 'bagging_fraction': '0.701', 'feature_fraction': '0.272'}\n",
            "F1-score 0.703 params {'learning_rate': '0.152', 'num_leaves': 478, 'min_data_in_leaf': 395, 'max_depth': 6, 'bagging_fraction': '0.464', 'feature_fraction': '0.546'}\n",
            "F1-score 0.686 params {'learning_rate': '0.157', 'num_leaves': 412, 'min_data_in_leaf': 90, 'max_depth': 10, 'bagging_fraction': '0.203', 'feature_fraction': '0.495'}\n",
            "F1-score 0.689 params {'learning_rate': '0.199', 'num_leaves': 80, 'min_data_in_leaf': 405, 'max_depth': 14, 'bagging_fraction': '0.147', 'feature_fraction': '0.250'}\n",
            "F1-score 0.713 params {'learning_rate': '0.100', 'num_leaves': 110, 'min_data_in_leaf': 130, 'max_depth': 4, 'bagging_fraction': '0.977', 'feature_fraction': '0.891'}\n",
            "F1-score 0.712 params {'learning_rate': '0.090', 'num_leaves': 426, 'min_data_in_leaf': 110, 'max_depth': 3, 'bagging_fraction': '0.603', 'feature_fraction': '0.622'}\n",
            "F1-score 0.693 params {'learning_rate': '0.163', 'num_leaves': 76, 'min_data_in_leaf': 270, 'max_depth': 11, 'bagging_fraction': '0.554', 'feature_fraction': '0.684'}\n",
            "F1-score 0.707 params {'learning_rate': '0.082', 'num_leaves': 166, 'min_data_in_leaf': 260, 'max_depth': 2, 'bagging_fraction': '0.110', 'feature_fraction': '0.330'}\n",
            "F1-score 0.687 params {'learning_rate': '0.172', 'num_leaves': 350, 'min_data_in_leaf': 335, 'max_depth': 15, 'bagging_fraction': '0.151', 'feature_fraction': '0.584'}\n",
            "F1-score 0.707 params {'learning_rate': '0.129', 'num_leaves': 386, 'min_data_in_leaf': 215, 'max_depth': 5, 'bagging_fraction': '0.473', 'feature_fraction': '0.867'}\n",
            "F1-score 0.708 params {'learning_rate': '0.088', 'num_leaves': 18, 'min_data_in_leaf': 340, 'max_depth': 7, 'bagging_fraction': '0.620', 'feature_fraction': '0.897'}\n",
            "F1-score 0.700 params {'learning_rate': '0.130', 'num_leaves': 298, 'min_data_in_leaf': 435, 'max_depth': 10, 'bagging_fraction': '0.286', 'feature_fraction': '0.422'}\n",
            "F1-score 0.706 params {'learning_rate': '0.043', 'num_leaves': 66, 'min_data_in_leaf': 490, 'max_depth': 12, 'bagging_fraction': '0.318', 'feature_fraction': '0.983'}\n",
            "F1-score 0.707 params {'learning_rate': '0.014', 'num_leaves': 46, 'min_data_in_leaf': 275, 'max_depth': 16, 'bagging_fraction': '0.506', 'feature_fraction': '0.504'}\n",
            "F1-score 0.695 params {'learning_rate': '0.152', 'num_leaves': 232, 'min_data_in_leaf': 320, 'max_depth': 10, 'bagging_fraction': '0.864', 'feature_fraction': '0.528'}\n",
            "F1-score 0.693 params {'learning_rate': '0.170', 'num_leaves': 318, 'min_data_in_leaf': 150, 'max_depth': 9, 'bagging_fraction': '0.557', 'feature_fraction': '0.342'}\n",
            "F1-score 0.690 params {'learning_rate': '0.138', 'num_leaves': 466, 'min_data_in_leaf': 85, 'max_depth': 9, 'bagging_fraction': '0.225', 'feature_fraction': '0.979'}\n",
            "F1-score 0.709 params {'learning_rate': '0.034', 'num_leaves': 338, 'min_data_in_leaf': 120, 'max_depth': 9, 'bagging_fraction': '0.463', 'feature_fraction': '0.520'}\n",
            "100%|██████████| 20/20 [11:15<00:00, 40.14s/it, best loss: 0.6863638085139023]\n"
          ],
          "name": "stdout"
        }
      ]
    },
    {
      "cell_type": "code",
      "metadata": {
        "id": "IfrddJfzIn3N",
        "colab_type": "code",
        "colab": {
          "base_uri": "https://localhost:8080/",
          "height": 55
        },
        "outputId": "9686ea67-58fe-4393-c5a8-95f28691bfed"
      },
      "source": [
        "print(\"Hyperopt estimated optimum {}\".format(best))"
      ],
      "execution_count": 58,
      "outputs": [
        {
          "output_type": "stream",
          "text": [
            "Hyperopt estimated optimum {'bagging_fraction': 0.20340094116954432, 'feature_fraction': 0.49501797191226904, 'learning_rate': 0.15712271871210043, 'max_depth': 10.0, 'min_data_in_leaf': 90.0, 'num_leaves': 412.0}\n"
          ],
          "name": "stdout"
        }
      ]
    },
    {
      "cell_type": "markdown",
      "metadata": {
        "id": "aqe_rY7pcz8y",
        "colab_type": "text"
      },
      "source": [
        "# Model Training"
      ]
    },
    {
      "cell_type": "markdown",
      "metadata": {
        "id": "Fc-JUDooc0KZ",
        "colab_type": "text"
      },
      "source": [
        "# Model Evaluation"
      ]
    },
    {
      "cell_type": "markdown",
      "metadata": {
        "id": "w-nLbHHqc0sv",
        "colab_type": "text"
      },
      "source": [
        "# Model Saving"
      ]
    },
    {
      "cell_type": "code",
      "metadata": {
        "id": "vlcHXEOR2kDU",
        "colab_type": "code",
        "outputId": "da2efc82-17bd-4592-9d54-a039e582a08c",
        "colab": {
          "base_uri": "https://localhost:8080/",
          "height": 1000
        }
      },
      "source": [
        "X_train, X_test, y_train, y_test = train_test_split(X, y, test_size = 0.2, random_state = 42)\n",
        "X_train, X_val, y_train, y_val = train_test_split(X_train, y_train, test_size = 0.25, random_state = 42)\n",
        "\n",
        "print(X_train.shape)\n",
        "print(y_train.shape)\n",
        "print('---validation----')\n",
        "print(X_val.shape)\n",
        "print(y_val.shape)\n",
        "print('---test----')\n",
        "print(X_test.shape)\n",
        "print(y_test.shape)\n",
        "d_train = lgb.Dataset(X_train, y_train)\n",
        "d_val = lgb.Dataset(X_val, y_val)\n",
        "params = {\n",
        "    'objective': 'binary',\n",
        "    'metric': 'binary_logloss',\n",
        "}\n",
        "n_estimator = 2000\n",
        "evals_result = {}\n",
        "gbm = lgb.train(params, \n",
        "                   d_train, \n",
        "                   n_estimator, \n",
        "                   valid_sets = [d_train, d_val], \n",
        "                   evals_result = evals_result,\n",
        "                   verbose_eval = 1, \n",
        "                   early_stopping_rounds = 25)\n",
        "ax = lgb.plot_metric(evals_result)\n",
        "plt.show()"
      ],
      "execution_count": 16,
      "outputs": [
        {
          "output_type": "stream",
          "text": [
            "(29287, 38)\n",
            "(29287, 1)\n",
            "---validation----\n",
            "(9763, 38)\n",
            "(9763, 1)\n",
            "---test----\n",
            "(9763, 38)\n",
            "(9763, 1)\n",
            "[1]\ttraining's binary_logloss: 0.506058\tvalid_1's binary_logloss: 0.503841\n",
            "Training until validation scores don't improve for 25 rounds.\n",
            "[2]\ttraining's binary_logloss: 0.473764\tvalid_1's binary_logloss: 0.472134\n",
            "[3]\ttraining's binary_logloss: 0.448152\tvalid_1's binary_logloss: 0.447067\n",
            "[4]\ttraining's binary_logloss: 0.427019\tvalid_1's binary_logloss: 0.42623\n",
            "[5]\ttraining's binary_logloss: 0.409529\tvalid_1's binary_logloss: 0.408912\n",
            "[6]\ttraining's binary_logloss: 0.394533\tvalid_1's binary_logloss: 0.394282\n",
            "[7]\ttraining's binary_logloss: 0.381078\tvalid_1's binary_logloss: 0.381035\n",
            "[8]\ttraining's binary_logloss: 0.370002\tvalid_1's binary_logloss: 0.369941\n",
            "[9]\ttraining's binary_logloss: 0.360231\tvalid_1's binary_logloss: 0.360263\n",
            "[10]\ttraining's binary_logloss: 0.351313\tvalid_1's binary_logloss: 0.35154\n",
            "[11]\ttraining's binary_logloss: 0.34392\tvalid_1's binary_logloss: 0.344302\n",
            "[12]\ttraining's binary_logloss: 0.337237\tvalid_1's binary_logloss: 0.33789\n",
            "[13]\ttraining's binary_logloss: 0.33088\tvalid_1's binary_logloss: 0.331645\n",
            "[14]\ttraining's binary_logloss: 0.325555\tvalid_1's binary_logloss: 0.326457\n",
            "[15]\ttraining's binary_logloss: 0.320665\tvalid_1's binary_logloss: 0.321752\n",
            "[16]\ttraining's binary_logloss: 0.316345\tvalid_1's binary_logloss: 0.317826\n",
            "[17]\ttraining's binary_logloss: 0.312022\tvalid_1's binary_logloss: 0.313548\n",
            "[18]\ttraining's binary_logloss: 0.308302\tvalid_1's binary_logloss: 0.310093\n",
            "[19]\ttraining's binary_logloss: 0.304571\tvalid_1's binary_logloss: 0.306537\n",
            "[20]\ttraining's binary_logloss: 0.301261\tvalid_1's binary_logloss: 0.303293\n",
            "[21]\ttraining's binary_logloss: 0.298451\tvalid_1's binary_logloss: 0.300762\n",
            "[22]\ttraining's binary_logloss: 0.295863\tvalid_1's binary_logloss: 0.298293\n",
            "[23]\ttraining's binary_logloss: 0.293581\tvalid_1's binary_logloss: 0.296319\n",
            "[24]\ttraining's binary_logloss: 0.291567\tvalid_1's binary_logloss: 0.294605\n",
            "[25]\ttraining's binary_logloss: 0.289807\tvalid_1's binary_logloss: 0.293124\n",
            "[26]\ttraining's binary_logloss: 0.288094\tvalid_1's binary_logloss: 0.29184\n",
            "[27]\ttraining's binary_logloss: 0.286469\tvalid_1's binary_logloss: 0.290618\n",
            "[28]\ttraining's binary_logloss: 0.285\tvalid_1's binary_logloss: 0.289677\n",
            "[29]\ttraining's binary_logloss: 0.283665\tvalid_1's binary_logloss: 0.288801\n",
            "[30]\ttraining's binary_logloss: 0.281781\tvalid_1's binary_logloss: 0.287128\n",
            "[31]\ttraining's binary_logloss: 0.280348\tvalid_1's binary_logloss: 0.28615\n",
            "[32]\ttraining's binary_logloss: 0.278728\tvalid_1's binary_logloss: 0.284957\n",
            "[33]\ttraining's binary_logloss: 0.277744\tvalid_1's binary_logloss: 0.284315\n",
            "[34]\ttraining's binary_logloss: 0.276703\tvalid_1's binary_logloss: 0.283744\n",
            "[35]\ttraining's binary_logloss: 0.27534\tvalid_1's binary_logloss: 0.282422\n",
            "[36]\ttraining's binary_logloss: 0.274354\tvalid_1's binary_logloss: 0.281839\n",
            "[37]\ttraining's binary_logloss: 0.273203\tvalid_1's binary_logloss: 0.281072\n",
            "[38]\ttraining's binary_logloss: 0.272092\tvalid_1's binary_logloss: 0.28033\n",
            "[39]\ttraining's binary_logloss: 0.271133\tvalid_1's binary_logloss: 0.279621\n",
            "[40]\ttraining's binary_logloss: 0.270266\tvalid_1's binary_logloss: 0.279371\n",
            "[41]\ttraining's binary_logloss: 0.269374\tvalid_1's binary_logloss: 0.27914\n",
            "[42]\ttraining's binary_logloss: 0.268619\tvalid_1's binary_logloss: 0.278946\n",
            "[43]\ttraining's binary_logloss: 0.267851\tvalid_1's binary_logloss: 0.278523\n",
            "[44]\ttraining's binary_logloss: 0.266945\tvalid_1's binary_logloss: 0.277752\n",
            "[45]\ttraining's binary_logloss: 0.266195\tvalid_1's binary_logloss: 0.277536\n",
            "[46]\ttraining's binary_logloss: 0.265345\tvalid_1's binary_logloss: 0.277153\n",
            "[47]\ttraining's binary_logloss: 0.264617\tvalid_1's binary_logloss: 0.276874\n",
            "[48]\ttraining's binary_logloss: 0.263839\tvalid_1's binary_logloss: 0.276568\n",
            "[49]\ttraining's binary_logloss: 0.2631\tvalid_1's binary_logloss: 0.276326\n",
            "[50]\ttraining's binary_logloss: 0.262546\tvalid_1's binary_logloss: 0.276247\n",
            "[51]\ttraining's binary_logloss: 0.261974\tvalid_1's binary_logloss: 0.275958\n",
            "[52]\ttraining's binary_logloss: 0.261403\tvalid_1's binary_logloss: 0.276018\n",
            "[53]\ttraining's binary_logloss: 0.260743\tvalid_1's binary_logloss: 0.275731\n",
            "[54]\ttraining's binary_logloss: 0.260228\tvalid_1's binary_logloss: 0.275632\n",
            "[55]\ttraining's binary_logloss: 0.259626\tvalid_1's binary_logloss: 0.275583\n",
            "[56]\ttraining's binary_logloss: 0.258956\tvalid_1's binary_logloss: 0.275473\n",
            "[57]\ttraining's binary_logloss: 0.25832\tvalid_1's binary_logloss: 0.275248\n",
            "[58]\ttraining's binary_logloss: 0.25781\tvalid_1's binary_logloss: 0.275371\n",
            "[59]\ttraining's binary_logloss: 0.257178\tvalid_1's binary_logloss: 0.275381\n",
            "[60]\ttraining's binary_logloss: 0.256662\tvalid_1's binary_logloss: 0.275362\n",
            "[61]\ttraining's binary_logloss: 0.255956\tvalid_1's binary_logloss: 0.275473\n",
            "[62]\ttraining's binary_logloss: 0.255456\tvalid_1's binary_logloss: 0.275274\n",
            "[63]\ttraining's binary_logloss: 0.254935\tvalid_1's binary_logloss: 0.275186\n",
            "[64]\ttraining's binary_logloss: 0.254427\tvalid_1's binary_logloss: 0.275128\n",
            "[65]\ttraining's binary_logloss: 0.253954\tvalid_1's binary_logloss: 0.274864\n",
            "[66]\ttraining's binary_logloss: 0.25344\tvalid_1's binary_logloss: 0.274696\n",
            "[67]\ttraining's binary_logloss: 0.252896\tvalid_1's binary_logloss: 0.274777\n",
            "[68]\ttraining's binary_logloss: 0.252447\tvalid_1's binary_logloss: 0.274688\n",
            "[69]\ttraining's binary_logloss: 0.252091\tvalid_1's binary_logloss: 0.274658\n",
            "[70]\ttraining's binary_logloss: 0.251649\tvalid_1's binary_logloss: 0.274539\n",
            "[71]\ttraining's binary_logloss: 0.251214\tvalid_1's binary_logloss: 0.274475\n",
            "[72]\ttraining's binary_logloss: 0.250801\tvalid_1's binary_logloss: 0.274555\n",
            "[73]\ttraining's binary_logloss: 0.250325\tvalid_1's binary_logloss: 0.274535\n",
            "[74]\ttraining's binary_logloss: 0.249798\tvalid_1's binary_logloss: 0.274537\n",
            "[75]\ttraining's binary_logloss: 0.249198\tvalid_1's binary_logloss: 0.274478\n",
            "[76]\ttraining's binary_logloss: 0.248634\tvalid_1's binary_logloss: 0.274369\n",
            "[77]\ttraining's binary_logloss: 0.248224\tvalid_1's binary_logloss: 0.274131\n",
            "[78]\ttraining's binary_logloss: 0.247799\tvalid_1's binary_logloss: 0.27405\n",
            "[79]\ttraining's binary_logloss: 0.247336\tvalid_1's binary_logloss: 0.274079\n",
            "[80]\ttraining's binary_logloss: 0.246936\tvalid_1's binary_logloss: 0.273806\n",
            "[81]\ttraining's binary_logloss: 0.246594\tvalid_1's binary_logloss: 0.273573\n",
            "[82]\ttraining's binary_logloss: 0.246227\tvalid_1's binary_logloss: 0.273621\n",
            "[83]\ttraining's binary_logloss: 0.245701\tvalid_1's binary_logloss: 0.273555\n",
            "[84]\ttraining's binary_logloss: 0.245286\tvalid_1's binary_logloss: 0.273286\n",
            "[85]\ttraining's binary_logloss: 0.244796\tvalid_1's binary_logloss: 0.273375\n",
            "[86]\ttraining's binary_logloss: 0.244197\tvalid_1's binary_logloss: 0.273233\n",
            "[87]\ttraining's binary_logloss: 0.243731\tvalid_1's binary_logloss: 0.273158\n",
            "[88]\ttraining's binary_logloss: 0.243303\tvalid_1's binary_logloss: 0.273219\n",
            "[89]\ttraining's binary_logloss: 0.242971\tvalid_1's binary_logloss: 0.27314\n",
            "[90]\ttraining's binary_logloss: 0.242642\tvalid_1's binary_logloss: 0.273047\n",
            "[91]\ttraining's binary_logloss: 0.242293\tvalid_1's binary_logloss: 0.273092\n",
            "[92]\ttraining's binary_logloss: 0.24192\tvalid_1's binary_logloss: 0.273181\n",
            "[93]\ttraining's binary_logloss: 0.241585\tvalid_1's binary_logloss: 0.273129\n",
            "[94]\ttraining's binary_logloss: 0.241014\tvalid_1's binary_logloss: 0.273119\n",
            "[95]\ttraining's binary_logloss: 0.240656\tvalid_1's binary_logloss: 0.273146\n",
            "[96]\ttraining's binary_logloss: 0.240306\tvalid_1's binary_logloss: 0.273178\n",
            "[97]\ttraining's binary_logloss: 0.240056\tvalid_1's binary_logloss: 0.273184\n",
            "[98]\ttraining's binary_logloss: 0.239715\tvalid_1's binary_logloss: 0.273164\n",
            "[99]\ttraining's binary_logloss: 0.239123\tvalid_1's binary_logloss: 0.273042\n",
            "[100]\ttraining's binary_logloss: 0.238642\tvalid_1's binary_logloss: 0.273128\n",
            "[101]\ttraining's binary_logloss: 0.23837\tvalid_1's binary_logloss: 0.27299\n",
            "[102]\ttraining's binary_logloss: 0.237806\tvalid_1's binary_logloss: 0.273015\n",
            "[103]\ttraining's binary_logloss: 0.237356\tvalid_1's binary_logloss: 0.272895\n",
            "[104]\ttraining's binary_logloss: 0.236957\tvalid_1's binary_logloss: 0.272762\n",
            "[105]\ttraining's binary_logloss: 0.236531\tvalid_1's binary_logloss: 0.272879\n",
            "[106]\ttraining's binary_logloss: 0.236088\tvalid_1's binary_logloss: 0.272943\n",
            "[107]\ttraining's binary_logloss: 0.235622\tvalid_1's binary_logloss: 0.273069\n",
            "[108]\ttraining's binary_logloss: 0.235066\tvalid_1's binary_logloss: 0.273112\n",
            "[109]\ttraining's binary_logloss: 0.234699\tvalid_1's binary_logloss: 0.273106\n",
            "[110]\ttraining's binary_logloss: 0.234222\tvalid_1's binary_logloss: 0.273053\n",
            "[111]\ttraining's binary_logloss: 0.233752\tvalid_1's binary_logloss: 0.272969\n",
            "[112]\ttraining's binary_logloss: 0.233355\tvalid_1's binary_logloss: 0.272936\n",
            "[113]\ttraining's binary_logloss: 0.233027\tvalid_1's binary_logloss: 0.272969\n",
            "[114]\ttraining's binary_logloss: 0.23274\tvalid_1's binary_logloss: 0.272826\n",
            "[115]\ttraining's binary_logloss: 0.23243\tvalid_1's binary_logloss: 0.272815\n",
            "[116]\ttraining's binary_logloss: 0.232109\tvalid_1's binary_logloss: 0.272921\n",
            "[117]\ttraining's binary_logloss: 0.231699\tvalid_1's binary_logloss: 0.272955\n",
            "[118]\ttraining's binary_logloss: 0.231315\tvalid_1's binary_logloss: 0.272975\n",
            "[119]\ttraining's binary_logloss: 0.230916\tvalid_1's binary_logloss: 0.272854\n",
            "[120]\ttraining's binary_logloss: 0.230555\tvalid_1's binary_logloss: 0.272909\n",
            "[121]\ttraining's binary_logloss: 0.230339\tvalid_1's binary_logloss: 0.272887\n",
            "[122]\ttraining's binary_logloss: 0.229929\tvalid_1's binary_logloss: 0.27298\n",
            "[123]\ttraining's binary_logloss: 0.229654\tvalid_1's binary_logloss: 0.272824\n",
            "[124]\ttraining's binary_logloss: 0.229229\tvalid_1's binary_logloss: 0.272787\n",
            "[125]\ttraining's binary_logloss: 0.228932\tvalid_1's binary_logloss: 0.272771\n",
            "[126]\ttraining's binary_logloss: 0.228771\tvalid_1's binary_logloss: 0.272841\n",
            "[127]\ttraining's binary_logloss: 0.228393\tvalid_1's binary_logloss: 0.272905\n",
            "[128]\ttraining's binary_logloss: 0.22804\tvalid_1's binary_logloss: 0.272794\n",
            "[129]\ttraining's binary_logloss: 0.227623\tvalid_1's binary_logloss: 0.2729\n",
            "Early stopping, best iteration is:\n",
            "[104]\ttraining's binary_logloss: 0.236957\tvalid_1's binary_logloss: 0.272762\n"
          ],
          "name": "stdout"
        },
        {
          "output_type": "display_data",
          "data": {
            "image/png": "[encoded data removed]",
            "text/plain": [
              "<Figure size 432x288 with 1 Axes>"
            ]
          },
          "metadata": {
            "tags": []
          }
        }
      ]
    },
    {
      "cell_type": "code",
      "metadata": {
        "id": "gzY3VHhN2uMu",
        "colab_type": "code",
        "outputId": "4c803881-4937-4009-8139-e27360881c4e",
        "colab": {
          "base_uri": "https://localhost:8080/",
          "height": 295
        }
      },
      "source": [
        "ax = lgb.plot_importance(gbm, max_num_features = 20)\n",
        "plt.show()"
      ],
      "execution_count": 17,
      "outputs": [
        {
          "output_type": "display_data",
          "data": {
            "image/png": "[encoded data removed]",
            "text/plain": [
              "<Figure size 432x288 with 1 Axes>"
            ]
          },
          "metadata": {
            "tags": []
          }
        }
      ]
    },
    {
      "cell_type": "code",
      "metadata": {
        "id": "GFyzHbJM3caC",
        "colab_type": "code",
        "outputId": "3d746513-9e32-4a39-c12e-1adb74b72d21",
        "colab": {
          "base_uri": "https://localhost:8080/",
          "height": 237
        }
      },
      "source": [
        "from sklearn.metrics import f1_score\n",
        "from sklearn.metrics import auc, accuracy_score, roc_auc_score, roc_curve\n",
        "print('------train-----------')\n",
        "y_train_hat = gbm.predict(X_train)\n",
        "print(accuracy_score(y_train, y_train_hat.round()))\n",
        "print(f1_score(y_train, y_train_hat.round()))\n",
        "print(roc_auc_score(y_train, y_train_hat.round()))\n",
        "print('------validation-------')\n",
        "y_val_hat = gbm.predict(X_val)\n",
        "print(accuracy_score(y_val, y_val_hat.round()))\n",
        "print(f1_score(y_val, y_val_hat.round()))\n",
        "print(roc_auc_score(y_val, y_val_hat.round()))\n",
        "print('------test-------------')\n",
        "y_test_hat = gbm.predict(X_test)\n",
        "print(accuracy_score(y_test, y_test_hat.round()))\n",
        "print(f1_score(y_test, y_test_hat.round()))\n",
        "print(roc_auc_score(y_test, y_test_hat.round()))"
      ],
      "execution_count": 18,
      "outputs": [
        {
          "output_type": "stream",
          "text": [
            "------train-----------\n",
            "0.891180387202513\n",
            "0.7537665147183806\n",
            "0.8248778382822437\n",
            "------validation-------\n",
            "0.8766772508450271\n",
            "0.7176360225140713\n",
            "0.802804072862423\n",
            "------test-------------\n",
            "0.8688927583734508\n",
            "0.7132616487455197\n",
            "0.8005197740112994\n"
          ],
          "name": "stdout"
        }
      ]
    },
    {
      "cell_type": "code",
      "metadata": {
        "id": "DQhtJLIj3lvq",
        "colab_type": "code",
        "colab": {}
      },
      "source": [
        ""
      ],
      "execution_count": 0,
      "outputs": []
    }
  ]
}