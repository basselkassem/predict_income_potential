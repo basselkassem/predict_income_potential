{
  "nbformat": 4,
  "nbformat_minor": 0,
  "metadata": {
    "colab": {
      "name": "model_lgbm.ipynb",
      "provenance": [],
      "include_colab_link": true
    },
    "kernelspec": {
      "name": "python3",
      "display_name": "Python 3"
    },
    "accelerator": "GPU"
  },
  "cells": [
    {
      "cell_type": "markdown",
      "metadata": {
        "id": "view-in-github",
        "colab_type": "text"
      },
      "source": [
        "<a href=\"https://colab.research.google.com/github/basselkassem/predict_income_potential/blob/master/model_lgbm.ipynb\" target=\"_parent\"><img src=\"https://colab.research.google.com/assets/colab-badge.svg\" alt=\"Open In Colab\"/></a>"
      ]
    },
    {
      "cell_type": "code",
      "metadata": {
        "id": "8EsY30Mlq6Bz",
        "colab_type": "code",
        "colab": {
          "base_uri": "https://localhost:8080/",
          "height": 129
        },
        "outputId": "974ddcc4-f999-4de0-8cc0-a93970967a16"
      },
      "source": [
        "from google.colab import drive\n",
        "drive.mount('/content/gdrive')\n",
        "path = \"/content/gdrive/My Drive/Colab Notebooks/predict_income_potential/\""
      ],
      "execution_count": 1,
      "outputs": [
        {
          "output_type": "stream",
          "text": [
            "Go to this URL in a browser: https://accounts.google.com/o/oauth2/auth?client_id=947318989803-6bn6qk8qdgf4n4g3pfee6491hc0brc4i.apps.googleusercontent.com&redirect_uri=urn%3Aietf%3Awg%3Aoauth%3A2.0%3Aoob&scope=email%20https%3A%2F%2Fwww.googleapis.com%2Fauth%2Fdocs.test%20https%3A%2F%2Fwww.googleapis.com%2Fauth%2Fdrive%20https%3A%2F%2Fwww.googleapis.com%2Fauth%2Fdrive.photos.readonly%20https%3A%2F%2Fwww.googleapis.com%2Fauth%2Fpeopleapi.readonly&response_type=code\n",
            "\n",
            "Enter your authorization code:\n",
            "··········\n",
            "Mounted at /content/gdrive\n"
          ],
          "name": "stdout"
        }
      ]
    },
    {
      "cell_type": "code",
      "metadata": {
        "id": "ttZHbNtt4I3B",
        "colab_type": "code",
        "colab": {}
      },
      "source": [
        "!cd gdrive/"
      ],
      "execution_count": 0,
      "outputs": []
    },
    {
      "cell_type": "code",
      "metadata": {
        "id": "pejYSRtx4OqZ",
        "colab_type": "code",
        "colab": {
          "base_uri": "https://localhost:8080/",
          "height": 35
        },
        "outputId": "dfe520e2-7a72-4d50-e692-9a286a5655c5"
      },
      "source": [
        "!ls"
      ],
      "execution_count": 4,
      "outputs": [
        {
          "output_type": "stream",
          "text": [
            "gdrive\tsample_data\n"
          ],
          "name": "stdout"
        }
      ]
    },
    {
      "cell_type": "code",
      "metadata": {
        "id": "jyuwooeo0Th7",
        "colab_type": "code",
        "colab": {}
      },
      "source": [
        "import pandas as pd\n",
        "import lightgbm as lgb\n",
        "from sklearn.metrics import log_loss \n",
        "from sklearn.model_selection import train_test_split\n",
        "import matplotlib.pyplot as plt\n",
        "%matplotlib inline"
      ],
      "execution_count": 0,
      "outputs": []
    },
    {
      "cell_type": "code",
      "metadata": {
        "id": "CVde-Gq-0kgf",
        "colab_type": "code",
        "colab": {}
      },
      "source": [
        "df = pd.read_csv(path + 'data.csv')\n",
        "df = df.drop(columns = ['age_bin', 'hours_per_week_bin', 'age_hours_bin'])"
      ],
      "execution_count": 0,
      "outputs": []
    },
    {
      "cell_type": "code",
      "metadata": {
        "id": "_UNL1Voh1p8C",
        "colab_type": "code",
        "colab": {
          "base_uri": "https://localhost:8080/",
          "height": 1000
        },
        "outputId": "61deed48-77a2-4b7c-c01f-b656768f8874"
      },
      "source": [
        "X, y = df.drop(columns = 'target'), df[['target']]\n",
        "X_train, X_test, y_train, y_test = train_test_split(X, y, test_size=0.33, random_state=42)\n",
        "gbm = lgb.LGBMClassifier(n_estimators = 1000, silent = False)\n",
        "gbm.fit(X_train, y_train, eval_set=[(X_test, y_test)], early_stopping_rounds=5, verbose=1)\n",
        "ret = log_loss(y_test, gbm.predict_proba(X_test))"
      ],
      "execution_count": 37,
      "outputs": [
        {
          "output_type": "stream",
          "text": [
            "/usr/local/lib/python3.6/dist-packages/sklearn/preprocessing/label.py:219: DataConversionWarning: A column-vector y was passed when a 1d array was expected. Please change the shape of y to (n_samples, ), for example using ravel().\n",
            "  y = column_or_1d(y, warn=True)\n",
            "/usr/local/lib/python3.6/dist-packages/sklearn/preprocessing/label.py:252: DataConversionWarning: A column-vector y was passed when a 1d array was expected. Please change the shape of y to (n_samples, ), for example using ravel().\n",
            "  y = column_or_1d(y, warn=True)\n"
          ],
          "name": "stderr"
        },
        {
          "output_type": "stream",
          "text": [
            "[1]\tvalid_0's binary_logloss: 0.510898\n",
            "Training until validation scores don't improve for 5 rounds.\n",
            "[2]\tvalid_0's binary_logloss: 0.479597\n",
            "[3]\tvalid_0's binary_logloss: 0.454952\n",
            "[4]\tvalid_0's binary_logloss: 0.434138\n",
            "[5]\tvalid_0's binary_logloss: 0.416358\n",
            "[6]\tvalid_0's binary_logloss: 0.401977\n",
            "[7]\tvalid_0's binary_logloss: 0.389196\n",
            "[8]\tvalid_0's binary_logloss: 0.377911\n",
            "[9]\tvalid_0's binary_logloss: 0.36683\n",
            "[10]\tvalid_0's binary_logloss: 0.35879\n",
            "[11]\tvalid_0's binary_logloss: 0.350711\n",
            "[12]\tvalid_0's binary_logloss: 0.343725\n",
            "[13]\tvalid_0's binary_logloss: 0.337423\n",
            "[14]\tvalid_0's binary_logloss: 0.332247\n",
            "[15]\tvalid_0's binary_logloss: 0.327564\n",
            "[16]\tvalid_0's binary_logloss: 0.323382\n",
            "[17]\tvalid_0's binary_logloss: 0.319563\n",
            "[18]\tvalid_0's binary_logloss: 0.316309\n",
            "[19]\tvalid_0's binary_logloss: 0.313495\n",
            "[20]\tvalid_0's binary_logloss: 0.309975\n",
            "[21]\tvalid_0's binary_logloss: 0.307571\n",
            "[22]\tvalid_0's binary_logloss: 0.305639\n",
            "[23]\tvalid_0's binary_logloss: 0.303885\n",
            "[24]\tvalid_0's binary_logloss: 0.302079\n",
            "[25]\tvalid_0's binary_logloss: 0.300424\n",
            "[26]\tvalid_0's binary_logloss: 0.299\n",
            "[27]\tvalid_0's binary_logloss: 0.297686\n",
            "[28]\tvalid_0's binary_logloss: 0.296323\n",
            "[29]\tvalid_0's binary_logloss: 0.295099\n",
            "[30]\tvalid_0's binary_logloss: 0.294017\n",
            "[31]\tvalid_0's binary_logloss: 0.292886\n",
            "[32]\tvalid_0's binary_logloss: 0.292021\n",
            "[33]\tvalid_0's binary_logloss: 0.291371\n",
            "[34]\tvalid_0's binary_logloss: 0.290705\n",
            "[35]\tvalid_0's binary_logloss: 0.289426\n",
            "[36]\tvalid_0's binary_logloss: 0.288801\n",
            "[37]\tvalid_0's binary_logloss: 0.288386\n",
            "[38]\tvalid_0's binary_logloss: 0.287245\n",
            "[39]\tvalid_0's binary_logloss: 0.286893\n",
            "[40]\tvalid_0's binary_logloss: 0.286136\n",
            "[41]\tvalid_0's binary_logloss: 0.285281\n",
            "[42]\tvalid_0's binary_logloss: 0.284691\n",
            "[43]\tvalid_0's binary_logloss: 0.284043\n",
            "[44]\tvalid_0's binary_logloss: 0.283475\n",
            "[45]\tvalid_0's binary_logloss: 0.283093\n",
            "[46]\tvalid_0's binary_logloss: 0.282684\n",
            "[47]\tvalid_0's binary_logloss: 0.282451\n",
            "[48]\tvalid_0's binary_logloss: 0.282158\n",
            "[49]\tvalid_0's binary_logloss: 0.281731\n",
            "[50]\tvalid_0's binary_logloss: 0.281543\n",
            "[51]\tvalid_0's binary_logloss: 0.281261\n",
            "[52]\tvalid_0's binary_logloss: 0.28096\n",
            "[53]\tvalid_0's binary_logloss: 0.280864\n",
            "[54]\tvalid_0's binary_logloss: 0.280713\n",
            "[55]\tvalid_0's binary_logloss: 0.280519\n",
            "[56]\tvalid_0's binary_logloss: 0.280382\n",
            "[57]\tvalid_0's binary_logloss: 0.28025\n",
            "[58]\tvalid_0's binary_logloss: 0.280064\n",
            "[59]\tvalid_0's binary_logloss: 0.279933\n",
            "[60]\tvalid_0's binary_logloss: 0.279743\n",
            "[61]\tvalid_0's binary_logloss: 0.27957\n",
            "[62]\tvalid_0's binary_logloss: 0.279624\n",
            "[63]\tvalid_0's binary_logloss: 0.279307\n",
            "[64]\tvalid_0's binary_logloss: 0.279252\n",
            "[65]\tvalid_0's binary_logloss: 0.279184\n",
            "[66]\tvalid_0's binary_logloss: 0.279011\n",
            "[67]\tvalid_0's binary_logloss: 0.278885\n",
            "[68]\tvalid_0's binary_logloss: 0.278882\n",
            "[69]\tvalid_0's binary_logloss: 0.278897\n",
            "[70]\tvalid_0's binary_logloss: 0.278729\n",
            "[71]\tvalid_0's binary_logloss: 0.278741\n",
            "[72]\tvalid_0's binary_logloss: 0.278794\n",
            "[73]\tvalid_0's binary_logloss: 0.27879\n",
            "[74]\tvalid_0's binary_logloss: 0.278825\n",
            "[75]\tvalid_0's binary_logloss: 0.278843\n",
            "Early stopping, best iteration is:\n",
            "[70]\tvalid_0's binary_logloss: 0.278729\n"
          ],
          "name": "stdout"
        }
      ]
    },
    {
      "cell_type": "code",
      "metadata": {
        "id": "vlcHXEOR2kDU",
        "colab_type": "code",
        "colab": {
          "base_uri": "https://localhost:8080/",
          "height": 1000
        },
        "outputId": "399d172a-75f9-4370-e1bd-3ddfc0f40915"
      },
      "source": [
        "X_train, X_test, y_train, y_test = train_test_split(X, y, test_size = 0.2, random_state = 42)\n",
        "X_train, X_val, y_train, y_val = train_test_split(X_train, y_train, test_size = 0.25, random_state = 42)\n",
        "\n",
        "print(X_train.shape)\n",
        "print(y_train.shape)\n",
        "print('---validation----')\n",
        "print(X_val.shape)\n",
        "print(y_val.shape)\n",
        "print('---test----')\n",
        "print(X_test.shape)\n",
        "print(y_test.shape)\n",
        "d_train = lgb.Dataset(X_train, y_train)\n",
        "d_val = lgb.Dataset(X_val, y_val)\n",
        "params = {\n",
        "    'objective': 'binary',\n",
        "    'metric': 'binary_logloss',\n",
        "}\n",
        "n_estimator = 2000\n",
        "evals_result = {}\n",
        "model = lgb.train(params, \n",
        "                   d_train, \n",
        "                   n_estimator, \n",
        "                   valid_sets = [d_train, d_val], \n",
        "                   evals_result = evals_result,\n",
        "                   verbose_eval = 1, \n",
        "                   early_stopping_rounds = 25)\n",
        "ax = lgb.plot_metric(evals_result)\n",
        "plt.show()"
      ],
      "execution_count": 38,
      "outputs": [
        {
          "output_type": "stream",
          "text": [
            "(29287, 19)\n",
            "(29287, 1)\n",
            "---validation----\n",
            "(9763, 19)\n",
            "(9763, 1)\n",
            "---test----\n",
            "(9763, 19)\n",
            "(9763, 1)\n",
            "[1]\ttraining's binary_logloss: 0.507251\tvalid_1's binary_logloss: 0.504926\n",
            "Training until validation scores don't improve for 25 rounds.\n",
            "[2]\ttraining's binary_logloss: 0.475928\tvalid_1's binary_logloss: 0.473515\n",
            "[3]\ttraining's binary_logloss: 0.450959\tvalid_1's binary_logloss: 0.448472\n",
            "[4]\ttraining's binary_logloss: 0.430369\tvalid_1's binary_logloss: 0.427712\n",
            "[5]\ttraining's binary_logloss: 0.413025\tvalid_1's binary_logloss: 0.410431\n",
            "[6]\ttraining's binary_logloss: 0.398438\tvalid_1's binary_logloss: 0.395925\n",
            "[7]\ttraining's binary_logloss: 0.385389\tvalid_1's binary_logloss: 0.382874\n",
            "[8]\ttraining's binary_logloss: 0.373971\tvalid_1's binary_logloss: 0.371772\n",
            "[9]\ttraining's binary_logloss: 0.363991\tvalid_1's binary_logloss: 0.361711\n",
            "[10]\ttraining's binary_logloss: 0.355426\tvalid_1's binary_logloss: 0.353143\n",
            "[11]\ttraining's binary_logloss: 0.347902\tvalid_1's binary_logloss: 0.345921\n",
            "[12]\ttraining's binary_logloss: 0.341041\tvalid_1's binary_logloss: 0.338928\n",
            "[13]\ttraining's binary_logloss: 0.334797\tvalid_1's binary_logloss: 0.332742\n",
            "[14]\ttraining's binary_logloss: 0.328767\tvalid_1's binary_logloss: 0.326785\n",
            "[15]\ttraining's binary_logloss: 0.323927\tvalid_1's binary_logloss: 0.322207\n",
            "[16]\ttraining's binary_logloss: 0.319273\tvalid_1's binary_logloss: 0.317825\n",
            "[17]\ttraining's binary_logloss: 0.314887\tvalid_1's binary_logloss: 0.313601\n",
            "[18]\ttraining's binary_logloss: 0.310936\tvalid_1's binary_logloss: 0.309686\n",
            "[19]\ttraining's binary_logloss: 0.307841\tvalid_1's binary_logloss: 0.306921\n",
            "[20]\ttraining's binary_logloss: 0.304587\tvalid_1's binary_logloss: 0.304156\n",
            "[21]\ttraining's binary_logloss: 0.301727\tvalid_1's binary_logloss: 0.301481\n",
            "[22]\ttraining's binary_logloss: 0.299288\tvalid_1's binary_logloss: 0.29939\n",
            "[23]\ttraining's binary_logloss: 0.29683\tvalid_1's binary_logloss: 0.297152\n",
            "[24]\ttraining's binary_logloss: 0.294832\tvalid_1's binary_logloss: 0.295496\n",
            "[25]\ttraining's binary_logloss: 0.293024\tvalid_1's binary_logloss: 0.294022\n",
            "[26]\ttraining's binary_logloss: 0.291273\tvalid_1's binary_logloss: 0.292558\n",
            "[27]\ttraining's binary_logloss: 0.28966\tvalid_1's binary_logloss: 0.291306\n",
            "[28]\ttraining's binary_logloss: 0.288119\tvalid_1's binary_logloss: 0.290257\n",
            "[29]\ttraining's binary_logloss: 0.286721\tvalid_1's binary_logloss: 0.289332\n",
            "[30]\ttraining's binary_logloss: 0.285319\tvalid_1's binary_logloss: 0.288212\n",
            "[31]\ttraining's binary_logloss: 0.283791\tvalid_1's binary_logloss: 0.287077\n",
            "[32]\ttraining's binary_logloss: 0.282592\tvalid_1's binary_logloss: 0.286188\n",
            "[33]\ttraining's binary_logloss: 0.281219\tvalid_1's binary_logloss: 0.285223\n",
            "[34]\ttraining's binary_logloss: 0.279976\tvalid_1's binary_logloss: 0.284459\n",
            "[35]\ttraining's binary_logloss: 0.278731\tvalid_1's binary_logloss: 0.283588\n",
            "[36]\ttraining's binary_logloss: 0.277653\tvalid_1's binary_logloss: 0.282759\n",
            "[37]\ttraining's binary_logloss: 0.276548\tvalid_1's binary_logloss: 0.28191\n",
            "[38]\ttraining's binary_logloss: 0.275726\tvalid_1's binary_logloss: 0.281503\n",
            "[39]\ttraining's binary_logloss: 0.274667\tvalid_1's binary_logloss: 0.280613\n",
            "[40]\ttraining's binary_logloss: 0.273545\tvalid_1's binary_logloss: 0.279819\n",
            "[41]\ttraining's binary_logloss: 0.27271\tvalid_1's binary_logloss: 0.279185\n",
            "[42]\ttraining's binary_logloss: 0.27193\tvalid_1's binary_logloss: 0.278859\n",
            "[43]\ttraining's binary_logloss: 0.271061\tvalid_1's binary_logloss: 0.278304\n",
            "[44]\ttraining's binary_logloss: 0.270205\tvalid_1's binary_logloss: 0.277863\n",
            "[45]\ttraining's binary_logloss: 0.2695\tvalid_1's binary_logloss: 0.277617\n",
            "[46]\ttraining's binary_logloss: 0.268573\tvalid_1's binary_logloss: 0.276877\n",
            "[47]\ttraining's binary_logloss: 0.267888\tvalid_1's binary_logloss: 0.276565\n",
            "[48]\ttraining's binary_logloss: 0.267264\tvalid_1's binary_logloss: 0.276486\n",
            "[49]\ttraining's binary_logloss: 0.266683\tvalid_1's binary_logloss: 0.276182\n",
            "[50]\ttraining's binary_logloss: 0.265907\tvalid_1's binary_logloss: 0.275743\n",
            "[51]\ttraining's binary_logloss: 0.265291\tvalid_1's binary_logloss: 0.275592\n",
            "[52]\ttraining's binary_logloss: 0.264696\tvalid_1's binary_logloss: 0.275489\n",
            "[53]\ttraining's binary_logloss: 0.263972\tvalid_1's binary_logloss: 0.275047\n",
            "[54]\ttraining's binary_logloss: 0.263413\tvalid_1's binary_logloss: 0.274996\n",
            "[55]\ttraining's binary_logloss: 0.2629\tvalid_1's binary_logloss: 0.274824\n",
            "[56]\ttraining's binary_logloss: 0.262311\tvalid_1's binary_logloss: 0.274454\n",
            "[57]\ttraining's binary_logloss: 0.261651\tvalid_1's binary_logloss: 0.274113\n",
            "[58]\ttraining's binary_logloss: 0.261148\tvalid_1's binary_logloss: 0.274043\n",
            "[59]\ttraining's binary_logloss: 0.260681\tvalid_1's binary_logloss: 0.273761\n",
            "[60]\ttraining's binary_logloss: 0.260134\tvalid_1's binary_logloss: 0.273472\n",
            "[61]\ttraining's binary_logloss: 0.259667\tvalid_1's binary_logloss: 0.273405\n",
            "[62]\ttraining's binary_logloss: 0.259151\tvalid_1's binary_logloss: 0.273247\n",
            "[63]\ttraining's binary_logloss: 0.258689\tvalid_1's binary_logloss: 0.273245\n",
            "[64]\ttraining's binary_logloss: 0.25822\tvalid_1's binary_logloss: 0.273197\n",
            "[65]\ttraining's binary_logloss: 0.257734\tvalid_1's binary_logloss: 0.272789\n",
            "[66]\ttraining's binary_logloss: 0.257287\tvalid_1's binary_logloss: 0.27281\n",
            "[67]\ttraining's binary_logloss: 0.2569\tvalid_1's binary_logloss: 0.272774\n",
            "[68]\ttraining's binary_logloss: 0.256462\tvalid_1's binary_logloss: 0.272731\n",
            "[69]\ttraining's binary_logloss: 0.25607\tvalid_1's binary_logloss: 0.272695\n",
            "[70]\ttraining's binary_logloss: 0.25562\tvalid_1's binary_logloss: 0.272581\n",
            "[71]\ttraining's binary_logloss: 0.255079\tvalid_1's binary_logloss: 0.272129\n",
            "[72]\ttraining's binary_logloss: 0.254689\tvalid_1's binary_logloss: 0.272008\n",
            "[73]\ttraining's binary_logloss: 0.254301\tvalid_1's binary_logloss: 0.271991\n",
            "[74]\ttraining's binary_logloss: 0.253871\tvalid_1's binary_logloss: 0.271647\n",
            "[75]\ttraining's binary_logloss: 0.253433\tvalid_1's binary_logloss: 0.271807\n",
            "[76]\ttraining's binary_logloss: 0.253054\tvalid_1's binary_logloss: 0.271592\n",
            "[77]\ttraining's binary_logloss: 0.252655\tvalid_1's binary_logloss: 0.271599\n",
            "[78]\ttraining's binary_logloss: 0.252302\tvalid_1's binary_logloss: 0.271698\n",
            "[79]\ttraining's binary_logloss: 0.251873\tvalid_1's binary_logloss: 0.271493\n",
            "[80]\ttraining's binary_logloss: 0.251498\tvalid_1's binary_logloss: 0.271584\n",
            "[81]\ttraining's binary_logloss: 0.251141\tvalid_1's binary_logloss: 0.271428\n",
            "[82]\ttraining's binary_logloss: 0.250764\tvalid_1's binary_logloss: 0.27144\n",
            "[83]\ttraining's binary_logloss: 0.250461\tvalid_1's binary_logloss: 0.271243\n",
            "[84]\ttraining's binary_logloss: 0.25005\tvalid_1's binary_logloss: 0.271215\n",
            "[85]\ttraining's binary_logloss: 0.249679\tvalid_1's binary_logloss: 0.271025\n",
            "[86]\ttraining's binary_logloss: 0.249318\tvalid_1's binary_logloss: 0.270983\n",
            "[87]\ttraining's binary_logloss: 0.248934\tvalid_1's binary_logloss: 0.271095\n",
            "[88]\ttraining's binary_logloss: 0.248666\tvalid_1's binary_logloss: 0.271022\n",
            "[89]\ttraining's binary_logloss: 0.248372\tvalid_1's binary_logloss: 0.271039\n",
            "[90]\ttraining's binary_logloss: 0.247938\tvalid_1's binary_logloss: 0.271048\n",
            "[91]\ttraining's binary_logloss: 0.24762\tvalid_1's binary_logloss: 0.271082\n",
            "[92]\ttraining's binary_logloss: 0.247282\tvalid_1's binary_logloss: 0.270965\n",
            "[93]\ttraining's binary_logloss: 0.246816\tvalid_1's binary_logloss: 0.271052\n",
            "[94]\ttraining's binary_logloss: 0.246474\tvalid_1's binary_logloss: 0.270894\n",
            "[95]\ttraining's binary_logloss: 0.246108\tvalid_1's binary_logloss: 0.270835\n",
            "[96]\ttraining's binary_logloss: 0.245852\tvalid_1's binary_logloss: 0.270906\n",
            "[97]\ttraining's binary_logloss: 0.245483\tvalid_1's binary_logloss: 0.270914\n",
            "[98]\ttraining's binary_logloss: 0.245173\tvalid_1's binary_logloss: 0.270583\n",
            "[99]\ttraining's binary_logloss: 0.244851\tvalid_1's binary_logloss: 0.270414\n",
            "[100]\ttraining's binary_logloss: 0.244505\tvalid_1's binary_logloss: 0.270391\n",
            "[101]\ttraining's binary_logloss: 0.244035\tvalid_1's binary_logloss: 0.270358\n",
            "[102]\ttraining's binary_logloss: 0.243682\tvalid_1's binary_logloss: 0.270321\n",
            "[103]\ttraining's binary_logloss: 0.243397\tvalid_1's binary_logloss: 0.270249\n",
            "[104]\ttraining's binary_logloss: 0.243086\tvalid_1's binary_logloss: 0.270229\n",
            "[105]\ttraining's binary_logloss: 0.242838\tvalid_1's binary_logloss: 0.27023\n",
            "[106]\ttraining's binary_logloss: 0.242434\tvalid_1's binary_logloss: 0.270273\n",
            "[107]\ttraining's binary_logloss: 0.242032\tvalid_1's binary_logloss: 0.270231\n",
            "[108]\ttraining's binary_logloss: 0.241832\tvalid_1's binary_logloss: 0.270254\n",
            "[109]\ttraining's binary_logloss: 0.241553\tvalid_1's binary_logloss: 0.270335\n",
            "[110]\ttraining's binary_logloss: 0.241294\tvalid_1's binary_logloss: 0.270299\n",
            "[111]\ttraining's binary_logloss: 0.240911\tvalid_1's binary_logloss: 0.270324\n",
            "[112]\ttraining's binary_logloss: 0.240637\tvalid_1's binary_logloss: 0.270086\n",
            "[113]\ttraining's binary_logloss: 0.240342\tvalid_1's binary_logloss: 0.270169\n",
            "[114]\ttraining's binary_logloss: 0.240023\tvalid_1's binary_logloss: 0.270167\n",
            "[115]\ttraining's binary_logloss: 0.239627\tvalid_1's binary_logloss: 0.270185\n",
            "[116]\ttraining's binary_logloss: 0.239342\tvalid_1's binary_logloss: 0.270104\n",
            "[117]\ttraining's binary_logloss: 0.238936\tvalid_1's binary_logloss: 0.270198\n",
            "[118]\ttraining's binary_logloss: 0.238704\tvalid_1's binary_logloss: 0.270101\n",
            "[119]\ttraining's binary_logloss: 0.23833\tvalid_1's binary_logloss: 0.270139\n",
            "[120]\ttraining's binary_logloss: 0.237982\tvalid_1's binary_logloss: 0.27019\n",
            "[121]\ttraining's binary_logloss: 0.237713\tvalid_1's binary_logloss: 0.270249\n",
            "[122]\ttraining's binary_logloss: 0.237389\tvalid_1's binary_logloss: 0.270316\n",
            "[123]\ttraining's binary_logloss: 0.237026\tvalid_1's binary_logloss: 0.270331\n",
            "[124]\ttraining's binary_logloss: 0.236779\tvalid_1's binary_logloss: 0.270305\n",
            "[125]\ttraining's binary_logloss: 0.236421\tvalid_1's binary_logloss: 0.270221\n",
            "[126]\ttraining's binary_logloss: 0.235997\tvalid_1's binary_logloss: 0.270277\n",
            "[127]\ttraining's binary_logloss: 0.23578\tvalid_1's binary_logloss: 0.270201\n",
            "[128]\ttraining's binary_logloss: 0.235414\tvalid_1's binary_logloss: 0.269862\n",
            "[129]\ttraining's binary_logloss: 0.235197\tvalid_1's binary_logloss: 0.269898\n",
            "[130]\ttraining's binary_logloss: 0.235003\tvalid_1's binary_logloss: 0.269963\n",
            "[131]\ttraining's binary_logloss: 0.234713\tvalid_1's binary_logloss: 0.269975\n",
            "[132]\ttraining's binary_logloss: 0.234377\tvalid_1's binary_logloss: 0.270059\n",
            "[133]\ttraining's binary_logloss: 0.23404\tvalid_1's binary_logloss: 0.269993\n",
            "[134]\ttraining's binary_logloss: 0.233866\tvalid_1's binary_logloss: 0.270047\n",
            "[135]\ttraining's binary_logloss: 0.233635\tvalid_1's binary_logloss: 0.270135\n",
            "[136]\ttraining's binary_logloss: 0.233322\tvalid_1's binary_logloss: 0.270223\n",
            "[137]\ttraining's binary_logloss: 0.232982\tvalid_1's binary_logloss: 0.270244\n",
            "[138]\ttraining's binary_logloss: 0.232747\tvalid_1's binary_logloss: 0.270423\n",
            "[139]\ttraining's binary_logloss: 0.232262\tvalid_1's binary_logloss: 0.270368\n",
            "[140]\ttraining's binary_logloss: 0.231909\tvalid_1's binary_logloss: 0.270288\n",
            "[141]\ttraining's binary_logloss: 0.23161\tvalid_1's binary_logloss: 0.270295\n",
            "[142]\ttraining's binary_logloss: 0.231264\tvalid_1's binary_logloss: 0.270343\n",
            "[143]\ttraining's binary_logloss: 0.23087\tvalid_1's binary_logloss: 0.270353\n",
            "[144]\ttraining's binary_logloss: 0.230566\tvalid_1's binary_logloss: 0.27031\n",
            "[145]\ttraining's binary_logloss: 0.230168\tvalid_1's binary_logloss: 0.270285\n",
            "[146]\ttraining's binary_logloss: 0.229764\tvalid_1's binary_logloss: 0.270348\n",
            "[147]\ttraining's binary_logloss: 0.22953\tvalid_1's binary_logloss: 0.27037\n",
            "[148]\ttraining's binary_logloss: 0.229382\tvalid_1's binary_logloss: 0.27037\n",
            "[149]\ttraining's binary_logloss: 0.229189\tvalid_1's binary_logloss: 0.270213\n",
            "[150]\ttraining's binary_logloss: 0.228965\tvalid_1's binary_logloss: 0.270218\n",
            "[151]\ttraining's binary_logloss: 0.228579\tvalid_1's binary_logloss: 0.270283\n",
            "[152]\ttraining's binary_logloss: 0.228259\tvalid_1's binary_logloss: 0.270357\n",
            "[153]\ttraining's binary_logloss: 0.227907\tvalid_1's binary_logloss: 0.270552\n",
            "Early stopping, best iteration is:\n",
            "[128]\ttraining's binary_logloss: 0.235414\tvalid_1's binary_logloss: 0.269862\n"
          ],
          "name": "stdout"
        },
        {
          "output_type": "display_data",
          "data": {
            "image/png": "[encoded data removed]",
            "text/plain": [
              "<Figure size 432x288 with 1 Axes>"
            ]
          },
          "metadata": {
            "tags": []
          }
        }
      ]
    },
    {
      "cell_type": "code",
      "metadata": {
        "id": "gzY3VHhN2uMu",
        "colab_type": "code",
        "colab": {
          "base_uri": "https://localhost:8080/",
          "height": 295
        },
        "outputId": "035f9732-16cc-4fc4-d61a-38a3e6f53224"
      },
      "source": [
        "ax = lgb.plot_importance(model, max_num_features = 20)\n",
        "plt.show()"
      ],
      "execution_count": 40,
      "outputs": [
        {
          "output_type": "display_data",
          "data": {
            "image/png": "[encoded data removed]",
            "text/plain": [
              "<Figure size 432x288 with 1 Axes>"
            ]
          },
          "metadata": {
            "tags": []
          }
        }
      ]
    },
    {
      "cell_type": "code",
      "metadata": {
        "id": "GFyzHbJM3caC",
        "colab_type": "code",
        "colab": {
          "base_uri": "https://localhost:8080/",
          "height": 237
        },
        "outputId": "b2e5dd14-20c4-4098-ed83-52aee473b327"
      },
      "source": [
        "from sklearn.metrics import f1_score\n",
        "from sklearn.metrics import auc, accuracy_score, roc_auc_score, roc_curve\n",
        "print('------train-----------')\n",
        "y_train_hat = model.predict(X_train, num_iteration=model.best_iteration)\n",
        "print(accuracy_score(y_train, y_train_hat.round()))\n",
        "print(f1_score(y_train, y_train_hat.round()))\n",
        "print(roc_auc_score(y_train, y_train_hat.round()))\n",
        "print('------validation-------')\n",
        "y_val_hat = model.predict(X_val)\n",
        "print(accuracy_score(y_val, y_val_hat.round()))\n",
        "print(f1_score(y_val, y_val_hat.round()))\n",
        "print(roc_auc_score(y_val, y_val_hat.round()))\n",
        "print('------test-------------')\n",
        "y_test_hat = model.predict(X_test)\n",
        "print(accuracy_score(y_test, y_test_hat.round()))\n",
        "print(f1_score(y_test, y_test_hat.round()))\n",
        "print(roc_auc_score(y_test, y_test_hat.round()))"
      ],
      "execution_count": 41,
      "outputs": [
        {
          "output_type": "stream",
          "text": [
            "------train-----------\n",
            "0.8918291392085226\n",
            "0.7542662116040956\n",
            "0.8245178071468856\n",
            "------validation-------\n",
            "0.8779063812352761\n",
            "0.718336483931947\n",
            "0.8021143510136315\n",
            "------test-------------\n",
            "0.8711461640889071\n",
            "0.7165389815232088\n",
            "0.8017281321863555\n"
          ],
          "name": "stdout"
        }
      ]
    },
    {
      "cell_type": "code",
      "metadata": {
        "id": "DQhtJLIj3lvq",
        "colab_type": "code",
        "colab": {}
      },
      "source": [
        ""
      ],
      "execution_count": 0,
      "outputs": []
    }
  ]
}