{
  "nbformat": 4,
  "nbformat_minor": 0,
  "metadata": {
    "kernelspec": {
      "name": "python3",
      "display_name": "Python 3"
    },
    "language_info": {
      "mimetype": "text/x-python",
      "nbconvert_exporter": "python",
      "version": "3.6.8",
      "name": "python",
      "pygments_lexer": "ipython3",
      "file_extension": ".py",
      "codemirror_mode": {
        "version": 3,
        "name": "ipython"
      }
    },
    "colab": {
      "name": "etl.ipynb",
      "provenance": [],
      "include_colab_link": true
    }
  },
  "cells": [
    {
      "cell_type": "markdown",
      "metadata": {
        "id": "view-in-github",
        "colab_type": "text"
      },
      "source": [
        "<a href=\"https://colab.research.google.com/github/basselkassem/predict_income_potential/blob/master/etl.ipynb\" target=\"_parent\"><img src=\"https://colab.research.google.com/assets/colab-badge.svg\" alt=\"Open In Colab\"/></a>"
      ]
    },
    {
      "cell_type": "markdown",
      "metadata": {
        "collapsed": true,
        "id": "AIt-Jb595yyb",
        "colab_type": "text"
      },
      "source": [
        "# Extract Transform Load (ETL) [coursera]\n",
        "\n",
        "ETL is one of the first things which needs to be done in a data science project. \n",
        "\n",
        "The nature of this task highly depends on the type of data source. Whether it is relational or unstructured, enterprise data or internet data, persistent data or streaming data. This heavily influences the choice of architecture. Therefore, you must document your choice and thinking process in the Architectural Decision Document (ADD).\n",
        "\n",
        "This task involves – as the name implies – accessing the data source, transforming it in a way it can be easily worked with and finally make it available to downstream analytics processes – either real-time streaming or batch ones.\n",
        "\n",
        "- In case of operational relational data, de-normalization usually needs to take place\n",
        "- for unstructured data, some feature extraction might already be appropriate\n",
        "- for real-time data, windows are usually created."
      ]
    },
    {
      "cell_type": "markdown",
      "metadata": {
        "id": "OAcARCaW5yyf",
        "colab_type": "text"
      },
      "source": [
        "# Downloading data"
      ]
    },
    {
      "cell_type": "code",
      "metadata": {
        "id": "NrJnvt1l5yyj",
        "colab_type": "code",
        "outputId": "d7f0fcf4-0ab3-48d0-b39f-7b302ca19a6f",
        "colab": {
          "base_uri": "https://localhost:8080/",
          "height": 219
        }
      },
      "source": [
        "!wget https://archive.ics.uci.edu/ml/machine-learning-databases/adult/adult.data"
      ],
      "execution_count": 2,
      "outputs": [
        {
          "output_type": "stream",
          "text": [
            "--2019-10-26 21:49:33--  https://archive.ics.uci.edu/ml/machine-learning-databases/adult/adult.data\n",
            "Resolving archive.ics.uci.edu (archive.ics.uci.edu)... 128.195.10.252\n",
            "Connecting to archive.ics.uci.edu (archive.ics.uci.edu)|128.195.10.252|:443... connected.\n",
            "HTTP request sent, awaiting response... 200 OK\n",
            "Length: 3974305 (3.8M) [application/x-httpd-php]\n",
            "Saving to: ‘adult.data’\n",
            "\n",
            "adult.data          100%[===================>]   3.79M  7.34MB/s    in 0.5s    \n",
            "\n",
            "2019-10-26 21:49:34 (7.34 MB/s) - ‘adult.data’ saved [3974305/3974305]\n",
            "\n"
          ],
          "name": "stdout"
        }
      ]
    },
    {
      "cell_type": "code",
      "metadata": {
        "id": "KsztmLjF5yyt",
        "colab_type": "code",
        "outputId": "f66bc11e-94aa-4761-9699-a684ae0b7f82",
        "colab": {
          "base_uri": "https://localhost:8080/",
          "height": 219
        }
      },
      "source": [
        "!wget https://archive.ics.uci.edu/ml/machine-learning-databases/adult/adult.test"
      ],
      "execution_count": 3,
      "outputs": [
        {
          "output_type": "stream",
          "text": [
            "--2019-10-26 21:49:34--  https://archive.ics.uci.edu/ml/machine-learning-databases/adult/adult.test\n",
            "Resolving archive.ics.uci.edu (archive.ics.uci.edu)... 128.195.10.252\n",
            "Connecting to archive.ics.uci.edu (archive.ics.uci.edu)|128.195.10.252|:443... connected.\n",
            "HTTP request sent, awaiting response... 200 OK\n",
            "Length: 2003153 (1.9M) [application/x-httpd-php]\n",
            "Saving to: ‘adult.test’\n",
            "\n",
            "adult.test          100%[===================>]   1.91M  4.40MB/s    in 0.4s    \n",
            "\n",
            "2019-10-26 21:49:35 (4.40 MB/s) - ‘adult.test’ saved [2003153/2003153]\n",
            "\n"
          ],
          "name": "stdout"
        }
      ]
    },
    {
      "cell_type": "code",
      "metadata": {
        "id": "Z2e5XHvP5yy2",
        "colab_type": "code",
        "outputId": "257555ca-cf9d-4b43-da8d-26976d8cc784",
        "colab": {
          "base_uri": "https://localhost:8080/",
          "height": 219
        }
      },
      "source": [
        "!wget https://archive.ics.uci.edu/ml/machine-learning-databases/adult/adult.names"
      ],
      "execution_count": 4,
      "outputs": [
        {
          "output_type": "stream",
          "text": [
            "--2019-10-26 21:49:36--  https://archive.ics.uci.edu/ml/machine-learning-databases/adult/adult.names\n",
            "Resolving archive.ics.uci.edu (archive.ics.uci.edu)... 128.195.10.252\n",
            "Connecting to archive.ics.uci.edu (archive.ics.uci.edu)|128.195.10.252|:443... connected.\n",
            "HTTP request sent, awaiting response... 200 OK\n",
            "Length: 5229 (5.1K) [application/x-httpd-php]\n",
            "Saving to: ‘adult.names’\n",
            "\n",
            "\radult.names           0%[                    ]       0  --.-KB/s               \radult.names         100%[===================>]   5.11K  --.-KB/s    in 0s      \n",
            "\n",
            "2019-10-26 21:49:37 (152 MB/s) - ‘adult.names’ saved [5229/5229]\n",
            "\n"
          ],
          "name": "stdout"
        }
      ]
    },
    {
      "cell_type": "code",
      "metadata": {
        "id": "SorfLeJF5yy9",
        "colab_type": "code",
        "outputId": "df0d4c3e-595d-41ea-b8cc-0c744187c99c",
        "colab": {
          "base_uri": "https://localhost:8080/",
          "height": 35
        }
      },
      "source": [
        "!ls"
      ],
      "execution_count": 5,
      "outputs": [
        {
          "output_type": "stream",
          "text": [
            "adult.data  adult.names  adult.test  sample_data\n"
          ],
          "name": "stdout"
        }
      ]
    },
    {
      "cell_type": "code",
      "metadata": {
        "id": "Npkh872I5yzC",
        "colab_type": "code",
        "outputId": "5a5f4ba0-6d21-4000-ae1c-7f73a72acb81",
        "colab": {
          "base_uri": "https://localhost:8080/",
          "height": 1000
        }
      },
      "source": [
        "!cat adult.names"
      ],
      "execution_count": 6,
      "outputs": [
        {
          "output_type": "stream",
          "text": [
            "| This data was extracted from the census bureau database found at\n",
            "| http://www.census.gov/ftp/pub/DES/www/welcome.html\n",
            "| Donor: Ronny Kohavi and Barry Becker,\n",
            "|        Data Mining and Visualization\n",
            "|        Silicon Graphics.\n",
            "|        e-mail: ronnyk@sgi.com for questions.\n",
            "| Split into train-test using MLC++ GenCVFiles (2/3, 1/3 random).\n",
            "| 48842 instances, mix of continuous and discrete    (train=32561, test=16281)\n",
            "| 45222 if instances with unknown values are removed (train=30162, test=15060)\n",
            "| Duplicate or conflicting instances : 6\n",
            "| Class probabilities for adult.all file\n",
            "| Probability for the label '>50K'  : 23.93% / 24.78% (without unknowns)\n",
            "| Probability for the label '<=50K' : 76.07% / 75.22% (without unknowns)\n",
            "|\n",
            "| Extraction was done by Barry Becker from the 1994 Census database.  A set of\n",
            "|   reasonably clean records was extracted using the following conditions:\n",
            "|   ((AAGE>16) && (AGI>100) && (AFNLWGT>1)&& (HRSWK>0))\n",
            "|\n",
            "| Prediction task is to determine whether a person makes over 50K\n",
            "| a year.\n",
            "|\n",
            "| First cited in:\n",
            "| @inproceedings{kohavi-nbtree,\n",
            "|    author={Ron Kohavi},\n",
            "|    title={Scaling Up the Accuracy of Naive-Bayes Classifiers: a\n",
            "|           Decision-Tree Hybrid},\n",
            "|    booktitle={Proceedings of the Second International Conference on\n",
            "|               Knowledge Discovery and Data Mining},\n",
            "|    year = 1996,\n",
            "|    pages={to appear}}\n",
            "|\n",
            "| Error Accuracy reported as follows, after removal of unknowns from\n",
            "|    train/test sets):\n",
            "|    C4.5       : 84.46+-0.30\n",
            "|    Naive-Bayes: 83.88+-0.30\n",
            "|    NBTree     : 85.90+-0.28\n",
            "|\n",
            "|\n",
            "| Following algorithms were later run with the following error rates,\n",
            "|    all after removal of unknowns and using the original train/test split.\n",
            "|    All these numbers are straight runs using MLC++ with default values.\n",
            "|\n",
            "|    Algorithm               Error\n",
            "| -- ----------------        -----\n",
            "| 1  C4.5                    15.54\n",
            "| 2  C4.5-auto               14.46\n",
            "| 3  C4.5 rules              14.94\n",
            "| 4  Voted ID3 (0.6)         15.64\n",
            "| 5  Voted ID3 (0.8)         16.47\n",
            "| 6  T2                      16.84\n",
            "| 7  1R                      19.54\n",
            "| 8  NBTree                  14.10\n",
            "| 9  CN2                     16.00\n",
            "| 10 HOODG                   14.82\n",
            "| 11 FSS Naive Bayes         14.05\n",
            "| 12 IDTM (Decision table)   14.46\n",
            "| 13 Naive-Bayes             16.12\n",
            "| 14 Nearest-neighbor (1)    21.42\n",
            "| 15 Nearest-neighbor (3)    20.35\n",
            "| 16 OC1                     15.04\n",
            "| 17 Pebls                   Crashed.  Unknown why (bounds WERE increased)\n",
            "|\n",
            "| Conversion of original data as follows:\n",
            "| 1. Discretized agrossincome into two ranges with threshold 50,000.\n",
            "| 2. Convert U.S. to US to avoid periods.\n",
            "| 3. Convert Unknown to \"?\"\n",
            "| 4. Run MLC++ GenCVFiles to generate data,test.\n",
            "|\n",
            "| Description of fnlwgt (final weight)\n",
            "|\n",
            "| The weights on the CPS files are controlled to independent estimates of the\n",
            "| civilian noninstitutional population of the US.  These are prepared monthly\n",
            "| for us by Population Division here at the Census Bureau.  We use 3 sets of\n",
            "| controls.\n",
            "|  These are:\n",
            "|          1.  A single cell estimate of the population 16+ for each state.\n",
            "|          2.  Controls for Hispanic Origin by age and sex.\n",
            "|          3.  Controls by Race, age and sex.\n",
            "|\n",
            "| We use all three sets of controls in our weighting program and \"rake\" through\n",
            "| them 6 times so that by the end we come back to all the controls we used.\n",
            "|\n",
            "| The term estimate refers to population totals derived from CPS by creating\n",
            "| \"weighted tallies\" of any specified socio-economic characteristics of the\n",
            "| population.\n",
            "|\n",
            "| People with similar demographic characteristics should have\n",
            "| similar weights.  There is one important caveat to remember\n",
            "| about this statement.  That is that since the CPS sample is\n",
            "| actually a collection of 51 state samples, each with its own\n",
            "| probability of selection, the statement only applies within\n",
            "| state.\n",
            "\n",
            "\n",
            ">50K, <=50K.\n",
            "\n",
            "age: continuous.\n",
            "workclass: Private, Self-emp-not-inc, Self-emp-inc, Federal-gov, Local-gov, State-gov, Without-pay, Never-worked.\n",
            "fnlwgt: continuous.\n",
            "education: Bachelors, Some-college, 11th, HS-grad, Prof-school, Assoc-acdm, Assoc-voc, 9th, 7th-8th, 12th, Masters, 1st-4th, 10th, Doctorate, 5th-6th, Preschool.\n",
            "education-num: continuous.\n",
            "marital-status: Married-civ-spouse, Divorced, Never-married, Separated, Widowed, Married-spouse-absent, Married-AF-spouse.\n",
            "occupation: Tech-support, Craft-repair, Other-service, Sales, Exec-managerial, Prof-specialty, Handlers-cleaners, Machine-op-inspct, Adm-clerical, Farming-fishing, Transport-moving, Priv-house-serv, Protective-serv, Armed-Forces.\n",
            "relationship: Wife, Own-child, Husband, Not-in-family, Other-relative, Unmarried.\n",
            "race: White, Asian-Pac-Islander, Amer-Indian-Eskimo, Other, Black.\n",
            "sex: Female, Male.\n",
            "capital-gain: continuous.\n",
            "capital-loss: continuous.\n",
            "hours-per-week: continuous.\n",
            "native-country: United-States, Cambodia, England, Puerto-Rico, Canada, Germany, Outlying-US(Guam-USVI-etc), India, Japan, Greece, South, China, Cuba, Iran, Honduras, Philippines, Italy, Poland, Jamaica, Vietnam, Mexico, Portugal, Ireland, France, Dominican-Republic, Laos, Ecuador, Taiwan, Haiti, Columbia, Hungary, Guatemala, Nicaragua, Scotland, Thailand, Yugoslavia, El-Salvador, Trinadad&Tobago, Peru, Hong, Holand-Netherlands.\n"
          ],
          "name": "stdout"
        }
      ]
    },
    {
      "cell_type": "markdown",
      "metadata": {
        "id": "7jR-NWQe5yzJ",
        "colab_type": "text"
      },
      "source": [
        "# Importing libs"
      ]
    },
    {
      "cell_type": "code",
      "metadata": {
        "id": "CHfjMeqy5yzK",
        "colab_type": "code",
        "colab": {}
      },
      "source": [
        "import pandas as pd"
      ],
      "execution_count": 0,
      "outputs": []
    },
    {
      "cell_type": "markdown",
      "metadata": {
        "id": "wdOYT4W85yzN",
        "colab_type": "text"
      },
      "source": [
        "# Reading Data\n",
        "\n",
        "\n",
        "The downloaded data is a tabular data that exists in tow files with comma separated format. We are going to:\n",
        "- Assign names to the columns\n",
        "- Read data form the 2 files and merge them\n",
        "- Save the merged data to IBM object storage\n",
        "\n"
      ]
    },
    {
      "cell_type": "code",
      "metadata": {
        "id": "ysMvEjmc5yzQ",
        "colab_type": "code",
        "outputId": "1ffc2226-764f-4049-df3c-9e93f59e2194",
        "colab": {
          "base_uri": "https://localhost:8080/",
          "height": 35
        }
      },
      "source": [
        "data_headers = ['age', 'workclass', 'final_weight', 'education', 'education_duration', \n",
        "                'marital_status', 'occupation', 'relationship', 'race', 'sex', \n",
        "                'capital_gain', 'capital_loss', 'hours_per_week', 'native_country', 'target']\n",
        "\n",
        "print('Data attributes: ', len(data_headers))"
      ],
      "execution_count": 8,
      "outputs": [
        {
          "output_type": "stream",
          "text": [
            "Data attributes:  15\n"
          ],
          "name": "stdout"
        }
      ]
    },
    {
      "cell_type": "code",
      "metadata": {
        "id": "KZN5OeDM5yzY",
        "colab_type": "code",
        "colab": {}
      },
      "source": [
        "part1 = pd.read_csv('adult.data', header = None, names = data_headers)\n",
        "part2 = pd.read_csv('adult.test', header = None, skiprows = 1, names = data_headers)"
      ],
      "execution_count": 0,
      "outputs": []
    },
    {
      "cell_type": "code",
      "metadata": {
        "id": "qe3lEy5B5yzc",
        "colab_type": "code",
        "outputId": "e59e2c22-9b65-4aa2-f102-20a1b66d12c8",
        "colab": {
          "base_uri": "https://localhost:8080/",
          "height": 72
        }
      },
      "source": [
        "print('First part of the data: ', part1.shape)\n",
        "print('Second part of the data: ', part2.shape)\n",
        "df = pd.concat([part1, part2], ignore_index = True, axis = 0)\n",
        "print('total size of the data:', df.shape)"
      ],
      "execution_count": 10,
      "outputs": [
        {
          "output_type": "stream",
          "text": [
            "First part of the data:  (32561, 15)\n",
            "Second part of the data:  (16281, 15)\n",
            "total size of the data: (48842, 15)\n"
          ],
          "name": "stdout"
        }
      ]
    },
    {
      "cell_type": "code",
      "metadata": {
        "id": "XFEt3JG25yzg",
        "colab_type": "code",
        "outputId": "2ba36ced-4f24-48ca-9aa3-1cde55875b72",
        "colab": {
          "base_uri": "https://localhost:8080/",
          "height": 296
        }
      },
      "source": [
        "df.head()"
      ],
      "execution_count": 11,
      "outputs": [
        {
          "output_type": "execute_result",
          "data": {
            "text/html": [
              "<div>\n",
              "<style scoped>\n",
              "    .dataframe tbody tr th:only-of-type {\n",
              "        vertical-align: middle;\n",
              "    }\n",
              "\n",
              "    .dataframe tbody tr th {\n",
              "        vertical-align: top;\n",
              "    }\n",
              "\n",
              "    .dataframe thead th {\n",
              "        text-align: right;\n",
              "    }\n",
              "</style>\n",
              "<table border=\"1\" class=\"dataframe\">\n",
              "  <thead>\n",
              "    <tr style=\"text-align: right;\">\n",
              "      <th></th>\n",
              "      <th>age</th>\n",
              "      <th>workclass</th>\n",
              "      <th>final_weight</th>\n",
              "      <th>education</th>\n",
              "      <th>education_duration</th>\n",
              "      <th>marital_status</th>\n",
              "      <th>occupation</th>\n",
              "      <th>relationship</th>\n",
              "      <th>race</th>\n",
              "      <th>sex</th>\n",
              "      <th>capital_gain</th>\n",
              "      <th>capital_loss</th>\n",
              "      <th>hours_per_week</th>\n",
              "      <th>native_country</th>\n",
              "      <th>target</th>\n",
              "    </tr>\n",
              "  </thead>\n",
              "  <tbody>\n",
              "    <tr>\n",
              "      <th>0</th>\n",
              "      <td>39</td>\n",
              "      <td>State-gov</td>\n",
              "      <td>77516</td>\n",
              "      <td>Bachelors</td>\n",
              "      <td>13</td>\n",
              "      <td>Never-married</td>\n",
              "      <td>Adm-clerical</td>\n",
              "      <td>Not-in-family</td>\n",
              "      <td>White</td>\n",
              "      <td>Male</td>\n",
              "      <td>2174</td>\n",
              "      <td>0</td>\n",
              "      <td>40</td>\n",
              "      <td>United-States</td>\n",
              "      <td>&lt;=50K</td>\n",
              "    </tr>\n",
              "    <tr>\n",
              "      <th>1</th>\n",
              "      <td>50</td>\n",
              "      <td>Self-emp-not-inc</td>\n",
              "      <td>83311</td>\n",
              "      <td>Bachelors</td>\n",
              "      <td>13</td>\n",
              "      <td>Married-civ-spouse</td>\n",
              "      <td>Exec-managerial</td>\n",
              "      <td>Husband</td>\n",
              "      <td>White</td>\n",
              "      <td>Male</td>\n",
              "      <td>0</td>\n",
              "      <td>0</td>\n",
              "      <td>13</td>\n",
              "      <td>United-States</td>\n",
              "      <td>&lt;=50K</td>\n",
              "    </tr>\n",
              "    <tr>\n",
              "      <th>2</th>\n",
              "      <td>38</td>\n",
              "      <td>Private</td>\n",
              "      <td>215646</td>\n",
              "      <td>HS-grad</td>\n",
              "      <td>9</td>\n",
              "      <td>Divorced</td>\n",
              "      <td>Handlers-cleaners</td>\n",
              "      <td>Not-in-family</td>\n",
              "      <td>White</td>\n",
              "      <td>Male</td>\n",
              "      <td>0</td>\n",
              "      <td>0</td>\n",
              "      <td>40</td>\n",
              "      <td>United-States</td>\n",
              "      <td>&lt;=50K</td>\n",
              "    </tr>\n",
              "    <tr>\n",
              "      <th>3</th>\n",
              "      <td>53</td>\n",
              "      <td>Private</td>\n",
              "      <td>234721</td>\n",
              "      <td>11th</td>\n",
              "      <td>7</td>\n",
              "      <td>Married-civ-spouse</td>\n",
              "      <td>Handlers-cleaners</td>\n",
              "      <td>Husband</td>\n",
              "      <td>Black</td>\n",
              "      <td>Male</td>\n",
              "      <td>0</td>\n",
              "      <td>0</td>\n",
              "      <td>40</td>\n",
              "      <td>United-States</td>\n",
              "      <td>&lt;=50K</td>\n",
              "    </tr>\n",
              "    <tr>\n",
              "      <th>4</th>\n",
              "      <td>28</td>\n",
              "      <td>Private</td>\n",
              "      <td>338409</td>\n",
              "      <td>Bachelors</td>\n",
              "      <td>13</td>\n",
              "      <td>Married-civ-spouse</td>\n",
              "      <td>Prof-specialty</td>\n",
              "      <td>Wife</td>\n",
              "      <td>Black</td>\n",
              "      <td>Female</td>\n",
              "      <td>0</td>\n",
              "      <td>0</td>\n",
              "      <td>40</td>\n",
              "      <td>Cuba</td>\n",
              "      <td>&lt;=50K</td>\n",
              "    </tr>\n",
              "  </tbody>\n",
              "</table>\n",
              "</div>"
            ],
            "text/plain": [
              "   age          workclass  final_weight  ... hours_per_week  native_country  target\n",
              "0   39          State-gov         77516  ...             40   United-States   <=50K\n",
              "1   50   Self-emp-not-inc         83311  ...             13   United-States   <=50K\n",
              "2   38            Private        215646  ...             40   United-States   <=50K\n",
              "3   53            Private        234721  ...             40   United-States   <=50K\n",
              "4   28            Private        338409  ...             40            Cuba   <=50K\n",
              "\n",
              "[5 rows x 15 columns]"
            ]
          },
          "metadata": {
            "tags": []
          },
          "execution_count": 11
        }
      ]
    },
    {
      "cell_type": "code",
      "metadata": {
        "id": "tysslU7u5yzp",
        "colab_type": "code",
        "outputId": "666ccde7-61f8-4109-be3a-a6a0e95114b1",
        "colab": {
          "base_uri": "https://localhost:8080/",
          "height": 129
        }
      },
      "source": [
        "from google.colab import drive\n",
        "drive.mount('/content/gdrive')"
      ],
      "execution_count": 12,
      "outputs": [
        {
          "output_type": "stream",
          "text": [
            "Go to this URL in a browser: https://accounts.google.com/o/oauth2/auth?client_id=947318989803-6bn6qk8qdgf4n4g3pfee6491hc0brc4i.apps.googleusercontent.com&redirect_uri=urn%3Aietf%3Awg%3Aoauth%3A2.0%3Aoob&scope=email%20https%3A%2F%2Fwww.googleapis.com%2Fauth%2Fdocs.test%20https%3A%2F%2Fwww.googleapis.com%2Fauth%2Fdrive%20https%3A%2F%2Fwww.googleapis.com%2Fauth%2Fdrive.photos.readonly%20https%3A%2F%2Fwww.googleapis.com%2Fauth%2Fpeopleapi.readonly&response_type=code\n",
            "\n",
            "Enter your authorization code:\n",
            "··········\n",
            "Mounted at /content/gdrive\n"
          ],
          "name": "stdout"
        }
      ]
    },
    {
      "cell_type": "code",
      "metadata": {
        "id": "OQnH0rjV5yzt",
        "colab_type": "code",
        "colab": {}
      },
      "source": [
        "data_path = \"/content/gdrive/My Drive/Colab Notebooks/predict_income_potential/data/\"\n",
        "df.to_csv(data_path + \"init_data.csv\", index = 0)"
      ],
      "execution_count": 0,
      "outputs": []
    },
    {
      "cell_type": "code",
      "metadata": {
        "id": "gUOZ4KwtCCJP",
        "colab_type": "code",
        "colab": {}
      },
      "source": [
        ""
      ],
      "execution_count": 0,
      "outputs": []
    }
  ]
}