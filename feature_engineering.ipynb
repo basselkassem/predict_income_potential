{
    "nbformat_minor": 1, 
    "cells": [
        {
            "source": "# Data Cleansing [coursera]\nIn some process models Data Cleansing is a separate task, it is closely tied to Feature Creation but also draws findings from the Initial Data Exploration task. The actual data transformations are implemented in the Feature Creation asset deliverable; therefore, Data Cleansing is part of the Feature Creation task in this process model.\n\nWhile tuning machine learning models, this deliverable asset is touched on a regular basis anyway because features need to be transformed to increase model performance. In such iterations, often issues with data are detected and therefore need to be corrected/addressed here as well.\n\nThe following none exhaustive list gives you some guidelines:\n\n\u00b7 Data types Are data types of columns matching their content? E.g. is age stored as integer and not as string?\n\n\u00b7 Ranges Does the value distribution of values in a column make sense? Use stats (e.g. min, max, mean, standard deviation) and visualizations (e.g. box-plot, histogram) for help\n\n\u00b7 Emptiness Are all values non-null where mandatory? E.g. client IDs\n\n\u00b7 Uniqueness Are duplicates present where undesired? E.g. client IDs\n\n\u00b7 Set memberships Are only allowed values chosen for categorical or ordinal fields? E.g. Female, Male, Unknown\n\n\u00b7 Foreign key set memberships Are only allowed values chosen as field? E.g. ZIP code\n\n\u00b7 Regular expressions Some files need to stick to a pattern expressed by a regular expression. E.g. a lower-case character followed by 6 digits\n\n\u00b7 Cross-field validation Some fields can impact validity of other fields. E.g. a male person can\u2019t be pregnant\n\nPlease transform your data set accordingly and add all code to the Feature Creation asset deliverable. Please comply with the naming convention documented in the process model.", 
            "cell_type": "markdown", 
            "metadata": {
                "collapsed": true
            }
        }, 
        {
            "source": "# Remove Duplicated rows", 
            "cell_type": "markdown", 
            "metadata": {}
        }, 
        {
            "execution_count": null, 
            "cell_type": "code", 
            "metadata": {}, 
            "outputs": [], 
            "source": "print('Number of duplicates:', len(df[df.duplicated()]))"
        }, 
        {
            "source": "We should delete duplicated rows because they don't add new information", 
            "cell_type": "markdown", 
            "metadata": {}
        }, 
        {
            "execution_count": null, 
            "cell_type": "code", 
            "metadata": {}, 
            "outputs": [], 
            "source": "df = df.drop_duplicates(keep = 'first')\nprint('Number of duplicates:', len(df[df.duplicated()]))"
        }, 
        {
            "source": "# Feature Engineering [coursera]\nFeature Creation and Feature Engineering is one of the most important tasks in machine learning since it hugely impacts model performance. This also holds for deep learning, although to a lesser extent. Features can be changed or new features can be created from existing ones\n\nThe following none exhaustive list gives you some guidelines for feature transformation:\n\n\u00b7 Imputing Some algorithms are very sensitive to missing values. Therefore, imputing allows for filling of empty fields based on its value distribution\n\n\u00b7 Imputed time-series quantization Time series often contain streams with measurements at different timestamps. Therefore, it is beneficial to quantize measurements to a common \u201cheart beat\u201d and impute the corresponding values. This can be done by sampling from the source time series distributions on the respective quantized time steps\n\n\u00b7 Scaling / Normalizing / Centering Some algorithms are very sensitive differences in value ranges for individual fields. Therefore, it is best practice to center data around zero and scale values to a standard deviation of one\n\n\u00b7 Filtering Sometimes imputing values doesn\u2019t perform well, therefore deletion of low quality records is a better strategy\n\n\u00b7 Discretizing Continuous fields might confuse the model, e.g. a discrete set of age ranges sometimes performs better than continuous values, especially on smaller amounts of data and with simpler models\n\nThe following none exhaustive list gives you some guidelines for feature creation:\n\n\u00b7 One-hot-encoding Categorical integer features should be transformed into \u201cone-hot\u201d vectors. In relational terms this results in addition of additional columns \u2013 one columns for each distinct category\n\n\u00b7 Time-to-Frequency transformation Time-series (and sometimes also sequence data) is recorded in the time domain but can easily transformed into the frequency domain e.g. using FFT (Fast Fourier Transformation)\n\n\u00b7 Month-From-Date Creating an additional feature containing the month independent from data captures seasonal aspects. Sometimes further discretization in to quarters helps as well\n\n\u00b7 Aggregate-on-Target Simply aggregating fields the target variable (or even other fields) can improve performance, e.g. count number of data points per ZIP code or take the median of all values by geographical region\n\nAs feature engineering is an art on itself, this list cannot be exhaustive. It\u2019s not expected to become an expert in this topic at this point. Most of it you\u2019ll learn by practicing data science on real projects and talk to peers which might share their secrets and tricks with you.\n\nPlease transform your data set accordingly and add all code to the Feature Creation asset deliverable. Please comply with the naming convention documented in the process model.", 
            "cell_type": "markdown", 
            "metadata": {}
        }, 
        {
            "execution_count": null, 
            "cell_type": "code", 
            "metadata": {}, 
            "outputs": [], 
            "source": ""
        }
    ], 
    "metadata": {
        "kernelspec": {
            "display_name": "Python 3.6", 
            "name": "python3", 
            "language": "python"
        }, 
        "language_info": {
            "mimetype": "text/x-python", 
            "nbconvert_exporter": "python", 
            "version": "3.6.8", 
            "name": "python", 
            "file_extension": ".py", 
            "pygments_lexer": "ipython3", 
            "codemirror_mode": {
                "version": 3, 
                "name": "ipython"
            }
        }
    }, 
    "nbformat": 4
}