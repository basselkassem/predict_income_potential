{
  "nbformat": 4,
  "nbformat_minor": 0,
  "metadata": {
    "colab": {
      "name": "model_lgbm.ipynb",
      "provenance": [],
      "collapsed_sections": [
        "rHcoSpY8bQV7",
        "Kz8djr-1c5f0",
        "tVoIkIKjdI-N",
        "PUmNTmFscuaf"
      ],
      "include_colab_link": true
    },
    "kernelspec": {
      "name": "python3",
      "display_name": "Python 3"
    },
    "accelerator": "GPU"
  },
  "cells": [
    {
      "cell_type": "markdown",
      "metadata": {
        "id": "view-in-github",
        "colab_type": "text"
      },
      "source": [
        "<a href=\"https://colab.research.google.com/github/basselkassem/predict_income_potential/blob/master/model_lgbm.ipynb\" target=\"_parent\"><img src=\"https://colab.research.google.com/assets/colab-badge.svg\" alt=\"Open In Colab\"/></a>"
      ]
    },
    {
      "cell_type": "code",
      "metadata": {
        "id": "8EsY30Mlq6Bz",
        "colab_type": "code",
        "outputId": "4e016803-9508-4ffd-a839-50bf0ae6b83a",
        "colab": {
          "base_uri": "https://localhost:8080/",
          "height": 35
        }
      },
      "source": [
        "from google.colab import drive\n",
        "drive.mount('/content/gdrive')\n",
        "data_path = \"/content/gdrive/My Drive/Colab Notebooks/predict_income_potential/data/\"\n",
        "model_path = '/content/gdrive/My Drive/Colab Notebooks/predict_income_potential/models/'"
      ],
      "execution_count": 188,
      "outputs": [
        {
          "output_type": "stream",
          "text": [
            "Drive already mounted at /content/gdrive; to attempt to forcibly remount, call drive.mount(\"/content/gdrive\", force_remount=True).\n"
          ],
          "name": "stdout"
        }
      ]
    },
    {
      "cell_type": "markdown",
      "metadata": {
        "id": "FIHH7JjBdYwg",
        "colab_type": "text"
      },
      "source": [
        "# Import Libs"
      ]
    },
    {
      "cell_type": "code",
      "metadata": {
        "id": "jyuwooeo0Th7",
        "colab_type": "code",
        "colab": {}
      },
      "source": [
        "import pandas as pd\n",
        "import numpy as np\n",
        "import lightgbm as lgb\n",
        "from sklearn.metrics import log_loss \n",
        "from sklearn.model_selection import train_test_split, StratifiedKFold\n",
        "import matplotlib.pyplot as plt\n",
        "%matplotlib inline\n",
        "from sklearn.metrics import f1_score, accuracy_score, roc_auc_score\n",
        "from sklearn.decomposition import PCA\n",
        "from sklearn.feature_selection import RFE\n",
        "from sklearn.linear_model import LassoCV"
      ],
      "execution_count": 0,
      "outputs": []
    },
    {
      "cell_type": "markdown",
      "metadata": {
        "id": "CtLkdYLddUhz",
        "colab_type": "text"
      },
      "source": [
        "# Load Data"
      ]
    },
    {
      "cell_type": "code",
      "metadata": {
        "id": "CVde-Gq-0kgf",
        "colab_type": "code",
        "outputId": "2af4a5c2-0b7a-4331-8c1f-cc2ef967accd",
        "colab": {
          "base_uri": "https://localhost:8080/",
          "height": 90
        }
      },
      "source": [
        "cont_cat_lb = pd.read_pickle(data_path + 'data_cont_cat_lb.pkl')\n",
        "cont_cat_oh = pd.read_pickle(data_path + 'data_cont_cat_oh.pkl')\n",
        "bin_lb_cat_lb = pd.read_pickle(data_path + 'data_bin_lb_cat_lb.pkl')\n",
        "bin_oh_cat_oh = pd.read_pickle(data_path + 'data_bin_oh_cat_oh.pkl')\n",
        "\n",
        "print('cont_cat_lb: ', cont_cat_lb.shape)\n",
        "print('cont_cat_oh: ', cont_cat_oh.shape)\n",
        "print('bin_lb_cat_lb: ', bin_lb_cat_lb.shape)\n",
        "print('bin_oh_cat_oh: ', bin_oh_cat_oh.shape)"
      ],
      "execution_count": 5,
      "outputs": [
        {
          "output_type": "stream",
          "text": [
            "cont_cat_lb:  (48813, 39)\n",
            "cont_cat_oh:  (48813, 133)\n",
            "bin_lb_cat_lb:  (48813, 39)\n",
            "bin_oh_cat_oh:  (48813, 659)\n"
          ],
          "name": "stdout"
        }
      ]
    },
    {
      "cell_type": "markdown",
      "metadata": {
        "id": "Qsbiy6NycWaj",
        "colab_type": "text"
      },
      "source": [
        "# Utile Function"
      ]
    },
    {
      "cell_type": "code",
      "metadata": {
        "id": "lz2O16zEcZXg",
        "colab_type": "code",
        "colab": {}
      },
      "source": [
        "\n",
        "def evaluate_test_model(X, y, verbose = True):\n",
        "  X_train, X_test, y_train, y_test = train_test_split(X, y, test_size=0.33, random_state=42)\n",
        "\n",
        "  gbm = lgb.LGBMClassifier(n_estimators = 1000, silent = True)\n",
        "  gbm.fit(X_train, y_train, eval_set = [(X_test, y_test)], early_stopping_rounds = 10, verbose = 0)\n",
        "\n",
        "  y_train_hat = gbm.predict(X_train)\n",
        "  y_test_hat = gbm.predict(X_test)\n",
        "\n",
        "  tr_acc = accuracy_score(y_train, y_train_hat)\n",
        "  tr_f1 = f1_score(y_train, y_train_hat)\n",
        "  tr_auc = roc_auc_score(y_train, y_train_hat)\n",
        "\n",
        "  test_acc = accuracy_score(y_test, y_test_hat)\n",
        "  test_f1 = f1_score(y_test, y_test_hat)\n",
        "  test_auc = roc_auc_score(y_test, y_test_hat)\n",
        "  if verbose:\n",
        "    print('------train-----------')\n",
        "    print('accuracy_score: ', tr_acc)\n",
        "    print('f1_score: ', tr_f1)\n",
        "    print('roc_auc_score: ', tr_auc)\n",
        "    print('------test-------------')\n",
        "    print('accuracy_score: ', test_acc)\n",
        "    print('f1_score: ', test_f1)\n",
        "    print('roc_auc_score: ', test_auc)\n",
        "  return [test_acc, test_f1, test_auc]"
      ],
      "execution_count": 0,
      "outputs": []
    },
    {
      "cell_type": "markdown",
      "metadata": {
        "id": "G1M_EhqRZGQ5",
        "colab_type": "text"
      },
      "source": [
        "# Test data encoding"
      ]
    },
    {
      "cell_type": "markdown",
      "metadata": {
        "colab_type": "text",
        "id": "cn63DjbrZ5gA"
      },
      "source": [
        "## Continuous Feature Vs Binnig"
      ]
    },
    {
      "cell_type": "markdown",
      "metadata": {
        "id": "rHcoSpY8bQV7",
        "colab_type": "text"
      },
      "source": [
        "### Contiuous Featrue"
      ]
    },
    {
      "cell_type": "code",
      "metadata": {
        "id": "MWKoQZjxcRzm",
        "colab_type": "code",
        "colab": {
          "base_uri": "https://localhost:8080/",
          "height": 182
        },
        "outputId": "1ffe7e53-ec2c-47d0-9e5a-203c12180cfe"
      },
      "source": [
        "data = cont_cat_lb\n",
        "X, y = data.drop(columns = 'target'), data['target']\n",
        "evaluate_test_model(X, y)"
      ],
      "execution_count": 56,
      "outputs": [
        {
          "output_type": "stream",
          "text": [
            "------train-----------\n",
            "accuracy_score:  0.8889126712328768\n",
            "f1_score:  0.7458551941238196\n",
            "roc_auc_score:  0.8188570477903212\n",
            "------test-------------\n",
            "accuracy_score:  0.8732385622943696\n",
            "f1_score:  0.7130410342889264\n",
            "roc_auc_score:  0.7972260517006872\n"
          ],
          "name": "stdout"
        },
        {
          "output_type": "execute_result",
          "data": {
            "text/plain": [
              "(0.8732385622943696, 0.7130410342889264, 0.7972260517006872)"
            ]
          },
          "metadata": {
            "tags": []
          },
          "execution_count": 56
        }
      ]
    },
    {
      "cell_type": "markdown",
      "metadata": {
        "id": "Kz8djr-1c5f0",
        "colab_type": "text"
      },
      "source": [
        "### Binned Features\n",
        "\n"
      ]
    },
    {
      "cell_type": "code",
      "metadata": {
        "id": "td9U-NAIa1da",
        "colab_type": "code",
        "colab": {
          "base_uri": "https://localhost:8080/",
          "height": 164
        },
        "outputId": "2c5ad750-8441-4f51-ece6-ed9adb5ff6a8"
      },
      "source": [
        "data = bin_lb_cat_lb\n",
        "X, y = data.drop(columns = 'target'), data['target']\n",
        "evaluate_test_model(X, y)"
      ],
      "execution_count": 47,
      "outputs": [
        {
          "output_type": "stream",
          "text": [
            "------train-----------\n",
            "accuracy_score:  0.8801369863013698\n",
            "f1_score:  0.724796405504072\n",
            "roc_auc_score:  0.8056286689943598\n",
            "------test-------------\n",
            "accuracy_score:  0.866161772921969\n",
            "f1_score:  0.6981237748529824\n",
            "roc_auc_score:  0.7887243367238381\n"
          ],
          "name": "stdout"
        }
      ]
    },
    {
      "cell_type": "markdown",
      "metadata": {
        "id": "Ds-cbtmKZ0lI",
        "colab_type": "text"
      },
      "source": [
        "## Label encoding Vs One-hot encoding"
      ]
    },
    {
      "cell_type": "markdown",
      "metadata": {
        "id": "tVoIkIKjdI-N",
        "colab_type": "text"
      },
      "source": [
        "### One-hot encoding"
      ]
    },
    {
      "cell_type": "code",
      "metadata": {
        "id": "3_mM6V-gdNzB",
        "colab_type": "code",
        "colab": {
          "base_uri": "https://localhost:8080/",
          "height": 164
        },
        "outputId": "b86dde68-1e80-47e9-8f35-db451341e1c3"
      },
      "source": [
        "data = cont_cat_oh\n",
        "X, y = data.drop(columns = 'target'), data['target']\n",
        "evaluate_test_model(X, y)"
      ],
      "execution_count": 48,
      "outputs": [
        {
          "output_type": "stream",
          "text": [
            "------train-----------\n",
            "accuracy_score:  0.8833170254403131\n",
            "f1_score:  0.7321729365524987\n",
            "roc_auc_score:  0.8101021552821349\n",
            "------test-------------\n",
            "accuracy_score:  0.8752871065863803\n",
            "f1_score:  0.7194525904203324\n",
            "roc_auc_score:  0.8019738286097503\n"
          ],
          "name": "stdout"
        }
      ]
    },
    {
      "cell_type": "markdown",
      "metadata": {
        "id": "E8NnJAoedPOa",
        "colab_type": "text"
      },
      "source": [
        "### Label Encoding"
      ]
    },
    {
      "cell_type": "code",
      "metadata": {
        "id": "k7GcYC2Cdt-m",
        "colab_type": "code",
        "colab": {
          "base_uri": "https://localhost:8080/",
          "height": 164
        },
        "outputId": "e5e66608-6089-4d71-9574-691daa016bb7"
      },
      "source": [
        "data = cont_cat_lb\n",
        "X, y = data.drop(columns = 'target'), data['target']\n",
        "evaluate_test_model(X, y)"
      ],
      "execution_count": 49,
      "outputs": [
        {
          "output_type": "stream",
          "text": [
            "------train-----------\n",
            "accuracy_score:  0.8889126712328768\n",
            "f1_score:  0.7458551941238196\n",
            "roc_auc_score:  0.8188570477903212\n",
            "------test-------------\n",
            "accuracy_score:  0.8732385622943696\n",
            "f1_score:  0.7130410342889264\n",
            "roc_auc_score:  0.7972260517006872\n"
          ],
          "name": "stdout"
        }
      ]
    },
    {
      "cell_type": "markdown",
      "metadata": {
        "id": "PUmNTmFscuaf",
        "colab_type": "text"
      },
      "source": [
        "# Test reducing data dimensionality"
      ]
    },
    {
      "cell_type": "code",
      "metadata": {
        "id": "hFvcuuHShgpw",
        "colab_type": "code",
        "colab": {
          "base_uri": "https://localhost:8080/",
          "height": 35
        },
        "outputId": "fccf3331-493f-4564-d240-aa950ffd588f"
      },
      "source": [
        "data = bin_oh_cat_oh\n",
        "print(data.shape)\n",
        "max_pranciple_component = 100"
      ],
      "execution_count": 98,
      "outputs": [
        {
          "output_type": "stream",
          "text": [
            "(48813, 659)\n"
          ],
          "name": "stdout"
        }
      ]
    },
    {
      "cell_type": "code",
      "metadata": {
        "id": "uvjXf01AediE",
        "colab_type": "code",
        "colab": {
          "base_uri": "https://localhost:8080/",
          "height": 1000
        },
        "outputId": "d4e643ea-2173-4e85-c929-56b23839f610"
      },
      "source": [
        "result = []\n",
        "for component_num in range(2, max_pranciple_component):\n",
        "  pca = PCA(component_num)\n",
        "  X, y = data.drop(columns = 'target'), data['target']\n",
        "  projected_X = pca.fit_transform(X)\n",
        "  print('Reducing data dimension to: ',  component_num)\n",
        "  res = evaluate_test_model(projected_X, y, False)\n",
        "  result.append(res)\n"
      ],
      "execution_count": 99,
      "outputs": [
        {
          "output_type": "stream",
          "text": [
            "Reducing data dimension to:  2\n",
            "Reducing data dimension to:  3\n",
            "Reducing data dimension to:  4\n",
            "Reducing data dimension to:  5\n",
            "Reducing data dimension to:  6\n",
            "Reducing data dimension to:  7\n",
            "Reducing data dimension to:  8\n",
            "Reducing data dimension to:  9\n",
            "Reducing data dimension to:  10\n",
            "Reducing data dimension to:  11\n",
            "Reducing data dimension to:  12\n",
            "Reducing data dimension to:  13\n",
            "Reducing data dimension to:  14\n",
            "Reducing data dimension to:  15\n",
            "Reducing data dimension to:  16\n",
            "Reducing data dimension to:  17\n",
            "Reducing data dimension to:  18\n",
            "Reducing data dimension to:  19\n",
            "Reducing data dimension to:  20\n",
            "Reducing data dimension to:  21\n",
            "Reducing data dimension to:  22\n",
            "Reducing data dimension to:  23\n",
            "Reducing data dimension to:  24\n",
            "Reducing data dimension to:  25\n",
            "Reducing data dimension to:  26\n",
            "Reducing data dimension to:  27\n",
            "Reducing data dimension to:  28\n",
            "Reducing data dimension to:  29\n",
            "Reducing data dimension to:  30\n",
            "Reducing data dimension to:  31\n",
            "Reducing data dimension to:  32\n",
            "Reducing data dimension to:  33\n",
            "Reducing data dimension to:  34\n",
            "Reducing data dimension to:  35\n",
            "Reducing data dimension to:  36\n",
            "Reducing data dimension to:  37\n",
            "Reducing data dimension to:  38\n",
            "Reducing data dimension to:  39\n",
            "Reducing data dimension to:  40\n",
            "Reducing data dimension to:  41\n",
            "Reducing data dimension to:  42\n",
            "Reducing data dimension to:  43\n",
            "Reducing data dimension to:  44\n",
            "Reducing data dimension to:  45\n",
            "Reducing data dimension to:  46\n",
            "Reducing data dimension to:  47\n",
            "Reducing data dimension to:  48\n",
            "Reducing data dimension to:  49\n",
            "Reducing data dimension to:  50\n",
            "Reducing data dimension to:  51\n",
            "Reducing data dimension to:  52\n",
            "Reducing data dimension to:  53\n",
            "Reducing data dimension to:  54\n",
            "Reducing data dimension to:  55\n",
            "Reducing data dimension to:  56\n",
            "Reducing data dimension to:  57\n",
            "Reducing data dimension to:  58\n",
            "Reducing data dimension to:  59\n",
            "Reducing data dimension to:  60\n",
            "Reducing data dimension to:  61\n",
            "Reducing data dimension to:  62\n",
            "Reducing data dimension to:  63\n",
            "Reducing data dimension to:  64\n",
            "Reducing data dimension to:  65\n",
            "Reducing data dimension to:  66\n",
            "Reducing data dimension to:  67\n",
            "Reducing data dimension to:  68\n",
            "Reducing data dimension to:  69\n",
            "Reducing data dimension to:  70\n",
            "Reducing data dimension to:  71\n",
            "Reducing data dimension to:  72\n",
            "Reducing data dimension to:  73\n",
            "Reducing data dimension to:  74\n",
            "Reducing data dimension to:  75\n",
            "Reducing data dimension to:  76\n",
            "Reducing data dimension to:  77\n",
            "Reducing data dimension to:  78\n",
            "Reducing data dimension to:  79\n",
            "Reducing data dimension to:  80\n",
            "Reducing data dimension to:  81\n",
            "Reducing data dimension to:  82\n",
            "Reducing data dimension to:  83\n",
            "Reducing data dimension to:  84\n",
            "Reducing data dimension to:  85\n",
            "Reducing data dimension to:  86\n",
            "Reducing data dimension to:  87\n",
            "Reducing data dimension to:  88\n",
            "Reducing data dimension to:  89\n",
            "Reducing data dimension to:  90\n",
            "Reducing data dimension to:  91\n",
            "Reducing data dimension to:  92\n",
            "Reducing data dimension to:  93\n",
            "Reducing data dimension to:  94\n",
            "Reducing data dimension to:  95\n",
            "Reducing data dimension to:  96\n",
            "Reducing data dimension to:  97\n",
            "Reducing data dimension to:  98\n",
            "Reducing data dimension to:  99\n"
          ],
          "name": "stdout"
        }
      ]
    },
    {
      "cell_type": "code",
      "metadata": {
        "id": "XA_PMHHVpCYy",
        "colab_type": "code",
        "colab": {}
      },
      "source": [
        "result = np.array(result)"
      ],
      "execution_count": 0,
      "outputs": []
    },
    {
      "cell_type": "code",
      "metadata": {
        "id": "bvfwllb1kqmI",
        "colab_type": "code",
        "colab": {
          "base_uri": "https://localhost:8080/",
          "height": 269
        },
        "outputId": "11e1c434-12e7-42d9-f322-4f344dcebb3a"
      },
      "source": [
        "acc = result[:, 0]\n",
        "f1 = result[:, 1]\n",
        "auc = result[:, 2]\n",
        "x = np.arange(2, max_pranciple_component)\n",
        "plt.plot(x, acc, label = 'accuracy')\n",
        "plt.plot(x, f1, label = 'f1')\n",
        "plt.plot(x, auc, label = 'auc')\n",
        "plt.legend()\n",
        "plt.show()"
      ],
      "execution_count": 101,
      "outputs": [
        {
          "output_type": "display_data",
          "data": {
            "image/png": "[encoded data removed]",
            "text/plain": [
              "<Figure size 432x288 with 1 Axes>"
            ]
          },
          "metadata": {
            "tags": []
          }
        }
      ]
    },
    {
      "cell_type": "code",
      "metadata": {
        "id": "YTqPfoDZpPlI",
        "colab_type": "code",
        "colab": {
          "base_uri": "https://localhost:8080/",
          "height": 35
        },
        "outputId": "5a543a29-d753-4ea5-fe27-74e921195840"
      },
      "source": [
        "result[90]"
      ],
      "execution_count": 106,
      "outputs": [
        {
          "output_type": "execute_result",
          "data": {
            "text/plain": [
              "array([0.85691229, 0.67123092, 0.77042987])"
            ]
          },
          "metadata": {
            "tags": []
          },
          "execution_count": 106
        }
      ]
    },
    {
      "cell_type": "markdown",
      "metadata": {
        "id": "9ZLYjfX-sq19",
        "colab_type": "text"
      },
      "source": [
        "# Feature Selection"
      ]
    },
    {
      "cell_type": "code",
      "metadata": {
        "id": "ADIKE_KwRtCV",
        "colab_type": "code",
        "colab": {}
      },
      "source": [
        "data = cont_cat_lb\n",
        "X, y = data.drop(columns = 'target'), data['target']"
      ],
      "execution_count": 0,
      "outputs": []
    },
    {
      "cell_type": "markdown",
      "metadata": {
        "id": "2Yn3S6PsQU5L",
        "colab_type": "text"
      },
      "source": [
        "## Determine the optimal number of features"
      ]
    },
    {
      "cell_type": "code",
      "metadata": {
        "id": "D-OOHldKsumu",
        "colab_type": "code",
        "colab": {
          "base_uri": "https://localhost:8080/",
          "height": 54
        },
        "outputId": "67b5b848-a9f7-443e-9b4c-d2e012fceb0f"
      },
      "source": [
        "features_number = np.arange(1, data.shape[1])            \n",
        "high_score = 0\n",
        "feature_number = 0           \n",
        "score_list =[]\n",
        "for n in range(len(features_number)):\n",
        "    X_train, X_test, y_train, y_test = train_test_split(X, y, test_size = 0.3, random_state = 42)\n",
        "    model = lgb.LGBMClassifier(n_estimators = 2000, silent = True)\n",
        "    rfe = RFE(model, features_number[n])\n",
        "    X_train_rfe = rfe.fit_transform(X_train, y_train)\n",
        "    X_test_rfe = rfe.transform(X_test)\n",
        "    model.fit(X_train_rfe, y_train, eval_set = [(X_test_rfe, y_test)], early_stopping_rounds = 10, verbose = 0)\n",
        "    score = model.score(X_test_rfe, y_test)\n",
        "    score_list.append(score)\n",
        "    if(score > high_score):\n",
        "        high_score = score\n",
        "        feature_number = features_number[n]\n",
        "\n",
        "print(\"Optimum number of features: %d\" %feature_number)\n",
        "print(\"Score with %d features: %f\" % (feature_number, high_score))"
      ],
      "execution_count": 17,
      "outputs": [
        {
          "output_type": "stream",
          "text": [
            "Optimum number of features: 31\n",
            "Score with 31 features: 0.874420\n"
          ],
          "name": "stdout"
        }
      ]
    },
    {
      "cell_type": "markdown",
      "metadata": {
        "id": "Zx-P3FLrRUpm",
        "colab_type": "text"
      },
      "source": [
        "## Recursive Feature Elimination"
      ]
    },
    {
      "cell_type": "code",
      "metadata": {
        "id": "y5tOENzosogf",
        "colab_type": "code",
        "colab": {
          "base_uri": "https://localhost:8080/",
          "height": 237
        },
        "outputId": "32c23751-0299-45fe-a19d-b4071bc9f913"
      },
      "source": [
        "cols = list(X.columns)\n",
        "X_train, X_test, y_train, y_test = train_test_split(X, y, test_size = 0.3, random_state = 42)\n",
        "model =lgb.LGBMClassifier(n_estimators = 2000, silent = True)\n",
        "rfe = RFE(model, feature_number)             \n",
        "X_rfe = rfe.fit_transform(X_train, y)\n",
        "X_test_rfe = rfe.transform(X_test)\n",
        "model.fit(X_rfe, y_train, eval_set = [(X_test_rfe, y_test)], early_stopping_rounds = 10, verbose = 0)             \n",
        "temp = pd.Series(rfe.support_, index = cols)\n",
        "selected_features_rfe = temp[temp == True].index\n",
        "print(selected_features_rfe)"
      ],
      "execution_count": 18,
      "outputs": [
        {
          "output_type": "stream",
          "text": [
            "Index(['age', 'workclass', 'final_weight', 'education_duration',\n",
            "       'marital_status', 'occupation', 'relationship', 'race', 'sex',\n",
            "       'capital_gain', 'capital_loss', 'hours_per_week', 'native_country',\n",
            "       'has_missing_values', 'com_workclass', 'com_marital_status',\n",
            "       'com_native_country', 'age final_weight', 'age education_duration',\n",
            "       'age hours_per_week', 'age capital_gain', 'age capital_loss',\n",
            "       'final_weight education_duration', 'final_weight hours_per_week',\n",
            "       'final_weight capital_gain', 'final_weight capital_loss',\n",
            "       'education_duration hours_per_week', 'education_duration capital_gain',\n",
            "       'education_duration capital_loss', 'hours_per_week capital_gain',\n",
            "       'hours_per_week capital_loss'],\n",
            "      dtype='object')\n"
          ],
          "name": "stdout"
        }
      ]
    },
    {
      "cell_type": "markdown",
      "metadata": {
        "id": "YQdGrVUeczlK",
        "colab_type": "text"
      },
      "source": [
        "# Model Defintion"
      ]
    },
    {
      "cell_type": "markdown",
      "metadata": {
        "id": "r5QRzMZ1OkKt",
        "colab_type": "text"
      },
      "source": [
        "## Hyperparameter Tuning"
      ]
    },
    {
      "cell_type": "code",
      "metadata": {
        "id": "-Pd46xxOHId_",
        "colab_type": "code",
        "colab": {}
      },
      "source": [
        "data = cont_cat_lb[selected_features + ['target']]\n",
        "X, y = data.drop(columns = 'target'), data['target']"
      ],
      "execution_count": 0,
      "outputs": []
    },
    {
      "cell_type": "code",
      "metadata": {
        "id": "ApUOE6xhamtu",
        "colab_type": "code",
        "colab": {
          "base_uri": "https://localhost:8080/",
          "height": 1000
        },
        "outputId": "0ba981b3-b603-41f1-cd8e-68faa50de4f5"
      },
      "source": [
        "from hyperopt import hp, tpe\n",
        "from hyperopt.fmin import fmin\n",
        "from sklearn.model_selection import cross_val_score, StratifiedKFold\n",
        "from sklearn.metrics import make_scorer, log_loss\n",
        "\n",
        "def objective(params):\n",
        "  local_params = {\n",
        "      'objective': 'binary',\n",
        "      'metric': 'binary_logloss',\n",
        "      'save_binary': True,\n",
        "      'bagging_freq': 1,\n",
        "      'bagging_seed': 2**7,\n",
        "      'learning_rate': '{:.3f}'.format(params['learning_rate']),\n",
        "      'num_leaves': int(params['num_leaves']),\n",
        "      'min_data_in_leaf': int(params['min_data_in_leaf']),\n",
        "      'max_depth': int(params['max_depth']),\n",
        "      'bagging_fraction': '{:.3f}'.format(params['bagging_fraction']),\n",
        "  }\n",
        "  d_train = lgb.Dataset(X, label = y)\n",
        "  cv_results = lgb.cv(local_params, d_train, num_boost_round = 2000, nfold = 5, \n",
        "                    verbose_eval = 0, early_stopping_rounds = 10)\n",
        "  print('Best num_boost_round: {}'.format(len(cv_results['binary_logloss-mean'])))\n",
        "  print(\"Best CV score {:.3f} params {}\".format(cv_results['binary_logloss-mean'][-1], local_params))\n",
        "  return cv_results['binary_logloss-mean'][-1]\n",
        "\n",
        "space = {\n",
        "    'learning_rate': hp.uniform('learning_rate', 0.01, 0.3),\n",
        "    'num_leaves': hp.quniform('num_leaves', 7, 4095, 2),\n",
        "    'min_data_in_leaf': hp.quniform('min_data_in_leaf', 20, 500, 5),\n",
        "    'max_depth': hp.quniform('max_depth', 2, 63, 1),\n",
        "    'bagging_fraction': hp.uniform('bagging_fraction', 0.4, 1),\n",
        "}\n",
        "\n",
        "best = fmin(fn = objective,\n",
        "            space = space,\n",
        "            algo = tpe.suggest,\n",
        "            max_evals = 100)"
      ],
      "execution_count": 21,
      "outputs": [
        {
          "output_type": "stream",
          "text": [
            "Best num_boost_round: 65\n",
            "Best CV score 0.289 params {'objective': 'binary', 'metric': 'binary_logloss', 'save_binary': True, 'bagging_freq': 1, 'bagging_seed': 128, 'learning_rate': '0.141', 'num_leaves': 1364, 'min_data_in_leaf': 225, 'max_depth': 41, 'bagging_fraction': '0.727'}\n",
            "Best num_boost_round: 31\n",
            "Best CV score 0.299 params {'objective': 'binary', 'metric': 'binary_logloss', 'save_binary': True, 'bagging_freq': 1, 'bagging_seed': 128, 'learning_rate': '0.220', 'num_leaves': 3502, 'min_data_in_leaf': 310, 'max_depth': 59, 'bagging_fraction': '0.473'}\n",
            "Best num_boost_round: 397\n",
            "Best CV score 0.286 params {'objective': 'binary', 'metric': 'binary_logloss', 'save_binary': True, 'bagging_freq': 1, 'bagging_seed': 128, 'learning_rate': '0.035', 'num_leaves': 3798, 'min_data_in_leaf': 235, 'max_depth': 10, 'bagging_fraction': '0.622'}\n",
            "Best num_boost_round: 26\n",
            "Best CV score 0.289 params {'objective': 'binary', 'metric': 'binary_logloss', 'save_binary': True, 'bagging_freq': 1, 'bagging_seed': 128, 'learning_rate': '0.279', 'num_leaves': 460, 'min_data_in_leaf': 250, 'max_depth': 41, 'bagging_fraction': '0.921'}\n",
            "Best num_boost_round: 90\n",
            "Best CV score 0.289 params {'objective': 'binary', 'metric': 'binary_logloss', 'save_binary': True, 'bagging_freq': 1, 'bagging_seed': 128, 'learning_rate': '0.117', 'num_leaves': 2836, 'min_data_in_leaf': 420, 'max_depth': 63, 'bagging_fraction': '0.969'}\n",
            "Best num_boost_round: 77\n",
            "Best CV score 0.289 params {'objective': 'binary', 'metric': 'binary_logloss', 'save_binary': True, 'bagging_freq': 1, 'bagging_seed': 128, 'learning_rate': '0.114', 'num_leaves': 3200, 'min_data_in_leaf': 305, 'max_depth': 54, 'bagging_fraction': '0.757'}\n",
            "Best num_boost_round: 209\n",
            "Best CV score 0.289 params {'objective': 'binary', 'metric': 'binary_logloss', 'save_binary': True, 'bagging_freq': 1, 'bagging_seed': 128, 'learning_rate': '0.061', 'num_leaves': 612, 'min_data_in_leaf': 445, 'max_depth': 53, 'bagging_fraction': '0.867'}\n",
            "Best num_boost_round: 494\n",
            "Best CV score 0.285 params {'objective': 'binary', 'metric': 'binary_logloss', 'save_binary': True, 'bagging_freq': 1, 'bagging_seed': 128, 'learning_rate': '0.010', 'num_leaves': 710, 'min_data_in_leaf': 65, 'max_depth': 32, 'bagging_fraction': '0.809'}\n",
            "Best num_boost_round: 152\n",
            "Best CV score 0.291 params {'objective': 'binary', 'metric': 'binary_logloss', 'save_binary': True, 'bagging_freq': 1, 'bagging_seed': 128, 'learning_rate': '0.065', 'num_leaves': 1618, 'min_data_in_leaf': 305, 'max_depth': 48, 'bagging_fraction': '0.611'}\n",
            "Best num_boost_round: 32\n",
            "Best CV score 0.301 params {'objective': 'binary', 'metric': 'binary_logloss', 'save_binary': True, 'bagging_freq': 1, 'bagging_seed': 128, 'learning_rate': '0.279', 'num_leaves': 3190, 'min_data_in_leaf': 390, 'max_depth': 56, 'bagging_fraction': '0.505'}\n",
            "Best num_boost_round: 178\n",
            "Best CV score 0.285 params {'objective': 'binary', 'metric': 'binary_logloss', 'save_binary': True, 'bagging_freq': 1, 'bagging_seed': 128, 'learning_rate': '0.111', 'num_leaves': 2836, 'min_data_in_leaf': 100, 'max_depth': 4, 'bagging_fraction': '0.444'}\n",
            "Best num_boost_round: 18\n",
            "Best CV score 0.292 params {'objective': 'binary', 'metric': 'binary_logloss', 'save_binary': True, 'bagging_freq': 1, 'bagging_seed': 128, 'learning_rate': '0.276', 'num_leaves': 3514, 'min_data_in_leaf': 85, 'max_depth': 24, 'bagging_fraction': '0.715'}\n",
            "Best num_boost_round: 375\n",
            "Best CV score 0.284 params {'objective': 'binary', 'metric': 'binary_logloss', 'save_binary': True, 'bagging_freq': 1, 'bagging_seed': 128, 'learning_rate': '0.020', 'num_leaves': 1642, 'min_data_in_leaf': 215, 'max_depth': 46, 'bagging_fraction': '0.874'}\n",
            "Best num_boost_round: 69\n",
            "Best CV score 0.286 params {'objective': 'binary', 'metric': 'binary_logloss', 'save_binary': True, 'bagging_freq': 1, 'bagging_seed': 128, 'learning_rate': '0.082', 'num_leaves': 466, 'min_data_in_leaf': 145, 'max_depth': 54, 'bagging_fraction': '0.771'}\n",
            "Best num_boost_round: 42\n",
            "Best CV score 0.298 params {'objective': 'binary', 'metric': 'binary_logloss', 'save_binary': True, 'bagging_freq': 1, 'bagging_seed': 128, 'learning_rate': '0.288', 'num_leaves': 2922, 'min_data_in_leaf': 490, 'max_depth': 20, 'bagging_fraction': '0.673'}\n",
            "Best num_boost_round: 142\n",
            "Best CV score 0.285 params {'objective': 'binary', 'metric': 'binary_logloss', 'save_binary': True, 'bagging_freq': 1, 'bagging_seed': 128, 'learning_rate': '0.052', 'num_leaves': 2070, 'min_data_in_leaf': 200, 'max_depth': 49, 'bagging_fraction': '0.892'}\n",
            "Best num_boost_round: 27\n",
            "Best CV score 0.290 params {'objective': 'binary', 'metric': 'binary_logloss', 'save_binary': True, 'bagging_freq': 1, 'bagging_seed': 128, 'learning_rate': '0.168', 'num_leaves': 338, 'min_data_in_leaf': 90, 'max_depth': 50, 'bagging_fraction': '0.634'}\n",
            "Best num_boost_round: 22\n",
            "Best CV score 0.289 params {'objective': 'binary', 'metric': 'binary_logloss', 'save_binary': True, 'bagging_freq': 1, 'bagging_seed': 128, 'learning_rate': '0.201', 'num_leaves': 1694, 'min_data_in_leaf': 85, 'max_depth': 38, 'bagging_fraction': '0.893'}\n",
            "Best num_boost_round: 108\n",
            "Best CV score 0.292 params {'objective': 'binary', 'metric': 'binary_logloss', 'save_binary': True, 'bagging_freq': 1, 'bagging_seed': 128, 'learning_rate': '0.112', 'num_leaves': 862, 'min_data_in_leaf': 390, 'max_depth': 37, 'bagging_fraction': '0.690'}\n",
            "Best num_boost_round: 87\n",
            "Best CV score 0.284 params {'objective': 'binary', 'metric': 'binary_logloss', 'save_binary': True, 'bagging_freq': 1, 'bagging_seed': 128, 'learning_rate': '0.067', 'num_leaves': 794, 'min_data_in_leaf': 70, 'max_depth': 22, 'bagging_fraction': '0.930'}\n",
            "Best num_boost_round: 311\n",
            "Best CV score 0.296 params {'objective': 'binary', 'metric': 'binary_logloss', 'save_binary': True, 'bagging_freq': 1, 'bagging_seed': 128, 'learning_rate': '0.012', 'num_leaves': 2212, 'min_data_in_leaf': 20, 'max_depth': 25, 'bagging_fraction': '0.992'}\n",
            "Best num_boost_round: 427\n",
            "Best CV score 0.281 params {'objective': 'binary', 'metric': 'binary_logloss', 'save_binary': True, 'bagging_freq': 1, 'bagging_seed': 128, 'learning_rate': '0.022', 'num_leaves': 56, 'min_data_in_leaf': 145, 'max_depth': 16, 'bagging_fraction': '0.827'}\n",
            "Best num_boost_round: 100\n",
            "Best CV score 0.282 params {'objective': 'binary', 'metric': 'binary_logloss', 'save_binary': True, 'bagging_freq': 1, 'bagging_seed': 128, 'learning_rate': '0.081', 'num_leaves': 62, 'min_data_in_leaf': 150, 'max_depth': 14, 'bagging_fraction': '0.837'}\n",
            "Best num_boost_round: 96\n",
            "Best CV score 0.283 params {'objective': 'binary', 'metric': 'binary_logloss', 'save_binary': True, 'bagging_freq': 1, 'bagging_seed': 128, 'learning_rate': '0.092', 'num_leaves': 140, 'min_data_in_leaf': 160, 'max_depth': 13, 'bagging_fraction': '0.831'}\n",
            "Best num_boost_round: 1195\n",
            "Best CV score 0.280 params {'objective': 'binary', 'metric': 'binary_logloss', 'save_binary': True, 'bagging_freq': 1, 'bagging_seed': 128, 'learning_rate': '0.036', 'num_leaves': 44, 'min_data_in_leaf': 145, 'max_depth': 3, 'bagging_fraction': '0.811'}\n",
            "Best num_boost_round: 588\n",
            "Best CV score 0.280 params {'objective': 'binary', 'metric': 'binary_logloss', 'save_binary': True, 'bagging_freq': 1, 'bagging_seed': 128, 'learning_rate': '0.037', 'num_leaves': 1150, 'min_data_in_leaf': 25, 'max_depth': 4, 'bagging_fraction': '0.558'}\n",
            "Best num_boost_round: 383\n",
            "Best CV score 0.279 params {'objective': 'binary', 'metric': 'binary_logloss', 'save_binary': True, 'bagging_freq': 1, 'bagging_seed': 128, 'learning_rate': '0.039', 'num_leaves': 1184, 'min_data_in_leaf': 20, 'max_depth': 5, 'bagging_fraction': '0.568'}\n",
            "Best num_boost_round: 53\n",
            "Best CV score 0.283 params {'objective': 'binary', 'metric': 'binary_logloss', 'save_binary': True, 'bagging_freq': 1, 'bagging_seed': 128, 'learning_rate': '0.147', 'num_leaves': 1128, 'min_data_in_leaf': 25, 'max_depth': 8, 'bagging_fraction': '0.555'}\n",
            "Best num_boost_round: 20\n",
            "Best CV score 0.297 params {'objective': 'binary', 'metric': 'binary_logloss', 'save_binary': True, 'bagging_freq': 1, 'bagging_seed': 128, 'learning_rate': '0.177', 'num_leaves': 1200, 'min_data_in_leaf': 35, 'max_depth': 29, 'bagging_fraction': '0.547'}\n",
            "Best num_boost_round: 241\n",
            "Best CV score 0.283 params {'objective': 'binary', 'metric': 'binary_logloss', 'save_binary': True, 'bagging_freq': 1, 'bagging_seed': 128, 'learning_rate': '0.044', 'num_leaves': 2384, 'min_data_in_leaf': 45, 'max_depth': 7, 'bagging_fraction': '0.416'}\n",
            "Best num_boost_round: 21\n",
            "Best CV score 0.292 params {'objective': 'binary', 'metric': 'binary_logloss', 'save_binary': True, 'bagging_freq': 1, 'bagging_seed': 128, 'learning_rate': '0.247', 'num_leaves': 1442, 'min_data_in_leaf': 115, 'max_depth': 18, 'bagging_fraction': '0.548'}\n",
            "Best num_boost_round: 401\n",
            "Best CV score 0.287 params {'objective': 'binary', 'metric': 'binary_logloss', 'save_binary': True, 'bagging_freq': 1, 'bagging_seed': 128, 'learning_rate': '0.137', 'num_leaves': 978, 'min_data_in_leaf': 180, 'max_depth': 2, 'bagging_fraction': '0.501'}\n",
            "Best num_boost_round: 132\n",
            "Best CV score 0.296 params {'objective': 'binary', 'metric': 'binary_logloss', 'save_binary': True, 'bagging_freq': 1, 'bagging_seed': 128, 'learning_rate': '0.093', 'num_leaves': 1852, 'min_data_in_leaf': 275, 'max_depth': 12, 'bagging_fraction': '0.402'}\n",
            "Best num_boost_round: 50\n",
            "Best CV score 0.286 params {'objective': 'binary', 'metric': 'binary_logloss', 'save_binary': True, 'bagging_freq': 1, 'bagging_seed': 128, 'learning_rate': '0.204', 'num_leaves': 2408, 'min_data_in_leaf': 120, 'max_depth': 9, 'bagging_fraction': '0.591'}\n",
            "Best num_boost_round: 570\n",
            "Best CV score 0.286 params {'objective': 'binary', 'metric': 'binary_logloss', 'save_binary': True, 'bagging_freq': 1, 'bagging_seed': 128, 'learning_rate': '0.037', 'num_leaves': 1328, 'min_data_in_leaf': 345, 'max_depth': 6, 'bagging_fraction': '0.655'}\n",
            "Best num_boost_round: 34\n",
            "Best CV score 0.292 params {'objective': 'binary', 'metric': 'binary_logloss', 'save_binary': True, 'bagging_freq': 1, 'bagging_seed': 128, 'learning_rate': '0.131', 'num_leaves': 1890, 'min_data_in_leaf': 50, 'max_depth': 28, 'bagging_fraction': '0.468'}\n",
            "Best num_boost_round: 30\n",
            "Best CV score 0.295 params {'objective': 'binary', 'metric': 'binary_logloss', 'save_binary': True, 'bagging_freq': 1, 'bagging_seed': 128, 'learning_rate': '0.248', 'num_leaves': 1116, 'min_data_in_leaf': 265, 'max_depth': 63, 'bagging_fraction': '0.584'}\n",
            "Best num_boost_round: 540\n",
            "Best CV score 0.289 params {'objective': 'binary', 'metric': 'binary_logloss', 'save_binary': True, 'bagging_freq': 1, 'bagging_seed': 128, 'learning_rate': '0.024', 'num_leaves': 3998, 'min_data_in_leaf': 230, 'max_depth': 11, 'bagging_fraction': '0.506'}\n",
            "Best num_boost_round: 128\n",
            "Best CV score 0.284 params {'objective': 'binary', 'metric': 'binary_logloss', 'save_binary': True, 'bagging_freq': 1, 'bagging_seed': 128, 'learning_rate': '0.072', 'num_leaves': 1466, 'min_data_in_leaf': 185, 'max_depth': 16, 'bagging_fraction': '0.768'}\n",
            "Best num_boost_round: 48\n",
            "Best CV score 0.298 params {'objective': 'binary', 'metric': 'binary_logloss', 'save_binary': True, 'bagging_freq': 1, 'bagging_seed': 128, 'learning_rate': '0.163', 'num_leaves': 286, 'min_data_in_leaf': 340, 'max_depth': 34, 'bagging_fraction': '0.452'}\n",
            "Best num_boost_round: 423\n",
            "Best CV score 0.279 params {'objective': 'binary', 'metric': 'binary_logloss', 'save_binary': True, 'bagging_freq': 1, 'bagging_seed': 128, 'learning_rate': '0.050', 'num_leaves': 560, 'min_data_in_leaf': 20, 'max_depth': 4, 'bagging_fraction': '0.736'}\n",
            "Best num_boost_round: 164\n",
            "Best CV score 0.293 params {'objective': 'binary', 'metric': 'binary_logloss', 'save_binary': True, 'bagging_freq': 1, 'bagging_seed': 128, 'learning_rate': '0.103', 'num_leaves': 564, 'min_data_in_leaf': 470, 'max_depth': 20, 'bagging_fraction': '0.740'}\n",
            "Best num_boost_round: 38\n",
            "Best CV score 0.287 params {'objective': 'binary', 'metric': 'binary_logloss', 'save_binary': True, 'bagging_freq': 1, 'bagging_seed': 128, 'learning_rate': '0.127', 'num_leaves': 716, 'min_data_in_leaf': 115, 'max_depth': 60, 'bagging_fraction': '0.717'}\n",
            "Best num_boost_round: 80\n",
            "Best CV score 0.288 params {'objective': 'binary', 'metric': 'binary_logloss', 'save_binary': True, 'bagging_freq': 1, 'bagging_seed': 128, 'learning_rate': '0.055', 'num_leaves': 286, 'min_data_in_leaf': 60, 'max_depth': 44, 'bagging_fraction': '0.635'}\n",
            "Best num_boost_round: 120\n",
            "Best CV score 0.290 params {'objective': 'binary', 'metric': 'binary_logloss', 'save_binary': True, 'bagging_freq': 1, 'bagging_seed': 128, 'learning_rate': '0.099', 'num_leaves': 890, 'min_data_in_leaf': 415, 'max_depth': 27, 'bagging_fraction': '0.787'}\n",
            "Best num_boost_round: 218\n",
            "Best CV score 0.291 params {'objective': 'binary', 'metric': 'binary_logloss', 'save_binary': True, 'bagging_freq': 1, 'bagging_seed': 128, 'learning_rate': '0.051', 'num_leaves': 2590, 'min_data_in_leaf': 280, 'max_depth': 31, 'bagging_fraction': '0.605'}\n",
            "Best num_boost_round: 1406\n",
            "Best CV score 0.280 params {'objective': 'binary', 'metric': 'binary_logloss', 'save_binary': True, 'bagging_freq': 1, 'bagging_seed': 128, 'learning_rate': '0.010', 'num_leaves': 510, 'min_data_in_leaf': 70, 'max_depth': 6, 'bagging_fraction': '0.687'}\n",
            "Best num_boost_round: 374\n",
            "Best CV score 0.285 params {'objective': 'binary', 'metric': 'binary_logloss', 'save_binary': True, 'bagging_freq': 1, 'bagging_seed': 128, 'learning_rate': '0.181', 'num_leaves': 1856, 'min_data_in_leaf': 245, 'max_depth': 2, 'bagging_fraction': '0.658'}\n",
            "Best num_boost_round: 123\n",
            "Best CV score 0.287 params {'objective': 'binary', 'metric': 'binary_logloss', 'save_binary': True, 'bagging_freq': 1, 'bagging_seed': 128, 'learning_rate': '0.125', 'num_leaves': 1592, 'min_data_in_leaf': 330, 'max_depth': 10, 'bagging_fraction': '0.744'}\n",
            "Best num_boost_round: 96\n",
            "Best CV score 0.291 params {'objective': 'binary', 'metric': 'binary_logloss', 'save_binary': True, 'bagging_freq': 1, 'bagging_seed': 128, 'learning_rate': '0.083', 'num_leaves': 3432, 'min_data_in_leaf': 210, 'max_depth': 24, 'bagging_fraction': '0.522'}\n",
            "Best num_boost_round: 48\n",
            "Best CV score 0.282 params {'objective': 'binary', 'metric': 'binary_logloss', 'save_binary': True, 'bagging_freq': 1, 'bagging_seed': 128, 'learning_rate': '0.152', 'num_leaves': 984, 'min_data_in_leaf': 100, 'max_depth': 15, 'bagging_fraction': '0.937'}\n",
            "Best num_boost_round: 19\n",
            "Best CV score 0.291 params {'objective': 'binary', 'metric': 'binary_logloss', 'save_binary': True, 'bagging_freq': 1, 'bagging_seed': 128, 'learning_rate': '0.300', 'num_leaves': 1300, 'min_data_in_leaf': 130, 'max_depth': 19, 'bagging_fraction': '0.713'}\n",
            "Best num_boost_round: 361\n",
            "Best CV score 0.280 params {'objective': 'binary', 'metric': 'binary_logloss', 'save_binary': True, 'bagging_freq': 1, 'bagging_seed': 128, 'learning_rate': '0.073', 'num_leaves': 642, 'min_data_in_leaf': 175, 'max_depth': 5, 'bagging_fraction': '0.862'}\n",
            "Best num_boost_round: 293\n",
            "Best CV score 0.285 params {'objective': 'binary', 'metric': 'binary_logloss', 'save_binary': True, 'bagging_freq': 1, 'bagging_seed': 128, 'learning_rate': '0.018', 'num_leaves': 2122, 'min_data_in_leaf': 75, 'max_depth': 42, 'bagging_fraction': '0.788'}\n",
            "Best num_boost_round: 75\n",
            "Best CV score 0.298 params {'objective': 'binary', 'metric': 'binary_logloss', 'save_binary': True, 'bagging_freq': 1, 'bagging_seed': 128, 'learning_rate': '0.120', 'num_leaves': 3106, 'min_data_in_leaf': 370, 'max_depth': 37, 'bagging_fraction': '0.429'}\n",
            "Best num_boost_round: 408\n",
            "Best CV score 0.295 params {'objective': 'binary', 'metric': 'binary_logloss', 'save_binary': True, 'bagging_freq': 1, 'bagging_seed': 128, 'learning_rate': '0.028', 'num_leaves': 202, 'min_data_in_leaf': 500, 'max_depth': 34, 'bagging_fraction': '0.625'}\n",
            "Best num_boost_round: 167\n",
            "Best CV score 0.286 params {'objective': 'binary', 'metric': 'binary_logloss', 'save_binary': True, 'bagging_freq': 1, 'bagging_seed': 128, 'learning_rate': '0.057', 'num_leaves': 2698, 'min_data_in_leaf': 300, 'max_depth': 59, 'bagging_fraction': '0.954'}\n",
            "Best num_boost_round: 16\n",
            "Best CV score 0.297 params {'objective': 'binary', 'metric': 'binary_logloss', 'save_binary': True, 'bagging_freq': 1, 'bagging_seed': 128, 'learning_rate': '0.233', 'num_leaves': 420, 'min_data_in_leaf': 40, 'max_depth': 22, 'bagging_fraction': '0.577'}\n",
            "Best num_boost_round: 25\n",
            "Best CV score 0.290 params {'objective': 'binary', 'metric': 'binary_logloss', 'save_binary': True, 'bagging_freq': 1, 'bagging_seed': 128, 'learning_rate': '0.191', 'num_leaves': 1562, 'min_data_in_leaf': 95, 'max_depth': 51, 'bagging_fraction': '0.677'}\n",
            "Best num_boost_round: 74\n",
            "Best CV score 0.292 params {'objective': 'binary', 'metric': 'binary_logloss', 'save_binary': True, 'bagging_freq': 1, 'bagging_seed': 128, 'learning_rate': '0.113', 'num_leaves': 1752, 'min_data_in_leaf': 200, 'max_depth': 22, 'bagging_fraction': '0.487'}\n",
            "Best num_boost_round: 52\n",
            "Best CV score 0.291 params {'objective': 'binary', 'metric': 'binary_logloss', 'save_binary': True, 'bagging_freq': 1, 'bagging_seed': 128, 'learning_rate': '0.141', 'num_leaves': 760, 'min_data_in_leaf': 165, 'max_depth': 18, 'bagging_fraction': '0.534'}\n",
            "Best num_boost_round: 244\n",
            "Best CV score 0.277 params {'objective': 'binary', 'metric': 'binary_logloss', 'save_binary': True, 'bagging_freq': 1, 'bagging_seed': 128, 'learning_rate': '0.046', 'num_leaves': 1980, 'min_data_in_leaf': 20, 'max_depth': 8, 'bagging_fraction': '0.995'}\n",
            "Best num_boost_round: 45\n",
            "Best CV score 0.288 params {'objective': 'binary', 'metric': 'binary_logloss', 'save_binary': True, 'bagging_freq': 1, 'bagging_seed': 128, 'learning_rate': '0.103', 'num_leaves': 3054, 'min_data_in_leaf': 55, 'max_depth': 26, 'bagging_fraction': '0.978'}\n",
            "Best num_boost_round: 290\n",
            "Best CV score 0.284 params {'objective': 'binary', 'metric': 'binary_logloss', 'save_binary': True, 'bagging_freq': 1, 'bagging_seed': 128, 'learning_rate': '0.068', 'num_leaves': 4056, 'min_data_in_leaf': 455, 'max_depth': 8, 'bagging_fraction': '0.907'}\n",
            "Best num_boost_round: 163\n",
            "Best CV score 0.281 params {'objective': 'binary', 'metric': 'binary_logloss', 'save_binary': True, 'bagging_freq': 1, 'bagging_seed': 128, 'learning_rate': '0.044', 'num_leaves': 3406, 'min_data_in_leaf': 80, 'max_depth': 12, 'bagging_fraction': '0.869'}\n",
            "Best num_boost_round: 1999\n",
            "Best CV score 0.278 params {'objective': 'binary', 'metric': 'binary_logloss', 'save_binary': True, 'bagging_freq': 1, 'bagging_seed': 128, 'learning_rate': '0.010', 'num_leaves': 2386, 'min_data_in_leaf': 35, 'max_depth': 4, 'bagging_fraction': '0.993'}\n",
            "Best num_boost_round: 1457\n",
            "Best CV score 0.277 params {'objective': 'binary', 'metric': 'binary_logloss', 'save_binary': True, 'bagging_freq': 1, 'bagging_seed': 128, 'learning_rate': '0.030', 'num_leaves': 2316, 'min_data_in_leaf': 30, 'max_depth': 3, 'bagging_fraction': '0.959'}\n",
            "Best num_boost_round: 547\n",
            "Best CV score 0.282 params {'objective': 'binary', 'metric': 'binary_logloss', 'save_binary': True, 'bagging_freq': 1, 'bagging_seed': 128, 'learning_rate': '0.011', 'num_leaves': 2328, 'min_data_in_leaf': 35, 'max_depth': 14, 'bagging_fraction': '0.997'}\n",
            "Best num_boost_round: 374\n",
            "Best CV score 0.279 params {'objective': 'binary', 'metric': 'binary_logloss', 'save_binary': True, 'bagging_freq': 1, 'bagging_seed': 128, 'learning_rate': '0.028', 'num_leaves': 2564, 'min_data_in_leaf': 105, 'max_depth': 10, 'bagging_fraction': '0.946'}\n",
            "Best num_boost_round: 2000\n",
            "Best CV score 0.285 params {'objective': 'binary', 'metric': 'binary_logloss', 'save_binary': True, 'bagging_freq': 1, 'bagging_seed': 128, 'learning_rate': '0.019', 'num_leaves': 2830, 'min_data_in_leaf': 135, 'max_depth': 2, 'bagging_fraction': '0.980'}\n",
            "Best num_boost_round: 101\n",
            "Best CV score 0.283 params {'objective': 'binary', 'metric': 'binary_logloss', 'save_binary': True, 'bagging_freq': 1, 'bagging_seed': 128, 'learning_rate': '0.061', 'num_leaves': 3788, 'min_data_in_leaf': 60, 'max_depth': 17, 'bagging_fraction': '0.917'}\n",
            "Best num_boost_round: 104\n",
            "Best CV score 0.280 params {'objective': 'binary', 'metric': 'binary_logloss', 'save_binary': True, 'bagging_freq': 1, 'bagging_seed': 128, 'learning_rate': '0.087', 'num_leaves': 1982, 'min_data_in_leaf': 40, 'max_depth': 8, 'bagging_fraction': '0.849'}\n",
            "Best num_boost_round: 708\n",
            "Best CV score 0.278 params {'objective': 'binary', 'metric': 'binary_logloss', 'save_binary': True, 'bagging_freq': 1, 'bagging_seed': 128, 'learning_rate': '0.078', 'num_leaves': 2316, 'min_data_in_leaf': 130, 'max_depth': 3, 'bagging_fraction': '0.961'}\n",
            "Best num_boost_round: 193\n",
            "Best CV score 0.281 params {'objective': 'binary', 'metric': 'binary_logloss', 'save_binary': True, 'bagging_freq': 1, 'bagging_seed': 128, 'learning_rate': '0.032', 'num_leaves': 2516, 'min_data_in_leaf': 30, 'max_depth': 13, 'bagging_fraction': '0.897'}\n",
            "Best num_boost_round: 416\n",
            "Best CV score 0.278 params {'objective': 'binary', 'metric': 'binary_logloss', 'save_binary': True, 'bagging_freq': 1, 'bagging_seed': 128, 'learning_rate': '0.042', 'num_leaves': 2110, 'min_data_in_leaf': 85, 'max_depth': 6, 'bagging_fraction': '0.999'}\n",
            "Best num_boost_round: 857\n",
            "Best CV score 0.280 params {'objective': 'binary', 'metric': 'binary_logloss', 'save_binary': True, 'bagging_freq': 1, 'bagging_seed': 128, 'learning_rate': '0.014', 'num_leaves': 3290, 'min_data_in_leaf': 155, 'max_depth': 10, 'bagging_fraction': '0.976'}\n",
            "Best num_boost_round: 48\n",
            "Best CV score 0.301 params {'objective': 'binary', 'metric': 'binary_logloss', 'save_binary': True, 'bagging_freq': 1, 'bagging_seed': 128, 'learning_rate': '0.065', 'num_leaves': 2222, 'min_data_in_leaf': 20, 'max_depth': 56, 'bagging_fraction': '0.929'}\n",
            "Best num_boost_round: 736\n",
            "Best CV score 0.280 params {'objective': 'binary', 'metric': 'binary_logloss', 'save_binary': True, 'bagging_freq': 1, 'bagging_seed': 128, 'learning_rate': '0.048', 'num_leaves': 3672, 'min_data_in_leaf': 220, 'max_depth': 4, 'bagging_fraction': '0.890'}\n",
            "Best num_boost_round: 238\n",
            "Best CV score 0.282 params {'objective': 'binary', 'metric': 'binary_logloss', 'save_binary': True, 'bagging_freq': 1, 'bagging_seed': 128, 'learning_rate': '0.033', 'num_leaves': 2740, 'min_data_in_leaf': 110, 'max_depth': 15, 'bagging_fraction': '0.800'}\n",
            "Best num_boost_round: 22\n",
            "Best CV score 0.289 params {'objective': 'binary', 'metric': 'binary_logloss', 'save_binary': True, 'bagging_freq': 1, 'bagging_seed': 128, 'learning_rate': '0.216', 'num_leaves': 1726, 'min_data_in_leaf': 65, 'max_depth': 21, 'bagging_fraction': '0.845'}\n",
            "Best num_boost_round: 138\n",
            "Best CV score 0.279 params {'objective': 'binary', 'metric': 'binary_logloss', 'save_binary': True, 'bagging_freq': 1, 'bagging_seed': 128, 'learning_rate': '0.076', 'num_leaves': 2986, 'min_data_in_leaf': 50, 'max_depth': 7, 'bagging_fraction': '0.946'}\n",
            "Best num_boost_round: 116\n",
            "Best CV score 0.282 params {'objective': 'binary', 'metric': 'binary_logloss', 'save_binary': True, 'bagging_freq': 1, 'bagging_seed': 128, 'learning_rate': '0.098', 'num_leaves': 2004, 'min_data_in_leaf': 245, 'max_depth': 12, 'bagging_fraction': '0.879'}\n",
            "Best num_boost_round: 25\n",
            "Best CV score 0.289 params {'objective': 'binary', 'metric': 'binary_logloss', 'save_binary': True, 'bagging_freq': 1, 'bagging_seed': 128, 'learning_rate': '0.256', 'num_leaves': 2468, 'min_data_in_leaf': 190, 'max_depth': 30, 'bagging_fraction': '0.823'}\n",
            "Best num_boost_round: 35\n",
            "Best CV score 0.286 params {'objective': 'binary', 'metric': 'binary_logloss', 'save_binary': True, 'bagging_freq': 1, 'bagging_seed': 128, 'learning_rate': '0.168', 'num_leaves': 2234, 'min_data_in_leaf': 165, 'max_depth': 47, 'bagging_fraction': '0.918'}\n",
            "Best num_boost_round: 84\n",
            "Best CV score 0.285 params {'objective': 'binary', 'metric': 'binary_logloss', 'save_binary': True, 'bagging_freq': 1, 'bagging_seed': 128, 'learning_rate': '0.059', 'num_leaves': 3218, 'min_data_in_leaf': 90, 'max_depth': 39, 'bagging_fraction': '0.988'}\n",
            "Best num_boost_round: 2000\n",
            "Best CV score 0.288 params {'objective': 'binary', 'metric': 'binary_logloss', 'save_binary': True, 'bagging_freq': 1, 'bagging_seed': 128, 'learning_rate': '0.022', 'num_leaves': 2642, 'min_data_in_leaf': 415, 'max_depth': 2, 'bagging_fraction': '0.906'}\n",
            "Best num_boost_round: 71\n",
            "Best CV score 0.283 params {'objective': 'binary', 'metric': 'binary_logloss', 'save_binary': True, 'bagging_freq': 1, 'bagging_seed': 128, 'learning_rate': '0.108', 'num_leaves': 1454, 'min_data_in_leaf': 135, 'max_depth': 24, 'bagging_fraction': '0.966'}\n",
            "Best num_boost_round: 141\n",
            "Best CV score 0.280 params {'objective': 'binary', 'metric': 'binary_logloss', 'save_binary': True, 'bagging_freq': 1, 'bagging_seed': 128, 'learning_rate': '0.092', 'num_leaves': 2902, 'min_data_in_leaf': 125, 'max_depth': 9, 'bagging_fraction': '0.940'}\n",
            "Best num_boost_round: 566\n",
            "Best CV score 0.280 params {'objective': 'binary', 'metric': 'binary_logloss', 'save_binary': True, 'bagging_freq': 1, 'bagging_seed': 128, 'learning_rate': '0.045', 'num_leaves': 1942, 'min_data_in_leaf': 145, 'max_depth': 5, 'bagging_fraction': '0.816'}\n",
            "Best num_boost_round: 391\n",
            "Best CV score 0.281 params {'objective': 'binary', 'metric': 'binary_logloss', 'save_binary': True, 'bagging_freq': 1, 'bagging_seed': 128, 'learning_rate': '0.016', 'num_leaves': 1766, 'min_data_in_leaf': 75, 'max_depth': 16, 'bagging_fraction': '0.960'}\n",
            "Best num_boost_round: 300\n",
            "Best CV score 0.279 params {'objective': 'binary', 'metric': 'binary_logloss', 'save_binary': True, 'bagging_freq': 1, 'bagging_seed': 128, 'learning_rate': '0.135', 'num_leaves': 2760, 'min_data_in_leaf': 50, 'max_depth': 3, 'bagging_fraction': '0.856'}\n",
            "Best num_boost_round: 403\n",
            "Best CV score 0.285 params {'objective': 'binary', 'metric': 'binary_logloss', 'save_binary': True, 'bagging_freq': 1, 'bagging_seed': 128, 'learning_rate': '0.025', 'num_leaves': 2428, 'min_data_in_leaf': 295, 'max_depth': 20, 'bagging_fraction': '0.878'}\n",
            "Best num_boost_round: 173\n",
            "Best CV score 0.287 params {'objective': 'binary', 'metric': 'binary_logloss', 'save_binary': True, 'bagging_freq': 1, 'bagging_seed': 128, 'learning_rate': '0.086', 'num_leaves': 2160, 'min_data_in_leaf': 325, 'max_depth': 14, 'bagging_fraction': '0.758'}\n",
            "Best num_boost_round: 174\n",
            "Best CV score 0.282 params {'objective': 'binary', 'metric': 'binary_logloss', 'save_binary': True, 'bagging_freq': 1, 'bagging_seed': 128, 'learning_rate': '0.147', 'num_leaves': 1556, 'min_data_in_leaf': 370, 'max_depth': 7, 'bagging_fraction': '0.989'}\n",
            "Best num_boost_round: 28\n",
            "Best CV score 0.296 params {'objective': 'binary', 'metric': 'binary_logloss', 'save_binary': True, 'bagging_freq': 1, 'bagging_seed': 128, 'learning_rate': '0.120', 'num_leaves': 1836, 'min_data_in_leaf': 30, 'max_depth': 44, 'bagging_fraction': '0.833'}\n",
            "Best num_boost_round: 128\n",
            "Best CV score 0.280 params {'objective': 'binary', 'metric': 'binary_logloss', 'save_binary': True, 'bagging_freq': 1, 'bagging_seed': 128, 'learning_rate': '0.070', 'num_leaves': 3580, 'min_data_in_leaf': 100, 'max_depth': 11, 'bagging_fraction': '0.926'}\n",
            "Best num_boost_round: 306\n",
            "Best CV score 0.288 params {'objective': 'binary', 'metric': 'binary_logloss', 'save_binary': True, 'bagging_freq': 1, 'bagging_seed': 128, 'learning_rate': '0.037', 'num_leaves': 1302, 'min_data_in_leaf': 430, 'max_depth': 33, 'bagging_fraction': '0.971'}\n",
            "Best num_boost_round: 22\n",
            "Best CV score 0.290 params {'objective': 'binary', 'metric': 'binary_logloss', 'save_binary': True, 'bagging_freq': 1, 'bagging_seed': 128, 'learning_rate': '0.264', 'num_leaves': 1642, 'min_data_in_leaf': 175, 'max_depth': 36, 'bagging_fraction': '0.784'}\n",
            "Best num_boost_round: 195\n",
            "Best CV score 0.282 params {'objective': 'binary', 'metric': 'binary_logloss', 'save_binary': True, 'bagging_freq': 1, 'bagging_seed': 128, 'learning_rate': '0.053', 'num_leaves': 1026, 'min_data_in_leaf': 200, 'max_depth': 18, 'bagging_fraction': '0.887'}\n",
            "Best num_boost_round: 57\n",
            "Best CV score 0.286 params {'objective': 'binary', 'metric': 'binary_logloss', 'save_binary': True, 'bagging_freq': 1, 'bagging_seed': 128, 'learning_rate': '0.160', 'num_leaves': 2046, 'min_data_in_leaf': 235, 'max_depth': 26, 'bagging_fraction': '0.900'}\n",
            "100%|██████████| 100/100 [32:46<00:00, 12.49s/it, best loss: 0.27693129122430793]\n"
          ],
          "name": "stdout"
        }
      ]
    },
    {
      "cell_type": "code",
      "metadata": {
        "id": "OrPrTx7DtHAr",
        "colab_type": "code",
        "colab": {
          "base_uri": "https://localhost:8080/",
          "height": 55
        },
        "outputId": "d469917b-d4f4-4338-994c-3b5e9dc1b0ef"
      },
      "source": [
        "print(\"Hyperopt estimated optimum {}\".format(best))"
      ],
      "execution_count": 23,
      "outputs": [
        {
          "output_type": "stream",
          "text": [
            "Hyperopt estimated optimum {'bagging_fraction': 0.9950862015751782, 'learning_rate': 0.04588724059954422, 'max_depth': 8.0, 'min_data_in_leaf': 20.0, 'num_leaves': 1980.0}\n"
          ],
          "name": "stdout"
        }
      ]
    },
    {
      "cell_type": "markdown",
      "metadata": {
        "id": "aqe_rY7pcz8y",
        "colab_type": "text"
      },
      "source": [
        "# Model Training"
      ]
    },
    {
      "cell_type": "code",
      "metadata": {
        "id": "evooOJk08PfS",
        "colab_type": "code",
        "colab": {
          "base_uri": "https://localhost:8080/",
          "height": 182
        },
        "outputId": "54b840eb-a389-48a0-d0b4-268396f77095"
      },
      "source": [
        "data = cont_cat_lb[selected_features + ['target']]\n",
        "X, y = data.drop(columns = 'target'), data['target']\n",
        "X_train, X_test, y_train, y_test = train_test_split(X, y, test_size = 0.2, random_state = 42)\n",
        "X_train, X_val, y_train, y_val = train_test_split(X_train, y_train, test_size = 0.25, random_state = 42)\n",
        "print('---Train size----')\n",
        "print(X_train.shape)\n",
        "print(y_train.shape)\n",
        "print('---Validation size----')\n",
        "print(X_val.shape)\n",
        "print(y_val.shape)\n",
        "print('---Test size----')\n",
        "print(X_test.shape)\n",
        "print(y_test.shape)"
      ],
      "execution_count": 152,
      "outputs": [
        {
          "output_type": "stream",
          "text": [
            "---Train size----\n",
            "(29287, 31)\n",
            "(29287,)\n",
            "---Validation size----\n",
            "(9763, 31)\n",
            "(9763,)\n",
            "---Test size----\n",
            "(9763, 31)\n",
            "(9763,)\n"
          ],
          "name": "stdout"
        }
      ]
    },
    {
      "cell_type": "code",
      "metadata": {
        "id": "p3TlGzWA4szM",
        "colab_type": "code",
        "colab": {}
      },
      "source": [
        "lgbm_params = {\n",
        "      'objective': 'binary',\n",
        "      'metric': 'binary_logloss',\n",
        "      'save_binary': True,\n",
        "      'bagging_freq': 1,\n",
        "      'bagging_seed': 2**7,\n",
        "      'learning_rate': 0.045,\n",
        "      'num_leaves': 1980,\n",
        "      'min_data_in_leaf': 20,\n",
        "      'max_depth': 8,\n",
        "      'bagging_fraction':  0.995,\n",
        "}"
      ],
      "execution_count": 0,
      "outputs": []
    },
    {
      "cell_type": "code",
      "metadata": {
        "id": "pNC_obV0_pot",
        "colab_type": "code",
        "colab": {
          "base_uri": "https://localhost:8080/",
          "height": 901
        },
        "outputId": "0f3bfa7f-c3d5-4b23-f843-a8073e1e4826"
      },
      "source": [
        "d_train = lgb.Dataset(X_train, y_train)\n",
        "d_val = lgb.Dataset(X_val, y_val)\n",
        "n_estimator = 2000\n",
        "evals_result = {}\n",
        "gbm_model = lgb.LGBMClassifier(\n",
        "        n_estimators = 2000,\n",
        "        **lgbm_params,\n",
        ")\n",
        "gbm_model.fit(X_train, y_train,\n",
        "        eval_set = [(X_train, y_train), (X_val, y_val)],\n",
        "        verbose = 10, \n",
        "        early_stopping_rounds = 50)\n",
        "ax = lgb.plot_metric(gbm_model.evals_result_)\n",
        "plt.show()"
      ],
      "execution_count": 155,
      "outputs": [
        {
          "output_type": "stream",
          "text": [
            "Training until validation scores don't improve for 50 rounds.\n",
            "[10]\ttraining's binary_logloss: 0.415017\tvalid_1's binary_logloss: 0.417077\n",
            "[20]\ttraining's binary_logloss: 0.353682\tvalid_1's binary_logloss: 0.358493\n",
            "[30]\ttraining's binary_logloss: 0.319187\tvalid_1's binary_logloss: 0.326947\n",
            "[40]\ttraining's binary_logloss: 0.298164\tvalid_1's binary_logloss: 0.308413\n",
            "[50]\ttraining's binary_logloss: 0.284401\tvalid_1's binary_logloss: 0.29737\n",
            "[60]\ttraining's binary_logloss: 0.275351\tvalid_1's binary_logloss: 0.290665\n",
            "[70]\ttraining's binary_logloss: 0.268434\tvalid_1's binary_logloss: 0.286364\n",
            "[80]\ttraining's binary_logloss: 0.262969\tvalid_1's binary_logloss: 0.28305\n",
            "[90]\ttraining's binary_logloss: 0.258145\tvalid_1's binary_logloss: 0.280535\n",
            "[100]\ttraining's binary_logloss: 0.254296\tvalid_1's binary_logloss: 0.278826\n",
            "[110]\ttraining's binary_logloss: 0.250641\tvalid_1's binary_logloss: 0.277353\n",
            "[120]\ttraining's binary_logloss: 0.245992\tvalid_1's binary_logloss: 0.276167\n",
            "[130]\ttraining's binary_logloss: 0.241682\tvalid_1's binary_logloss: 0.275551\n",
            "[140]\ttraining's binary_logloss: 0.238299\tvalid_1's binary_logloss: 0.274782\n",
            "[150]\ttraining's binary_logloss: 0.235223\tvalid_1's binary_logloss: 0.274183\n",
            "[160]\ttraining's binary_logloss: 0.232627\tvalid_1's binary_logloss: 0.273762\n",
            "[170]\ttraining's binary_logloss: 0.230017\tvalid_1's binary_logloss: 0.273626\n",
            "[180]\ttraining's binary_logloss: 0.227392\tvalid_1's binary_logloss: 0.273412\n",
            "[190]\ttraining's binary_logloss: 0.225324\tvalid_1's binary_logloss: 0.27317\n",
            "[200]\ttraining's binary_logloss: 0.222729\tvalid_1's binary_logloss: 0.273145\n",
            "[210]\ttraining's binary_logloss: 0.219122\tvalid_1's binary_logloss: 0.273378\n",
            "[220]\ttraining's binary_logloss: 0.217096\tvalid_1's binary_logloss: 0.273261\n",
            "[230]\ttraining's binary_logloss: 0.214755\tvalid_1's binary_logloss: 0.273149\n",
            "[240]\ttraining's binary_logloss: 0.212554\tvalid_1's binary_logloss: 0.273135\n",
            "[250]\ttraining's binary_logloss: 0.21124\tvalid_1's binary_logloss: 0.272969\n",
            "[260]\ttraining's binary_logloss: 0.209215\tvalid_1's binary_logloss: 0.27315\n",
            "[270]\ttraining's binary_logloss: 0.206859\tvalid_1's binary_logloss: 0.273199\n",
            "[280]\ttraining's binary_logloss: 0.204445\tvalid_1's binary_logloss: 0.273281\n",
            "[290]\ttraining's binary_logloss: 0.201785\tvalid_1's binary_logloss: 0.273665\n",
            "[300]\ttraining's binary_logloss: 0.199878\tvalid_1's binary_logloss: 0.273926\n",
            "Early stopping, best iteration is:\n",
            "[250]\ttraining's binary_logloss: 0.21124\tvalid_1's binary_logloss: 0.272969\n"
          ],
          "name": "stdout"
        },
        {
          "output_type": "display_data",
          "data": {
            "image/png": "[encoded data removed]",
            "text/plain": [
              "<Figure size 432x288 with 1 Axes>"
            ]
          },
          "metadata": {
            "tags": []
          }
        }
      ]
    },
    {
      "cell_type": "code",
      "metadata": {
        "id": "AembjR7bAGL9",
        "colab_type": "code",
        "colab": {
          "base_uri": "https://localhost:8080/",
          "height": 513
        },
        "outputId": "cfd748fd-65aa-4cb1-e1ad-2148f615403c"
      },
      "source": [
        "axis = lgb.plot_importance(gbm_model, max_num_features = 31, figsize = (8, 8))\n",
        "plt.show()"
      ],
      "execution_count": 163,
      "outputs": [
        {
          "output_type": "display_data",
          "data": {
            "image/png": "[encoded data removed]",
            "text/plain": [
              "<Figure size 576x576 with 1 Axes>"
            ]
          },
          "metadata": {
            "tags": []
          }
        }
      ]
    },
    {
      "cell_type": "markdown",
      "metadata": {
        "id": "Fc-JUDooc0KZ",
        "colab_type": "text"
      },
      "source": [
        "# Model Evaluation"
      ]
    },
    {
      "cell_type": "code",
      "metadata": {
        "id": "ymxeh-JYLSoF",
        "colab_type": "code",
        "colab": {
          "base_uri": "https://localhost:8080/",
          "height": 164
        },
        "outputId": "dcd40c13-594b-4910-ecff-4f97ef24887a"
      },
      "source": [
        "y_train_hat = gbm_model.predict(X_train)\n",
        "y_test_hat = gbm_model.predict(X_test)\n",
        "\n",
        "tr_acc = accuracy_score(y_train, y_train_hat)\n",
        "tr_f1 = f1_score(y_train, y_train_hat)\n",
        "tr_auc = roc_auc_score(y_train, y_train_hat)\n",
        "\n",
        "test_acc = accuracy_score(y_test, y_test_hat)\n",
        "test_f1 = f1_score(y_test, y_test_hat)\n",
        "test_auc = roc_auc_score(y_test, y_test_hat)\n",
        "print('------train-----------')\n",
        "print('accuracy_score: ', tr_acc)\n",
        "print('f1_score: ', tr_f1)\n",
        "print('roc_auc_score: ', tr_auc)\n",
        "print('------test-------------')\n",
        "print('accuracy_score: ', test_acc)\n",
        "print('f1_score: ', test_f1)\n",
        "print('roc_auc_score: ', test_auc)"
      ],
      "execution_count": 156,
      "outputs": [
        {
          "output_type": "stream",
          "text": [
            "------train-----------\n",
            "accuracy_score:  0.9062724075528391\n",
            "f1_score:  0.7889922361442079\n",
            "roc_auc_score:  0.8472672865450213\n",
            "------test-------------\n",
            "accuracy_score:  0.869200040971013\n",
            "f1_score:  0.713484406551492\n",
            "roc_auc_score:  0.8004399965931353\n"
          ],
          "name": "stdout"
        }
      ]
    },
    {
      "cell_type": "code",
      "metadata": {
        "id": "o6kcuCxGR1Ca",
        "colab_type": "code",
        "colab": {
          "base_uri": "https://localhost:8080/",
          "height": 332
        },
        "outputId": "c749aa14-e162-4864-aac5-61b7ef0564cc"
      },
      "source": [
        "from sklearn.metrics import confusion_matrix\n",
        "import seaborn as sns\n",
        "labels = [0, 1]\n",
        "cm = confusion_matrix(y_test, y_test_hat, labels)\n",
        "print(cm)\n",
        "ax=  plt.subplot()\n",
        "sns.heatmap(cm, annot = True, ax = ax); #annot=True to annotate cells\n",
        "\n",
        "# labels, title and ticks\n",
        "ax.set_xlabel('Predicted labels');\n",
        "ax.set_ylabel('True labels'); \n",
        "ax.set_title('Confusion Matrix'); \n",
        "ax.xaxis.set_ticklabels(['<=50k', '>50k']); \n",
        "ax.yaxis.set_ticklabels(['<=50k', '>50k']);"
      ],
      "execution_count": 201,
      "outputs": [
        {
          "output_type": "stream",
          "text": [
            "[[6896  479]\n",
            " [ 798 1590]]\n"
          ],
          "name": "stdout"
        },
        {
          "output_type": "display_data",
          "data": {
            "image/png": "[encoded data removed]",
            "text/plain": [
              "<Figure size 432x288 with 2 Axes>"
            ]
          },
          "metadata": {
            "tags": []
          }
        }
      ]
    },
    {
      "cell_type": "code",
      "metadata": {
        "id": "bxmN1cerRVuu",
        "colab_type": "code",
        "colab": {
          "base_uri": "https://localhost:8080/",
          "height": 182
        },
        "outputId": "f6cec72c-3bee-469a-c2e8-6cbff9b50620"
      },
      "source": [
        "from sklearn.metrics import classification_report\n",
        "print(classification_report(y_test, y_test_hat))"
      ],
      "execution_count": 190,
      "outputs": [
        {
          "output_type": "stream",
          "text": [
            "              precision    recall  f1-score   support\n",
            "\n",
            "           0       0.90      0.94      0.92      7375\n",
            "           1       0.77      0.67      0.71      2388\n",
            "\n",
            "    accuracy                           0.87      9763\n",
            "   macro avg       0.83      0.80      0.81      9763\n",
            "weighted avg       0.87      0.87      0.87      9763\n",
            "\n"
          ],
          "name": "stdout"
        }
      ]
    },
    {
      "cell_type": "markdown",
      "metadata": {
        "id": "w-nLbHHqc0sv",
        "colab_type": "text"
      },
      "source": [
        "# Model Saving"
      ]
    },
    {
      "cell_type": "code",
      "metadata": {
        "id": "gzY3VHhN2uMu",
        "colab_type": "code",
        "outputId": "a87adaab-b29f-4718-853b-88cbf5d20ac6",
        "colab": {
          "base_uri": "https://localhost:8080/",
          "height": 35
        }
      },
      "source": [
        "gbm_model.booster_.save_model(model_path + 'lgbm_model.txt', num_iteration = gbm_model.booster_.best_iteration)"
      ],
      "execution_count": 189,
      "outputs": [
        {
          "output_type": "execute_result",
          "data": {
            "text/plain": [
              "<lightgbm.basic.Booster at 0x7f3f5cc39198>"
            ]
          },
          "metadata": {
            "tags": []
          },
          "execution_count": 189
        }
      ]
    }
  ]
}