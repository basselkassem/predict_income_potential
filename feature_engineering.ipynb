{
  "nbformat": 4,
  "nbformat_minor": 0,
  "metadata": {
    "kernelspec": {
      "name": "python3",
      "display_name": "Python 3"
    },
    "language_info": {
      "mimetype": "text/x-python",
      "nbconvert_exporter": "python",
      "version": "3.6.8",
      "name": "python",
      "pygments_lexer": "ipython3",
      "file_extension": ".py",
      "codemirror_mode": {
        "version": 3,
        "name": "ipython"
      }
    },
    "colab": {
      "name": "feature_engineering.ipynb",
      "provenance": [],
      "collapsed_sections": [
        "3AlGGAMhPllV"
      ],
      "include_colab_link": true
    }
  },
  "cells": [
    {
      "cell_type": "markdown",
      "metadata": {
        "id": "view-in-github",
        "colab_type": "text"
      },
      "source": [
        "<a href=\"https://colab.research.google.com/github/basselkassem/predict_income_potential/blob/master/feature_engineering.ipynb\" target=\"_parent\"><img src=\"https://colab.research.google.com/assets/colab-badge.svg\" alt=\"Open In Colab\"/></a>"
      ]
    },
    {
      "cell_type": "markdown",
      "metadata": {
        "id": "j5-deBh6PliZ",
        "colab_type": "text"
      },
      "source": [
        "# Import libs"
      ]
    },
    {
      "cell_type": "code",
      "metadata": {
        "id": "LyBeVTRoPlie",
        "colab_type": "code",
        "colab": {}
      },
      "source": [
        "import pandas as pd\n",
        "import numpy as np\n",
        "import matplotlib.pyplot as plt\n",
        "%matplotlib inline\n",
        "import seaborn as sns\n",
        "from sklearn.preprocessing import LabelEncoder, StandardScaler, PolynomialFeatures\n",
        "from scipy import stats"
      ],
      "execution_count": 0,
      "outputs": []
    },
    {
      "cell_type": "markdown",
      "metadata": {
        "collapsed": true,
        "id": "B2EMSNk4Plin",
        "colab_type": "text"
      },
      "source": [
        "# Data Cleansing [coursera]\n",
        "In some process models Data Cleansing is a separate task, it is closely tied to Feature Creation but also draws findings from the Initial Data Exploration task. The actual data transformations are implemented in the Feature Creation asset deliverable; therefore, Data Cleansing is part of the Feature Creation task in this process model.\n",
        "\n",
        "While tuning machine learning models, this deliverable asset is touched on a regular basis anyway because features need to be transformed to increase model performance. In such iterations, often issues with data are detected and therefore need to be corrected/addressed here as well.\n",
        "\n",
        "The following none exhaustive list gives you some guidelines:\n",
        "\n",
        "- Data types Are data types of columns matching their content? E.g. is age stored as integer and not as string?\n",
        "- Ranges Does the value distribution of values in a column make sense? Use stats (e.g. min, max, mean, standard deviation) and visualizations (e.g. box-plot, histogram) for help\n",
        "- Emptiness Are all values non-null where mandatory? E.g. client IDs\n",
        "- Uniqueness Are duplicates present where undesired? E.g. client IDs\n",
        "- Set memberships Are only allowed values chosen for categorical or ordinal fields? E.g. Female, Male, Unknown\n",
        "- Foreign key set memberships Are only allowed values chosen as field? E.g. ZIP code\n",
        "- Regular expressions Some files need to stick to a pattern expressed by a regular expression. E.g. a lower-case character followed by 6 digits\n",
        "- Cross-field validation Some fields can impact validity of other fields. E.g. a male person can’t be pregnant\n"
      ]
    },
    {
      "cell_type": "markdown",
      "metadata": {
        "id": "Ev0dwPVBPliq",
        "colab_type": "text"
      },
      "source": [
        "# Load data"
      ]
    },
    {
      "cell_type": "code",
      "metadata": {
        "id": "13wnxi9pPlir",
        "colab_type": "code",
        "outputId": "b8d17c27-ae0d-4c97-db25-cfd1d6edc088",
        "colab": {
          "base_uri": "https://localhost:8080/",
          "height": 129
        }
      },
      "source": [
        "from google.colab import drive\n",
        "drive.mount('/content/gdrive')\n",
        "data_path = \"/content/gdrive/My Drive/Colab Notebooks/predict_income_potential/data/\""
      ],
      "execution_count": 0,
      "outputs": [
        {
          "output_type": "stream",
          "text": [
            "Go to this URL in a browser: https://accounts.google.com/o/oauth2/auth?client_id=947318989803-6bn6qk8qdgf4n4g3pfee6491hc0brc4i.apps.googleusercontent.com&redirect_uri=urn%3Aietf%3Awg%3Aoauth%3A2.0%3Aoob&scope=email%20https%3A%2F%2Fwww.googleapis.com%2Fauth%2Fdocs.test%20https%3A%2F%2Fwww.googleapis.com%2Fauth%2Fdrive%20https%3A%2F%2Fwww.googleapis.com%2Fauth%2Fdrive.photos.readonly%20https%3A%2F%2Fwww.googleapis.com%2Fauth%2Fpeopleapi.readonly&response_type=code\n",
            "\n",
            "Enter your authorization code:\n",
            "··········\n",
            "Mounted at /content/gdrive\n"
          ],
          "name": "stdout"
        }
      ]
    },
    {
      "cell_type": "code",
      "metadata": {
        "id": "eraqawBPPliw",
        "colab_type": "code",
        "outputId": "e1eceaa8-e24a-454e-ef60-23236259e8f9",
        "colab": {
          "base_uri": "https://localhost:8080/",
          "height": 35
        }
      },
      "source": [
        "df = pd.read_csv(data_path + 'init_data.csv', index_col = False )\n",
        "print(df.shape)"
      ],
      "execution_count": 0,
      "outputs": [
        {
          "output_type": "stream",
          "text": [
            "(48842, 15)\n"
          ],
          "name": "stdout"
        }
      ]
    },
    {
      "cell_type": "markdown",
      "metadata": {
        "id": "BaQpCrogPli3",
        "colab_type": "text"
      },
      "source": [
        "# Utile Functions"
      ]
    },
    {
      "cell_type": "code",
      "metadata": {
        "id": "9RYn5mt4Pli4",
        "colab_type": "code",
        "colab": {}
      },
      "source": [
        "def cramers_v(x, y):\n",
        "    confusion_matrix = pd.crosstab(x,y)\n",
        "    chi2 = stats.chi2_contingency(confusion_matrix)[0]\n",
        "    n = confusion_matrix.sum().sum()\n",
        "    phi2 = chi2 / n\n",
        "    r,k = confusion_matrix.shape\n",
        "    phi2corr = max(0, phi2 - ((k-1)*(r-1))/(n-1))\n",
        "    rcorr = r-((r-1)**2)/(n-1)\n",
        "    kcorr = k-((k-1)**2)/(n-1)\n",
        "    return np.sqrt(phi2corr/min((kcorr-1),(rcorr-1)))\n",
        "\n",
        "def print_corr(df, attr, verbose = True):\n",
        "  lb_make = LabelEncoder()\n",
        "  target_enc = lb_make.fit_transform(df['target'])\n",
        "  if df[attr].dtype == 'object':\n",
        "    lb_make = LabelEncoder()\n",
        "    src_enc = lb_make.fit_transform(df[attr])\n",
        "    if verbose:\n",
        "      print('Corr between', attr, 'and the target: ', cramers_v(src_enc, target_enc))\n",
        "    return cramers_v(src_enc, target_enc)\n",
        "  else:\n",
        "    src_enc = df[attr]\n",
        "    if verbose:\n",
        "      print('Corr between', attr, 'and the target: ', stats.pointbiserialr(src_enc, target_enc)[0])\n",
        "    return stats.pointbiserialr(src_enc, target_enc)[0]\n",
        "\n",
        "def downcast_df(df):\n",
        "  start_size = df.memory_usage(deep = True).sum() / 1024**2\n",
        "  print('Memory usage: {:.2f} MB'.format(start_size))\n",
        "\n",
        "  float_cols = [c for c in df if df[c].dtype == \"float64\"]\n",
        "  int_cols = [c for c in df if df[c].dtype in [\"int64\", \"int32\"]]\n",
        "  df[float_cols] = df[float_cols].astype(np.float32)\n",
        "  df[int_cols] = df[int_cols].astype(np.int32)\n",
        "  end_size = df.memory_usage(deep = True).sum() / 1024**2\n",
        "  print('New Memory usage: {:.2f} MB'.format(end_size))\n",
        "  return df"
      ],
      "execution_count": 0,
      "outputs": []
    },
    {
      "cell_type": "markdown",
      "metadata": {
        "id": "65QgoPV9Pli9",
        "colab_type": "text"
      },
      "source": [
        "# Remove Duplicated rows"
      ]
    },
    {
      "cell_type": "code",
      "metadata": {
        "id": "lSQipZYpPljB",
        "colab_type": "code",
        "outputId": "555fb027-abbc-46fe-faf5-dd4d0f1e5811",
        "colab": {
          "base_uri": "https://localhost:8080/",
          "height": 35
        }
      },
      "source": [
        "print('Number of duplicates:', len(df[df.duplicated()]))"
      ],
      "execution_count": 0,
      "outputs": [
        {
          "output_type": "stream",
          "text": [
            "Number of duplicates: 29\n"
          ],
          "name": "stdout"
        }
      ]
    },
    {
      "cell_type": "markdown",
      "metadata": {
        "id": "evLe44PPPljL",
        "colab_type": "text"
      },
      "source": [
        "We should delete duplicated rows because they don't add new information"
      ]
    },
    {
      "cell_type": "code",
      "metadata": {
        "id": "XiBF2NoPPljO",
        "colab_type": "code",
        "outputId": "2932cee9-6850-44cf-834f-217bc292b454",
        "colab": {
          "base_uri": "https://localhost:8080/",
          "height": 35
        }
      },
      "source": [
        "df = df.drop_duplicates(keep = 'first')\n",
        "print('Number of duplicates:', len(df[df.duplicated()]))"
      ],
      "execution_count": 0,
      "outputs": [
        {
          "output_type": "stream",
          "text": [
            "Number of duplicates: 0\n"
          ],
          "name": "stdout"
        }
      ]
    },
    {
      "cell_type": "code",
      "metadata": {
        "id": "c9kpzUTCUTWz",
        "colab_type": "code",
        "colab": {}
      },
      "source": [
        "df = df.reset_index(drop = True)"
      ],
      "execution_count": 0,
      "outputs": []
    },
    {
      "cell_type": "markdown",
      "metadata": {
        "id": "3ydmpu0OPljT",
        "colab_type": "text"
      },
      "source": [
        "# Clean data"
      ]
    },
    {
      "cell_type": "markdown",
      "metadata": {
        "id": "Hm6EphH3PljV",
        "colab_type": "text"
      },
      "source": [
        "## Remove extra characters and spaces"
      ]
    },
    {
      "cell_type": "code",
      "metadata": {
        "id": "oIZs4J29PljW",
        "colab_type": "code",
        "outputId": "17a9f4c4-dd44-42b4-80d1-5d8af55df0eb",
        "colab": {
          "base_uri": "https://localhost:8080/",
          "height": 72
        }
      },
      "source": [
        "df['target'] = df['target'].str.replace('.', '')\n",
        "df['target'] = df['target'].str.strip()\n",
        "df['target'].value_counts()"
      ],
      "execution_count": 0,
      "outputs": [
        {
          "output_type": "execute_result",
          "data": {
            "text/plain": [
              "<=50K    37128\n",
              ">50K     11685\n",
              "Name: target, dtype: int64"
            ]
          },
          "metadata": {
            "tags": []
          },
          "execution_count": 9
        }
      ]
    },
    {
      "cell_type": "code",
      "metadata": {
        "id": "t-cfjKWiPljb",
        "colab_type": "code",
        "colab": {}
      },
      "source": [
        "for col in df.columns:\n",
        "    if df[col].dtype == 'object':\n",
        "        df[col] = df[col].str.strip()\n",
        "        df[col] = df[col].str.lower()"
      ],
      "execution_count": 0,
      "outputs": []
    },
    {
      "cell_type": "markdown",
      "metadata": {
        "id": "PzNSkdjOPljg",
        "colab_type": "text"
      },
      "source": [
        "## Cross-field validation\n",
        "- a male can not be a wife\n",
        "- a female can't be a husband\n",
        "- a never married, divorced or widowed can't be husband or wife\n",
        "- a separated person can't be wife or husband in the houshold"
      ]
    },
    {
      "cell_type": "code",
      "metadata": {
        "id": "agdYadKMPljh",
        "colab_type": "code",
        "colab": {}
      },
      "source": [
        "df.loc[(df['sex'] == 'female') & (df['relationship'] == 'husband'), 'relationship'] = 'wife'"
      ],
      "execution_count": 0,
      "outputs": []
    },
    {
      "cell_type": "code",
      "metadata": {
        "id": "zdZrP-J_Pljm",
        "colab_type": "code",
        "colab": {}
      },
      "source": [
        "df.loc[(df['sex'] == 'male') & (df['relationship'] == 'wife'), 'relationship'] = 'husband'"
      ],
      "execution_count": 0,
      "outputs": []
    },
    {
      "cell_type": "code",
      "metadata": {
        "id": "IWQeVv_oPljq",
        "colab_type": "code",
        "outputId": "312f0240-6bd8-4a03-f8ef-4d16302c3b82",
        "colab": {
          "base_uri": "https://localhost:8080/",
          "height": 35
        }
      },
      "source": [
        "len(df[(df['marital_status'].isin(['never-married', 'divorced', 'widowed'])) & (df['relationship'].isin(['husband','wife']))])"
      ],
      "execution_count": 0,
      "outputs": [
        {
          "output_type": "execute_result",
          "data": {
            "text/plain": [
              "0"
            ]
          },
          "metadata": {
            "tags": []
          },
          "execution_count": 13
        }
      ]
    },
    {
      "cell_type": "code",
      "metadata": {
        "id": "5mtFRJqWPljv",
        "colab_type": "code",
        "outputId": "6cc2c301-acc3-4ffd-fea0-dc97d33b74c1",
        "colab": {
          "base_uri": "https://localhost:8080/",
          "height": 35
        }
      },
      "source": [
        "len(df[(df['marital_status'].isin(['married-spouse-absent'])) & (df['relationship'].isin(['husband', 'wife']))])"
      ],
      "execution_count": 0,
      "outputs": [
        {
          "output_type": "execute_result",
          "data": {
            "text/plain": [
              "0"
            ]
          },
          "metadata": {
            "tags": []
          },
          "execution_count": 14
        }
      ]
    },
    {
      "cell_type": "markdown",
      "metadata": {
        "id": "GEmuDGw4Pljz",
        "colab_type": "text"
      },
      "source": [
        "# Feature Engineering [coursera]\n",
        "Feature Creation and Feature Engineering is one of the most important tasks in machine learning since it hugely impacts model performance. This also holds for deep learning, although to a lesser extent. Features can be changed or new features can be created from existing ones\n",
        "\n",
        "The following none exhaustive list gives you some guidelines for feature transformation:\n",
        "- Imputing Some algorithms are very sensitive to missing values. Therefore, imputing allows for filling of empty fields based on its value distribution\n",
        "- Imputed time-series quantization Time series often contain streams with measurements at different timestamps. Therefore, it is beneficial to quantize measurements to a common “heart beat” and impute the corresponding values. This can be done by sampling from the source time series distributions on the respective quantized time steps\n",
        "- Scaling / Normalizing / Centering Some algorithms are very sensitive differences in value ranges for individual fields. Therefore, it is best practice to center data around zero and scale values to a standard deviation of one\n",
        "- Filtering Sometimes imputing values doesn’t perform well, therefore deletion of low quality records is a better strategy\n",
        "- Discretizing Continuous fields might confuse the model, e.g. a discrete set of age ranges sometimes performs better than continuous values, especially on smaller amounts of data and with simpler models\n",
        "\n",
        "\n",
        "The following none exhaustive list gives you some guidelines for feature creation:\n",
        "- One-hot-encoding Categorical integer features should be transformed into “one-hot” vectors. In relational terms this results in addition of additional columns – one columns for each distinct category\n",
        "- Time-to-Frequency transformation Time-series (and sometimes also sequence data) is recorded in the time domain but can easily transformed into the frequency domain e.g. using FFT (Fast Fourier Transformation)\n",
        "- Month-From-Date Creating an additional feature containing the month independent from data captures seasonal aspects. Sometimes further discretization in to quarters helps as well\n",
        "- Aggregate-on-Target Simply aggregating fields the target variable (or even other fields) can improve performance, e.g. count number of data points per ZIP code or take the median of all values by geographical region\n",
        "\n",
        "As feature engineering is an art on itself, this list cannot be exhaustive. It’s not expected to become an expert in this topic at this point. Most of it you’ll learn by practicing data science on real projects and talk to peers which might share their secrets and tricks with you.\n"
      ]
    },
    {
      "cell_type": "markdown",
      "metadata": {
        "id": "sLAJuylxPlj1",
        "colab_type": "text"
      },
      "source": [
        "## Missing values"
      ]
    },
    {
      "cell_type": "code",
      "metadata": {
        "id": "0OIQY8fKPlj3",
        "colab_type": "code",
        "outputId": "8e2623d6-ad72-4eff-e425-e49c92c02e2e",
        "colab": {
          "base_uri": "https://localhost:8080/",
          "height": 349
        }
      },
      "source": [
        "for col in df.columns:\n",
        "  print('There is: ', 100 * round(len(df[df[col] == '?']) / len(df), 2), ' % missing values in ', col)"
      ],
      "execution_count": 0,
      "outputs": [
        {
          "output_type": "stream",
          "text": [
            "There is:  0.0  % missing values in  age\n",
            "There is:  6.0  % missing values in  workclass\n",
            "There is:  0.0  % missing values in  final_weight\n",
            "There is:  0.0  % missing values in  education\n",
            "There is:  0.0  % missing values in  education_duration\n",
            "There is:  0.0  % missing values in  marital_status\n",
            "There is:  6.0  % missing values in  occupation\n",
            "There is:  0.0  % missing values in  relationship\n",
            "There is:  0.0  % missing values in  race\n",
            "There is:  0.0  % missing values in  sex\n",
            "There is:  0.0  % missing values in  capital_gain\n",
            "There is:  0.0  % missing values in  capital_loss\n",
            "There is:  0.0  % missing values in  hours_per_week\n",
            "There is:  2.0  % missing values in  native_country\n",
            "There is:  0.0  % missing values in  target\n"
          ],
          "name": "stdout"
        },
        {
          "output_type": "stream",
          "text": [
            "/usr/local/lib/python3.6/dist-packages/pandas/core/ops/__init__.py:1115: FutureWarning: elementwise comparison failed; returning scalar instead, but in the future will perform elementwise comparison\n",
            "  result = method(y)\n"
          ],
          "name": "stderr"
        }
      ]
    },
    {
      "cell_type": "code",
      "metadata": {
        "id": "CzuC7cbwCRXn",
        "colab_type": "code",
        "colab": {}
      },
      "source": [
        "2799 / "
      ],
      "execution_count": 0,
      "outputs": []
    },
    {
      "cell_type": "code",
      "metadata": {
        "id": "Mbq0fgO4Plj6",
        "colab_type": "code",
        "outputId": "cc149d72-72cc-4929-b0ac-4cdefea77751",
        "colab": {
          "base_uri": "https://localhost:8080/",
          "height": 74
        }
      },
      "source": [
        "for col in df.columns:\n",
        "    df.loc[df[col] == '?', col] = 'other_unknown'"
      ],
      "execution_count": 0,
      "outputs": [
        {
          "output_type": "stream",
          "text": [
            "/usr/local/lib/python3.6/dist-packages/pandas/core/ops.py:1649: FutureWarning: elementwise comparison failed; returning scalar instead, but in the future will perform elementwise comparison\n",
            "  result = method(y)\n"
          ],
          "name": "stderr"
        }
      ]
    },
    {
      "cell_type": "markdown",
      "metadata": {
        "id": "2tkpYAU_PlkA",
        "colab_type": "text"
      },
      "source": [
        "## Add missing values feature\n",
        "This feature indicates how missing values each row has"
      ]
    },
    {
      "cell_type": "code",
      "metadata": {
        "id": "CJOATufCPlkA",
        "colab_type": "code",
        "colab": {}
      },
      "source": [
        "df['has_missing_values'] = 0\n",
        "def detect_missing_value(row):\n",
        "    for col in df.columns:\n",
        "        if row[col] == 'other_unknown':\n",
        "            row['has_missing_values'] += 1\n",
        "    return row\n",
        "df = df.apply(detect_missing_value, axis = 1)"
      ],
      "execution_count": 0,
      "outputs": []
    },
    {
      "cell_type": "code",
      "metadata": {
        "id": "RCFx1RJ0PlkG",
        "colab_type": "code",
        "outputId": "61dafec6-c9c1-4aee-976d-8dbd4dce5b10",
        "colab": {
          "base_uri": "https://localhost:8080/",
          "height": 109
        }
      },
      "source": [
        "df['has_missing_values'].value_counts()"
      ],
      "execution_count": 0,
      "outputs": [
        {
          "output_type": "execute_result",
          "data": {
            "text/plain": [
              "0    45194\n",
              "2     2753\n",
              "1      820\n",
              "3       46\n",
              "Name: has_missing_values, dtype: int64"
            ]
          },
          "metadata": {
            "tags": []
          },
          "execution_count": 17
        }
      ]
    },
    {
      "cell_type": "code",
      "metadata": {
        "id": "7jVmV_FrPlkJ",
        "colab_type": "code",
        "outputId": "d79faa11-cc1c-4426-80ed-a4c95efcad66",
        "colab": {
          "base_uri": "https://localhost:8080/",
          "height": 35
        }
      },
      "source": [
        "corr = print_corr(df, 'has_missing_values')"
      ],
      "execution_count": 0,
      "outputs": [
        {
          "output_type": "stream",
          "text": [
            "Corr between has_missing_values and the target:  -0.07925034430439992\n"
          ],
          "name": "stdout"
        }
      ]
    },
    {
      "cell_type": "markdown",
      "metadata": {
        "id": "OG3QXKV3PlkM",
        "colab_type": "text"
      },
      "source": [
        "## drop useless features"
      ]
    },
    {
      "cell_type": "markdown",
      "metadata": {
        "id": "SQvTBRhFRth4",
        "colab_type": "text"
      },
      "source": [
        "The column education_duration is a continuous representation of the column education. So I will delete the column education\n"
      ]
    },
    {
      "cell_type": "code",
      "metadata": {
        "id": "N03bCwIiPlkP",
        "colab_type": "code",
        "colab": {}
      },
      "source": [
        "df = df.drop(columns = ['education'])"
      ],
      "execution_count": 0,
      "outputs": []
    },
    {
      "cell_type": "markdown",
      "metadata": {
        "id": "Zahh27qmPlkS",
        "colab_type": "text"
      },
      "source": [
        "## Combine categorical levels"
      ]
    },
    {
      "cell_type": "code",
      "metadata": {
        "id": "Lw2ScVljPcjp",
        "colab_type": "code",
        "colab": {}
      },
      "source": [
        "combined_features = []"
      ],
      "execution_count": 0,
      "outputs": []
    },
    {
      "cell_type": "markdown",
      "metadata": {
        "id": "f_GDIIxqPlkT",
        "colab_type": "text"
      },
      "source": [
        "### workclass"
      ]
    },
    {
      "cell_type": "markdown",
      "metadata": {
        "id": "VxgulsP-65sT",
        "colab_type": "text"
      },
      "source": [
        "- federal-gov, local_gov, state_gov -> government\n",
        "- private -> private\n",
        "- self-emp-inc, self-emp-not-inc -> self-employed\n",
        "- never-worked, without-pay -> unemployed\n",
        "- ? -> other"
      ]
    },
    {
      "cell_type": "code",
      "metadata": {
        "id": "kwUyrbrbPlkT",
        "colab_type": "code",
        "colab": {}
      },
      "source": [
        "df['com_workclass'] = df['workclass']\n",
        "df.loc[df['com_workclass'].isin(['state-gov', 'federal-gov', 'local-gov']), 'com_workclass'] = 'government'\n",
        "df.loc[df['com_workclass'].isin(['self-emp-inc', 'self-emp-not-inc']), 'com_workclass'] = 'self-employed'\n",
        "df.loc[df['com_workclass'].isin(['without-pay', 'never-worked']), 'com_workclass'] = 'unemployed'"
      ],
      "execution_count": 0,
      "outputs": []
    },
    {
      "cell_type": "code",
      "metadata": {
        "id": "4p2c1BIZPlkY",
        "colab_type": "code",
        "outputId": "6ec3210d-b3e5-4a7c-fbb4-d81729a4f10e",
        "colab": {
          "base_uri": "https://localhost:8080/",
          "height": 54
        }
      },
      "source": [
        "corr1 = print_corr(df, 'workclass')\n",
        "corr2 = print_corr(df, 'com_workclass')"
      ],
      "execution_count": 0,
      "outputs": [
        {
          "output_type": "stream",
          "text": [
            "Corr between workclass and the target:  0.1812067476853715\n",
            "Corr between com_workclass and the target:  0.14614764101506048\n"
          ],
          "name": "stdout"
        }
      ]
    },
    {
      "cell_type": "code",
      "metadata": {
        "colab_type": "code",
        "id": "s4LubEKZPYoQ",
        "colab": {}
      },
      "source": [
        "#df = df.drop(columns = 'com_workclass')\n",
        "combined_features.append('com_workclass')"
      ],
      "execution_count": 0,
      "outputs": []
    },
    {
      "cell_type": "markdown",
      "metadata": {
        "id": "bWWkeRlSPlkb",
        "colab_type": "text"
      },
      "source": [
        "### marital_status"
      ]
    },
    {
      "cell_type": "markdown",
      "metadata": {
        "id": "zg1SKDV-Plkb",
        "colab_type": "text"
      },
      "source": [
        " - “never-married,” “widowed,” and “divorced” ->  “single”\n",
        " - “married-civ-spouse”, “separated”, “married-af-spouse” and “married-spouse-absent” -> “married”"
      ]
    },
    {
      "cell_type": "code",
      "metadata": {
        "id": "gE6V47z_Plkc",
        "colab_type": "code",
        "colab": {}
      },
      "source": [
        "df['com_marital_status'] = df['marital_status']\n",
        "df.loc[df['com_marital_status'].isin(['never-married' 'widowed', 'divorced']), 'com_marital_status'] = 'single'\n",
        "df.loc[df['com_marital_status'].isin(\n",
        "    ['married-civ-spouse' 'separated', 'married-af-spouse', 'married-spouse-absent']), 'com_marital_status'] = 'married'"
      ],
      "execution_count": 0,
      "outputs": []
    },
    {
      "cell_type": "code",
      "metadata": {
        "id": "RkFdFy77Plkg",
        "colab_type": "code",
        "outputId": "f1bf1213-6f08-43a4-9d33-b8f43c0eebeb",
        "colab": {
          "base_uri": "https://localhost:8080/",
          "height": 54
        }
      },
      "source": [
        "corr1 = print_corr(df, 'marital_status')\n",
        "corr2 = print_corr(df, 'com_marital_status')"
      ],
      "execution_count": 0,
      "outputs": [
        {
          "output_type": "stream",
          "text": [
            "Corr between marital_status and the target:  0.4481092378164384\n",
            "Corr between com_marital_status and the target:  0.4477731007223173\n"
          ],
          "name": "stdout"
        }
      ]
    },
    {
      "cell_type": "code",
      "metadata": {
        "id": "BD6pg1i1yqov",
        "colab_type": "code",
        "colab": {}
      },
      "source": [
        "#df = df.drop(columns = 'com_marital_status')\n",
        "combined_features.append('com_marital_status')"
      ],
      "execution_count": 0,
      "outputs": []
    },
    {
      "cell_type": "markdown",
      "metadata": {
        "id": "nY53CZ7TPlkj",
        "colab_type": "text"
      },
      "source": [
        "### native_country"
      ]
    },
    {
      "cell_type": "code",
      "metadata": {
        "id": "-q217o_ePlkk",
        "colab_type": "code",
        "colab": {}
      },
      "source": [
        "north_america = ['united-states', 'cuba', 'jamaica', 'mexico', 'canada',\n",
        "'puerto-rico', 'honduras',  'haiti', 'dominican-republic', \n",
        "'el-salvador',  'guatemala',  'outlying-us(guam-usvi-etc)',  \n",
        "'trinadad&tobago', 'nicaragua',  \n",
        "]\n",
        "\n",
        "other = ['other_unknown', 'south']\n",
        "\n",
        "asia = ['india', 'china', 'japan', 'vietnam', 'hong', 'iran', 'philippines', 'cambodia', 'thailand', 'laos', 'taiwan']\n",
        "\n",
        "europe = ['england', 'germany', 'italy', 'poland', 'ireland', 'hungary',\n",
        "'holand-netherlands', 'scotland', 'yugoslavia', 'greece', 'france', 'portugal',]\n",
        "\n",
        "south_america = ['peru',  'columbia',  'ecuador', ]"
      ],
      "execution_count": 0,
      "outputs": []
    },
    {
      "cell_type": "code",
      "metadata": {
        "id": "uiWK5tEzPlko",
        "colab_type": "code",
        "colab": {}
      },
      "source": [
        "df.loc[df['native_country'].isin(asia), 'com_native_country'] = 'aisa'\n",
        "df.loc[df['native_country'].isin(europe), 'com_native_country'] = 'europe'\n",
        "df.loc[df['native_country'].isin(north_america), 'com_native_country'] = 'north_america'\n",
        "df.loc[df['native_country'].isin(south_america), 'com_native_country'] = 'south_america'\n",
        "df.loc[df['native_country'].isin(other), 'com_native_country'] = 'other'"
      ],
      "execution_count": 0,
      "outputs": []
    },
    {
      "cell_type": "code",
      "metadata": {
        "id": "-ggDag6_Plkr",
        "colab_type": "code",
        "outputId": "0c4d66bc-51d1-415c-b3c2-9354bcc0b095",
        "colab": {
          "base_uri": "https://localhost:8080/",
          "height": 54
        }
      },
      "source": [
        "corr1 = print_corr(df, 'native_country')\n",
        "corr2 = print_corr(df, 'com_native_country')"
      ],
      "execution_count": 0,
      "outputs": [
        {
          "output_type": "stream",
          "text": [
            "Corr between native_country and the target:  0.09159272240334079\n",
            "Corr between com_native_country and the target:  0.033447597767781924\n"
          ],
          "name": "stdout"
        }
      ]
    },
    {
      "cell_type": "code",
      "metadata": {
        "id": "7IEM_5BJy6SU",
        "colab_type": "code",
        "colab": {}
      },
      "source": [
        "combined_features.append('com_native_country')"
      ],
      "execution_count": 0,
      "outputs": []
    },
    {
      "cell_type": "markdown",
      "metadata": {
        "id": "LgKJ4qTPUepZ",
        "colab_type": "text"
      },
      "source": [
        "## Generate polynomial and interaction features"
      ]
    },
    {
      "cell_type": "code",
      "metadata": {
        "id": "Y_jOxZ08Ud0o",
        "colab_type": "code",
        "colab": {}
      },
      "source": [
        "cont_featrues = ['age', 'final_weight', 'education_duration', 'hours_per_week', 'capital_gain', 'capital_loss' ]\n",
        "pl = PolynomialFeatures(2, include_bias = False)\n",
        "\n",
        "X_temp = pl.fit_transform(df[cont_featrues])\n",
        "poly_columns_names = pl.get_feature_names(cont_featrues)\n",
        "\n",
        "df_temp = pd.DataFrame(data = X_temp, columns = poly_columns_names)\n",
        "df_temp = df_temp.drop(columns = cont_featrues)\n",
        "\n",
        "df = df.reset_index(drop = True)\n",
        "df = pd.concat([df, df_temp], axis = 1)"
      ],
      "execution_count": 0,
      "outputs": []
    },
    {
      "cell_type": "code",
      "metadata": {
        "id": "NNkghKZHNJvu",
        "colab_type": "code",
        "outputId": "b1878815-8f8a-4f71-c79a-63c238787286",
        "colab": {
          "base_uri": "https://localhost:8080/",
          "height": 35
        }
      },
      "source": [
        "df.shape"
      ],
      "execution_count": 0,
      "outputs": [
        {
          "output_type": "execute_result",
          "data": {
            "text/plain": [
              "(48813, 39)"
            ]
          },
          "metadata": {
            "tags": []
          },
          "execution_count": 32
        }
      ]
    },
    {
      "cell_type": "markdown",
      "metadata": {
        "id": "ojW--C3F7Sp6",
        "colab_type": "text"
      },
      "source": [
        "###  Crossing feature: age & hours_per_work"
      ]
    },
    {
      "cell_type": "code",
      "metadata": {
        "id": "8mcMvrsrPlk7",
        "colab_type": "code",
        "outputId": "420dbc26-bc2b-4165-d9b6-a577fe0bf979",
        "colab": {
          "base_uri": "https://localhost:8080/",
          "height": 337
        }
      },
      "source": [
        "fig = plt.figure(figsize=(15, 5))\n",
        "g = sns.pointplot(x = 'age', y = 'hours_per_week', hue = 'target', data = df)\n",
        "plt.show()"
      ],
      "execution_count": 0,
      "outputs": [
        {
          "output_type": "display_data",
          "data": {
            "image/png": "[encoded data removed]",
            "text/plain": [
              "<Figure size 1080x360 with 1 Axes>"
            ]
          },
          "metadata": {
            "tags": []
          }
        }
      ]
    },
    {
      "cell_type": "markdown",
      "metadata": {
        "id": "DUdSBRexPlku",
        "colab_type": "text"
      },
      "source": [
        "## Bin continuous features"
      ]
    },
    {
      "cell_type": "code",
      "metadata": {
        "id": "y7IJ3Hq5tpl6",
        "colab_type": "code",
        "colab": {}
      },
      "source": [
        "poly_features = poly_columns_names.copy()"
      ],
      "execution_count": 0,
      "outputs": []
    },
    {
      "cell_type": "code",
      "metadata": {
        "id": "ClHBnszoZ8a-",
        "colab_type": "code",
        "outputId": "90acfacf-142c-41e4-95da-cbe741d3f068",
        "colab": {
          "base_uri": "https://localhost:8080/",
          "height": 1000
        }
      },
      "source": [
        "binned_features = []\n",
        "for col in poly_features:\n",
        "  print('Binning ', col,)\n",
        "  upper_bound = df[col].max()\n",
        "  quantity =  25\n",
        "  hist, bin_edges = np.histogram(df[col], bins = quantity, density = True)\n",
        "  bin_edges = np.append(bin_edges, upper_bound + 1)\n",
        "  labels = [col + '_bin_{0}'.format(itr + 1) for itr in np.arange(len(bin_edges) - 1)]\n",
        "  df[col + '_bin'] = pd.cut(df[col], bins = bin_edges, labels = labels, right = False)\n",
        "  print_corr(df, col)\n",
        "  df[col + '_bin'] = df[col + '_bin'].astype('object')\n",
        "  print_corr(df, col + '_bin')\n",
        "  binned_features.append(col + '_bin')\n",
        "  print('***********************************************')"
      ],
      "execution_count": 0,
      "outputs": [
        {
          "output_type": "stream",
          "text": [
            "Binning  age\n",
            "Corr between age and the target:  0.23033477055029544\n",
            "Corr between age_bin and the target:  0.3214657580167038\n",
            "***********************************************\n",
            "Binning  final_weight\n",
            "Corr between final_weight and the target:  -0.00637619990497741\n",
            "Corr between final_weight_bin and the target:  0.036210317900535395\n",
            "***********************************************\n",
            "Binning  education_duration\n",
            "Corr between education_duration and the target:  0.3327459839702017\n",
            "Corr between education_duration_bin and the target:  0.36555880433784266\n",
            "***********************************************\n",
            "Binning  hours_per_week\n",
            "Corr between hours_per_week and the target:  0.2276494944005854\n",
            "Corr between hours_per_week_bin and the target:  0.2767696185509207\n",
            "***********************************************\n",
            "Binning  capital_gain\n",
            "Corr between capital_gain and the target:  0.22301398145686202\n",
            "Corr between capital_gain_bin and the target:  0.35337665244711886\n",
            "***********************************************\n",
            "Binning  capital_loss\n",
            "Corr between capital_loss and the target:  0.14752749360857575\n",
            "Corr between capital_loss_bin and the target:  0.2153131382809128\n",
            "***********************************************\n",
            "Binning  age^2\n",
            "Corr between age^2 and the target:  0.18449109351686516\n",
            "Corr between age^2_bin and the target:  0.3191172057091881\n",
            "***********************************************\n",
            "Binning  age final_weight\n",
            "Corr between age final_weight and the target:  0.12569095637537397\n",
            "Corr between age final_weight_bin and the target:  0.14439273405344388\n",
            "***********************************************\n",
            "Binning  age education_duration\n",
            "Corr between age education_duration and the target:  0.38994415494672025\n",
            "Corr between age education_duration_bin and the target:  0.40417237808599316\n",
            "***********************************************\n",
            "Binning  age hours_per_week\n",
            "Corr between age hours_per_week and the target:  0.3186830757583056\n",
            "Corr between age hours_per_week_bin and the target:  0.3490233291908779\n",
            "***********************************************\n",
            "Binning  age capital_gain\n",
            "Corr between age capital_gain and the target:  0.21704020281005876\n",
            "Corr between age capital_gain_bin and the target:  0.32165151536187964\n",
            "***********************************************\n",
            "Binning  age capital_loss\n",
            "Corr between age capital_loss and the target:  0.15301948726376458\n",
            "Corr between age capital_loss_bin and the target:  0.17062258530320326\n",
            "***********************************************\n",
            "Binning  final_weight^2\n",
            "Corr between final_weight^2 and the target:  -0.00998824926594388\n",
            "Corr between final_weight^2_bin and the target:  0.0\n",
            "***********************************************\n",
            "Binning  final_weight education_duration\n",
            "Corr between final_weight education_duration and the target:  0.13644184850243224\n",
            "Corr between final_weight education_duration_bin and the target:  0.13973298312158458\n",
            "***********************************************\n",
            "Binning  final_weight hours_per_week\n",
            "Corr between final_weight hours_per_week and the target:  0.10338954879002521\n",
            "Corr between final_weight hours_per_week_bin and the target:  0.10898688730685395\n",
            "***********************************************\n",
            "Binning  final_weight capital_gain\n",
            "Corr between final_weight capital_gain and the target:  0.19670891200997326\n",
            "Corr between final_weight capital_gain_bin and the target:  0.24157425455021544\n",
            "***********************************************\n",
            "Binning  final_weight capital_loss\n",
            "Corr between final_weight capital_loss and the target:  0.13227754969787828\n",
            "Corr between final_weight capital_loss_bin and the target:  0.13852343231564826\n",
            "***********************************************\n",
            "Binning  education_duration^2\n",
            "Corr between education_duration^2 and the target:  0.35459241417711085\n",
            "Corr between education_duration^2_bin and the target:  0.3655907827709505\n",
            "***********************************************\n",
            "Binning  education_duration hours_per_week\n",
            "Corr between education_duration hours_per_week and the target:  0.3692671261106278\n",
            "Corr between education_duration hours_per_week_bin and the target:  0.39105214634765034\n",
            "***********************************************\n",
            "Binning  education_duration capital_gain\n",
            "Corr between education_duration capital_gain and the target:  0.21493675951950736\n",
            "Corr between education_duration capital_gain_bin and the target:  0.35929205721753943\n",
            "***********************************************\n",
            "Binning  education_duration capital_loss\n",
            "Corr between education_duration capital_loss and the target:  0.16611193791869494\n",
            "Corr between education_duration capital_loss_bin and the target:  0.19201324547108656\n",
            "***********************************************\n",
            "Binning  hours_per_week^2\n",
            "Corr between hours_per_week^2 and the target:  0.20602326000434118\n",
            "Corr between hours_per_week^2_bin and the target:  0.27577780241826805\n",
            "***********************************************\n",
            "Binning  hours_per_week capital_gain\n",
            "Corr between hours_per_week capital_gain and the target:  0.20979376553647675\n",
            "Corr between hours_per_week capital_gain_bin and the target:  0.2854437696061156\n",
            "***********************************************\n",
            "Binning  hours_per_week capital_loss\n",
            "Corr between hours_per_week capital_loss and the target:  0.15698642306924548\n",
            "Corr between hours_per_week capital_loss_bin and the target:  0.17084520684509455\n",
            "***********************************************\n",
            "Binning  capital_gain^2\n",
            "Corr between capital_gain^2 and the target:  0.1409115222210176\n",
            "Corr between capital_gain^2_bin and the target:  0.15557290405829607\n",
            "***********************************************\n",
            "Binning  capital_gain capital_loss\n",
            "Corr between capital_gain capital_loss and the target:  nan\n",
            "Corr between capital_gain capital_loss_bin and the target:  nan\n",
            "***********************************************\n",
            "Binning  capital_loss^2\n",
            "Corr between capital_loss^2 and the target:  0.14798474812875556\n",
            "Corr between capital_loss^2_bin and the target:  0.2078829819339283\n",
            "***********************************************\n"
          ],
          "name": "stdout"
        },
        {
          "output_type": "stream",
          "text": [
            "/usr/local/lib/python3.6/dist-packages/scipy/stats/stats.py:3399: PearsonRConstantInputWarning: An input array is constant; the correlation coefficent is not defined.\n",
            "  warnings.warn(PearsonRConstantInputWarning())\n",
            "/usr/local/lib/python3.6/dist-packages/ipykernel_launcher.py:10: RuntimeWarning: invalid value encountered in double_scalars\n",
            "  # Remove the CWD from sys.path while we load stuff.\n"
          ],
          "name": "stderr"
        }
      ]
    },
    {
      "cell_type": "markdown",
      "metadata": {
        "id": "TLMql2HHGaTa",
        "colab_type": "text"
      },
      "source": [
        "# Encode target"
      ]
    },
    {
      "cell_type": "code",
      "metadata": {
        "id": "GXV-wt19GZcv",
        "colab_type": "code",
        "colab": {}
      },
      "source": [
        "df.loc[df['target'] == '<=50k', 'target'] = 0\n",
        "df.loc[df['target'] == '>50k', 'target'] = 1"
      ],
      "execution_count": 0,
      "outputs": []
    },
    {
      "cell_type": "markdown",
      "metadata": {
        "id": "XRzIbJT8ALkJ",
        "colab_type": "text"
      },
      "source": [
        "# Features classification"
      ]
    },
    {
      "cell_type": "code",
      "metadata": {
        "id": "gcY5OWdRPllV",
        "colab_type": "code",
        "colab": {}
      },
      "source": [
        "target = ['target']\n",
        "categorical_features = ['has_missing_values', 'workclass', 'marital_status', \n",
        "                        'occupation', 'relationship', 'race', 'sex', 'native_country'] + combined_features\n",
        "\n",
        "binned_features = [col for col in  df.columns if '_bin' in col]\n",
        "all_cat_features = binned_features + categorical_features\n",
        "\n",
        "continuous_features = list(set(df.columns).difference(set(all_cat_features + target)))"
      ],
      "execution_count": 0,
      "outputs": []
    },
    {
      "cell_type": "code",
      "metadata": {
        "id": "Lh2h91Ti2bMC",
        "colab_type": "code",
        "outputId": "3c6daab6-110a-46ce-b956-e61839950932",
        "colab": {
          "base_uri": "https://localhost:8080/",
          "height": 90
        }
      },
      "source": [
        "print('Data features: ', len(df.columns) - 1 - len(binned_features))\n",
        "print('Categorical features: ', len(categorical_features))\n",
        "print('Continuous features: ', len(continuous_features))\n",
        "print('Binned features: ', len(binned_features))"
      ],
      "execution_count": 0,
      "outputs": [
        {
          "output_type": "stream",
          "text": [
            "Data features:  38\n",
            "Categorical features:  11\n",
            "Continuous features:  27\n",
            "Binned features:  27\n"
          ],
          "name": "stdout"
        }
      ]
    },
    {
      "cell_type": "markdown",
      "metadata": {
        "id": "3AlGGAMhPllV",
        "colab_type": "text"
      },
      "source": [
        "# Scale continuous features"
      ]
    },
    {
      "cell_type": "code",
      "metadata": {
        "id": "febD_tkoPllX",
        "colab_type": "code",
        "colab": {}
      },
      "source": [
        "scaler = StandardScaler()\n",
        "df[continuous_features] = scaler.fit_transform(df[continuous_features])"
      ],
      "execution_count": 0,
      "outputs": []
    },
    {
      "cell_type": "markdown",
      "metadata": {
        "id": "b8PT6mJU5h9W",
        "colab_type": "text"
      },
      "source": [
        "# Define dataframes for different encodings"
      ]
    },
    {
      "cell_type": "code",
      "metadata": {
        "id": "tE-2QwDQEBwu",
        "colab_type": "code",
        "outputId": "99ccb417-a9d6-4e6d-a245-f98e2a91c5aa",
        "colab": {
          "base_uri": "https://localhost:8080/",
          "height": 90
        }
      },
      "source": [
        "# dataframe that contains: continuous and label encoded categorical features\n",
        "cont_cat_lb = df.copy()\n",
        "cont_cat_lb = cont_cat_lb.drop(columns = binned_features)\n",
        "\n",
        "# dataframe that contains: continuous and one-hot encoded categorical features\n",
        "cont_cat_oh = df.copy()\n",
        "cont_cat_oh = cont_cat_oh.drop(columns = binned_features)\n",
        "\n",
        "# dataframe that contains: label encoded binned and label encoded categorical features\n",
        "bin_lb_cat_lb = df.copy()\n",
        "bin_lb_cat_lb = bin_lb_cat_lb.drop(columns = continuous_features)\n",
        "\n",
        "# dataframe that contains: one-hot encoded binned and one-hot encoded categorical features\n",
        "bin_oh_cat_oh = df.copy()\n",
        "bin_oh_cat_oh = bin_oh_cat_oh.drop(columns = continuous_features)\n",
        "\n",
        "print('cont_cat_lb: ', len(cont_cat_lb.columns))\n",
        "print('cont_cat_oh: ', len(cont_cat_oh.columns))\n",
        "print('bin_lb_cat_lb: ', len(bin_lb_cat_lb.columns))\n",
        "print('bin_oh_cat_oh: ', len(bin_oh_cat_oh.columns))"
      ],
      "execution_count": 0,
      "outputs": [
        {
          "output_type": "stream",
          "text": [
            "cont_cat_lb:  39\n",
            "cont_cat_oh:  39\n",
            "bin_lb_cat_lb:  39\n",
            "bin_oh_cat_oh:  39\n"
          ],
          "name": "stdout"
        }
      ]
    },
    {
      "cell_type": "markdown",
      "metadata": {
        "id": "eT-sCx6YPllM",
        "colab_type": "text"
      },
      "source": [
        "# Encode categorical features"
      ]
    },
    {
      "cell_type": "markdown",
      "metadata": {
        "id": "eckY7md8CZKc",
        "colab_type": "text"
      },
      "source": [
        "## Label_encoding"
      ]
    },
    {
      "cell_type": "code",
      "metadata": {
        "id": "6-Bww5oqPllN",
        "colab_type": "code",
        "colab": {}
      },
      "source": [
        "for col in categorical_features:\n",
        "  lb_enc = LabelEncoder()\n",
        "  cont_cat_lb[col] = lb_enc.fit_transform(cont_cat_lb[col])\n",
        "for col in categorical_features + binned_features:\n",
        "  lb_enc = LabelEncoder()\n",
        "  bin_lb_cat_lb[col] = lb_enc.fit_transform(bin_lb_cat_lb[col])"
      ],
      "execution_count": 0,
      "outputs": []
    },
    {
      "cell_type": "code",
      "metadata": {
        "id": "Ra2l8ppCKRVT",
        "colab_type": "code",
        "outputId": "f4d4ad9d-fe96-4683-b131-52c58b10f7e9",
        "colab": {
          "base_uri": "https://localhost:8080/",
          "height": 54
        }
      },
      "source": [
        "print('cont_cat_lb: ', cont_cat_lb.shape)\n",
        "print('bin_lb_cat_lb: ', bin_lb_cat_lb.shape)"
      ],
      "execution_count": 0,
      "outputs": [
        {
          "output_type": "stream",
          "text": [
            "cont_cat_lb:  (48813, 39)\n",
            "bin_lb_cat_lb:  (48813, 39)\n"
          ],
          "name": "stdout"
        }
      ]
    },
    {
      "cell_type": "markdown",
      "metadata": {
        "id": "dMoTvrfoCfN1",
        "colab_type": "text"
      },
      "source": [
        "## One hot encoding"
      ]
    },
    {
      "cell_type": "code",
      "metadata": {
        "id": "bTwNam-SI136",
        "colab_type": "code",
        "colab": {}
      },
      "source": [
        "cont_cat_oh = pd.get_dummies(cont_cat_oh, columns = categorical_features)\n",
        "bin_oh_cat_oh = pd.get_dummies(bin_oh_cat_oh, columns = categorical_features + binned_features)"
      ],
      "execution_count": 0,
      "outputs": []
    },
    {
      "cell_type": "code",
      "metadata": {
        "id": "HFHBDuTKIwec",
        "colab_type": "code",
        "outputId": "ff7c3b55-c201-43bd-d61a-24480305ee82",
        "colab": {
          "base_uri": "https://localhost:8080/",
          "height": 54
        }
      },
      "source": [
        "print('cont_cat_oh: ', cont_cat_oh.shape)\n",
        "print('bin_oh_cat_oh: ', bin_oh_cat_oh.shape)"
      ],
      "execution_count": 0,
      "outputs": [
        {
          "output_type": "stream",
          "text": [
            "cont_cat_oh:  (48813, 134)\n",
            "bin_oh_cat_oh:  (48813, 660)\n"
          ],
          "name": "stdout"
        }
      ]
    },
    {
      "cell_type": "markdown",
      "metadata": {
        "id": "cb3MxaIEPllY",
        "colab_type": "text"
      },
      "source": [
        "# Save data"
      ]
    },
    {
      "cell_type": "code",
      "metadata": {
        "id": "U0rNOCnp9C2A",
        "colab_type": "code",
        "outputId": "62fd310e-3ba7-4bd0-fb3e-3b5955470028",
        "colab": {
          "base_uri": "https://localhost:8080/",
          "height": 54
        }
      },
      "source": [
        "cont_cat_lb = downcast_df(cont_cat_lb)"
      ],
      "execution_count": 0,
      "outputs": [
        {
          "output_type": "stream",
          "text": [
            "Memory usage: 14.52 MB\n",
            "New Memory usage: 7.26 MB\n"
          ],
          "name": "stdout"
        }
      ]
    },
    {
      "cell_type": "code",
      "metadata": {
        "id": "7Sj2r_sx9g2s",
        "colab_type": "code",
        "outputId": "35d6ddd8-b17f-4449-f4fa-a0151da7398e",
        "colab": {
          "base_uri": "https://localhost:8080/",
          "height": 54
        }
      },
      "source": [
        "cont_cat_oh = downcast_df(cont_cat_oh)"
      ],
      "execution_count": 0,
      "outputs": [
        {
          "output_type": "stream",
          "text": [
            "Memory usage: 15.36 MB\n",
            "New Memory usage: 10.15 MB\n"
          ],
          "name": "stdout"
        }
      ]
    },
    {
      "cell_type": "code",
      "metadata": {
        "id": "JBDXulV39ipE",
        "colab_type": "code",
        "outputId": "9b62dace-383d-49ee-f7ec-47be62fd10f8",
        "colab": {
          "base_uri": "https://localhost:8080/",
          "height": 54
        }
      },
      "source": [
        "bin_lb_cat_lb = downcast_df(bin_lb_cat_lb)"
      ],
      "execution_count": 0,
      "outputs": [
        {
          "output_type": "stream",
          "text": [
            "Memory usage: 14.52 MB\n",
            "New Memory usage: 7.26 MB\n"
          ],
          "name": "stdout"
        }
      ]
    },
    {
      "cell_type": "code",
      "metadata": {
        "id": "bEilYMWH9kcb",
        "colab_type": "code",
        "outputId": "d8e8fac1-566c-4aec-ddfe-52cfd89d2be2",
        "colab": {
          "base_uri": "https://localhost:8080/",
          "height": 54
        }
      },
      "source": [
        "bin_oh_cat_oh = downcast_df(bin_oh_cat_oh)"
      ],
      "execution_count": 0,
      "outputs": [
        {
          "output_type": "stream",
          "text": [
            "Memory usage: 31.05 MB\n",
            "New Memory usage: 30.86 MB\n"
          ],
          "name": "stdout"
        }
      ]
    },
    {
      "cell_type": "code",
      "metadata": {
        "id": "-b0pKXQmAvRq",
        "colab_type": "code",
        "outputId": "46e8d57b-598c-442d-e850-43645c09aed0",
        "colab": {
          "base_uri": "https://localhost:8080/",
          "height": 35
        }
      },
      "source": [
        "cont_cat_lb.to_pickle(data_path + 'data_cont_cat_lb.pkl')\n",
        "cont_cat_oh.to_pickle(data_path + 'data_cont_cat_oh.pkl')\n",
        "bin_lb_cat_lb.to_pickle(data_path + 'data_bin_lb_cat_lb.pkl')\n",
        "bin_oh_cat_oh.to_pickle(data_path + 'data_bin_oh_cat_oh.pkl')\n",
        "print('Finished !')"
      ],
      "execution_count": 0,
      "outputs": [
        {
          "output_type": "stream",
          "text": [
            "Finished !\n"
          ],
          "name": "stdout"
        }
      ]
    },
    {
      "cell_type": "code",
      "metadata": {
        "id": "d7ouPIGtXnpF",
        "colab_type": "code",
        "colab": {}
      },
      "source": [
        "# save copy for deployment randomforest model\n",
        "fea = list(np.load(data_path + 'features.pkl.npy'))\n",
        "data = df[fea + ['target']]\n",
        "data.to_csv(data_path + 'rf_data.csv', index = 0)"
      ],
      "execution_count": 0,
      "outputs": []
    },
    {
      "cell_type": "code",
      "metadata": {
        "id": "58PVFRss3-Ra",
        "colab_type": "code",
        "colab": {}
      },
      "source": [
        ""
      ],
      "execution_count": 0,
      "outputs": []
    }
  ]
}