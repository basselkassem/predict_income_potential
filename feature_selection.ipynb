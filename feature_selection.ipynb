{
  "nbformat": 4,
  "nbformat_minor": 0,
  "metadata": {
    "colab": {
      "name": "feature_selection.ipynb",
      "provenance": [],
      "include_colab_link": true
    },
    "kernelspec": {
      "name": "python3",
      "display_name": "Python 3"
    }
  },
  "cells": [
    {
      "cell_type": "markdown",
      "metadata": {
        "id": "view-in-github",
        "colab_type": "text"
      },
      "source": [
        "<a href=\"https://colab.research.google.com/github/basselkassem/predict_income_potential/blob/master/feature_selection.ipynb\" target=\"_parent\"><img src=\"https://colab.research.google.com/assets/colab-badge.svg\" alt=\"Open In Colab\"/></a>"
      ]
    },
    {
      "cell_type": "code",
      "metadata": {
        "id": "8jaQqaMVRv5P",
        "colab_type": "code",
        "outputId": "796bcab9-b495-45d2-a34c-37975f02d5c2",
        "colab": {
          "base_uri": "https://localhost:8080/",
          "height": 129
        }
      },
      "source": [
        "from google.colab import drive\n",
        "drive.mount('/content/gdrive')\n",
        "data_path = \"/content/gdrive/My Drive/Colab Notebooks/predict_income_potential/data/\"\n",
        "model_path = '/content/gdrive/My Drive/Colab Notebooks/predict_income_potential/models/'"
      ],
      "execution_count": 1,
      "outputs": [
        {
          "output_type": "stream",
          "text": [
            "Go to this URL in a browser: https://accounts.google.com/o/oauth2/auth?client_id=947318989803-6bn6qk8qdgf4n4g3pfee6491hc0brc4i.apps.googleusercontent.com&redirect_uri=urn%3Aietf%3Awg%3Aoauth%3A2.0%3Aoob&scope=email%20https%3A%2F%2Fwww.googleapis.com%2Fauth%2Fdocs.test%20https%3A%2F%2Fwww.googleapis.com%2Fauth%2Fdrive%20https%3A%2F%2Fwww.googleapis.com%2Fauth%2Fdrive.photos.readonly%20https%3A%2F%2Fwww.googleapis.com%2Fauth%2Fpeopleapi.readonly&response_type=code\n",
            "\n",
            "Enter your authorization code:\n",
            "··········\n",
            "Mounted at /content/gdrive\n"
          ],
          "name": "stdout"
        }
      ]
    },
    {
      "cell_type": "markdown",
      "metadata": {
        "id": "7exMoL85SE32",
        "colab_type": "text"
      },
      "source": [
        "# Import libs"
      ]
    },
    {
      "cell_type": "code",
      "metadata": {
        "id": "lpe0r2hUR5ek",
        "colab_type": "code",
        "colab": {}
      },
      "source": [
        "import pandas as pd\n",
        "import numpy as np\n",
        "import lightgbm as lgb\n",
        "from sklearn.model_selection import train_test_split\n",
        "from sklearn.metrics import f1_score, accuracy_score, roc_auc_score\n",
        "from sklearn.decomposition import PCA\n",
        "from sklearn.feature_selection import RFE\n",
        "import matplotlib.pyplot as plt\n",
        "%matplotlib inline"
      ],
      "execution_count": 0,
      "outputs": []
    },
    {
      "cell_type": "markdown",
      "metadata": {
        "id": "ob8uYqKISSAz",
        "colab_type": "text"
      },
      "source": [
        "# Load data"
      ]
    },
    {
      "cell_type": "code",
      "metadata": {
        "id": "MEgijqqaSWVo",
        "colab_type": "code",
        "outputId": "45257df5-5875-4c0a-b075-5712b1808e40",
        "colab": {
          "base_uri": "https://localhost:8080/",
          "height": 90
        }
      },
      "source": [
        "cont_cat_lb = pd.read_pickle(data_path + 'data_cont_cat_lb.pkl')\n",
        "cont_cat_oh = pd.read_pickle(data_path + 'data_cont_cat_oh.pkl')\n",
        "bin_lb_cat_lb = pd.read_pickle(data_path + 'data_bin_lb_cat_lb.pkl')\n",
        "bin_oh_cat_oh = pd.read_pickle(data_path + 'data_bin_oh_cat_oh.pkl')\n",
        "\n",
        "print('continuous_categorical_label shape: ', cont_cat_lb.shape)\n",
        "print('continuous_categorical_one_hot shape: ', cont_cat_oh.shape)\n",
        "print('bin_label_categorical_label shape: ', bin_lb_cat_lb.shape)\n",
        "print('bin_one_hot_categorical_one_hot shape: ', bin_oh_cat_oh.shape)"
      ],
      "execution_count": 3,
      "outputs": [
        {
          "output_type": "stream",
          "text": [
            "continuous_categorical_label shape:  (48813, 39)\n",
            "continuous_categorical_one_hot shape:  (48813, 134)\n",
            "bin_label_categorical_label shape:  (48813, 39)\n",
            "bin_one_hot_categorical_one_hot shape:  (48813, 660)\n"
          ],
          "name": "stdout"
        }
      ]
    },
    {
      "cell_type": "markdown",
      "metadata": {
        "id": "0F0bW-ouS1tX",
        "colab_type": "text"
      },
      "source": [
        "# Utile Function"
      ]
    },
    {
      "cell_type": "code",
      "metadata": {
        "id": "0xCFAlilSW1o",
        "colab_type": "code",
        "colab": {}
      },
      "source": [
        "def evaluate_test_model(X, y, verbose = True):\n",
        "  X_train, X_test, y_train, y_test = train_test_split(X, y, test_size=0.33, random_state=42)\n",
        "\n",
        "  gbm = lgb.LGBMClassifier(n_estimators = 1000, silent = True)\n",
        "  gbm.fit(X_train, y_train, eval_set = [(X_test, y_test)], early_stopping_rounds = 10, verbose = 0)\n",
        "\n",
        "  y_train_hat = gbm.predict(X_train)\n",
        "  y_test_hat = gbm.predict(X_test)\n",
        "\n",
        "  tr_acc = accuracy_score(y_train, y_train_hat)\n",
        "  tr_f1 = f1_score(y_train, y_train_hat)\n",
        "  tr_auc = roc_auc_score(y_train, y_train_hat)\n",
        "\n",
        "  test_acc = accuracy_score(y_test, y_test_hat)\n",
        "  test_f1 = f1_score(y_test, y_test_hat)\n",
        "  test_auc = roc_auc_score(y_test, y_test_hat)\n",
        "  if verbose:\n",
        "    print('------train-----------')\n",
        "    print('accuracy_score: ', tr_acc)\n",
        "    print('f1_score: ', tr_f1)\n",
        "    print('roc_auc_score: ', tr_auc)\n",
        "    print('------test-------------')\n",
        "    print('accuracy_score: ', test_acc)\n",
        "    print('f1_score: ', test_f1)\n",
        "    print('roc_auc_score: ', test_auc)\n",
        "  return [test_acc, test_f1, test_auc]"
      ],
      "execution_count": 0,
      "outputs": []
    },
    {
      "cell_type": "markdown",
      "metadata": {
        "id": "G1M_EhqRZGQ5",
        "colab_type": "text"
      },
      "source": [
        "# Test data encoding"
      ]
    },
    {
      "cell_type": "markdown",
      "metadata": {
        "colab_type": "text",
        "id": "cn63DjbrZ5gA"
      },
      "source": [
        "## Continuous Feature Vs Binnig"
      ]
    },
    {
      "cell_type": "markdown",
      "metadata": {
        "id": "rHcoSpY8bQV7",
        "colab_type": "text"
      },
      "source": [
        "### Contiuous Featrue"
      ]
    },
    {
      "cell_type": "code",
      "metadata": {
        "id": "MWKoQZjxcRzm",
        "colab_type": "code",
        "outputId": "0dd39987-7922-49a6-d0bc-279508397d1b",
        "colab": {
          "base_uri": "https://localhost:8080/",
          "height": 164
        }
      },
      "source": [
        "data = cont_cat_lb\n",
        "X, y = data.drop(columns = 'target'), data['target']\n",
        "res = evaluate_test_model(X, y)"
      ],
      "execution_count": 6,
      "outputs": [
        {
          "output_type": "stream",
          "text": [
            "------train-----------\n",
            "accuracy_score:  0.8895242172211351\n",
            "f1_score:  0.7464739316539191\n",
            "roc_auc_score:  0.8187277910967594\n",
            "------test-------------\n",
            "accuracy_score:  0.8741697187907381\n",
            "f1_score:  0.7166223961973996\n",
            "roc_auc_score:  0.8001044450907345\n"
          ],
          "name": "stdout"
        }
      ]
    },
    {
      "cell_type": "markdown",
      "metadata": {
        "id": "Kz8djr-1c5f0",
        "colab_type": "text"
      },
      "source": [
        "### Binned Features\n",
        "\n"
      ]
    },
    {
      "cell_type": "code",
      "metadata": {
        "id": "td9U-NAIa1da",
        "colab_type": "code",
        "outputId": "dd3958a7-6c29-425d-83b8-08df1756f4c6",
        "colab": {
          "base_uri": "https://localhost:8080/",
          "height": 164
        }
      },
      "source": [
        "data = bin_lb_cat_lb\n",
        "X, y = data.drop(columns = 'target'), data['target']\n",
        "res = evaluate_test_model(X, y)"
      ],
      "execution_count": 9,
      "outputs": [
        {
          "output_type": "stream",
          "text": [
            "------train-----------\n",
            "accuracy_score:  0.879005626223092\n",
            "f1_score:  0.7229961498074904\n",
            "roc_auc_score:  0.8049748252683014\n",
            "------test-------------\n",
            "accuracy_score:  0.8654789248246322\n",
            "f1_score:  0.6983994432846207\n",
            "roc_auc_score:  0.789666797603355\n"
          ],
          "name": "stdout"
        }
      ]
    },
    {
      "cell_type": "markdown",
      "metadata": {
        "id": "Ds-cbtmKZ0lI",
        "colab_type": "text"
      },
      "source": [
        "## Label encoding Vs One-hot encoding"
      ]
    },
    {
      "cell_type": "markdown",
      "metadata": {
        "id": "tVoIkIKjdI-N",
        "colab_type": "text"
      },
      "source": [
        "### One-hot encoding"
      ]
    },
    {
      "cell_type": "code",
      "metadata": {
        "id": "3_mM6V-gdNzB",
        "colab_type": "code",
        "outputId": "19600de6-d7a0-4b2f-d828-c6954a1324d9",
        "colab": {
          "base_uri": "https://localhost:8080/",
          "height": 164
        }
      },
      "source": [
        "data = cont_cat_oh\n",
        "X, y = data.drop(columns = 'target'), data['target']\n",
        "res = evaluate_test_model(X, y)"
      ],
      "execution_count": 11,
      "outputs": [
        {
          "output_type": "stream",
          "text": [
            "------train-----------\n",
            "accuracy_score:  0.886619373776908\n",
            "f1_score:  0.7401177460050462\n",
            "roc_auc_score:  0.8150979491793872\n",
            "------test-------------\n",
            "accuracy_score:  0.8751629523868645\n",
            "f1_score:  0.7187019163519374\n",
            "roc_auc_score:  0.8012823926665382\n"
          ],
          "name": "stdout"
        }
      ]
    },
    {
      "cell_type": "markdown",
      "metadata": {
        "id": "E8NnJAoedPOa",
        "colab_type": "text"
      },
      "source": [
        "### Label Encoding"
      ]
    },
    {
      "cell_type": "code",
      "metadata": {
        "id": "k7GcYC2Cdt-m",
        "colab_type": "code",
        "outputId": "5712811c-72ef-491e-ed78-a70e1ac9b9b2",
        "colab": {
          "base_uri": "https://localhost:8080/",
          "height": 164
        }
      },
      "source": [
        "data = cont_cat_lb\n",
        "X, y = data.drop(columns = 'target'), data['target']\n",
        "res = evaluate_test_model(X, y)"
      ],
      "execution_count": 12,
      "outputs": [
        {
          "output_type": "stream",
          "text": [
            "------train-----------\n",
            "accuracy_score:  0.8895242172211351\n",
            "f1_score:  0.7464739316539191\n",
            "roc_auc_score:  0.8187277910967594\n",
            "------test-------------\n",
            "accuracy_score:  0.8741697187907381\n",
            "f1_score:  0.7166223961973996\n",
            "roc_auc_score:  0.8001044450907345\n"
          ],
          "name": "stdout"
        }
      ]
    },
    {
      "cell_type": "markdown",
      "metadata": {
        "id": "PUmNTmFscuaf",
        "colab_type": "text"
      },
      "source": [
        "# Test reducing data dimensionality"
      ]
    },
    {
      "cell_type": "code",
      "metadata": {
        "id": "hFvcuuHShgpw",
        "colab_type": "code",
        "outputId": "d03f4df9-d846-49ce-d195-463d01f319ca",
        "colab": {
          "base_uri": "https://localhost:8080/",
          "height": 35
        }
      },
      "source": [
        "data = bin_oh_cat_oh\n",
        "print(data.shape)\n",
        "max_pranciple_component = 100"
      ],
      "execution_count": 13,
      "outputs": [
        {
          "output_type": "stream",
          "text": [
            "(48813, 660)\n"
          ],
          "name": "stdout"
        }
      ]
    },
    {
      "cell_type": "code",
      "metadata": {
        "id": "uvjXf01AediE",
        "colab_type": "code",
        "outputId": "2cbea6f3-a688-480e-f65b-270003dfed5c",
        "colab": {
          "base_uri": "https://localhost:8080/",
          "height": 1000
        }
      },
      "source": [
        "result = []\n",
        "for component_num in range(2, max_pranciple_component):\n",
        "  pca = PCA(component_num)\n",
        "  X, y = data.drop(columns = 'target'), data['target']\n",
        "  projected_X = pca.fit_transform(X)\n",
        "  print('Reducing data dimension to: ',  component_num)\n",
        "  res = evaluate_test_model(projected_X, y, False)\n",
        "  result.append(res)\n"
      ],
      "execution_count": 14,
      "outputs": [
        {
          "output_type": "stream",
          "text": [
            "Reducing data dimension to:  2\n",
            "Reducing data dimension to:  3\n",
            "Reducing data dimension to:  4\n",
            "Reducing data dimension to:  5\n",
            "Reducing data dimension to:  6\n",
            "Reducing data dimension to:  7\n",
            "Reducing data dimension to:  8\n",
            "Reducing data dimension to:  9\n",
            "Reducing data dimension to:  10\n",
            "Reducing data dimension to:  11\n",
            "Reducing data dimension to:  12\n",
            "Reducing data dimension to:  13\n",
            "Reducing data dimension to:  14\n",
            "Reducing data dimension to:  15\n",
            "Reducing data dimension to:  16\n",
            "Reducing data dimension to:  17\n",
            "Reducing data dimension to:  18\n",
            "Reducing data dimension to:  19\n",
            "Reducing data dimension to:  20\n",
            "Reducing data dimension to:  21\n",
            "Reducing data dimension to:  22\n",
            "Reducing data dimension to:  23\n",
            "Reducing data dimension to:  24\n",
            "Reducing data dimension to:  25\n",
            "Reducing data dimension to:  26\n",
            "Reducing data dimension to:  27\n",
            "Reducing data dimension to:  28\n",
            "Reducing data dimension to:  29\n",
            "Reducing data dimension to:  30\n",
            "Reducing data dimension to:  31\n",
            "Reducing data dimension to:  32\n",
            "Reducing data dimension to:  33\n",
            "Reducing data dimension to:  34\n",
            "Reducing data dimension to:  35\n",
            "Reducing data dimension to:  36\n",
            "Reducing data dimension to:  37\n",
            "Reducing data dimension to:  38\n",
            "Reducing data dimension to:  39\n",
            "Reducing data dimension to:  40\n",
            "Reducing data dimension to:  41\n",
            "Reducing data dimension to:  42\n",
            "Reducing data dimension to:  43\n",
            "Reducing data dimension to:  44\n",
            "Reducing data dimension to:  45\n",
            "Reducing data dimension to:  46\n",
            "Reducing data dimension to:  47\n",
            "Reducing data dimension to:  48\n",
            "Reducing data dimension to:  49\n",
            "Reducing data dimension to:  50\n",
            "Reducing data dimension to:  51\n",
            "Reducing data dimension to:  52\n",
            "Reducing data dimension to:  53\n",
            "Reducing data dimension to:  54\n",
            "Reducing data dimension to:  55\n",
            "Reducing data dimension to:  56\n",
            "Reducing data dimension to:  57\n",
            "Reducing data dimension to:  58\n",
            "Reducing data dimension to:  59\n",
            "Reducing data dimension to:  60\n",
            "Reducing data dimension to:  61\n",
            "Reducing data dimension to:  62\n",
            "Reducing data dimension to:  63\n",
            "Reducing data dimension to:  64\n",
            "Reducing data dimension to:  65\n",
            "Reducing data dimension to:  66\n",
            "Reducing data dimension to:  67\n",
            "Reducing data dimension to:  68\n",
            "Reducing data dimension to:  69\n",
            "Reducing data dimension to:  70\n",
            "Reducing data dimension to:  71\n",
            "Reducing data dimension to:  72\n",
            "Reducing data dimension to:  73\n",
            "Reducing data dimension to:  74\n",
            "Reducing data dimension to:  75\n",
            "Reducing data dimension to:  76\n",
            "Reducing data dimension to:  77\n",
            "Reducing data dimension to:  78\n",
            "Reducing data dimension to:  79\n",
            "Reducing data dimension to:  80\n",
            "Reducing data dimension to:  81\n",
            "Reducing data dimension to:  82\n",
            "Reducing data dimension to:  83\n",
            "Reducing data dimension to:  84\n",
            "Reducing data dimension to:  85\n",
            "Reducing data dimension to:  86\n",
            "Reducing data dimension to:  87\n",
            "Reducing data dimension to:  88\n",
            "Reducing data dimension to:  89\n",
            "Reducing data dimension to:  90\n",
            "Reducing data dimension to:  91\n",
            "Reducing data dimension to:  92\n",
            "Reducing data dimension to:  93\n",
            "Reducing data dimension to:  94\n",
            "Reducing data dimension to:  95\n",
            "Reducing data dimension to:  96\n",
            "Reducing data dimension to:  97\n",
            "Reducing data dimension to:  98\n",
            "Reducing data dimension to:  99\n"
          ],
          "name": "stdout"
        }
      ]
    },
    {
      "cell_type": "code",
      "metadata": {
        "id": "XA_PMHHVpCYy",
        "colab_type": "code",
        "colab": {}
      },
      "source": [
        "result = np.array(result)"
      ],
      "execution_count": 0,
      "outputs": []
    },
    {
      "cell_type": "code",
      "metadata": {
        "id": "bvfwllb1kqmI",
        "colab_type": "code",
        "outputId": "e69c4d36-4329-487e-f5bc-c99e13af28f1",
        "colab": {
          "base_uri": "https://localhost:8080/",
          "height": 269
        }
      },
      "source": [
        "acc = result[:, 0]\n",
        "f1 = result[:, 1]\n",
        "auc = result[:, 2]\n",
        "x = np.arange(2, max_pranciple_component)\n",
        "plt.plot(x, acc, label = 'accuracy-score')\n",
        "plt.plot(x, f1, label = 'f1-score')\n",
        "plt.plot(x, auc, label = 'auc-score')\n",
        "plt.legend()\n",
        "plt.show()"
      ],
      "execution_count": 18,
      "outputs": [
        {
          "output_type": "display_data",
          "data": {
            "image/png": "[encoded data removed]",
            "text/plain": [
              "<Figure size 432x288 with 1 Axes>"
            ]
          },
          "metadata": {
            "tags": []
          }
        }
      ]
    },
    {
      "cell_type": "markdown",
      "metadata": {
        "id": "-pZmM6RO7Sp9",
        "colab_type": "text"
      },
      "source": [
        "## Results:\n",
        "Keeping the continuous features without binning and encoding the categorical features with label_ecoding gave the best results (accuracy, f1-score, auc-score).\n"
      ]
    },
    {
      "cell_type": "markdown",
      "metadata": {
        "id": "9ZLYjfX-sq19",
        "colab_type": "text"
      },
      "source": [
        "# Feature Selection"
      ]
    },
    {
      "cell_type": "code",
      "metadata": {
        "id": "ADIKE_KwRtCV",
        "colab_type": "code",
        "colab": {}
      },
      "source": [
        "data = cont_cat_lb\n",
        "X, y = data.drop(columns = 'target'), data['target']"
      ],
      "execution_count": 0,
      "outputs": []
    },
    {
      "cell_type": "markdown",
      "metadata": {
        "id": "2Yn3S6PsQU5L",
        "colab_type": "text"
      },
      "source": [
        "## Determine the optimal number of features"
      ]
    },
    {
      "cell_type": "code",
      "metadata": {
        "id": "D-OOHldKsumu",
        "colab_type": "code",
        "outputId": "67b5b848-a9f7-443e-9b4c-d2e012fceb0f",
        "colab": {
          "base_uri": "https://localhost:8080/",
          "height": 54
        }
      },
      "source": [
        "features_number = np.arange(1, data.shape[1])            \n",
        "high_score = 0\n",
        "feature_number = 0           \n",
        "score_list =[]\n",
        "for n in range(len(features_number)):\n",
        "    X_train, X_test, y_train, y_test = train_test_split(X, y, test_size = 0.3, random_state = 42)\n",
        "    model = lgb.LGBMClassifier(n_estimators = 2000, silent = True)\n",
        "    rfe = RFE(model, features_number[n])\n",
        "    X_train_rfe = rfe.fit_transform(X_train, y_train)\n",
        "    X_test_rfe = rfe.transform(X_test)\n",
        "    model.fit(X_train_rfe, y_train, eval_set = [(X_test_rfe, y_test)], early_stopping_rounds = 10, verbose = 0)\n",
        "    score = model.score(X_test_rfe, y_test)\n",
        "    score_list.append(score)\n",
        "    if(score > high_score):\n",
        "        high_score = score\n",
        "        feature_number = features_number[n]\n",
        "\n",
        "print(\"Optimum number of features: %d\" %feature_number)\n",
        "print(\"Score with %d features: %f\" % (feature_number, high_score))"
      ],
      "execution_count": 0,
      "outputs": [
        {
          "output_type": "stream",
          "text": [
            "Optimum number of features: 31\n",
            "Score with 31 features: 0.874420\n"
          ],
          "name": "stdout"
        }
      ]
    },
    {
      "cell_type": "markdown",
      "metadata": {
        "id": "Zx-P3FLrRUpm",
        "colab_type": "text"
      },
      "source": [
        "## Recursive Feature Elimination"
      ]
    },
    {
      "cell_type": "code",
      "metadata": {
        "id": "y5tOENzosogf",
        "colab_type": "code",
        "outputId": "32c23751-0299-45fe-a19d-b4071bc9f913",
        "colab": {
          "base_uri": "https://localhost:8080/",
          "height": 237
        }
      },
      "source": [
        "cols = list(X.columns)\n",
        "X_train, X_test, y_train, y_test = train_test_split(X, y, test_size = 0.3, random_state = 42)\n",
        "model =lgb.LGBMClassifier(n_estimators = 2000, silent = True)\n",
        "rfe = RFE(model, feature_number)             \n",
        "X_rfe = rfe.fit_transform(X_train, y)\n",
        "X_test_rfe = rfe.transform(X_test)\n",
        "model.fit(X_rfe, y_train, eval_set = [(X_test_rfe, y_test)], early_stopping_rounds = 10, verbose = 0)             \n",
        "temp = pd.Series(rfe.support_, index = cols)\n",
        "selected_features_rfe = temp[temp == True].index\n",
        "print(selected_features_rfe)"
      ],
      "execution_count": 0,
      "outputs": [
        {
          "output_type": "stream",
          "text": [
            "Index(['age', 'workclass', 'final_weight', 'education_duration',\n",
            "       'marital_status', 'occupation', 'relationship', 'race', 'sex',\n",
            "       'capital_gain', 'capital_loss', 'hours_per_week', 'native_country',\n",
            "       'has_missing_values', 'com_workclass', 'com_marital_status',\n",
            "       'com_native_country', 'age final_weight', 'age education_duration',\n",
            "       'age hours_per_week', 'age capital_gain', 'age capital_loss',\n",
            "       'final_weight education_duration', 'final_weight hours_per_week',\n",
            "       'final_weight capital_gain', 'final_weight capital_loss',\n",
            "       'education_duration hours_per_week', 'education_duration capital_gain',\n",
            "       'education_duration capital_loss', 'hours_per_week capital_gain',\n",
            "       'hours_per_week capital_loss'],\n",
            "      dtype='object')\n"
          ],
          "name": "stdout"
        }
      ]
    },
    {
      "cell_type": "code",
      "metadata": {
        "id": "UF6NW53StczR",
        "colab_type": "code",
        "colab": {}
      },
      "source": [
        "features = ['age', 'workclass', 'final_weight', 'education_duration',\n",
        "       'marital_status', 'occupation', 'relationship', 'race', 'sex',\n",
        "       'capital_gain', 'capital_loss', 'hours_per_week', 'native_country',\n",
        "       'has_missing_values', 'com_workclass', 'com_marital_status',\n",
        "       'com_native_country', 'age final_weight', 'age education_duration',\n",
        "       'age hours_per_week', 'age capital_gain', 'age capital_loss',\n",
        "       'final_weight education_duration', 'final_weight hours_per_week',\n",
        "       'final_weight capital_gain', 'final_weight capital_loss',\n",
        "       'education_duration hours_per_week', 'education_duration capital_gain',\n",
        "       'education_duration capital_loss', 'hours_per_week capital_gain',\n",
        "       'hours_per_week capital_loss']\n",
        "np.save(data_path + 'features.pkl', features, allow_pickle = True)"
      ],
      "execution_count": 0,
      "outputs": []
    },
    {
      "cell_type": "code",
      "metadata": {
        "id": "f1B9R0o9TNlr",
        "colab_type": "code",
        "colab": {}
      },
      "source": [
        ""
      ],
      "execution_count": 0,
      "outputs": []
    }
  ]
}