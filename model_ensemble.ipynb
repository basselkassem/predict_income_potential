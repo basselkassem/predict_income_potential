{
  "nbformat": 4,
  "nbformat_minor": 0,
  "metadata": {
    "colab": {
      "name": "model_ensemble.ipynb",
      "provenance": [],
      "collapsed_sections": [],
      "include_colab_link": true
    },
    "kernelspec": {
      "name": "python3",
      "display_name": "Python 3"
    },
    "accelerator": "GPU"
  },
  "cells": [
    {
      "cell_type": "markdown",
      "metadata": {
        "id": "view-in-github",
        "colab_type": "text"
      },
      "source": [
        "<a href=\"https://colab.research.google.com/github/basselkassem/predict_income_potential/blob/master/model_ensemble.ipynb\" target=\"_parent\"><img src=\"https://colab.research.google.com/assets/colab-badge.svg\" alt=\"Open In Colab\"/></a>"
      ]
    },
    {
      "cell_type": "code",
      "metadata": {
        "id": "XKP7gHfKkzel",
        "colab_type": "code",
        "colab": {
          "base_uri": "https://localhost:8080/",
          "height": 35
        },
        "outputId": "237162ac-abbe-4e07-8258-fc1910dd9101"
      },
      "source": [
        "from google.colab import drive\n",
        "drive.mount('/content/gdrive')\n",
        "data_path = \"/content/gdrive/My Drive/Colab Notebooks/predict_income_potential/data/\"\n",
        "model_path = '/content/gdrive/My Drive/Colab Notebooks/predict_income_potential/models/'"
      ],
      "execution_count": 1,
      "outputs": [
        {
          "output_type": "stream",
          "text": [
            "Mounted at /content/gdrive\n"
          ],
          "name": "stdout"
        }
      ]
    },
    {
      "cell_type": "code",
      "metadata": {
        "id": "i17OtAWlgYQl",
        "colab_type": "code",
        "colab": {
          "base_uri": "https://localhost:8080/",
          "height": 313
        },
        "outputId": "232c21b7-d040-4b20-a4b2-c2d8238c187d"
      },
      "source": [
        "!pip install catboost"
      ],
      "execution_count": 2,
      "outputs": [
        {
          "output_type": "stream",
          "text": [
            "Requirement already satisfied: catboost in /usr/local/lib/python3.6/dist-packages (0.18)\n",
            "Requirement already satisfied: six in /usr/local/lib/python3.6/dist-packages (from catboost) (1.12.0)\n",
            "Requirement already satisfied: scipy in /usr/local/lib/python3.6/dist-packages (from catboost) (1.3.1)\n",
            "Requirement already satisfied: plotly in /usr/local/lib/python3.6/dist-packages (from catboost) (4.1.1)\n",
            "Requirement already satisfied: pandas>=0.24.0 in /usr/local/lib/python3.6/dist-packages (from catboost) (0.24.2)\n",
            "Requirement already satisfied: graphviz in /usr/local/lib/python3.6/dist-packages (from catboost) (0.10.1)\n",
            "Requirement already satisfied: numpy>=1.16.0 in /usr/local/lib/python3.6/dist-packages (from catboost) (1.16.5)\n",
            "Requirement already satisfied: matplotlib in /usr/local/lib/python3.6/dist-packages (from catboost) (3.0.3)\n",
            "Requirement already satisfied: retrying>=1.3.3 in /usr/local/lib/python3.6/dist-packages (from plotly->catboost) (1.3.3)\n",
            "Requirement already satisfied: pytz>=2011k in /usr/local/lib/python3.6/dist-packages (from pandas>=0.24.0->catboost) (2018.9)\n",
            "Requirement already satisfied: python-dateutil>=2.5.0 in /usr/local/lib/python3.6/dist-packages (from pandas>=0.24.0->catboost) (2.5.3)\n",
            "Requirement already satisfied: pyparsing!=2.0.4,!=2.1.2,!=2.1.6,>=2.0.1 in /usr/local/lib/python3.6/dist-packages (from matplotlib->catboost) (2.4.2)\n",
            "Requirement already satisfied: cycler>=0.10 in /usr/local/lib/python3.6/dist-packages (from matplotlib->catboost) (0.10.0)\n",
            "Requirement already satisfied: kiwisolver>=1.0.1 in /usr/local/lib/python3.6/dist-packages (from matplotlib->catboost) (1.1.0)\n",
            "Requirement already satisfied: setuptools in /usr/local/lib/python3.6/dist-packages (from kiwisolver>=1.0.1->matplotlib->catboost) (41.4.0)\n"
          ],
          "name": "stdout"
        }
      ]
    },
    {
      "cell_type": "markdown",
      "metadata": {
        "id": "x1NiptVCgVwO",
        "colab_type": "text"
      },
      "source": [
        "# Import libs"
      ]
    },
    {
      "cell_type": "code",
      "metadata": {
        "id": "G0sCFUzclc63",
        "colab_type": "code",
        "colab": {}
      },
      "source": [
        "import pandas as pd\n",
        "import numpy as np\n",
        "import lightgbm as lgb\n",
        "from sklearn.model_selection import train_test_split\n",
        "from sklearn.metrics import f1_score, accuracy_score, roc_auc_score\n",
        "import matplotlib.pyplot as plt\n",
        "%matplotlib inline\n",
        "import joblib\n",
        "import lightgbm as lgb\n",
        "from xgboost import XGBClassifier\n",
        "from catboost import CatBoostClassifier"
      ],
      "execution_count": 0,
      "outputs": []
    },
    {
      "cell_type": "markdown",
      "metadata": {
        "id": "hdY7nBLeopTj",
        "colab_type": "text"
      },
      "source": [
        "# Utile functions"
      ]
    },
    {
      "cell_type": "code",
      "metadata": {
        "id": "DruwEvjQotFT",
        "colab_type": "code",
        "colab": {}
      },
      "source": [
        "\n",
        "\n",
        "cat_features = ['workclass', 'education_duration',\n",
        "       'marital_status', 'occupation', 'relationship', 'race', 'sex', 'native_country',\n",
        "       'has_missing_values', 'com_workclass', 'com_marital_status',\n",
        "       'com_native_country']\n",
        "       \n",
        "def preproc(X_train, X_val, X_test):\n",
        "    input_list_train = []\n",
        "    input_list_val = []\n",
        "    input_list_test = []\n",
        "    \n",
        "    #the cols to be embedded: rescaling to range [0, # values)\n",
        "    for c in cat_features:\n",
        "        raw_vals = np.unique(X_train[c])\n",
        "        val_map = {}\n",
        "        for i in range(len(raw_vals)):\n",
        "            val_map[raw_vals[i]] = i       \n",
        "        input_list_train.append(X_train[c].map(val_map).values)\n",
        "        input_list_val.append(X_val[c].map(val_map).fillna(0).values)\n",
        "        input_list_test.append(X_test[c].map(val_map).fillna(0).values)\n",
        "     \n",
        "    #the rest of the columns\n",
        "    other_cols = [c for c in X_train.columns if (not c in cat_features)]\n",
        "    input_list_train.append(X_train[other_cols].values)\n",
        "    input_list_val.append(X_val[other_cols].values)\n",
        "    input_list_test.append(X_test[other_cols].values)\n",
        "    \n",
        "    return input_list_train, input_list_val, input_list_test"
      ],
      "execution_count": 0,
      "outputs": []
    },
    {
      "cell_type": "markdown",
      "metadata": {
        "id": "qyGXq39Ge7Iz",
        "colab_type": "text"
      },
      "source": [
        "# Load data"
      ]
    },
    {
      "cell_type": "code",
      "metadata": {
        "id": "7G8OFNk0fAR3",
        "colab_type": "code",
        "colab": {
          "base_uri": "https://localhost:8080/",
          "height": 54
        },
        "outputId": "4b5afcf8-4ea1-405c-a1fc-ba776fd622ee"
      },
      "source": [
        "data = pd.read_pickle(data_path + 'data_cont_cat_lb.pkl')\n",
        "features = list(np.load(data_path + 'features.pkl.npy'))\n",
        "print('data shape: ', data.shape)\n",
        "print('features lenght: ', len(features))"
      ],
      "execution_count": 5,
      "outputs": [
        {
          "output_type": "stream",
          "text": [
            "data shape:  (48813, 39)\n",
            "features lenght:  31\n"
          ],
          "name": "stdout"
        }
      ]
    },
    {
      "cell_type": "markdown",
      "metadata": {
        "id": "QJMYmQXSe0aR",
        "colab_type": "text"
      },
      "source": [
        "# Load base model"
      ]
    },
    {
      "cell_type": "code",
      "metadata": {
        "id": "Ug6VyK_mlxYO",
        "colab_type": "code",
        "colab": {}
      },
      "source": [
        "model_lrg = joblib.load(model_path + 'model_lrg.joblib')\n",
        "model_gmm = joblib.load(model_path + 'model_gmm.joblib')\n",
        "model_knn = joblib.load(model_path + 'model_knn.joblib')"
      ],
      "execution_count": 0,
      "outputs": []
    },
    {
      "cell_type": "code",
      "metadata": {
        "id": "d00PIkgqgDZP",
        "colab_type": "code",
        "colab": {}
      },
      "source": [
        "model_catboost = CatBoostClassifier()\n",
        "model_catboost.load_model(model_path + 'catboost_model.json', format = 'json')\n",
        "\n",
        "model_lgbm = lgb.Booster(model_file = model_path + 'lgbm_model.txt')"
      ],
      "execution_count": 0,
      "outputs": []
    },
    {
      "cell_type": "code",
      "metadata": {
        "id": "84UYdhYpfnqd",
        "colab_type": "code",
        "colab": {
          "base_uri": "https://localhost:8080/",
          "height": 349
        },
        "outputId": "01931275-8069-415a-f1c0-5454781e1f72"
      },
      "source": [
        "from keras.models import load_model\n",
        "from keras.models import model_from_json\n",
        "\n",
        "json_file = open(model_path + 'nn_model.json', 'r')\n",
        "loaded_model_json = json_file.read()\n",
        "json_file.close()\n",
        "model_nn = model_from_json(loaded_model_json)\n",
        "model_nn.load_weights(model_path + \"nn_model_1.h5\")"
      ],
      "execution_count": 8,
      "outputs": [
        {
          "output_type": "stream",
          "text": [
            "Using TensorFlow backend.\n"
          ],
          "name": "stderr"
        },
        {
          "output_type": "stream",
          "text": [
            "WARNING:tensorflow:From /usr/local/lib/python3.6/dist-packages/keras/backend/tensorflow_backend.py:541: The name tf.placeholder is deprecated. Please use tf.compat.v1.placeholder instead.\n",
            "\n",
            "WARNING:tensorflow:From /usr/local/lib/python3.6/dist-packages/keras/backend/tensorflow_backend.py:4432: The name tf.random_uniform is deprecated. Please use tf.random.uniform instead.\n",
            "\n",
            "WARNING:tensorflow:From /usr/local/lib/python3.6/dist-packages/keras/backend/tensorflow_backend.py:190: The name tf.get_default_session is deprecated. Please use tf.compat.v1.get_default_session instead.\n",
            "\n",
            "WARNING:tensorflow:From /usr/local/lib/python3.6/dist-packages/keras/backend/tensorflow_backend.py:197: The name tf.ConfigProto is deprecated. Please use tf.compat.v1.ConfigProto instead.\n",
            "\n",
            "WARNING:tensorflow:From /usr/local/lib/python3.6/dist-packages/keras/backend/tensorflow_backend.py:203: The name tf.Session is deprecated. Please use tf.compat.v1.Session instead.\n",
            "\n",
            "WARNING:tensorflow:From /usr/local/lib/python3.6/dist-packages/keras/backend/tensorflow_backend.py:207: The name tf.global_variables is deprecated. Please use tf.compat.v1.global_variables instead.\n",
            "\n",
            "WARNING:tensorflow:From /usr/local/lib/python3.6/dist-packages/keras/backend/tensorflow_backend.py:216: The name tf.is_variable_initialized is deprecated. Please use tf.compat.v1.is_variable_initialized instead.\n",
            "\n",
            "WARNING:tensorflow:From /usr/local/lib/python3.6/dist-packages/keras/backend/tensorflow_backend.py:223: The name tf.variables_initializer is deprecated. Please use tf.compat.v1.variables_initializer instead.\n",
            "\n"
          ],
          "name": "stdout"
        }
      ]
    },
    {
      "cell_type": "markdown",
      "metadata": {
        "id": "sXJyTCPAhArN",
        "colab_type": "text"
      },
      "source": [
        "# Generate meta features"
      ]
    },
    {
      "cell_type": "code",
      "metadata": {
        "id": "ieyxqyuIg_KB",
        "colab_type": "code",
        "colab": {}
      },
      "source": [
        "data = data[features + ['target']]\n",
        "X, y = data.drop(columns = 'target'), data['target']\n",
        "X_train, X_test, y_train, y_test = train_test_split(X, y, shuffle = True, test_size = 0.2, random_state = 42)\n",
        "X_train, X_val, y_train, y_val = train_test_split(X_train, y_train, shuffle = True, test_size = 0.25, random_state = 42)"
      ],
      "execution_count": 0,
      "outputs": []
    },
    {
      "cell_type": "code",
      "metadata": {
        "id": "zyie3G6FpGYM",
        "colab_type": "code",
        "colab": {}
      },
      "source": [
        "X_train_list, X_val_list, X_test_list = preproc(X_train, X_val, X_test)"
      ],
      "execution_count": 0,
      "outputs": []
    },
    {
      "cell_type": "markdown",
      "metadata": {
        "id": "CgRVYtTJmbYY",
        "colab_type": "text"
      },
      "source": [
        "## Test meta features"
      ]
    },
    {
      "cell_type": "code",
      "metadata": {
        "id": "ehPDccwZmQSF",
        "colab_type": "code",
        "colab": {}
      },
      "source": [
        "y_test_lrg_hat = model_lrg.predict_proba(X_test)\n",
        "y_test_gmm_hat = model_gmm.predict_proba(X_test)\n",
        "y_test_knn_hat = model_knn.predict_proba(X_test)\n",
        "y_test_catboost_hat = model_catboost.predict_proba(X_test)\n",
        "y_test_lgbm_hat = model_lgbm.predict(X_test, raw_score  = True)\n",
        "y_test_nn_hat = model_nn.predict(X_test_list)"
      ],
      "execution_count": 0,
      "outputs": []
    },
    {
      "cell_type": "code",
      "metadata": {
        "id": "jKU2eiN_nkBO",
        "colab_type": "code",
        "colab": {}
      },
      "source": [
        "X_test_level2 = np.c_[y_test_lrg_hat,\n",
        "                      y_test_gmm_hat, \n",
        "                      y_test_knn_hat, \n",
        "                      y_test_catboost_hat,\n",
        "                      y_test_lgbm_hat, \n",
        "                      y_test_nn_hat,\n",
        "                      ] "
      ],
      "execution_count": 0,
      "outputs": []
    },
    {
      "cell_type": "code",
      "metadata": {
        "id": "QKoi3bNjpmTE",
        "colab_type": "code",
        "colab": {
          "base_uri": "https://localhost:8080/",
          "height": 35
        },
        "outputId": "4959e294-ee04-4999-ebe1-dfd5aa5b4de1"
      },
      "source": [
        "X_test_level2.shape"
      ],
      "execution_count": 24,
      "outputs": [
        {
          "output_type": "execute_result",
          "data": {
            "text/plain": [
              "(9763, 10)"
            ]
          },
          "metadata": {
            "tags": []
          },
          "execution_count": 24
        }
      ]
    },
    {
      "cell_type": "markdown",
      "metadata": {
        "id": "rX66DTr2puqd",
        "colab_type": "text"
      },
      "source": [
        "## Validation meta features"
      ]
    },
    {
      "cell_type": "code",
      "metadata": {
        "id": "d1EOmLpXpp2w",
        "colab_type": "code",
        "colab": {}
      },
      "source": [
        "y_val_lrg_hat = model_lrg.predict_proba(X_val)\n",
        "y_val_gmm_hat = model_gmm.predict_proba(X_val)\n",
        "y_val_knn_hat = model_knn.predict_proba(X_val)\n",
        "y_val_catboost_hat = model_catboost.predict_proba(X_val)\n",
        "y_val_lgbm_hat = model_lgbm.predict(X_val, raw_score  = True)\n",
        "y_val_nn_hat = model_nn.predict(X_val_list)"
      ],
      "execution_count": 0,
      "outputs": []
    },
    {
      "cell_type": "code",
      "metadata": {
        "id": "5N4moSL9qBEs",
        "colab_type": "code",
        "colab": {}
      },
      "source": [
        "X_val_level2 = np.c_[y_val_lrg_hat, \n",
        "                     y_val_gmm_hat,\n",
        "                     y_val_knn_hat, \n",
        "                     y_val_catboost_hat,\n",
        "                     y_val_lgbm_hat,\n",
        "                     y_val_nn_hat,\n",
        "                     ] "
      ],
      "execution_count": 0,
      "outputs": []
    },
    {
      "cell_type": "code",
      "metadata": {
        "id": "vpohBr3zqL7m",
        "colab_type": "code",
        "colab": {
          "base_uri": "https://localhost:8080/",
          "height": 35
        },
        "outputId": "60825247-0927-46c2-908b-a42611038a8c"
      },
      "source": [
        "X_val_level2.shape"
      ],
      "execution_count": 27,
      "outputs": [
        {
          "output_type": "execute_result",
          "data": {
            "text/plain": [
              "(9763, 10)"
            ]
          },
          "metadata": {
            "tags": []
          },
          "execution_count": 27
        }
      ]
    },
    {
      "cell_type": "markdown",
      "metadata": {
        "id": "GGYHD3KuqTIo",
        "colab_type": "text"
      },
      "source": [
        "## Train meta features"
      ]
    },
    {
      "cell_type": "code",
      "metadata": {
        "id": "hG6hedRKqOLk",
        "colab_type": "code",
        "colab": {}
      },
      "source": [
        "y_train_lrg_hat = model_lrg.predict_proba(X_train)\n",
        "y_train_gmm_hat = model_gmm.predict_proba(X_train)\n",
        "y_train_knn_hat = model_knn.predict_proba(X_train)\n",
        "y_train_catboost_hat = model_catboost.predict_proba(X_train)\n",
        "y_train_lgbm_hat = model_lgbm.predict(X_train, raw_score  = True)\n",
        "y_train_nn_hat = model_nn.predict(X_train_list)"
      ],
      "execution_count": 0,
      "outputs": []
    },
    {
      "cell_type": "code",
      "metadata": {
        "id": "x8mtOZdtqj09",
        "colab_type": "code",
        "colab": {}
      },
      "source": [
        "X_train_level2 = np.c_[y_train_lrg_hat, \n",
        "                       y_train_gmm_hat,\n",
        "                       y_train_knn_hat, \n",
        "                       y_train_catboost_hat,\n",
        "                       y_train_lgbm_hat, \n",
        "                       y_train_nn_hat,\n",
        "                       ] "
      ],
      "execution_count": 0,
      "outputs": []
    },
    {
      "cell_type": "code",
      "metadata": {
        "id": "s7cT75x8quC3",
        "colab_type": "code",
        "colab": {
          "base_uri": "https://localhost:8080/",
          "height": 35
        },
        "outputId": "446bc25b-0a0f-422a-a1f9-b8cbbb67a506"
      },
      "source": [
        "X_train_level2.shape"
      ],
      "execution_count": 30,
      "outputs": [
        {
          "output_type": "execute_result",
          "data": {
            "text/plain": [
              "(29287, 10)"
            ]
          },
          "metadata": {
            "tags": []
          },
          "execution_count": 30
        }
      ]
    },
    {
      "cell_type": "markdown",
      "metadata": {
        "id": "IB-NEE5Mq2zz",
        "colab_type": "text"
      },
      "source": [
        "# Stacking"
      ]
    },
    {
      "cell_type": "markdown",
      "metadata": {
        "id": "oK4564sZrj8Q",
        "colab_type": "text"
      },
      "source": [
        "## Build meta model"
      ]
    },
    {
      "cell_type": "code",
      "metadata": {
        "id": "CNrrUMY8rf6-",
        "colab_type": "code",
        "colab": {
          "base_uri": "https://localhost:8080/",
          "height": 1000
        },
        "outputId": "dbeae387-72f3-49a0-8eaf-b4ecec62abed"
      },
      "source": [
        "meta_model = XGBClassifier(\n",
        "    n_estimators = 1000,\n",
        "   )\n",
        "\n",
        "meta_model.fit(\n",
        "    X_train_level2, \n",
        "    y_train, \n",
        "    eval_metric = 'logloss',\n",
        "    eval_set = [(X_train_level2, y_train), (X_val_level2, y_val)], \n",
        "    verbose=True, \n",
        "    early_stopping_rounds = 10)"
      ],
      "execution_count": 53,
      "outputs": [
        {
          "output_type": "stream",
          "text": [
            "[0]\tvalidation_0-logloss:0.62334\tvalidation_1-logloss:0.628775\n",
            "Multiple eval metrics have been passed: 'validation_1-logloss' will be used for early stopping.\n",
            "\n",
            "Will train until validation_1-logloss hasn't improved in 10 rounds.\n",
            "[1]\tvalidation_0-logloss:0.566132\tvalidation_1-logloss:0.576386\n",
            "[2]\tvalidation_0-logloss:0.518383\tvalidation_1-logloss:0.53294\n",
            "[3]\tvalidation_0-logloss:0.478136\tvalidation_1-logloss:0.49706\n",
            "[4]\tvalidation_0-logloss:0.443782\tvalidation_1-logloss:0.466798\n",
            "[5]\tvalidation_0-logloss:0.414388\tvalidation_1-logloss:0.440731\n",
            "[6]\tvalidation_0-logloss:0.388932\tvalidation_1-logloss:0.4185\n",
            "[7]\tvalidation_0-logloss:0.366848\tvalidation_1-logloss:0.399476\n",
            "[8]\tvalidation_0-logloss:0.347596\tvalidation_1-logloss:0.383087\n",
            "[9]\tvalidation_0-logloss:0.330716\tvalidation_1-logloss:0.369437\n",
            "[10]\tvalidation_0-logloss:0.315711\tvalidation_1-logloss:0.357366\n",
            "[11]\tvalidation_0-logloss:0.302423\tvalidation_1-logloss:0.347083\n",
            "[12]\tvalidation_0-logloss:0.290908\tvalidation_1-logloss:0.337834\n",
            "[13]\tvalidation_0-logloss:0.280745\tvalidation_1-logloss:0.329907\n",
            "[14]\tvalidation_0-logloss:0.271762\tvalidation_1-logloss:0.322997\n",
            "[15]\tvalidation_0-logloss:0.263795\tvalidation_1-logloss:0.31707\n",
            "[16]\tvalidation_0-logloss:0.256764\tvalidation_1-logloss:0.311929\n",
            "[17]\tvalidation_0-logloss:0.25042\tvalidation_1-logloss:0.307461\n",
            "[18]\tvalidation_0-logloss:0.244688\tvalidation_1-logloss:0.303651\n",
            "[19]\tvalidation_0-logloss:0.239487\tvalidation_1-logloss:0.300383\n",
            "[20]\tvalidation_0-logloss:0.235001\tvalidation_1-logloss:0.297454\n",
            "[21]\tvalidation_0-logloss:0.230995\tvalidation_1-logloss:0.295247\n",
            "[22]\tvalidation_0-logloss:0.227224\tvalidation_1-logloss:0.293182\n",
            "[23]\tvalidation_0-logloss:0.223982\tvalidation_1-logloss:0.291401\n",
            "[24]\tvalidation_0-logloss:0.221108\tvalidation_1-logloss:0.289883\n",
            "[25]\tvalidation_0-logloss:0.218542\tvalidation_1-logloss:0.288657\n",
            "[26]\tvalidation_0-logloss:0.216235\tvalidation_1-logloss:0.28761\n",
            "[27]\tvalidation_0-logloss:0.213977\tvalidation_1-logloss:0.286968\n",
            "[28]\tvalidation_0-logloss:0.212096\tvalidation_1-logloss:0.286256\n",
            "[29]\tvalidation_0-logloss:0.210406\tvalidation_1-logloss:0.285563\n",
            "[30]\tvalidation_0-logloss:0.208659\tvalidation_1-logloss:0.285466\n",
            "[31]\tvalidation_0-logloss:0.207262\tvalidation_1-logloss:0.285144\n",
            "[32]\tvalidation_0-logloss:0.205907\tvalidation_1-logloss:0.284894\n",
            "[33]\tvalidation_0-logloss:0.204604\tvalidation_1-logloss:0.284881\n",
            "[34]\tvalidation_0-logloss:0.203251\tvalidation_1-logloss:0.285153\n",
            "[35]\tvalidation_0-logloss:0.202291\tvalidation_1-logloss:0.285158\n",
            "[36]\tvalidation_0-logloss:0.201426\tvalidation_1-logloss:0.285068\n",
            "[37]\tvalidation_0-logloss:0.2003\tvalidation_1-logloss:0.285745\n",
            "[38]\tvalidation_0-logloss:0.199574\tvalidation_1-logloss:0.285856\n",
            "[39]\tvalidation_0-logloss:0.198774\tvalidation_1-logloss:0.286079\n",
            "[40]\tvalidation_0-logloss:0.198169\tvalidation_1-logloss:0.28606\n",
            "[41]\tvalidation_0-logloss:0.197361\tvalidation_1-logloss:0.28677\n",
            "[42]\tvalidation_0-logloss:0.196591\tvalidation_1-logloss:0.287439\n",
            "[43]\tvalidation_0-logloss:0.196113\tvalidation_1-logloss:0.287492\n",
            "Stopping. Best iteration:\n",
            "[33]\tvalidation_0-logloss:0.204604\tvalidation_1-logloss:0.284881\n",
            "\n"
          ],
          "name": "stdout"
        },
        {
          "output_type": "execute_result",
          "data": {
            "text/plain": [
              "XGBClassifier(base_score=0.5, booster='gbtree', colsample_bylevel=1,\n",
              "              colsample_bynode=1, colsample_bytree=1, gamma=0,\n",
              "              learning_rate=0.1, max_delta_step=0, max_depth=3,\n",
              "              min_child_weight=1, missing=None, n_estimators=1000, n_jobs=1,\n",
              "              nthread=None, objective='binary:logistic', random_state=0,\n",
              "              reg_alpha=0, reg_lambda=1, scale_pos_weight=1, seed=None,\n",
              "              silent=None, subsample=1, verbosity=1)"
            ]
          },
          "metadata": {
            "tags": []
          },
          "execution_count": 53
        }
      ]
    },
    {
      "cell_type": "code",
      "metadata": {
        "id": "vm2eniAesdEc",
        "colab_type": "code",
        "colab": {
          "base_uri": "https://localhost:8080/",
          "height": 164
        },
        "outputId": "d2c16053-c938-4e9c-d19e-6ee39ad652c3"
      },
      "source": [
        "y_train_hat = meta_model.predict(X_train_level2).round()\n",
        "y_test_hat = meta_model.predict(X_test_level2).round()\n",
        "\n",
        "tr_acc = accuracy_score(y_train, y_train_hat)\n",
        "tr_f1 = f1_score(y_train, y_train_hat)\n",
        "tr_auc = roc_auc_score(y_train, y_train_hat)\n",
        "\n",
        "test_acc = accuracy_score(y_test, y_test_hat)\n",
        "test_f1 = f1_score(y_test, y_test_hat)\n",
        "test_auc = roc_auc_score(y_test, y_test_hat)\n",
        "print('------train-----------')\n",
        "print('accuracy_score: ', tr_acc)\n",
        "print('f1_score: ', tr_f1)\n",
        "print('roc_auc_score: ', tr_auc)\n",
        "print('------test-------------')\n",
        "print('accuracy_score: ', test_acc)\n",
        "print('f1_score: ', test_f1)\n",
        "print('roc_auc_score: ', test_auc)"
      ],
      "execution_count": 54,
      "outputs": [
        {
          "output_type": "stream",
          "text": [
            "------train-----------\n",
            "accuracy_score:  0.9090381397889848\n",
            "f1_score:  0.8016381236038719\n",
            "roc_auc_score:  0.8614148153190828\n",
            "------test-------------\n",
            "accuracy_score:  0.86602478746287\n",
            "f1_score:  0.7156521739130435\n",
            "roc_auc_score:  0.8062669846407177\n"
          ],
          "name": "stdout"
        }
      ]
    },
    {
      "cell_type": "code",
      "metadata": {
        "id": "XA0QHS6is-8Z",
        "colab_type": "code",
        "colab": {
          "base_uri": "https://localhost:8080/",
          "height": 332
        },
        "outputId": "27aa4a29-358b-4346-acbc-406799f93893"
      },
      "source": [
        "from sklearn.metrics import confusion_matrix\n",
        "import seaborn as sns\n",
        "labels = [0, 1]\n",
        "cm = confusion_matrix(y_test, y_test_hat, labels)\n",
        "print(cm)\n",
        "ax =  plt.subplot()\n",
        "sns.heatmap(cm, annot = True, ax = ax);\n",
        "\n",
        "ax.set_xlabel('Predicted labels');\n",
        "ax.set_ylabel('True labels'); \n",
        "ax.set_title('Confusion Matrix'); \n",
        "ax.xaxis.set_ticklabels(['<=50k', '>50k']); \n",
        "ax.yaxis.set_ticklabels(['<=50k', '>50k']);"
      ],
      "execution_count": 55,
      "outputs": [
        {
          "output_type": "stream",
          "text": [
            "[[6809  566]\n",
            " [ 742 1646]]\n"
          ],
          "name": "stdout"
        },
        {
          "output_type": "display_data",
          "data": {
            "image/png": "[encoded data removed]",
            "text/plain": [
              "<Figure size 432x288 with 2 Axes>"
            ]
          },
          "metadata": {
            "tags": []
          }
        }
      ]
    },
    {
      "cell_type": "code",
      "metadata": {
        "id": "EIUtwZ2cuGOm",
        "colab_type": "code",
        "colab": {
          "base_uri": "https://localhost:8080/",
          "height": 182
        },
        "outputId": "c9c53f4f-3208-4190-a2d8-6b54d9dbd492"
      },
      "source": [
        "from sklearn.metrics import classification_report\n",
        "print(classification_report(y_test, y_test_hat))"
      ],
      "execution_count": 56,
      "outputs": [
        {
          "output_type": "stream",
          "text": [
            "              precision    recall  f1-score   support\n",
            "\n",
            "           0       0.90      0.92      0.91      7375\n",
            "           1       0.74      0.69      0.72      2388\n",
            "\n",
            "    accuracy                           0.87      9763\n",
            "   macro avg       0.82      0.81      0.81      9763\n",
            "weighted avg       0.86      0.87      0.86      9763\n",
            "\n"
          ],
          "name": "stdout"
        }
      ]
    },
    {
      "cell_type": "code",
      "metadata": {
        "id": "zdep8Kh8uKzo",
        "colab_type": "code",
        "colab": {}
      },
      "source": [
        ""
      ],
      "execution_count": 0,
      "outputs": []
    }
  ]
}