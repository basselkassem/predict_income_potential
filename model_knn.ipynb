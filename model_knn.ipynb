{
  "nbformat": 4,
  "nbformat_minor": 0,
  "metadata": {
    "colab": {
      "name": "model_knn.ipynb",
      "provenance": [],
      "include_colab_link": true
    },
    "kernelspec": {
      "name": "python3",
      "display_name": "Python 3"
    }
  },
  "cells": [
    {
      "cell_type": "markdown",
      "metadata": {
        "id": "view-in-github",
        "colab_type": "text"
      },
      "source": [
        "<a href=\"https://colab.research.google.com/github/basselkassem/predict_income_potential/blob/master/model_knn.ipynb\" target=\"_parent\"><img src=\"https://colab.research.google.com/assets/colab-badge.svg\" alt=\"Open In Colab\"/></a>"
      ]
    },
    {
      "cell_type": "code",
      "metadata": {
        "id": "nAJHLGVIMgLq",
        "colab_type": "code",
        "colab": {
          "base_uri": "https://localhost:8080/",
          "height": 129
        },
        "outputId": "de1b0e07-064d-4582-f832-20b221d37701"
      },
      "source": [
        "from google.colab import drive\n",
        "drive.mount('/content/gdrive')\n",
        "data_path = \"/content/gdrive/My Drive/Colab Notebooks/predict_income_potential/data/\"\n",
        "model_path = '/content/gdrive/My Drive/Colab Notebooks/predict_income_potential/models/'"
      ],
      "execution_count": 1,
      "outputs": [
        {
          "output_type": "stream",
          "text": [
            "Go to this URL in a browser: https://accounts.google.com/o/oauth2/auth?client_id=947318989803-6bn6qk8qdgf4n4g3pfee6491hc0brc4i.apps.googleusercontent.com&redirect_uri=urn%3Aietf%3Awg%3Aoauth%3A2.0%3Aoob&scope=email%20https%3A%2F%2Fwww.googleapis.com%2Fauth%2Fdocs.test%20https%3A%2F%2Fwww.googleapis.com%2Fauth%2Fdrive%20https%3A%2F%2Fwww.googleapis.com%2Fauth%2Fdrive.photos.readonly%20https%3A%2F%2Fwww.googleapis.com%2Fauth%2Fpeopleapi.readonly&response_type=code\n",
            "\n",
            "Enter your authorization code:\n",
            "··········\n",
            "Mounted at /content/gdrive\n"
          ],
          "name": "stdout"
        }
      ]
    },
    {
      "cell_type": "markdown",
      "metadata": {
        "id": "k8LrAvQ2RCsp",
        "colab_type": "text"
      },
      "source": [
        "# Import Libs"
      ]
    },
    {
      "cell_type": "code",
      "metadata": {
        "id": "KqrfmCyEMnff",
        "colab_type": "code",
        "colab": {}
      },
      "source": [
        "import pandas as pd\n",
        "import numpy as np\n",
        "from sklearn.model_selection import train_test_split\n",
        "from sklearn.metrics import f1_score, accuracy_score, roc_auc_score\n",
        "from sklearn.neighbors import KNeighborsClassifier\n",
        "import matplotlib.pyplot as plt\n",
        "%matplotlib inline"
      ],
      "execution_count": 0,
      "outputs": []
    },
    {
      "cell_type": "markdown",
      "metadata": {
        "id": "w3quDGDeRFkJ",
        "colab_type": "text"
      },
      "source": [
        "# Load data"
      ]
    },
    {
      "cell_type": "code",
      "metadata": {
        "id": "vyyCP1EzM16-",
        "colab_type": "code",
        "colab": {
          "base_uri": "https://localhost:8080/",
          "height": 54
        },
        "outputId": "cb406602-5629-42d8-82b9-c8ac1b3e719a"
      },
      "source": [
        "data = pd.read_pickle(data_path + 'data_cont_cat_lb.pkl')\n",
        "features = list(np.load(data_path + 'features.pkl.npy'))\n",
        "print('data shape: ', data.shape)\n",
        "print('features lenght: ', len(features))"
      ],
      "execution_count": 3,
      "outputs": [
        {
          "output_type": "stream",
          "text": [
            "data shape:  (48813, 39)\n",
            "features lenght:  31\n"
          ],
          "name": "stdout"
        }
      ]
    },
    {
      "cell_type": "markdown",
      "metadata": {
        "id": "2KVNzjRNRIx-",
        "colab_type": "text"
      },
      "source": [
        "# Train test split"
      ]
    },
    {
      "cell_type": "code",
      "metadata": {
        "id": "0KBKS-gtM4lm",
        "colab_type": "code",
        "colab": {}
      },
      "source": [
        "data = data[features + ['target']]\n",
        "X, y = data.drop(columns = 'target'), data['target']\n",
        "X_train, X_test, y_train, y_test = train_test_split(X, y, test_size = 0.33, random_state = 42)"
      ],
      "execution_count": 0,
      "outputs": []
    },
    {
      "cell_type": "markdown",
      "metadata": {
        "id": "lX1zNySZRQSf",
        "colab_type": "text"
      },
      "source": [
        "# Model definition"
      ]
    },
    {
      "cell_type": "code",
      "metadata": {
        "id": "8uC9GOF8M7z1",
        "colab_type": "code",
        "colab": {}
      },
      "source": [
        "scores = []\n",
        "k_range = range(2, 14)\n",
        "for k in k_range:\n",
        "  model = KNeighborsClassifier(n_neighbors = k)\n",
        "  model.fit(X_train, y_train)\n",
        "  y_test_hat = model.predict(X_test)\n",
        "  test_f1 = f1_score(y_test, y_test_hat)\n",
        "  scores.append(test_f1)"
      ],
      "execution_count": 0,
      "outputs": []
    },
    {
      "cell_type": "code",
      "metadata": {
        "id": "PW_4cjMdN1Zr",
        "colab_type": "code",
        "colab": {
          "base_uri": "https://localhost:8080/",
          "height": 269
        },
        "outputId": "7edb9562-f6c5-4c05-ed09-84537537ef93"
      },
      "source": [
        "plt.plot(k_range, scores)\n",
        "plt.show()"
      ],
      "execution_count": 22,
      "outputs": [
        {
          "output_type": "display_data",
          "data": {
            "image/png": "[encoded data removed]",
            "text/plain": [
              "<Figure size 432x288 with 1 Axes>"
            ]
          },
          "metadata": {
            "tags": []
          }
        }
      ]
    },
    {
      "cell_type": "markdown",
      "metadata": {
        "id": "1Z_nta0zRX32",
        "colab_type": "text"
      },
      "source": [
        "# Model training"
      ]
    },
    {
      "cell_type": "code",
      "metadata": {
        "id": "O25urH6IQi-H",
        "colab_type": "code",
        "colab": {
          "base_uri": "https://localhost:8080/",
          "height": 72
        },
        "outputId": "f96fd907-533a-4bc8-a103-b79cfe1f8131"
      },
      "source": [
        "model = KNeighborsClassifier(n_neighbors = 3)\n",
        "model.fit(X_train, y_train)"
      ],
      "execution_count": 24,
      "outputs": [
        {
          "output_type": "execute_result",
          "data": {
            "text/plain": [
              "KNeighborsClassifier(algorithm='auto', leaf_size=30, metric='minkowski',\n",
              "                     metric_params=None, n_jobs=None, n_neighbors=3, p=2,\n",
              "                     weights='uniform')"
            ]
          },
          "metadata": {
            "tags": []
          },
          "execution_count": 24
        }
      ]
    },
    {
      "cell_type": "markdown",
      "metadata": {
        "id": "4vDA2XOwRbKQ",
        "colab_type": "text"
      },
      "source": [
        "# Model evaluation"
      ]
    },
    {
      "cell_type": "code",
      "metadata": {
        "id": "hQDUJICdN16I",
        "colab_type": "code",
        "colab": {
          "base_uri": "https://localhost:8080/",
          "height": 164
        },
        "outputId": "64e7f7b8-c764-44e8-9277-0ee2370628cd"
      },
      "source": [
        "y_train_hat = model.predict(X_train)\n",
        "y_test_hat = model.predict(X_test)\n",
        "\n",
        "tr_acc = accuracy_score(y_train, y_train_hat)\n",
        "tr_f1 = f1_score(y_train, y_train_hat)\n",
        "tr_auc = roc_auc_score(y_train, y_train_hat)\n",
        "\n",
        "test_acc = accuracy_score(y_test, y_test_hat)\n",
        "test_f1 = f1_score(y_test, y_test_hat)\n",
        "test_auc = roc_auc_score(y_test, y_test_hat)\n",
        "print('------train-----------')\n",
        "print('accuracy_score: ', tr_acc)\n",
        "print('f1_score: ', tr_f1)\n",
        "print('roc_auc_score: ', tr_auc)\n",
        "print('------test-------------')\n",
        "print('accuracy_score: ', test_acc)\n",
        "print('f1_score: ', test_f1)\n",
        "print('roc_auc_score: ', test_auc)"
      ],
      "execution_count": 25,
      "outputs": [
        {
          "output_type": "stream",
          "text": [
            "------train-----------\n",
            "accuracy_score:  0.8628913894324853\n",
            "f1_score:  0.6719824433065106\n",
            "roc_auc_score:  0.7691608505280215\n",
            "------test-------------\n",
            "accuracy_score:  0.7568440002483084\n",
            "f1_score:  0.4267525245133909\n",
            "roc_auc_score:  0.6264575834375161\n"
          ],
          "name": "stdout"
        }
      ]
    },
    {
      "cell_type": "code",
      "metadata": {
        "id": "nGtWLdG-U2ik",
        "colab_type": "code",
        "colab": {
          "base_uri": "https://localhost:8080/",
          "height": 332
        },
        "outputId": "081b8ef8-fa87-4a89-cdea-74d00b9f8a61"
      },
      "source": [
        "from sklearn.metrics import confusion_matrix\n",
        "import seaborn as sns\n",
        "import matplotlib.pyplot as plt\n",
        "%matplotlib inline\n",
        "labels = [0, 1]\n",
        "cm = confusion_matrix(y_test, y_test_hat, labels)\n",
        "print(cm)\n",
        "ax =  plt.subplot()\n",
        "sns.heatmap(cm, annot = True, ax = ax);\n",
        "\n",
        "ax.set_xlabel('Predicted labels');\n",
        "ax.set_ylabel('True labels'); \n",
        "ax.set_title('Confusion Matrix'); \n",
        "ax.xaxis.set_ticklabels(['<=50k', '>50k']); \n",
        "ax.yaxis.set_ticklabels(['<=50k', '>50k']);"
      ],
      "execution_count": 28,
      "outputs": [
        {
          "output_type": "stream",
          "text": [
            "[[10734  1470]\n",
            " [ 2447  1458]]\n"
          ],
          "name": "stdout"
        },
        {
          "output_type": "display_data",
          "data": {
            "image/png": "[encoded data removed]",
            "text/plain": [
              "<Figure size 432x288 with 2 Axes>"
            ]
          },
          "metadata": {
            "tags": []
          }
        }
      ]
    },
    {
      "cell_type": "code",
      "metadata": {
        "id": "wcGEDIkxU5ja",
        "colab_type": "code",
        "colab": {
          "base_uri": "https://localhost:8080/",
          "height": 182
        },
        "outputId": "508aa29c-f0e2-445f-c396-7d00e3b523d6"
      },
      "source": [
        "from sklearn.metrics import classification_report\n",
        "print(classification_report(y_test, y_test_hat))"
      ],
      "execution_count": 29,
      "outputs": [
        {
          "output_type": "stream",
          "text": [
            "              precision    recall  f1-score   support\n",
            "\n",
            "           0       0.81      0.88      0.85     12204\n",
            "           1       0.50      0.37      0.43      3905\n",
            "\n",
            "    accuracy                           0.76     16109\n",
            "   macro avg       0.66      0.63      0.64     16109\n",
            "weighted avg       0.74      0.76      0.74     16109\n",
            "\n"
          ],
          "name": "stdout"
        }
      ]
    },
    {
      "cell_type": "markdown",
      "metadata": {
        "id": "5-LlUcO4RgI2",
        "colab_type": "text"
      },
      "source": [
        "# Model saving"
      ]
    },
    {
      "cell_type": "code",
      "metadata": {
        "id": "COhn-vlCPLuC",
        "colab_type": "code",
        "colab": {
          "base_uri": "https://localhost:8080/",
          "height": 35
        },
        "outputId": "a15071c4-593e-469e-9c5d-06b2706fe75b"
      },
      "source": [
        " from joblib import dump\n",
        "dump(model, model_path + 'model_knn.joblib') "
      ],
      "execution_count": 27,
      "outputs": [
        {
          "output_type": "execute_result",
          "data": {
            "text/plain": [
              "['/content/gdrive/My Drive/Colab Notebooks/predict_income_potential/models/model_knn.joblib']"
            ]
          },
          "metadata": {
            "tags": []
          },
          "execution_count": 27
        }
      ]
    },
    {
      "cell_type": "code",
      "metadata": {
        "id": "bRY_XSo8Qzq0",
        "colab_type": "code",
        "colab": {}
      },
      "source": [
        ""
      ],
      "execution_count": 0,
      "outputs": []
    }
  ]
}