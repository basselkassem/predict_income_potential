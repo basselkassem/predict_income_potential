{
  "nbformat": 4,
  "nbformat_minor": 0,
  "metadata": {
    "kernelspec": {
      "display_name": "Python 3.6",
      "name": "python3",
      "language": "python"
    },
    "language_info": {
      "mimetype": "text/x-python",
      "nbconvert_exporter": "python",
      "version": "3.6.8",
      "name": "python",
      "pygments_lexer": "ipython3",
      "file_extension": ".py",
      "codemirror_mode": {
        "version": 3,
        "name": "ipython"
      }
    },
    "colab": {
      "name": "eda.ipynb",
      "provenance": [],
      "collapsed_sections": [
        "Mo-q0YNs5v8B",
        "TbnU0VhO5v8U",
        "amBHLPF05v8f"
      ],
      "include_colab_link": true
    }
  },
  "cells": [
    {
      "cell_type": "markdown",
      "metadata": {
        "id": "view-in-github",
        "colab_type": "text"
      },
      "source": [
        "<a href=\"https://colab.research.google.com/github/basselkassem/predict_income_potential/blob/master/eda.ipynb\" target=\"_parent\"><img src=\"https://colab.research.google.com/assets/colab-badge.svg\" alt=\"Open In Colab\"/></a>"
      ]
    },
    {
      "cell_type": "markdown",
      "metadata": {
        "id": "P2_RQZ7M5v7w",
        "colab_type": "text"
      },
      "source": [
        "# Initial Data Exploration:\n",
        "\n",
        "The most improtant steps are:\n",
        "\n",
        "- Identify quality issues (e.g. missing values, wrong measurements, …)\n",
        "- Assess feature quality – how relevant is a certain measurement (e.g. use correlation matrix)\n",
        "- Get an idea on the value distribution of your data using statistical measures and visualizations\n",
        "\n"
      ]
    },
    {
      "cell_type": "markdown",
      "metadata": {
        "id": "XmOUjHEA5v72",
        "colab_type": "text"
      },
      "source": [
        "# Importing libs"
      ]
    },
    {
      "cell_type": "code",
      "metadata": {
        "id": "X9zRDsy15v74",
        "colab_type": "code",
        "colab": {}
      },
      "source": [
        "import pandas as pd\n",
        "import numpy as np\n",
        "import matplotlib.pyplot as plt\n",
        "%matplotlib inline\n",
        "import seaborn as sns\n",
        "from sklearn.preprocessing import LabelEncoder\n",
        "from scipy import stats"
      ],
      "execution_count": 0,
      "outputs": []
    },
    {
      "cell_type": "markdown",
      "metadata": {
        "id": "Mo-q0YNs5v8B",
        "colab_type": "text"
      },
      "source": [
        "# Loading data"
      ]
    },
    {
      "cell_type": "code",
      "metadata": {
        "id": "qLCyQjM_5v8C",
        "colab_type": "code",
        "outputId": "4eea7f4e-2301-4679-f9ab-8c6cfac34ce5",
        "colab": {
          "base_uri": "https://localhost:8080/",
          "height": 129
        }
      },
      "source": [
        "from google.colab import drive\n",
        "drive.mount('/content/gdrive')"
      ],
      "execution_count": 2,
      "outputs": [
        {
          "output_type": "stream",
          "text": [
            "Go to this URL in a browser: https://accounts.google.com/o/oauth2/auth?client_id=947318989803-6bn6qk8qdgf4n4g3pfee6491hc0brc4i.apps.googleusercontent.com&redirect_uri=urn%3Aietf%3Awg%3Aoauth%3A2.0%3Aoob&scope=email%20https%3A%2F%2Fwww.googleapis.com%2Fauth%2Fdocs.test%20https%3A%2F%2Fwww.googleapis.com%2Fauth%2Fdrive%20https%3A%2F%2Fwww.googleapis.com%2Fauth%2Fdrive.photos.readonly%20https%3A%2F%2Fwww.googleapis.com%2Fauth%2Fpeopleapi.readonly&response_type=code\n",
            "\n",
            "Enter your authorization code:\n",
            "··········\n",
            "Mounted at /content/gdrive\n"
          ],
          "name": "stdout"
        }
      ]
    },
    {
      "cell_type": "code",
      "metadata": {
        "id": "mrQnvZXu5v8H",
        "colab_type": "code",
        "colab": {}
      },
      "source": [
        "data_path = \"/content/gdrive/My Drive/Colab Notebooks/predict_income_potential/data/\"\n",
        "df = pd.read_csv(data_path + \"init_data.csv\")"
      ],
      "execution_count": 0,
      "outputs": []
    },
    {
      "cell_type": "code",
      "metadata": {
        "id": "dypPv71l5v8M",
        "colab_type": "code",
        "outputId": "541e2342-6eef-46da-d73f-ac1c2f63125e",
        "colab": {
          "base_uri": "https://localhost:8080/",
          "height": 296
        }
      },
      "source": [
        "df.head()"
      ],
      "execution_count": 4,
      "outputs": [
        {
          "output_type": "execute_result",
          "data": {
            "text/html": [
              "<div>\n",
              "<style scoped>\n",
              "    .dataframe tbody tr th:only-of-type {\n",
              "        vertical-align: middle;\n",
              "    }\n",
              "\n",
              "    .dataframe tbody tr th {\n",
              "        vertical-align: top;\n",
              "    }\n",
              "\n",
              "    .dataframe thead th {\n",
              "        text-align: right;\n",
              "    }\n",
              "</style>\n",
              "<table border=\"1\" class=\"dataframe\">\n",
              "  <thead>\n",
              "    <tr style=\"text-align: right;\">\n",
              "      <th></th>\n",
              "      <th>age</th>\n",
              "      <th>workclass</th>\n",
              "      <th>final_weight</th>\n",
              "      <th>education</th>\n",
              "      <th>education_duration</th>\n",
              "      <th>marital_status</th>\n",
              "      <th>occupation</th>\n",
              "      <th>relationship</th>\n",
              "      <th>race</th>\n",
              "      <th>sex</th>\n",
              "      <th>capital_gain</th>\n",
              "      <th>capital_loss</th>\n",
              "      <th>hours_per_week</th>\n",
              "      <th>native_country</th>\n",
              "      <th>target</th>\n",
              "    </tr>\n",
              "  </thead>\n",
              "  <tbody>\n",
              "    <tr>\n",
              "      <th>0</th>\n",
              "      <td>39</td>\n",
              "      <td>State-gov</td>\n",
              "      <td>77516</td>\n",
              "      <td>Bachelors</td>\n",
              "      <td>13</td>\n",
              "      <td>Never-married</td>\n",
              "      <td>Adm-clerical</td>\n",
              "      <td>Not-in-family</td>\n",
              "      <td>White</td>\n",
              "      <td>Male</td>\n",
              "      <td>2174</td>\n",
              "      <td>0</td>\n",
              "      <td>40</td>\n",
              "      <td>United-States</td>\n",
              "      <td>&lt;=50K</td>\n",
              "    </tr>\n",
              "    <tr>\n",
              "      <th>1</th>\n",
              "      <td>50</td>\n",
              "      <td>Self-emp-not-inc</td>\n",
              "      <td>83311</td>\n",
              "      <td>Bachelors</td>\n",
              "      <td>13</td>\n",
              "      <td>Married-civ-spouse</td>\n",
              "      <td>Exec-managerial</td>\n",
              "      <td>Husband</td>\n",
              "      <td>White</td>\n",
              "      <td>Male</td>\n",
              "      <td>0</td>\n",
              "      <td>0</td>\n",
              "      <td>13</td>\n",
              "      <td>United-States</td>\n",
              "      <td>&lt;=50K</td>\n",
              "    </tr>\n",
              "    <tr>\n",
              "      <th>2</th>\n",
              "      <td>38</td>\n",
              "      <td>Private</td>\n",
              "      <td>215646</td>\n",
              "      <td>HS-grad</td>\n",
              "      <td>9</td>\n",
              "      <td>Divorced</td>\n",
              "      <td>Handlers-cleaners</td>\n",
              "      <td>Not-in-family</td>\n",
              "      <td>White</td>\n",
              "      <td>Male</td>\n",
              "      <td>0</td>\n",
              "      <td>0</td>\n",
              "      <td>40</td>\n",
              "      <td>United-States</td>\n",
              "      <td>&lt;=50K</td>\n",
              "    </tr>\n",
              "    <tr>\n",
              "      <th>3</th>\n",
              "      <td>53</td>\n",
              "      <td>Private</td>\n",
              "      <td>234721</td>\n",
              "      <td>11th</td>\n",
              "      <td>7</td>\n",
              "      <td>Married-civ-spouse</td>\n",
              "      <td>Handlers-cleaners</td>\n",
              "      <td>Husband</td>\n",
              "      <td>Black</td>\n",
              "      <td>Male</td>\n",
              "      <td>0</td>\n",
              "      <td>0</td>\n",
              "      <td>40</td>\n",
              "      <td>United-States</td>\n",
              "      <td>&lt;=50K</td>\n",
              "    </tr>\n",
              "    <tr>\n",
              "      <th>4</th>\n",
              "      <td>28</td>\n",
              "      <td>Private</td>\n",
              "      <td>338409</td>\n",
              "      <td>Bachelors</td>\n",
              "      <td>13</td>\n",
              "      <td>Married-civ-spouse</td>\n",
              "      <td>Prof-specialty</td>\n",
              "      <td>Wife</td>\n",
              "      <td>Black</td>\n",
              "      <td>Female</td>\n",
              "      <td>0</td>\n",
              "      <td>0</td>\n",
              "      <td>40</td>\n",
              "      <td>Cuba</td>\n",
              "      <td>&lt;=50K</td>\n",
              "    </tr>\n",
              "  </tbody>\n",
              "</table>\n",
              "</div>"
            ],
            "text/plain": [
              "   age          workclass  final_weight  ... hours_per_week  native_country  target\n",
              "0   39          State-gov         77516  ...             40   United-States   <=50K\n",
              "1   50   Self-emp-not-inc         83311  ...             13   United-States   <=50K\n",
              "2   38            Private        215646  ...             40   United-States   <=50K\n",
              "3   53            Private        234721  ...             40   United-States   <=50K\n",
              "4   28            Private        338409  ...             40            Cuba   <=50K\n",
              "\n",
              "[5 rows x 15 columns]"
            ]
          },
          "metadata": {
            "tags": []
          },
          "execution_count": 4
        }
      ]
    },
    {
      "cell_type": "markdown",
      "metadata": {
        "id": "TbnU0VhO5v8U",
        "colab_type": "text"
      },
      "source": [
        "# Print data info"
      ]
    },
    {
      "cell_type": "code",
      "metadata": {
        "id": "QcR8kPzk5v8V",
        "colab_type": "code",
        "outputId": "5cd89f13-95e4-4330-9c8f-b930d51bf8ee",
        "colab": {
          "base_uri": "https://localhost:8080/",
          "height": 715
        }
      },
      "source": [
        "print('-----------Data Shape---------')\n",
        "print(df.shape)\n",
        "print('-----------Missing values---------')\n",
        "print(df.isnull().sum())\n",
        "print('-----------Data types-------------')\n",
        "print(df.dtypes)\n",
        "print('-----------Memory usage (MB)------')\n",
        "print(np.round(df.memory_usage(deep = True).sum() / 1024**2, 2))"
      ],
      "execution_count": 5,
      "outputs": [
        {
          "output_type": "stream",
          "text": [
            "-----------Data Shape---------\n",
            "(48842, 15)\n",
            "-----------Missing values---------\n",
            "age                   0\n",
            "workclass             0\n",
            "final_weight          0\n",
            "education             0\n",
            "education_duration    0\n",
            "marital_status        0\n",
            "occupation            0\n",
            "relationship          0\n",
            "race                  0\n",
            "sex                   0\n",
            "capital_gain          0\n",
            "capital_loss          0\n",
            "hours_per_week        0\n",
            "native_country        0\n",
            "target                0\n",
            "dtype: int64\n",
            "-----------Data types-------------\n",
            "age                    int64\n",
            "workclass             object\n",
            "final_weight           int64\n",
            "education             object\n",
            "education_duration     int64\n",
            "marital_status        object\n",
            "occupation            object\n",
            "relationship          object\n",
            "race                  object\n",
            "sex                   object\n",
            "capital_gain           int64\n",
            "capital_loss           int64\n",
            "hours_per_week         int64\n",
            "native_country        object\n",
            "target                object\n",
            "dtype: object\n",
            "-----------Memory usage (MB)------\n",
            "30.26\n"
          ],
          "name": "stdout"
        }
      ]
    },
    {
      "cell_type": "markdown",
      "metadata": {
        "id": "38LUZLS1KOfb",
        "colab_type": "text"
      },
      "source": [
        "# Utile functions"
      ]
    },
    {
      "cell_type": "markdown",
      "metadata": {
        "id": "14BUPzscRKbj",
        "colab_type": "text"
      },
      "source": [
        "This table shows how to compute correlation between different types of features"
      ]
    },
    {
      "cell_type": "markdown",
      "metadata": {
        "id": "ADmPmFRfKT5c",
        "colab_type": "text"
      },
      "source": [
        "![alt text](https://miro.medium.com/max/1000/1*6KNXPv-_3s7cJrcOQxbZCw.png)"
      ]
    },
    {
      "cell_type": "code",
      "metadata": {
        "id": "DvP999zU5v8b",
        "colab_type": "code",
        "colab": {}
      },
      "source": [
        "def cramers_v(x, y):\n",
        "    confusion_matrix = pd.crosstab(x,y)\n",
        "    chi2 = stats.chi2_contingency(confusion_matrix)[0]\n",
        "    n = confusion_matrix.sum().sum()\n",
        "    phi2 = chi2/n\n",
        "    r,k = confusion_matrix.shape\n",
        "    phi2corr = max(0, phi2-((k-1)*(r-1))/(n-1))\n",
        "    rcorr = r-((r-1)**2)/(n-1)\n",
        "    kcorr = k-((k-1)**2)/(n-1)\n",
        "    return np.sqrt(phi2corr/min((kcorr-1),(rcorr-1)))\n",
        "\n",
        "def print_corr(df, attr):\n",
        "  lb_make = LabelEncoder()\n",
        "  target_enc = lb_make.fit_transform(df['target'])\n",
        "  \n",
        "  if df[attr].dtype == 'object':\n",
        "    lb_make = LabelEncoder()\n",
        "    src_enc = lb_make.fit_transform(df[attr])\n",
        "    print('Corr between', attr, 'and the target: ', cramers_v(src_enc, target_enc))\n",
        "  else:\n",
        "    src_enc = df[attr]\n",
        "    print('Corr between', attr, 'and the target: ', stats.pointbiserialr(src_enc, target_enc)[0])"
      ],
      "execution_count": 0,
      "outputs": []
    },
    {
      "cell_type": "markdown",
      "metadata": {
        "id": "amBHLPF05v8f",
        "colab_type": "text"
      },
      "source": [
        "# Target"
      ]
    },
    {
      "cell_type": "code",
      "metadata": {
        "id": "Eu3yOhrn5v8j",
        "colab_type": "code",
        "outputId": "08664ca1-7957-42ab-c6bc-e74d6c082fd9",
        "colab": {
          "base_uri": "https://localhost:8080/",
          "height": 109
        }
      },
      "source": [
        "df['target'].value_counts()"
      ],
      "execution_count": 7,
      "outputs": [
        {
          "output_type": "execute_result",
          "data": {
            "text/plain": [
              " <=50K     24720\n",
              " <=50K.    12435\n",
              " >50K       7841\n",
              " >50K.      3846\n",
              "Name: target, dtype: int64"
            ]
          },
          "metadata": {
            "tags": []
          },
          "execution_count": 7
        }
      ]
    },
    {
      "cell_type": "markdown",
      "metadata": {
        "id": "wD7W1D3o5v8n",
        "colab_type": "text"
      },
      "source": [
        "The problem is a binary classification problem but we see that there is 4 labels. We need to remove the extra characters form the target columns"
      ]
    },
    {
      "cell_type": "code",
      "metadata": {
        "id": "GyWMo2TB5v8p",
        "colab_type": "code",
        "outputId": "23780e8f-a210-44ca-82b5-3d2b922e0b6a",
        "colab": {
          "base_uri": "https://localhost:8080/",
          "height": 54
        }
      },
      "source": [
        "df['target'] = df['target'].str.replace('.', '')\n",
        "df['target'] = df['target'].str.strip()\n",
        "print('# class <=50k: ', 100 * round(len(df[df['target'] == '<=50K']) / len(df), 2), '%')\n",
        "print('# class >50k: ', 100 * round(len(df[df['target'] == '>50K']) / len(df), 2), '%')"
      ],
      "execution_count": 8,
      "outputs": [
        {
          "output_type": "stream",
          "text": [
            "# class <=50k:  76.0 %\n",
            "# class >50k:  24.0 %\n"
          ],
          "name": "stdout"
        }
      ]
    },
    {
      "cell_type": "code",
      "metadata": {
        "id": "1qxafX53E5XI",
        "colab_type": "code",
        "outputId": "db3464e6-a730-43ae-b19e-16bd7a4b99f9",
        "colab": {
          "base_uri": "https://localhost:8080/",
          "height": 283
        }
      },
      "source": [
        "sns.countplot(x = 'target', data = df)\n",
        "plt.show()"
      ],
      "execution_count": 9,
      "outputs": [
        {
          "output_type": "display_data",
          "data": {
            "image/png": "[encoded data removed]",
            "text/plain": [
              "<Figure size 432x288 with 1 Axes>"
            ]
          },
          "metadata": {
            "tags": []
          }
        }
      ]
    },
    {
      "cell_type": "markdown",
      "metadata": {
        "id": "kA3f_Dns5v8t",
        "colab_type": "text"
      },
      "source": [
        "# Age vs target"
      ]
    },
    {
      "cell_type": "code",
      "metadata": {
        "id": "Kc-HOlTu5v8v",
        "colab_type": "code",
        "outputId": "e97145b7-7ab4-499d-d3bd-960779c8dfd0",
        "colab": {
          "base_uri": "https://localhost:8080/",
          "height": 283
        }
      },
      "source": [
        "sns.boxplot(df['age'])\n",
        "plt.show()"
      ],
      "execution_count": 10,
      "outputs": [
        {
          "output_type": "display_data",
          "data": {
            "image/png": "[encoded data removed]",
            "text/plain": [
              "<Figure size 432x288 with 1 Axes>"
            ]
          },
          "metadata": {
            "tags": []
          }
        }
      ]
    },
    {
      "cell_type": "code",
      "metadata": {
        "id": "nMPV1U4f5v82",
        "colab_type": "code",
        "outputId": "22eb935f-0ff4-4010-8e78-4e2431fbb21b",
        "colab": {
          "base_uri": "https://localhost:8080/",
          "height": 35
        }
      },
      "source": [
        "print('People whose age > 80 years: ', len(df[df['age'] > 80]))"
      ],
      "execution_count": 11,
      "outputs": [
        {
          "output_type": "stream",
          "text": [
            "People whose age > 80 years:  148\n"
          ],
          "name": "stdout"
        }
      ]
    },
    {
      "cell_type": "markdown",
      "metadata": {
        "id": "2ZRUAWN35v85",
        "colab_type": "text"
      },
      "source": [
        "Although it seems that the age column has outliers, those values are still in the accepted normal range of human age and they repesent a valiad records. So no need to delete them or clip them."
      ]
    },
    {
      "cell_type": "code",
      "metadata": {
        "id": "SfX8xUCy5v86",
        "colab_type": "code",
        "outputId": "917b7869-a5e7-4739-d5fe-7296d8d1b7e4",
        "colab": {
          "base_uri": "https://localhost:8080/",
          "height": 283
        }
      },
      "source": [
        "sns.boxplot(x = df['age'], y = df['target'])\n",
        "plt.show()"
      ],
      "execution_count": 12,
      "outputs": [
        {
          "output_type": "display_data",
          "data": {
            "image/png": "[encoded data removed]",
            "text/plain": [
              "<Figure size 432x288 with 1 Axes>"
            ]
          },
          "metadata": {
            "tags": []
          }
        }
      ]
    },
    {
      "cell_type": "markdown",
      "metadata": {
        "id": "TtMuvt-l5v8-",
        "colab_type": "text"
      },
      "source": [
        "The older the person is the higher the chances he/she will earn more than 50K."
      ]
    },
    {
      "cell_type": "code",
      "metadata": {
        "id": "Ky45idXK5v9E",
        "colab_type": "code",
        "outputId": "59ee8191-0842-4ec2-a01f-5c2cf86150d0",
        "colab": {
          "base_uri": "https://localhost:8080/",
          "height": 35
        }
      },
      "source": [
        "print_corr(df, 'age')"
      ],
      "execution_count": 14,
      "outputs": [
        {
          "output_type": "stream",
          "text": [
            "Corr between age and the target:  0.23036946784752077\n"
          ],
          "name": "stdout"
        }
      ]
    },
    {
      "cell_type": "markdown",
      "metadata": {
        "id": "CEblhIxL5v9I",
        "colab_type": "text"
      },
      "source": [
        "# Workclass vs target"
      ]
    },
    {
      "cell_type": "code",
      "metadata": {
        "id": "HjaC7yQz5v9J",
        "colab_type": "code",
        "outputId": "218027f3-1127-412a-bc01-2b466c775cb7",
        "colab": {
          "base_uri": "https://localhost:8080/",
          "height": 201
        }
      },
      "source": [
        "df['workclass'].value_counts()"
      ],
      "execution_count": 15,
      "outputs": [
        {
          "output_type": "execute_result",
          "data": {
            "text/plain": [
              " Private             33906\n",
              " Self-emp-not-inc     3862\n",
              " Local-gov            3136\n",
              " ?                    2799\n",
              " State-gov            1981\n",
              " Self-emp-inc         1695\n",
              " Federal-gov          1432\n",
              " Without-pay            21\n",
              " Never-worked           10\n",
              "Name: workclass, dtype: int64"
            ]
          },
          "metadata": {
            "tags": []
          },
          "execution_count": 15
        }
      ]
    },
    {
      "cell_type": "markdown",
      "metadata": {
        "id": "Mi03eIyd5v9N",
        "colab_type": "text"
      },
      "source": [
        "There are 2799 record with **unknown** workclass. Those records could be:\n",
        "- Not inserted by the user intentionaly\n",
        "- Inserted in the database but because of a bug in the system, they were lost\n",
        "- Inserted as an Other option \n",
        "\n",
        "\n",
        "Its difficult to imput those values. The solution could be to assign **other** to those records and create a binary column to idicate that certain row has missing values. This columns tells the model to pay attention to the rows with imputed values "
      ]
    },
    {
      "cell_type": "code",
      "metadata": {
        "id": "ODN1S2l85v9O",
        "colab_type": "code",
        "outputId": "b9a6d783-1f7d-46be-b831-27c8605d4564",
        "colab": {
          "base_uri": "https://localhost:8080/",
          "height": 377
        }
      },
      "source": [
        "gb = df.groupby(by = ['workclass', 'target']).agg({'age': 'count'})\n",
        "gb.columns = ['count']\n",
        "gb = gb.reset_index()\n",
        "ax = sns.barplot(x = 'workclass', y = 'count', hue = 'target', data = gb)\n",
        "plt.xticks(rotation = 90)"
      ],
      "execution_count": 16,
      "outputs": [
        {
          "output_type": "execute_result",
          "data": {
            "text/plain": [
              "(array([0, 1, 2, 3, 4, 5, 6, 7, 8]), <a list of 9 Text xticklabel objects>)"
            ]
          },
          "metadata": {
            "tags": []
          },
          "execution_count": 16
        },
        {
          "output_type": "display_data",
          "data": {
            "image/png": "[encoded data removed]",
            "text/plain": [
              "<Figure size 432x288 with 1 Axes>"
            ]
          },
          "metadata": {
            "tags": []
          }
        }
      ]
    },
    {
      "cell_type": "code",
      "metadata": {
        "id": "89otDoFL5v9T",
        "colab_type": "code",
        "outputId": "62d6562a-23fc-47da-fea1-ff0ad86468dc",
        "colab": {
          "base_uri": "https://localhost:8080/",
          "height": 35
        }
      },
      "source": [
        "print_corr(df, 'workclass')"
      ],
      "execution_count": 17,
      "outputs": [
        {
          "output_type": "stream",
          "text": [
            "Corr between workclass and the target:  0.18115107631207905\n"
          ],
          "name": "stdout"
        }
      ]
    },
    {
      "cell_type": "markdown",
      "metadata": {
        "id": "QEDcfdAG5v9Y",
        "colab_type": "text"
      },
      "source": [
        "# Final_weight vs target"
      ]
    },
    {
      "cell_type": "code",
      "metadata": {
        "id": "5K6MMjnz5v9Y",
        "colab_type": "code",
        "outputId": "2cb58ffa-174c-4477-fe26-8b87fd3bab28",
        "colab": {
          "base_uri": "https://localhost:8080/",
          "height": 284
        }
      },
      "source": [
        "sns.boxplot(x = 'final_weight', data = df)\n",
        "plt.show()"
      ],
      "execution_count": 18,
      "outputs": [
        {
          "output_type": "display_data",
          "data": {
            "image/png": "[encoded data removed]",
            "text/plain": [
              "<Figure size 432x288 with 1 Axes>"
            ]
          },
          "metadata": {
            "tags": []
          }
        }
      ]
    },
    {
      "cell_type": "code",
      "metadata": {
        "id": "HXjbt7S75v9c",
        "colab_type": "code",
        "outputId": "75785bcc-cc18-41e2-cdc0-49144c539964",
        "colab": {
          "base_uri": "https://localhost:8080/",
          "height": 35
        }
      },
      "source": [
        "print('final_weight outliers: ', len(df[df['final_weight'] > 400000]))"
      ],
      "execution_count": 19,
      "outputs": [
        {
          "output_type": "stream",
          "text": [
            "final_weight outliers:  1888\n"
          ],
          "name": "stdout"
        }
      ]
    },
    {
      "cell_type": "code",
      "metadata": {
        "id": "6M7Ws9lc5v9g",
        "colab_type": "code",
        "outputId": "f830207c-e594-4dbb-94a3-8280d21b553c",
        "colab": {
          "base_uri": "https://localhost:8080/",
          "height": 302
        }
      },
      "source": [
        "sns.barplot(x = 'final_weight', y = 'target', data = df)"
      ],
      "execution_count": 20,
      "outputs": [
        {
          "output_type": "execute_result",
          "data": {
            "text/plain": [
              "<matplotlib.axes._subplots.AxesSubplot at 0x7f469f9323c8>"
            ]
          },
          "metadata": {
            "tags": []
          },
          "execution_count": 20
        },
        {
          "output_type": "display_data",
          "data": {
            "image/png": "[encoded data removed]",
            "text/plain": [
              "<Figure size 432x288 with 1 Axes>"
            ]
          },
          "metadata": {
            "tags": []
          }
        }
      ]
    },
    {
      "cell_type": "code",
      "metadata": {
        "id": "8NjAxJwP5v9i",
        "colab_type": "code",
        "outputId": "fec8b07a-fb16-4770-a6ca-76cd2710c6fe",
        "colab": {
          "base_uri": "https://localhost:8080/",
          "height": 35
        }
      },
      "source": [
        "print_corr(df, 'final_weight')"
      ],
      "execution_count": 21,
      "outputs": [
        {
          "output_type": "stream",
          "text": [
            "Corr between final_weight and the target:  -0.006338859530113216\n"
          ],
          "name": "stdout"
        }
      ]
    },
    {
      "cell_type": "markdown",
      "metadata": {
        "id": "WkFn6tAP5v9m",
        "colab_type": "text"
      },
      "source": [
        "This column is not discriminative against the target with low correlation as well. It is probabaly not useful for the learning."
      ]
    },
    {
      "cell_type": "markdown",
      "metadata": {
        "id": "y653xhCh5v9n",
        "colab_type": "text"
      },
      "source": [
        "# Education vs target"
      ]
    },
    {
      "cell_type": "code",
      "metadata": {
        "id": "XjLkxjCK5v9o",
        "colab_type": "code",
        "outputId": "a87128c0-0fca-4236-f102-760bf7ad8e83",
        "colab": {
          "base_uri": "https://localhost:8080/",
          "height": 329
        }
      },
      "source": [
        "df['education'].value_counts()"
      ],
      "execution_count": 22,
      "outputs": [
        {
          "output_type": "execute_result",
          "data": {
            "text/plain": [
              " HS-grad         15784\n",
              " Some-college    10878\n",
              " Bachelors        8025\n",
              " Masters          2657\n",
              " Assoc-voc        2061\n",
              " 11th             1812\n",
              " Assoc-acdm       1601\n",
              " 10th             1389\n",
              " 7th-8th           955\n",
              " Prof-school       834\n",
              " 9th               756\n",
              " 12th              657\n",
              " Doctorate         594\n",
              " 5th-6th           509\n",
              " 1st-4th           247\n",
              " Preschool          83\n",
              "Name: education, dtype: int64"
            ]
          },
          "metadata": {
            "tags": []
          },
          "execution_count": 22
        }
      ]
    },
    {
      "cell_type": "code",
      "metadata": {
        "id": "fmclPms45v9r",
        "colab_type": "code",
        "outputId": "3229ee60-7af7-42d3-9525-0568b247a546",
        "colab": {
          "base_uri": "https://localhost:8080/",
          "height": 380
        }
      },
      "source": [
        "gb = df.groupby(by = ['education', 'target']).agg({'age': 'count'})\n",
        "gb.columns = ['count']\n",
        "gb = gb.reset_index()\n",
        "ax = sns.barplot(x = 'education', y = 'count', hue = 'target', data = gb)\n",
        "plt.xticks(rotation = 90)"
      ],
      "execution_count": 23,
      "outputs": [
        {
          "output_type": "execute_result",
          "data": {
            "text/plain": [
              "(array([ 0,  1,  2,  3,  4,  5,  6,  7,  8,  9, 10, 11, 12, 13, 14, 15]),\n",
              " <a list of 16 Text xticklabel objects>)"
            ]
          },
          "metadata": {
            "tags": []
          },
          "execution_count": 23
        },
        {
          "output_type": "display_data",
          "data": {
            "image/png": "[encoded data removed]",
            "text/plain": [
              "<Figure size 432x288 with 1 Axes>"
            ]
          },
          "metadata": {
            "tags": []
          }
        }
      ]
    },
    {
      "cell_type": "code",
      "metadata": {
        "id": "EM5vYPnR5v9u",
        "colab_type": "code",
        "outputId": "1b3ea5ce-5958-4eee-d480-79f5c3fa08ab",
        "colab": {
          "base_uri": "https://localhost:8080/",
          "height": 35
        }
      },
      "source": [
        "print_corr(df, 'education')"
      ],
      "execution_count": 24,
      "outputs": [
        {
          "output_type": "stream",
          "text": [
            "Corr between education and the target:  0.3654521366236938\n"
          ],
          "name": "stdout"
        }
      ]
    },
    {
      "cell_type": "markdown",
      "metadata": {
        "id": "SkOvv__95v9y",
        "colab_type": "text"
      },
      "source": [
        "# Education_duration vs target"
      ]
    },
    {
      "cell_type": "code",
      "metadata": {
        "id": "7w5p4xaU5v9y",
        "colab_type": "code",
        "outputId": "d4e585b9-1503-4a0a-b426-e07688b77217",
        "colab": {
          "base_uri": "https://localhost:8080/",
          "height": 284
        }
      },
      "source": [
        "sns.boxplot(x = 'education_duration', data = df)\n",
        "plt.show()"
      ],
      "execution_count": 25,
      "outputs": [
        {
          "output_type": "display_data",
          "data": {
            "image/png": "[encoded data removed]",
            "text/plain": [
              "<Figure size 432x288 with 1 Axes>"
            ]
          },
          "metadata": {
            "tags": []
          }
        }
      ]
    },
    {
      "cell_type": "code",
      "metadata": {
        "id": "0s-E_QbS5v93",
        "colab_type": "code",
        "outputId": "1dbbf07a-acda-47c3-e51a-43cd3a23ab77",
        "colab": {
          "base_uri": "https://localhost:8080/",
          "height": 35
        }
      },
      "source": [
        "print('People whose study duration < 5: ', len(df[df['education_duration'] < 5]))"
      ],
      "execution_count": 26,
      "outputs": [
        {
          "output_type": "stream",
          "text": [
            "People whose study duration < 5:  1794\n"
          ],
          "name": "stdout"
        }
      ]
    },
    {
      "cell_type": "code",
      "metadata": {
        "id": "SiWKAR235v9-",
        "colab_type": "code",
        "outputId": "c2a70751-d7fc-4244-d4ea-6e2cf790bb43",
        "colab": {
          "base_uri": "https://localhost:8080/",
          "height": 35
        }
      },
      "source": [
        "print_corr(df, 'education_duration')"
      ],
      "execution_count": 28,
      "outputs": [
        {
          "output_type": "stream",
          "text": [
            "Corr between education_duration and the target:  0.3326131306661462\n"
          ],
          "name": "stdout"
        }
      ]
    },
    {
      "cell_type": "markdown",
      "metadata": {
        "id": "W2LLGzN75v-A",
        "colab_type": "text"
      },
      "source": [
        "Education_duration is a countious representation of education but it is more correlated with the target"
      ]
    },
    {
      "cell_type": "markdown",
      "metadata": {
        "id": "YsGMFZjB5v-B",
        "colab_type": "text"
      },
      "source": [
        "# Marital_status vs target"
      ]
    },
    {
      "cell_type": "code",
      "metadata": {
        "id": "g3e3vVff5v-C",
        "colab_type": "code",
        "outputId": "e7646975-6af3-43d4-dab2-6c52e8ae2300",
        "colab": {
          "base_uri": "https://localhost:8080/",
          "height": 164
        }
      },
      "source": [
        "df['marital_status'].value_counts()"
      ],
      "execution_count": 31,
      "outputs": [
        {
          "output_type": "execute_result",
          "data": {
            "text/plain": [
              " Married-civ-spouse       22379\n",
              " Never-married            16117\n",
              " Divorced                  6633\n",
              " Separated                 1530\n",
              " Widowed                   1518\n",
              " Married-spouse-absent      628\n",
              " Married-AF-spouse           37\n",
              "Name: marital_status, dtype: int64"
            ]
          },
          "metadata": {
            "tags": []
          },
          "execution_count": 31
        }
      ]
    },
    {
      "cell_type": "code",
      "metadata": {
        "id": "ZgY0Kyp05v-E",
        "colab_type": "code",
        "outputId": "dfafe2c5-52b9-4845-8821-b610187fd1c6",
        "colab": {
          "base_uri": "https://localhost:8080/",
          "height": 410
        }
      },
      "source": [
        "gb = df.groupby(by = ['marital_status', 'target']).agg({'age': 'count'})\n",
        "gb.columns = ['count']\n",
        "gb = gb.reset_index()\n",
        "ax = sns.barplot(x = 'marital_status', y = 'count', hue = 'target', data = gb)\n",
        "plt.xticks(rotation = 90)"
      ],
      "execution_count": 32,
      "outputs": [
        {
          "output_type": "execute_result",
          "data": {
            "text/plain": [
              "(array([0, 1, 2, 3, 4, 5, 6]), <a list of 7 Text xticklabel objects>)"
            ]
          },
          "metadata": {
            "tags": []
          },
          "execution_count": 32
        },
        {
          "output_type": "display_data",
          "data": {
            "image/png": "[encoded data removed]",
            "text/plain": [
              "<Figure size 432x288 with 1 Axes>"
            ]
          },
          "metadata": {
            "tags": []
          }
        }
      ]
    },
    {
      "cell_type": "code",
      "metadata": {
        "id": "3pBulCzJ5v-H",
        "colab_type": "code",
        "outputId": "03d14d91-6a68-47ea-e9cd-741b0d12a122",
        "colab": {
          "base_uri": "https://localhost:8080/",
          "height": 35
        }
      },
      "source": [
        "print_corr(df, 'marital_status')"
      ],
      "execution_count": 33,
      "outputs": [
        {
          "output_type": "stream",
          "text": [
            "Corr between marital_status and the target:  0.4481697711621431\n"
          ],
          "name": "stdout"
        }
      ]
    },
    {
      "cell_type": "markdown",
      "metadata": {
        "id": "HCp4ICKK5v-J",
        "colab_type": "text"
      },
      "source": [
        "# Occupation vs target"
      ]
    },
    {
      "cell_type": "code",
      "metadata": {
        "id": "OPqPWRjI5v-K",
        "colab_type": "code",
        "outputId": "c3702479-62ec-41d4-e7f6-978cfa19e444",
        "colab": {
          "base_uri": "https://localhost:8080/",
          "height": 311
        }
      },
      "source": [
        "df['occupation'].value_counts()"
      ],
      "execution_count": 34,
      "outputs": [
        {
          "output_type": "execute_result",
          "data": {
            "text/plain": [
              " Prof-specialty       6172\n",
              " Craft-repair         6112\n",
              " Exec-managerial      6086\n",
              " Adm-clerical         5611\n",
              " Sales                5504\n",
              " Other-service        4923\n",
              " Machine-op-inspct    3022\n",
              " ?                    2809\n",
              " Transport-moving     2355\n",
              " Handlers-cleaners    2072\n",
              " Farming-fishing      1490\n",
              " Tech-support         1446\n",
              " Protective-serv       983\n",
              " Priv-house-serv       242\n",
              " Armed-Forces           15\n",
              "Name: occupation, dtype: int64"
            ]
          },
          "metadata": {
            "tags": []
          },
          "execution_count": 34
        }
      ]
    },
    {
      "cell_type": "markdown",
      "metadata": {
        "id": "MqPYQS2H5v-M",
        "colab_type": "text"
      },
      "source": [
        "There are 2809 records with **unknown** occupation. Those records could be:\n",
        "\n",
        "- Not inserted by the user intentionaly\n",
        "- Inserted in the database but because of a bug in the system, they were lost\n",
        "- Inserted as an Other option and not interpreted correctly by the system\n",
        "\n",
        "Its difficult to imput those values. The solution could be to assign **other** to those records and create a binary column to idicate that certain row has missing values."
      ]
    },
    {
      "cell_type": "code",
      "metadata": {
        "id": "imgo_sF55v-N",
        "colab_type": "code",
        "outputId": "66296463-f8b3-4631-8357-57963de5932b",
        "colab": {
          "base_uri": "https://localhost:8080/",
          "height": 405
        }
      },
      "source": [
        "gb = df.groupby(by = ['occupation', 'target']).agg({'age': 'count'})\n",
        "gb.columns = ['count']\n",
        "gb = gb.reset_index()\n",
        "ax = sns.barplot(x = 'occupation', y = 'count', hue = 'target', data = gb)\n",
        "plt.xticks(rotation = 90)"
      ],
      "execution_count": 35,
      "outputs": [
        {
          "output_type": "execute_result",
          "data": {
            "text/plain": [
              "(array([ 0,  1,  2,  3,  4,  5,  6,  7,  8,  9, 10, 11, 12, 13, 14]),\n",
              " <a list of 15 Text xticklabel objects>)"
            ]
          },
          "metadata": {
            "tags": []
          },
          "execution_count": 35
        },
        {
          "output_type": "display_data",
          "data": {
            "image/png": "[encoded data removed]",
            "text/plain": [
              "<Figure size 432x288 with 1 Axes>"
            ]
          },
          "metadata": {
            "tags": []
          }
        }
      ]
    },
    {
      "cell_type": "code",
      "metadata": {
        "id": "_8Yhh2i-5v-P",
        "colab_type": "code",
        "outputId": "8edfe598-7562-443c-f628-3529dda8fe35",
        "colab": {
          "base_uri": "https://localhost:8080/",
          "height": 35
        }
      },
      "source": [
        "print_corr(df, 'occupation')"
      ],
      "execution_count": 36,
      "outputs": [
        {
          "output_type": "stream",
          "text": [
            "Corr between occupation and the target:  0.34959439912635987\n"
          ],
          "name": "stdout"
        }
      ]
    },
    {
      "cell_type": "markdown",
      "metadata": {
        "id": "qwuAaq6r5v-R",
        "colab_type": "text"
      },
      "source": [
        "# relationship vs target"
      ]
    },
    {
      "cell_type": "code",
      "metadata": {
        "id": "mWXIdWHE5v-S",
        "colab_type": "code",
        "outputId": "caa9e7ca-ec49-4f20-9f37-ceb46532ef26",
        "colab": {
          "base_uri": "https://localhost:8080/",
          "height": 146
        }
      },
      "source": [
        "df['relationship'].value_counts()"
      ],
      "execution_count": 37,
      "outputs": [
        {
          "output_type": "execute_result",
          "data": {
            "text/plain": [
              " Husband           19716\n",
              " Not-in-family     12583\n",
              " Own-child          7581\n",
              " Unmarried          5125\n",
              " Wife               2331\n",
              " Other-relative     1506\n",
              "Name: relationship, dtype: int64"
            ]
          },
          "metadata": {
            "tags": []
          },
          "execution_count": 37
        }
      ]
    },
    {
      "cell_type": "code",
      "metadata": {
        "id": "akflRzs25v-U",
        "colab_type": "code",
        "outputId": "92481fdb-e841-4825-d43f-9b0f9fe390ce",
        "colab": {
          "base_uri": "https://localhost:8080/",
          "height": 364
        }
      },
      "source": [
        "gb = df.groupby(by = ['relationship', 'target']).agg({'age': 'count'})\n",
        "gb.columns = ['count']\n",
        "gb = gb.reset_index()\n",
        "ax = sns.barplot(x = 'relationship', y = 'count', hue = 'target', data = gb)\n",
        "plt.xticks(rotation = 90)"
      ],
      "execution_count": 38,
      "outputs": [
        {
          "output_type": "execute_result",
          "data": {
            "text/plain": [
              "(array([0, 1, 2, 3, 4, 5]), <a list of 6 Text xticklabel objects>)"
            ]
          },
          "metadata": {
            "tags": []
          },
          "execution_count": 38
        },
        {
          "output_type": "display_data",
          "data": {
            "image/png": "[encoded data removed]",
            "text/plain": [
              "<Figure size 432x288 with 1 Axes>"
            ]
          },
          "metadata": {
            "tags": []
          }
        }
      ]
    },
    {
      "cell_type": "code",
      "metadata": {
        "id": "CkoCHAVI5v-Z",
        "colab_type": "code",
        "outputId": "1fb85e85-78a9-4832-eba6-11f40fe37aaa",
        "colab": {
          "base_uri": "https://localhost:8080/",
          "height": 35
        }
      },
      "source": [
        "print_corr(df, 'relationship')"
      ],
      "execution_count": 39,
      "outputs": [
        {
          "output_type": "stream",
          "text": [
            "Corr between relationship and the target:  0.45437891144289516\n"
          ],
          "name": "stdout"
        }
      ]
    },
    {
      "cell_type": "markdown",
      "metadata": {
        "id": "bVbP9wmY5v-b",
        "colab_type": "text"
      },
      "source": [
        "# Race vs target"
      ]
    },
    {
      "cell_type": "code",
      "metadata": {
        "id": "3pXtkVIX5v-d",
        "colab_type": "code",
        "outputId": "1ef8d441-c1fc-470d-f9e7-b0ecc7758f57",
        "colab": {
          "base_uri": "https://localhost:8080/",
          "height": 127
        }
      },
      "source": [
        "df['race'].value_counts()"
      ],
      "execution_count": 40,
      "outputs": [
        {
          "output_type": "execute_result",
          "data": {
            "text/plain": [
              " White                 41762\n",
              " Black                  4685\n",
              " Asian-Pac-Islander     1519\n",
              " Amer-Indian-Eskimo      470\n",
              " Other                   406\n",
              "Name: race, dtype: int64"
            ]
          },
          "metadata": {
            "tags": []
          },
          "execution_count": 40
        }
      ]
    },
    {
      "cell_type": "code",
      "metadata": {
        "id": "MECLLs1H5v-h",
        "colab_type": "code",
        "outputId": "9bacc744-84a3-4b36-9e38-b7cf2992e459",
        "colab": {
          "base_uri": "https://localhost:8080/",
          "height": 395
        }
      },
      "source": [
        "gb = df.groupby(by = ['race', 'target']).agg({'age': 'count'})\n",
        "gb.columns = ['count']\n",
        "gb = gb.reset_index()\n",
        "ax = sns.barplot(x = 'race', y = 'count', hue = 'target', data = gb)\n",
        "plt.xticks(rotation = 90)"
      ],
      "execution_count": 41,
      "outputs": [
        {
          "output_type": "execute_result",
          "data": {
            "text/plain": [
              "(array([0, 1, 2, 3, 4]), <a list of 5 Text xticklabel objects>)"
            ]
          },
          "metadata": {
            "tags": []
          },
          "execution_count": 41
        },
        {
          "output_type": "display_data",
          "data": {
            "image/png": "[encoded data removed]",
            "text/plain": [
              "<Figure size 432x288 with 1 Axes>"
            ]
          },
          "metadata": {
            "tags": []
          }
        }
      ]
    },
    {
      "cell_type": "code",
      "metadata": {
        "id": "p2EWfJ055v-k",
        "colab_type": "code",
        "outputId": "de808064-76df-4014-eace-241770ab4d79",
        "colab": {
          "base_uri": "https://localhost:8080/",
          "height": 35
        }
      },
      "source": [
        "print_corr(df, 'race')"
      ],
      "execution_count": 42,
      "outputs": [
        {
          "output_type": "stream",
          "text": [
            "Corr between race and the target:  0.09944731744509899\n"
          ],
          "name": "stdout"
        }
      ]
    },
    {
      "cell_type": "markdown",
      "metadata": {
        "id": "hrxTKjqR5v-m",
        "colab_type": "text"
      },
      "source": [
        "# Sex vs target"
      ]
    },
    {
      "cell_type": "code",
      "metadata": {
        "id": "t9xrJ2j75v-n",
        "colab_type": "code",
        "outputId": "8deacda4-371b-4c86-b78b-b16774cd0d8c",
        "colab": {
          "base_uri": "https://localhost:8080/",
          "height": 72
        }
      },
      "source": [
        "df['sex'].value_counts()"
      ],
      "execution_count": 43,
      "outputs": [
        {
          "output_type": "execute_result",
          "data": {
            "text/plain": [
              " Male      32650\n",
              " Female    16192\n",
              "Name: sex, dtype: int64"
            ]
          },
          "metadata": {
            "tags": []
          },
          "execution_count": 43
        }
      ]
    },
    {
      "cell_type": "code",
      "metadata": {
        "id": "mHiduMns5v-p",
        "colab_type": "code",
        "outputId": "4c24f4fd-c9da-4344-9abc-bab9e49c71ea",
        "colab": {
          "base_uri": "https://localhost:8080/",
          "height": 331
        }
      },
      "source": [
        "gb = df.groupby(by = ['sex', 'target']).agg({'age': 'count'})\n",
        "gb.columns = ['count']\n",
        "gb = gb.reset_index()\n",
        "ax = sns.barplot(x = 'sex', y = 'count', hue = 'target', data = gb)\n",
        "plt.xticks(rotation = 90)"
      ],
      "execution_count": 44,
      "outputs": [
        {
          "output_type": "execute_result",
          "data": {
            "text/plain": [
              "(array([0, 1]), <a list of 2 Text xticklabel objects>)"
            ]
          },
          "metadata": {
            "tags": []
          },
          "execution_count": 44
        },
        {
          "output_type": "display_data",
          "data": {
            "image/png": "[encoded data removed]",
            "text/plain": [
              "<Figure size 432x288 with 1 Axes>"
            ]
          },
          "metadata": {
            "tags": []
          }
        }
      ]
    },
    {
      "cell_type": "code",
      "metadata": {
        "id": "KVcJFUWU5v-s",
        "colab_type": "code",
        "outputId": "e014930f-08f1-436c-c582-546ea05a9ad8",
        "colab": {
          "base_uri": "https://localhost:8080/",
          "height": 35
        }
      },
      "source": [
        "print_corr(df, 'sex')"
      ],
      "execution_count": 45,
      "outputs": [
        {
          "output_type": "stream",
          "text": [
            "Corr between sex and the target:  0.21453154666546925\n"
          ],
          "name": "stdout"
        }
      ]
    },
    {
      "cell_type": "markdown",
      "metadata": {
        "id": "G2qyyfvZ5v-v",
        "colab_type": "text"
      },
      "source": [
        "# Capital_gain vs target"
      ]
    },
    {
      "cell_type": "code",
      "metadata": {
        "id": "9kGB2h7Z5v-v",
        "colab_type": "code",
        "outputId": "63285943-def8-441f-ba0f-cc00a5a69e2b",
        "colab": {
          "base_uri": "https://localhost:8080/",
          "height": 284
        }
      },
      "source": [
        "sns.boxplot(x = 'capital_gain', data = df)\n",
        "plt.show()"
      ],
      "execution_count": 46,
      "outputs": [
        {
          "output_type": "display_data",
          "data": {
            "image/png": "[encoded data removed]",
            "text/plain": [
              "<Figure size 432x288 with 1 Axes>"
            ]
          },
          "metadata": {
            "tags": []
          }
        }
      ]
    },
    {
      "cell_type": "code",
      "metadata": {
        "id": "EY3iHxwv5v-y",
        "colab_type": "code",
        "outputId": "6f22d7df-1a91-43ca-a527-f0bafb36d4da",
        "colab": {
          "base_uri": "https://localhost:8080/",
          "height": 35
        }
      },
      "source": [
        "print('People with capital_gain > 80000: ', len(df[df['capital_gain'] > 80000]))"
      ],
      "execution_count": 47,
      "outputs": [
        {
          "output_type": "stream",
          "text": [
            "People with capital_gain > 80000:  244\n"
          ],
          "name": "stdout"
        }
      ]
    },
    {
      "cell_type": "code",
      "metadata": {
        "id": "Y1TpJlBT5v-1",
        "colab_type": "code",
        "outputId": "aa9c23c3-6b7f-4d03-dde7-1d00f708c1bf",
        "colab": {
          "base_uri": "https://localhost:8080/",
          "height": 35
        }
      },
      "source": [
        "print_corr(df, 'capital_gain')"
      ],
      "execution_count": 49,
      "outputs": [
        {
          "output_type": "stream",
          "text": [
            "Corr between capital_gain and the target:  0.2230130208582356\n"
          ],
          "name": "stdout"
        }
      ]
    },
    {
      "cell_type": "markdown",
      "metadata": {
        "id": "x1lPIiJE5v-4",
        "colab_type": "text"
      },
      "source": [
        "# Capital_loss vs target"
      ]
    },
    {
      "cell_type": "code",
      "metadata": {
        "id": "sTf1HJ3M5v-4",
        "colab_type": "code",
        "outputId": "249379a0-d004-47dc-d7a2-223589ea2804",
        "colab": {
          "base_uri": "https://localhost:8080/",
          "height": 284
        }
      },
      "source": [
        "sns.boxplot(x = 'capital_loss', data = df)\n",
        "plt.show()"
      ],
      "execution_count": 50,
      "outputs": [
        {
          "output_type": "display_data",
          "data": {
            "image/png": "[encoded data removed]",
            "text/plain": [
              "<Figure size 432x288 with 1 Axes>"
            ]
          },
          "metadata": {
            "tags": []
          }
        }
      ]
    },
    {
      "cell_type": "code",
      "metadata": {
        "id": "0dnGhnDA5v_E",
        "colab_type": "code",
        "outputId": "ab3a53e6-4b14-4555-8df0-258bd2a677de",
        "colab": {
          "base_uri": "https://localhost:8080/",
          "height": 35
        }
      },
      "source": [
        "print('People with capital_loss > 0: ', len(df[df['capital_loss'] > 0]))"
      ],
      "execution_count": 51,
      "outputs": [
        {
          "output_type": "stream",
          "text": [
            "People with capital_loss > 0:  2282\n"
          ],
          "name": "stdout"
        }
      ]
    },
    {
      "cell_type": "code",
      "metadata": {
        "id": "nFYb4Pdw5v_H",
        "colab_type": "code",
        "outputId": "8b9bb254-1dbf-4c55-d47b-40cd49e76479",
        "colab": {
          "base_uri": "https://localhost:8080/",
          "height": 35
        }
      },
      "source": [
        "print_corr(df, 'capital_loss')"
      ],
      "execution_count": 53,
      "outputs": [
        {
          "output_type": "stream",
          "text": [
            "Corr between capital_loss and the target:  0.14755448819939188\n"
          ],
          "name": "stdout"
        }
      ]
    },
    {
      "cell_type": "markdown",
      "metadata": {
        "id": "zEUC1Ek75v_O",
        "colab_type": "text"
      },
      "source": [
        "# Hours_per_week vs target"
      ]
    },
    {
      "cell_type": "code",
      "metadata": {
        "id": "L54rPjlS5v_P",
        "colab_type": "code",
        "outputId": "eb367df3-3867-4923-f794-aed5e8835462",
        "colab": {
          "base_uri": "https://localhost:8080/",
          "height": 284
        }
      },
      "source": [
        "sns.boxplot(x = 'hours_per_week', data = df)\n",
        "plt.show()"
      ],
      "execution_count": 54,
      "outputs": [
        {
          "output_type": "display_data",
          "data": {
            "image/png": "[encoded data removed]",
            "text/plain": [
              "<Figure size 432x288 with 1 Axes>"
            ]
          },
          "metadata": {
            "tags": []
          }
        }
      ]
    },
    {
      "cell_type": "code",
      "metadata": {
        "id": "Hn003wYX5v_T",
        "colab_type": "code",
        "outputId": "d766abc0-88a7-4241-a026-f0fd66b8ca18",
        "colab": {
          "base_uri": "https://localhost:8080/",
          "height": 35
        }
      },
      "source": [
        "print_corr(df, 'hours_per_week')"
      ],
      "execution_count": 56,
      "outputs": [
        {
          "output_type": "stream",
          "text": [
            "Corr between hours_per_week and the target:  0.22768676056081416\n"
          ],
          "name": "stdout"
        }
      ]
    },
    {
      "cell_type": "markdown",
      "metadata": {
        "id": "28o1OSzH5v_U",
        "colab_type": "text"
      },
      "source": [
        "# Native_country vs target"
      ]
    },
    {
      "cell_type": "code",
      "metadata": {
        "id": "HK6o6qm55v_U",
        "colab_type": "code",
        "outputId": "87298d13-17c9-4812-d160-c35b72f3f077",
        "colab": {
          "base_uri": "https://localhost:8080/",
          "height": 807
        }
      },
      "source": [
        "df['native_country'].value_counts()"
      ],
      "execution_count": 57,
      "outputs": [
        {
          "output_type": "execute_result",
          "data": {
            "text/plain": [
              " United-States                 43832\n",
              " Mexico                          951\n",
              " ?                               857\n",
              " Philippines                     295\n",
              " Germany                         206\n",
              " Puerto-Rico                     184\n",
              " Canada                          182\n",
              " El-Salvador                     155\n",
              " India                           151\n",
              " Cuba                            138\n",
              " England                         127\n",
              " China                           122\n",
              " South                           115\n",
              " Jamaica                         106\n",
              " Italy                           105\n",
              " Dominican-Republic              103\n",
              " Japan                            92\n",
              " Guatemala                        88\n",
              " Poland                           87\n",
              " Vietnam                          86\n",
              " Columbia                         85\n",
              " Haiti                            75\n",
              " Portugal                         67\n",
              " Taiwan                           65\n",
              " Iran                             59\n",
              " Nicaragua                        49\n",
              " Greece                           49\n",
              " Peru                             46\n",
              " Ecuador                          45\n",
              " France                           38\n",
              " Ireland                          37\n",
              " Thailand                         30\n",
              " Hong                             30\n",
              " Cambodia                         28\n",
              " Trinadad&Tobago                  27\n",
              " Outlying-US(Guam-USVI-etc)       23\n",
              " Laos                             23\n",
              " Yugoslavia                       23\n",
              " Scotland                         21\n",
              " Honduras                         20\n",
              " Hungary                          19\n",
              " Holand-Netherlands                1\n",
              "Name: native_country, dtype: int64"
            ]
          },
          "metadata": {
            "tags": []
          },
          "execution_count": 57
        }
      ]
    },
    {
      "cell_type": "markdown",
      "metadata": {
        "id": "IvC_S2i45v_W",
        "colab_type": "text"
      },
      "source": [
        "There are 856 records with **unknown** native_country. Those records could be:\n",
        "\n",
        "- Not inserted by the user intentionaly\n",
        "- Inserted in the database but because of a bug in the system, they were lost\n",
        "- Inserted as an Other option and not interpreted correctly by the system\n",
        "\n",
        "Its difficult to imput those values. The solution could be to assign **other** to those records and create a binary column to idicate that certain row has missing values."
      ]
    },
    {
      "cell_type": "code",
      "metadata": {
        "id": "rHLDpPdA5v_X",
        "colab_type": "code",
        "outputId": "4dfcaa0b-23dc-4f7f-c7c3-a6b08346334d",
        "colab": {
          "base_uri": "https://localhost:8080/",
          "height": 602
        }
      },
      "source": [
        "gb = df.groupby(by = ['native_country', 'target']).agg({'age': 'count'})\n",
        "gb.columns = ['count']\n",
        "gb = gb.reset_index()\n",
        "fig, ax = plt.subplots(figsize = (12, 6))\n",
        "sns.barplot(x = 'native_country', y = 'count', hue = 'target', data = gb)\n",
        "plt.xticks(rotation = 90)"
      ],
      "execution_count": 58,
      "outputs": [
        {
          "output_type": "execute_result",
          "data": {
            "text/plain": [
              "(array([ 0,  1,  2,  3,  4,  5,  6,  7,  8,  9, 10, 11, 12, 13, 14, 15, 16,\n",
              "        17, 18, 19, 20, 21, 22, 23, 24, 25, 26, 27, 28, 29, 30, 31, 32, 33,\n",
              "        34, 35, 36, 37, 38, 39, 40, 41]),\n",
              " <a list of 42 Text xticklabel objects>)"
            ]
          },
          "metadata": {
            "tags": []
          },
          "execution_count": 58
        },
        {
          "output_type": "display_data",
          "data": {
            "image/png": "[encoded data removed]",
            "text/plain": [
              "<Figure size 864x432 with 1 Axes>"
            ]
          },
          "metadata": {
            "tags": []
          }
        }
      ]
    },
    {
      "cell_type": "code",
      "metadata": {
        "id": "Af_GFedO5v_Z",
        "colab_type": "code",
        "outputId": "a93a9bed-560d-454d-b3ad-5e869faf16f7",
        "colab": {
          "base_uri": "https://localhost:8080/",
          "height": 584
        }
      },
      "source": [
        "new_gb = gb[gb['count'] < 10692]\n",
        "fig, ax = plt.subplots(figsize = (12, 6))\n",
        "sns.barplot(x = 'native_country', y = 'count', hue = 'target', data = new_gb)\n",
        "plt.xticks(rotation = 90)"
      ],
      "execution_count": 59,
      "outputs": [
        {
          "output_type": "execute_result",
          "data": {
            "text/plain": [
              "(array([ 0,  1,  2,  3,  4,  5,  6,  7,  8,  9, 10, 11, 12, 13, 14, 15, 16,\n",
              "        17, 18, 19, 20, 21, 22, 23, 24, 25, 26, 27, 28, 29, 30, 31, 32, 33,\n",
              "        34, 35, 36, 37, 38, 39, 40]), <a list of 41 Text xticklabel objects>)"
            ]
          },
          "metadata": {
            "tags": []
          },
          "execution_count": 59
        },
        {
          "output_type": "display_data",
          "data": {
            "image/png": "[encoded data removed]",
            "text/plain": [
              "<Figure size 864x432 with 1 Axes>"
            ]
          },
          "metadata": {
            "tags": []
          }
        }
      ]
    },
    {
      "cell_type": "code",
      "metadata": {
        "id": "ik8sbt7Y5v_b",
        "colab_type": "code",
        "outputId": "86586bfb-7b0d-4068-8f50-f4cffecff640",
        "colab": {
          "base_uri": "https://localhost:8080/",
          "height": 35
        }
      },
      "source": [
        "print_corr(df, 'native_country')"
      ],
      "execution_count": 60,
      "outputs": [
        {
          "output_type": "stream",
          "text": [
            "Corr between native_country and the target:  0.09175910125047917\n"
          ],
          "name": "stdout"
        }
      ]
    },
    {
      "cell_type": "markdown",
      "metadata": {
        "id": "R-GqQG5i5v_c",
        "colab_type": "text"
      },
      "source": [
        "# Correlation Map"
      ]
    },
    {
      "cell_type": "code",
      "metadata": {
        "id": "eoZAy5LT5v_d",
        "colab_type": "code",
        "colab": {}
      },
      "source": [
        "for col in df.columns:\n",
        "    if df[col].dtype == 'object':\n",
        "        lb = LabelEncoder()\n",
        "        df[col] = lb.fit_transform(df[col])"
      ],
      "execution_count": 0,
      "outputs": []
    },
    {
      "cell_type": "code",
      "metadata": {
        "id": "_ex2E2jv5v_e",
        "colab_type": "code",
        "colab": {}
      },
      "source": [
        "corr = df.corr()"
      ],
      "execution_count": 0,
      "outputs": []
    },
    {
      "cell_type": "code",
      "metadata": {
        "id": "nm6_GdUr5v_h",
        "colab_type": "code",
        "outputId": "b6f33071-c0f4-47f1-e4d1-b6f8289bc96d",
        "colab": {
          "base_uri": "https://localhost:8080/",
          "height": 552
        }
      },
      "source": [
        "f, ax = plt.subplots(figsize = (18, 8))\n",
        "ax = sns.heatmap(corr, cmap = plt.cm.Reds)\n",
        "ax.set_xticklabels(\n",
        "    ax.get_xticklabels(),\n",
        "    rotation = 45,\n",
        "    horizontalalignment = 'right'\n",
        ")\n",
        "plt.show()"
      ],
      "execution_count": 63,
      "outputs": [
        {
          "output_type": "display_data",
          "data": {
            "image/png": "[encoded data removed]",
            "text/plain": [
              "<Figure size 1296x576 with 2 Axes>"
            ]
          },
          "metadata": {
            "tags": []
          }
        }
      ]
    },
    {
      "cell_type": "markdown",
      "metadata": {
        "id": "MgSRGoy4tUkH",
        "colab_type": "text"
      },
      "source": [
        "# Baseline Mpdel"
      ]
    },
    {
      "cell_type": "code",
      "metadata": {
        "id": "6oTnU3gw5v_j",
        "colab_type": "code",
        "colab": {
          "base_uri": "https://localhost:8080/",
          "height": 72
        },
        "outputId": "20b2492e-7929-40c3-bfe6-f39b56e29cef"
      },
      "source": [
        "from sklearn.ensemble import RandomForestClassifier\n",
        "from sklearn.model_selection import train_test_split\n",
        "from sklearn.metrics import f1_score, accuracy_score, roc_auc_score\n",
        "\n",
        "X = df.drop(columns = ['target', 'education'])\n",
        "y = df['target']\n",
        "X_tr, X_test, y_tr, y_test = train_test_split(X, y, test_size = 0.3, random_state = 42)\n",
        "rf = RandomForestClassifier(n_estimators = 1000, random_state = 42)\n",
        "rf.fit(X_tr, y_tr)\n",
        "\n",
        "y_hat = rf.predict(X_test)\n",
        "print('accuracy_score: ', accuracy_score(y_test, y_hat))\n",
        "print('f1_score: ', f1_score(y_test, y_hat))\n",
        "print('roc_auc_score: ', roc_auc_score(y_test, y_hat))"
      ],
      "execution_count": 84,
      "outputs": [
        {
          "output_type": "stream",
          "text": [
            "accuracy_score:  0.8572988466525626\n",
            "f1_score:  0.6771653543307087\n",
            "roc_auc_score:  0.7760898343258582\n"
          ],
          "name": "stdout"
        }
      ]
    },
    {
      "cell_type": "markdown",
      "metadata": {
        "id": "iX4fVzd8v5X4",
        "colab_type": "text"
      },
      "source": [
        "## Feature importance"
      ]
    },
    {
      "cell_type": "code",
      "metadata": {
        "id": "19I72jn45v_l",
        "colab_type": "code",
        "colab": {
          "base_uri": "https://localhost:8080/",
          "height": 256
        },
        "outputId": "c0fbb673-3357-4e1c-e220-74c0faa6fc9d"
      },
      "source": [
        "importances = list(rf.feature_importances_)\n",
        "feature_importances = [(feature, round(importance, 3)) for feature, importance in zip(X.columns, importances)]\n",
        "feature_importances = sorted(feature_importances, key = lambda x: x[1], reverse = True)\n",
        "[print('Featrue: {:20} Importance: {}'.format(*pair)) for pair in feature_importances];"
      ],
      "execution_count": 85,
      "outputs": [
        {
          "output_type": "stream",
          "text": [
            "Featrue: final_weight         Importance: 0.175\n",
            "Featrue: age                  Importance: 0.146\n",
            "Featrue: education_duration   Importance: 0.119\n",
            "Featrue: capital_gain         Importance: 0.117\n",
            "Featrue: relationship         Importance: 0.107\n",
            "Featrue: hours_per_week       Importance: 0.082\n",
            "Featrue: marital_status       Importance: 0.07\n",
            "Featrue: occupation           Importance: 0.066\n",
            "Featrue: workclass            Importance: 0.038\n",
            "Featrue: capital_loss         Importance: 0.038\n",
            "Featrue: native_country       Importance: 0.017\n",
            "Featrue: race                 Importance: 0.014\n",
            "Featrue: sex                  Importance: 0.011\n"
          ],
          "name": "stdout"
        }
      ]
    },
    {
      "cell_type": "code",
      "metadata": {
        "id": "twJEI7moxv6a",
        "colab_type": "code",
        "colab": {}
      },
      "source": [
        ""
      ],
      "execution_count": 0,
      "outputs": []
    }
  ]
}