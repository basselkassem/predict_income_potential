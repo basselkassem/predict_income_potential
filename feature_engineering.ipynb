{
  "nbformat": 4,
  "nbformat_minor": 0,
  "metadata": {
    "kernelspec": {
      "name": "python3",
      "display_name": "Python 3"
    },
    "language_info": {
      "mimetype": "text/x-python",
      "nbconvert_exporter": "python",
      "version": "3.6.8",
      "name": "python",
      "pygments_lexer": "ipython3",
      "file_extension": ".py",
      "codemirror_mode": {
        "version": 3,
        "name": "ipython"
      }
    },
    "colab": {
      "name": "feature_engineering.ipynb",
      "provenance": [],
      "collapsed_sections": [
        "3AlGGAMhPllV"
      ],
      "include_colab_link": true
    }
  },
  "cells": [
    {
      "cell_type": "markdown",
      "metadata": {
        "id": "view-in-github",
        "colab_type": "text"
      },
      "source": [
        "<a href=\"https://colab.research.google.com/github/basselkassem/predict_income_potential/blob/master/feature_engineering.ipynb\" target=\"_parent\"><img src=\"https://colab.research.google.com/assets/colab-badge.svg\" alt=\"Open In Colab\"/></a>"
      ]
    },
    {
      "cell_type": "markdown",
      "metadata": {
        "id": "j5-deBh6PliZ",
        "colab_type": "text"
      },
      "source": [
        "# Import libs"
      ]
    },
    {
      "cell_type": "code",
      "metadata": {
        "id": "LyBeVTRoPlie",
        "colab_type": "code",
        "colab": {}
      },
      "source": [
        "import pandas as pd\n",
        "import numpy as np\n",
        "import matplotlib.pyplot as plt\n",
        "%matplotlib inline\n",
        "import seaborn as sns\n",
        "from sklearn.preprocessing import LabelEncoder, MinMaxScaler, PolynomialFeatures\n",
        "from scipy import stats"
      ],
      "execution_count": 0,
      "outputs": []
    },
    {
      "cell_type": "markdown",
      "metadata": {
        "collapsed": true,
        "id": "B2EMSNk4Plin",
        "colab_type": "text"
      },
      "source": [
        "# Data Cleansing [coursera]\n",
        "In some process models Data Cleansing is a separate task, it is closely tied to Feature Creation but also draws findings from the Initial Data Exploration task. The actual data transformations are implemented in the Feature Creation asset deliverable; therefore, Data Cleansing is part of the Feature Creation task in this process model.\n",
        "\n",
        "While tuning machine learning models, this deliverable asset is touched on a regular basis anyway because features need to be transformed to increase model performance. In such iterations, often issues with data are detected and therefore need to be corrected/addressed here as well.\n",
        "\n",
        "The following none exhaustive list gives you some guidelines:\n",
        "\n",
        "- Data types Are data types of columns matching their content? E.g. is age stored as integer and not as string?\n",
        "- Ranges Does the value distribution of values in a column make sense? Use stats (e.g. min, max, mean, standard deviation) and visualizations (e.g. box-plot, histogram) for help\n",
        "- Emptiness Are all values non-null where mandatory? E.g. client IDs\n",
        "- Uniqueness Are duplicates present where undesired? E.g. client IDs\n",
        "- Set memberships Are only allowed values chosen for categorical or ordinal fields? E.g. Female, Male, Unknown\n",
        "- Foreign key set memberships Are only allowed values chosen as field? E.g. ZIP code\n",
        "- Regular expressions Some files need to stick to a pattern expressed by a regular expression. E.g. a lower-case character followed by 6 digits\n",
        "- Cross-field validation Some fields can impact validity of other fields. E.g. a male person can’t be pregnant\n"
      ]
    },
    {
      "cell_type": "markdown",
      "metadata": {
        "id": "Ev0dwPVBPliq",
        "colab_type": "text"
      },
      "source": [
        "# Load data"
      ]
    },
    {
      "cell_type": "code",
      "metadata": {
        "id": "13wnxi9pPlir",
        "colab_type": "code",
        "outputId": "76922140-2de4-4b0c-f10c-0ed7b1f5e4ba",
        "colab": {
          "base_uri": "https://localhost:8080/",
          "height": 35
        }
      },
      "source": [
        "from google.colab import drive\n",
        "drive.mount('/content/gdrive')\n",
        "data_path = \"/content/gdrive/My Drive/Colab Notebooks/predict_income_potential/data/\""
      ],
      "execution_count": 2,
      "outputs": [
        {
          "output_type": "stream",
          "text": [
            "Drive already mounted at /content/gdrive; to attempt to forcibly remount, call drive.mount(\"/content/gdrive\", force_remount=True).\n"
          ],
          "name": "stdout"
        }
      ]
    },
    {
      "cell_type": "code",
      "metadata": {
        "id": "eraqawBPPliw",
        "colab_type": "code",
        "outputId": "215b3c2f-831b-42dd-c061-95d4bb4ce6aa",
        "colab": {
          "base_uri": "https://localhost:8080/",
          "height": 35
        }
      },
      "source": [
        "df = pd.read_csv(data_path + 'init_data.csv' )\n",
        "print(df.shape)"
      ],
      "execution_count": 3,
      "outputs": [
        {
          "output_type": "stream",
          "text": [
            "(48842, 15)\n"
          ],
          "name": "stdout"
        }
      ]
    },
    {
      "cell_type": "markdown",
      "metadata": {
        "id": "BaQpCrogPli3",
        "colab_type": "text"
      },
      "source": [
        "# Utile Functions"
      ]
    },
    {
      "cell_type": "code",
      "metadata": {
        "id": "9RYn5mt4Pli4",
        "colab_type": "code",
        "colab": {}
      },
      "source": [
        "def cramers_v(x, y):\n",
        "    confusion_matrix = pd.crosstab(x,y)\n",
        "    chi2 = stats.chi2_contingency(confusion_matrix)[0]\n",
        "    n = confusion_matrix.sum().sum()\n",
        "    phi2 = chi2 / n\n",
        "    r,k = confusion_matrix.shape\n",
        "    phi2corr = max(0, phi2 - ((k-1)*(r-1))/(n-1))\n",
        "    rcorr = r-((r-1)**2)/(n-1)\n",
        "    kcorr = k-((k-1)**2)/(n-1)\n",
        "    return np.sqrt(phi2corr/min((kcorr-1),(rcorr-1)))\n",
        "\n",
        "def print_corr(df, attr, verbose = True):\n",
        "  lb_make = LabelEncoder()\n",
        "  target_enc = lb_make.fit_transform(df['target'])\n",
        "  if df[attr].dtype == 'object':\n",
        "    lb_make = LabelEncoder()\n",
        "    src_enc = lb_make.fit_transform(df[attr])\n",
        "    if verbose:\n",
        "      print('Corr between', attr, 'and the target: ', cramers_v(src_enc, target_enc))\n",
        "    return cramers_v(src_enc, target_enc)\n",
        "  else:\n",
        "    src_enc = df[attr]\n",
        "    if verbose:\n",
        "      print('Corr between', attr, 'and the target: ', stats.pointbiserialr(src_enc, target_enc)[0])\n",
        "    return stats.pointbiserialr(src_enc, target_enc)[0]\n",
        "\n",
        "def downcast_df(df):\n",
        "  start_size = df.memory_usage(deep = True).sum() / 1024**2\n",
        "  print('Memory usage: {:.2f} MB'.format(start_size))\n",
        "\n",
        "  float_cols = [c for c in df if df[c].dtype == \"float64\"]\n",
        "  int_cols = [c for c in df if df[c].dtype in [\"int64\", \"int32\"]]\n",
        "  df[float_cols] = df[float_cols].astype(np.float32)\n",
        "  df[int_cols] = df[int_cols].astype(np.int32)\n",
        "  end_size = df.memory_usage(deep = True).sum() / 1024**2\n",
        "  print('New Memory usage: {:.2f} MB'.format(end_size))\n",
        "  return df"
      ],
      "execution_count": 0,
      "outputs": []
    },
    {
      "cell_type": "markdown",
      "metadata": {
        "id": "65QgoPV9Pli9",
        "colab_type": "text"
      },
      "source": [
        "# Remove Duplicated rows"
      ]
    },
    {
      "cell_type": "code",
      "metadata": {
        "id": "lSQipZYpPljB",
        "colab_type": "code",
        "outputId": "56bbe116-ab51-4bff-9a9b-2e4bd38427d3",
        "colab": {
          "base_uri": "https://localhost:8080/",
          "height": 35
        }
      },
      "source": [
        "print('Number of duplicates:', len(df[df.duplicated()]))"
      ],
      "execution_count": 5,
      "outputs": [
        {
          "output_type": "stream",
          "text": [
            "Number of duplicates: 29\n"
          ],
          "name": "stdout"
        }
      ]
    },
    {
      "cell_type": "markdown",
      "metadata": {
        "id": "evLe44PPPljL",
        "colab_type": "text"
      },
      "source": [
        "We should delete duplicated rows because they don't add new information"
      ]
    },
    {
      "cell_type": "code",
      "metadata": {
        "id": "XiBF2NoPPljO",
        "colab_type": "code",
        "outputId": "065e79ce-df17-46be-d2a8-7753ce43425d",
        "colab": {
          "base_uri": "https://localhost:8080/",
          "height": 35
        }
      },
      "source": [
        "df = df.drop_duplicates(keep = 'first')\n",
        "print('Number of duplicates:', len(df[df.duplicated()]))"
      ],
      "execution_count": 6,
      "outputs": [
        {
          "output_type": "stream",
          "text": [
            "Number of duplicates: 0\n"
          ],
          "name": "stdout"
        }
      ]
    },
    {
      "cell_type": "markdown",
      "metadata": {
        "id": "3ydmpu0OPljT",
        "colab_type": "text"
      },
      "source": [
        "# Clean data"
      ]
    },
    {
      "cell_type": "markdown",
      "metadata": {
        "id": "Hm6EphH3PljV",
        "colab_type": "text"
      },
      "source": [
        "## Remove extra characters and spaces"
      ]
    },
    {
      "cell_type": "code",
      "metadata": {
        "id": "oIZs4J29PljW",
        "colab_type": "code",
        "outputId": "e2650846-e31b-4094-b866-529f1f14b409",
        "colab": {
          "base_uri": "https://localhost:8080/",
          "height": 72
        }
      },
      "source": [
        "df['target'] = df['target'].str.replace('.', '')\n",
        "df['target'] = df['target'].str.strip()\n",
        "df['target'].value_counts()"
      ],
      "execution_count": 7,
      "outputs": [
        {
          "output_type": "execute_result",
          "data": {
            "text/plain": [
              "<=50K    37128\n",
              ">50K     11685\n",
              "Name: target, dtype: int64"
            ]
          },
          "metadata": {
            "tags": []
          },
          "execution_count": 7
        }
      ]
    },
    {
      "cell_type": "code",
      "metadata": {
        "id": "t-cfjKWiPljb",
        "colab_type": "code",
        "colab": {}
      },
      "source": [
        "for col in df.columns:\n",
        "    if df[col].dtype == 'object':\n",
        "        df[col] = df[col].str.strip()\n",
        "        df[col] = df[col].str.lower()"
      ],
      "execution_count": 0,
      "outputs": []
    },
    {
      "cell_type": "markdown",
      "metadata": {
        "id": "PzNSkdjOPljg",
        "colab_type": "text"
      },
      "source": [
        "## Cross-field validation\n",
        "- a male can not be a wife\n",
        "- a female can't be a husband\n",
        "- a never married, divorced or widowed can't be husband or wife\n",
        "- a separated person can't be wife or husband in the houshold"
      ]
    },
    {
      "cell_type": "code",
      "metadata": {
        "id": "agdYadKMPljh",
        "colab_type": "code",
        "colab": {}
      },
      "source": [
        "df.loc[(df['sex'] == 'female') & (df['relationship'] == 'husband'), 'relationship'] = 'wife'"
      ],
      "execution_count": 0,
      "outputs": []
    },
    {
      "cell_type": "code",
      "metadata": {
        "id": "zdZrP-J_Pljm",
        "colab_type": "code",
        "colab": {}
      },
      "source": [
        "df.loc[(df['sex'] == 'male') & (df['relationship'] == 'wife'), 'relationship'] = 'husband'"
      ],
      "execution_count": 0,
      "outputs": []
    },
    {
      "cell_type": "code",
      "metadata": {
        "id": "IWQeVv_oPljq",
        "colab_type": "code",
        "outputId": "47995b60-499b-4114-ad0b-bcb99d02f0b4",
        "colab": {
          "base_uri": "https://localhost:8080/",
          "height": 35
        }
      },
      "source": [
        "len(df[(df['marital_status'].isin(['never-married', 'divorced', 'widowed'])) & (df['relationship'].isin(['husband','wife']))])"
      ],
      "execution_count": 11,
      "outputs": [
        {
          "output_type": "execute_result",
          "data": {
            "text/plain": [
              "0"
            ]
          },
          "metadata": {
            "tags": []
          },
          "execution_count": 11
        }
      ]
    },
    {
      "cell_type": "code",
      "metadata": {
        "id": "5mtFRJqWPljv",
        "colab_type": "code",
        "outputId": "890de278-f43c-4fd3-fa04-27b4103b93c0",
        "colab": {
          "base_uri": "https://localhost:8080/",
          "height": 35
        }
      },
      "source": [
        "len(df[(df['marital_status'].isin(['married-spouse-absent'])) & (df['relationship'].isin(['husband', 'wife']))])"
      ],
      "execution_count": 12,
      "outputs": [
        {
          "output_type": "execute_result",
          "data": {
            "text/plain": [
              "0"
            ]
          },
          "metadata": {
            "tags": []
          },
          "execution_count": 12
        }
      ]
    },
    {
      "cell_type": "markdown",
      "metadata": {
        "id": "GEmuDGw4Pljz",
        "colab_type": "text"
      },
      "source": [
        "# Feature Engineering [coursera]\n",
        "Feature Creation and Feature Engineering is one of the most important tasks in machine learning since it hugely impacts model performance. This also holds for deep learning, although to a lesser extent. Features can be changed or new features can be created from existing ones\n",
        "\n",
        "The following none exhaustive list gives you some guidelines for feature transformation:\n",
        "- Imputing Some algorithms are very sensitive to missing values. Therefore, imputing allows for filling of empty fields based on its value distribution\n",
        "- Imputed time-series quantization Time series often contain streams with measurements at different timestamps. Therefore, it is beneficial to quantize measurements to a common “heart beat” and impute the corresponding values. This can be done by sampling from the source time series distributions on the respective quantized time steps\n",
        "- Scaling / Normalizing / Centering Some algorithms are very sensitive differences in value ranges for individual fields. Therefore, it is best practice to center data around zero and scale values to a standard deviation of one\n",
        "- Filtering Sometimes imputing values doesn’t perform well, therefore deletion of low quality records is a better strategy\n",
        "- Discretizing Continuous fields might confuse the model, e.g. a discrete set of age ranges sometimes performs better than continuous values, especially on smaller amounts of data and with simpler models\n",
        "\n",
        "\n",
        "The following none exhaustive list gives you some guidelines for feature creation:\n",
        "- One-hot-encoding Categorical integer features should be transformed into “one-hot” vectors. In relational terms this results in addition of additional columns – one columns for each distinct category\n",
        "- Time-to-Frequency transformation Time-series (and sometimes also sequence data) is recorded in the time domain but can easily transformed into the frequency domain e.g. using FFT (Fast Fourier Transformation)\n",
        "- Month-From-Date Creating an additional feature containing the month independent from data captures seasonal aspects. Sometimes further discretization in to quarters helps as well\n",
        "- Aggregate-on-Target Simply aggregating fields the target variable (or even other fields) can improve performance, e.g. count number of data points per ZIP code or take the median of all values by geographical region\n",
        "\n",
        "As feature engineering is an art on itself, this list cannot be exhaustive. It’s not expected to become an expert in this topic at this point. Most of it you’ll learn by practicing data science on real projects and talk to peers which might share their secrets and tricks with you.\n"
      ]
    },
    {
      "cell_type": "markdown",
      "metadata": {
        "id": "sLAJuylxPlj1",
        "colab_type": "text"
      },
      "source": [
        "## Fill missing values"
      ]
    },
    {
      "cell_type": "code",
      "metadata": {
        "id": "0OIQY8fKPlj3",
        "colab_type": "code",
        "outputId": "c6e87610-d8d3-47e5-a079-b0addb8d9b83",
        "colab": {
          "base_uri": "https://localhost:8080/",
          "height": 349
        }
      },
      "source": [
        "for col in df.columns:\n",
        "  print('There is: ', len(df[df[col] == '?']), ' missing values in ', col)"
      ],
      "execution_count": 13,
      "outputs": [
        {
          "output_type": "stream",
          "text": [
            "There is:  0  missing values in  age\n",
            "There is:  2799  missing values in  workclass\n",
            "There is:  0  missing values in  final_weight\n",
            "There is:  0  missing values in  education\n",
            "There is:  0  missing values in  education_duration\n",
            "There is:  0  missing values in  marital_status\n",
            "There is:  2809  missing values in  occupation\n",
            "There is:  0  missing values in  relationship\n",
            "There is:  0  missing values in  race\n",
            "There is:  0  missing values in  sex\n",
            "There is:  0  missing values in  capital_gain\n",
            "There is:  0  missing values in  capital_loss\n",
            "There is:  0  missing values in  hours_per_week\n",
            "There is:  856  missing values in  native_country\n",
            "There is:  0  missing values in  target\n"
          ],
          "name": "stdout"
        },
        {
          "output_type": "stream",
          "text": [
            "/usr/local/lib/python3.6/dist-packages/pandas/core/ops.py:1649: FutureWarning: elementwise comparison failed; returning scalar instead, but in the future will perform elementwise comparison\n",
            "  result = method(y)\n"
          ],
          "name": "stderr"
        }
      ]
    },
    {
      "cell_type": "code",
      "metadata": {
        "id": "Mbq0fgO4Plj6",
        "colab_type": "code",
        "outputId": "196af88d-7e3d-44f4-bc1b-64a760609a5d",
        "colab": {
          "base_uri": "https://localhost:8080/",
          "height": 74
        }
      },
      "source": [
        "for col in df.columns:\n",
        "    df.loc[df[col] == '?', col] = 'other_unknown'"
      ],
      "execution_count": 14,
      "outputs": [
        {
          "output_type": "stream",
          "text": [
            "/usr/local/lib/python3.6/dist-packages/pandas/core/ops.py:1649: FutureWarning: elementwise comparison failed; returning scalar instead, but in the future will perform elementwise comparison\n",
            "  result = method(y)\n"
          ],
          "name": "stderr"
        }
      ]
    },
    {
      "cell_type": "markdown",
      "metadata": {
        "id": "2tkpYAU_PlkA",
        "colab_type": "text"
      },
      "source": [
        "## Add missing values feature\n",
        "This feature indicates how missing values each row has"
      ]
    },
    {
      "cell_type": "code",
      "metadata": {
        "id": "CJOATufCPlkA",
        "colab_type": "code",
        "colab": {}
      },
      "source": [
        "df['has_missing_values'] = 0\n",
        "def detect_missing_value(row):\n",
        "    for col in df.columns:\n",
        "        if row[col] == 'other_unknown':\n",
        "            row['has_missing_values'] += 1\n",
        "    return row\n",
        "df = df.apply(detect_missing_value, axis = 1)"
      ],
      "execution_count": 0,
      "outputs": []
    },
    {
      "cell_type": "code",
      "metadata": {
        "id": "RCFx1RJ0PlkG",
        "colab_type": "code",
        "outputId": "303ea5c4-1bf2-4e28-9a5c-e9e66d5cd623",
        "colab": {
          "base_uri": "https://localhost:8080/",
          "height": 109
        }
      },
      "source": [
        "df['has_missing_values'].value_counts()"
      ],
      "execution_count": 16,
      "outputs": [
        {
          "output_type": "execute_result",
          "data": {
            "text/plain": [
              "0    45194\n",
              "2     2753\n",
              "1      820\n",
              "3       46\n",
              "Name: has_missing_values, dtype: int64"
            ]
          },
          "metadata": {
            "tags": []
          },
          "execution_count": 16
        }
      ]
    },
    {
      "cell_type": "code",
      "metadata": {
        "id": "7jVmV_FrPlkJ",
        "colab_type": "code",
        "outputId": "06e8603c-3c23-4677-b2bb-17ae78674dc5",
        "colab": {
          "base_uri": "https://localhost:8080/",
          "height": 54
        }
      },
      "source": [
        "print_corr(df, 'has_missing_values')"
      ],
      "execution_count": 17,
      "outputs": [
        {
          "output_type": "stream",
          "text": [
            "Corr between has_missing_values and the target:  -0.07925034430439992\n"
          ],
          "name": "stdout"
        },
        {
          "output_type": "execute_result",
          "data": {
            "text/plain": [
              "-0.07925034430439992"
            ]
          },
          "metadata": {
            "tags": []
          },
          "execution_count": 17
        }
      ]
    },
    {
      "cell_type": "code",
      "metadata": {
        "id": "y9vHm-MS8Isj",
        "colab_type": "code",
        "colab": {}
      },
      "source": [
        "df = df.drop(columns = 'has_missing_values')"
      ],
      "execution_count": 0,
      "outputs": []
    },
    {
      "cell_type": "markdown",
      "metadata": {
        "id": "OG3QXKV3PlkM",
        "colab_type": "text"
      },
      "source": [
        "## drop useless features"
      ]
    },
    {
      "cell_type": "markdown",
      "metadata": {
        "id": "SQvTBRhFRth4",
        "colab_type": "text"
      },
      "source": [
        "The column education_duration is a continuous representation of the column education. So I will delete the column education\n"
      ]
    },
    {
      "cell_type": "code",
      "metadata": {
        "id": "N03bCwIiPlkP",
        "colab_type": "code",
        "colab": {}
      },
      "source": [
        "df = df.drop(columns = ['education'])"
      ],
      "execution_count": 0,
      "outputs": []
    },
    {
      "cell_type": "code",
      "metadata": {
        "id": "dcf996CgzFxs",
        "colab_type": "code",
        "outputId": "cabd015f-7133-4557-c265-40c0586d3660",
        "colab": {
          "base_uri": "https://localhost:8080/",
          "height": 54
        }
      },
      "source": [
        "print_corr(df, 'final_weight')"
      ],
      "execution_count": 20,
      "outputs": [
        {
          "output_type": "stream",
          "text": [
            "Corr between final_weight and the target:  -0.00637619990497741\n"
          ],
          "name": "stdout"
        },
        {
          "output_type": "execute_result",
          "data": {
            "text/plain": [
              "-0.00637619990497741"
            ]
          },
          "metadata": {
            "tags": []
          },
          "execution_count": 20
        }
      ]
    },
    {
      "cell_type": "markdown",
      "metadata": {
        "id": "E-RmJZDBzVRl",
        "colab_type": "text"
      },
      "source": [
        "There is no correlation between final_weight and the target, so I will drop it"
      ]
    },
    {
      "cell_type": "code",
      "metadata": {
        "id": "apb2Iq_jzf8I",
        "colab_type": "code",
        "colab": {}
      },
      "source": [
        "df = df.drop(columns = 'final_weight')"
      ],
      "execution_count": 0,
      "outputs": []
    },
    {
      "cell_type": "markdown",
      "metadata": {
        "id": "Zahh27qmPlkS",
        "colab_type": "text"
      },
      "source": [
        "## Combine categorical levels"
      ]
    },
    {
      "cell_type": "markdown",
      "metadata": {
        "id": "f_GDIIxqPlkT",
        "colab_type": "text"
      },
      "source": [
        "### workclass"
      ]
    },
    {
      "cell_type": "markdown",
      "metadata": {
        "id": "VxgulsP-65sT",
        "colab_type": "text"
      },
      "source": [
        "- federal-gov, local_gov, state_gov -> government\n",
        "- private -> private\n",
        "- self-emp-inc, self-emp-not-inc -> self-employed\n",
        "- never-worked, without-pay -> unemployed\n",
        "- ? -> other"
      ]
    },
    {
      "cell_type": "code",
      "metadata": {
        "id": "kwUyrbrbPlkT",
        "colab_type": "code",
        "colab": {}
      },
      "source": [
        "df['com_workclass'] = df['workclass']\n",
        "df.loc[df['com_workclass'].isin(['state-gov', 'federal-gov', 'local-gov']), 'com_workclass'] = 'government'\n",
        "df.loc[df['com_workclass'].isin(['self-emp-inc', 'self-emp-not-inc']), 'com_workclass'] = 'self-employed'\n",
        "df.loc[df['com_workclass'].isin(['without-pay', 'never-worked']), 'com_workclass'] = 'unemployed'"
      ],
      "execution_count": 0,
      "outputs": []
    },
    {
      "cell_type": "code",
      "metadata": {
        "id": "4p2c1BIZPlkY",
        "colab_type": "code",
        "outputId": "12f164ff-aa85-45a4-95d6-b3f34792e1ef",
        "colab": {
          "base_uri": "https://localhost:8080/",
          "height": 72
        }
      },
      "source": [
        "print_corr(df, 'workclass')\n",
        "print_corr(df, 'com_workclass')"
      ],
      "execution_count": 23,
      "outputs": [
        {
          "output_type": "stream",
          "text": [
            "Corr between workclass and the target:  0.1812067476853715\n",
            "Corr between com_workclass and the target:  0.14614764101506048\n"
          ],
          "name": "stdout"
        },
        {
          "output_type": "execute_result",
          "data": {
            "text/plain": [
              "0.14614764101506048"
            ]
          },
          "metadata": {
            "tags": []
          },
          "execution_count": 23
        }
      ]
    },
    {
      "cell_type": "markdown",
      "metadata": {
        "id": "w6GCGfaPyXzW",
        "colab_type": "text"
      },
      "source": [
        "let us drop the new feature com_workclass"
      ]
    },
    {
      "cell_type": "code",
      "metadata": {
        "id": "pF4fSbjryWgW",
        "colab_type": "code",
        "colab": {}
      },
      "source": [
        "df = df.drop(columns = 'com_workclass')"
      ],
      "execution_count": 0,
      "outputs": []
    },
    {
      "cell_type": "markdown",
      "metadata": {
        "id": "bWWkeRlSPlkb",
        "colab_type": "text"
      },
      "source": [
        "### marital_status"
      ]
    },
    {
      "cell_type": "markdown",
      "metadata": {
        "id": "zg1SKDV-Plkb",
        "colab_type": "text"
      },
      "source": [
        " - “never-married,” “widowed,” and “divorced” ->  “single”\n",
        " - “married-civ-spouse”, “separated”, “married-af-spouse” and “married-spouse-absent” -> “married”"
      ]
    },
    {
      "cell_type": "code",
      "metadata": {
        "id": "gE6V47z_Plkc",
        "colab_type": "code",
        "colab": {}
      },
      "source": [
        "df['com_marital_status'] = df['marital_status']\n",
        "df.loc[df['com_marital_status'].isin(['never-married' 'widowed', 'divorced']), 'com_marital_status'] = 'single'\n",
        "df.loc[df['com_marital_status'].isin(\n",
        "    ['married-civ-spouse' 'separated', 'married-af-spouse', 'married-spouse-absent']), 'com_marital_status'] = 'single'"
      ],
      "execution_count": 0,
      "outputs": []
    },
    {
      "cell_type": "code",
      "metadata": {
        "id": "RkFdFy77Plkg",
        "colab_type": "code",
        "outputId": "8e2e63a8-6827-460f-ca18-3c358f7f4030",
        "colab": {
          "base_uri": "https://localhost:8080/",
          "height": 72
        }
      },
      "source": [
        "print_corr(df, 'marital_status')\n",
        "print_corr(df, 'com_marital_status')"
      ],
      "execution_count": 26,
      "outputs": [
        {
          "output_type": "stream",
          "text": [
            "Corr between marital_status and the target:  0.4481092378164384\n",
            "Corr between com_marital_status and the target:  0.44779218790941633\n"
          ],
          "name": "stdout"
        },
        {
          "output_type": "execute_result",
          "data": {
            "text/plain": [
              "0.44779218790941633"
            ]
          },
          "metadata": {
            "tags": []
          },
          "execution_count": 26
        }
      ]
    },
    {
      "cell_type": "code",
      "metadata": {
        "id": "BD6pg1i1yqov",
        "colab_type": "code",
        "colab": {}
      },
      "source": [
        "df = df.drop(columns = 'com_marital_status')"
      ],
      "execution_count": 0,
      "outputs": []
    },
    {
      "cell_type": "markdown",
      "metadata": {
        "id": "nY53CZ7TPlkj",
        "colab_type": "text"
      },
      "source": [
        "### native_country"
      ]
    },
    {
      "cell_type": "code",
      "metadata": {
        "id": "-q217o_ePlkk",
        "colab_type": "code",
        "colab": {}
      },
      "source": [
        "north_america = ['united-states', 'cuba', 'jamaica', 'mexico', 'canada',\n",
        "'puerto-rico', 'honduras',  'haiti', 'dominican-republic', \n",
        "'el-salvador',  'guatemala',  'outlying-us(guam-usvi-etc)',  \n",
        "'trinadad&tobago', 'nicaragua',  \n",
        "]\n",
        "\n",
        "other = ['other_unknown', 'south']\n",
        "\n",
        "asia = ['india', 'china', 'japan', 'vietnam', 'hong', 'iran', 'philippines', 'cambodia', 'thailand', 'laos', 'taiwan']\n",
        "\n",
        "europe = ['england', 'germany', 'italy', 'poland', 'ireland', 'hungary',\n",
        "'holand-netherlands', 'scotland', 'yugoslavia', 'greece', 'france', 'portugal',]\n",
        "\n",
        "south_america = ['peru',  'columbia',  'ecuador', ]"
      ],
      "execution_count": 0,
      "outputs": []
    },
    {
      "cell_type": "code",
      "metadata": {
        "id": "uiWK5tEzPlko",
        "colab_type": "code",
        "colab": {}
      },
      "source": [
        "df.loc[df['native_country'].isin(asia), 'com_native_country'] = 'aisa'\n",
        "df.loc[df['native_country'].isin(europe), 'com_native_country'] = 'europe'\n",
        "df.loc[df['native_country'].isin(north_america), 'com_native_country'] = 'north_america'\n",
        "df.loc[df['native_country'].isin(south_america), 'com_native_country'] = 'south_america'\n",
        "df.loc[df['native_country'].isin(other), 'com_native_country'] = 'other'"
      ],
      "execution_count": 0,
      "outputs": []
    },
    {
      "cell_type": "code",
      "metadata": {
        "id": "-ggDag6_Plkr",
        "colab_type": "code",
        "outputId": "3ad097ae-c1fc-4056-c582-2a917a3c7900",
        "colab": {
          "base_uri": "https://localhost:8080/",
          "height": 72
        }
      },
      "source": [
        "print_corr(df, 'native_country')\n",
        "print_corr(df, 'com_native_country')"
      ],
      "execution_count": 30,
      "outputs": [
        {
          "output_type": "stream",
          "text": [
            "Corr between native_country and the target:  0.09159272240334079\n",
            "Corr between com_native_country and the target:  0.033447597767781924\n"
          ],
          "name": "stdout"
        },
        {
          "output_type": "execute_result",
          "data": {
            "text/plain": [
              "0.033447597767781924"
            ]
          },
          "metadata": {
            "tags": []
          },
          "execution_count": 30
        }
      ]
    },
    {
      "cell_type": "code",
      "metadata": {
        "id": "7IEM_5BJy6SU",
        "colab_type": "code",
        "colab": {}
      },
      "source": [
        "df = df.drop(columns = ['native_country', 'com_native_country'])"
      ],
      "execution_count": 0,
      "outputs": []
    },
    {
      "cell_type": "markdown",
      "metadata": {
        "id": "LgKJ4qTPUepZ",
        "colab_type": "text"
      },
      "source": [
        "## Generate polynomial and interaction features"
      ]
    },
    {
      "cell_type": "code",
      "metadata": {
        "id": "Y_jOxZ08Ud0o",
        "colab_type": "code",
        "colab": {}
      },
      "source": [
        "cont_featrues = ['age', 'education_duration', 'hours_per_week', 'capital_gain', 'capital_loss' ]\n",
        "pl = PolynomialFeatures(2, include_bias = False)\n",
        "X_temp = pl.fit_transform(df[cont_featrues])\n",
        "poly_columns_names = pl.get_feature_names(cont_featrues)\n",
        "df_temp = pd.DataFrame(data = X_temp, columns = poly_columns_names)\n",
        "df = df.merge(df_temp, on = cont_featrues)"
      ],
      "execution_count": 0,
      "outputs": []
    },
    {
      "cell_type": "markdown",
      "metadata": {
        "id": "ojW--C3F7Sp6",
        "colab_type": "text"
      },
      "source": [
        "###  Crossing feature: age & hours_per_work"
      ]
    },
    {
      "cell_type": "code",
      "metadata": {
        "id": "8mcMvrsrPlk7",
        "colab_type": "code",
        "outputId": "a17af14d-d477-496e-83f9-93d380f5c213",
        "colab": {
          "base_uri": "https://localhost:8080/",
          "height": 337
        }
      },
      "source": [
        "fig = plt.figure(figsize=(15, 5))\n",
        "g = sns.pointplot(x = 'age', y = 'hours_per_week', hue = 'target', data = df)\n",
        "plt.show()"
      ],
      "execution_count": 33,
      "outputs": [
        {
          "output_type": "display_data",
          "data": {
            "image/png": "[encoded data removed]",
            "text/plain": [
              "<Figure size 1080x360 with 1 Axes>"
            ]
          },
          "metadata": {
            "tags": []
          }
        }
      ]
    },
    {
      "cell_type": "code",
      "metadata": {
        "id": "ClHKDuc2Plk9",
        "colab_type": "code",
        "outputId": "55581c4a-4130-430f-bc9f-8d84f8f64af4",
        "colab": {
          "base_uri": "https://localhost:8080/",
          "height": 284
        }
      },
      "source": [
        "sns.distplot(df['age hours_per_week'])\n",
        "plt.show()"
      ],
      "execution_count": 34,
      "outputs": [
        {
          "output_type": "display_data",
          "data": {
            "image/png": "[encoded data removed]",
            "text/plain": [
              "<Figure size 432x288 with 1 Axes>"
            ]
          },
          "metadata": {
            "tags": []
          }
        }
      ]
    },
    {
      "cell_type": "markdown",
      "metadata": {
        "id": "DUdSBRexPlku",
        "colab_type": "text"
      },
      "source": [
        "## Bin continuous features"
      ]
    },
    {
      "cell_type": "code",
      "metadata": {
        "id": "y7IJ3Hq5tpl6",
        "colab_type": "code",
        "colab": {}
      },
      "source": [
        "if 'poly_columns_names' in poly_columns_names: poly_columns_names.remove('education_duration')"
      ],
      "execution_count": 0,
      "outputs": []
    },
    {
      "cell_type": "code",
      "metadata": {
        "id": "ClHBnszoZ8a-",
        "colab_type": "code",
        "colab": {
          "base_uri": "https://localhost:8080/",
          "height": 1000
        },
        "outputId": "f2c658e7-8baa-4b57-fcbc-4d4e59beeebb"
      },
      "source": [
        "binned_features = []\n",
        "for col in poly_columns_names:\n",
        "  print('Binning ', col,)\n",
        "  upper_bound = df[col].max()\n",
        "  quantity =  30\n",
        "  hist, bin_edges = np.histogram(df[col], bins = quantity, density = True)\n",
        "  bin_edges = np.append(bin_edges, upper_bound + 1)\n",
        "  labels = [col + '_bin_{0}'.format(itr + 1) for itr in np.arange(len(bin_edges) - 1)]\n",
        "  df[col + '_bin'] = pd.cut(df[col], bins = bin_edges, labels = labels, right = False)\n",
        "  print_corr(df, col)\n",
        "  df[col + '_bin'] = df[col + '_bin'].astype('object')\n",
        "  print_corr(df, col + '_bin')\n",
        "  binned_features.append(col + '_bin')\n",
        "  print('***********************************************')"
      ],
      "execution_count": 36,
      "outputs": [
        {
          "output_type": "stream",
          "text": [
            "Binning  age\n",
            "Corr between age and the target:  0.2586678398806067\n",
            "Corr between age_bin and the target:  0.27965419867948293\n",
            "***********************************************\n",
            "Binning  education_duration\n",
            "Corr between education_duration and the target:  0.18402696282613767\n",
            "Corr between education_duration_bin and the target:  0.2000324995136853\n",
            "***********************************************\n",
            "Binning  hours_per_week\n",
            "Corr between hours_per_week and the target:  0.13046362466401312\n",
            "Corr between hours_per_week_bin and the target:  0.15441816367538416\n",
            "***********************************************\n",
            "Binning  capital_gain\n",
            "Corr between capital_gain and the target:  0.052352066031751514\n",
            "Corr between capital_gain_bin and the target:  0.0852909771924117\n",
            "***********************************************\n",
            "Binning  capital_loss\n",
            "Corr between capital_loss and the target:  0.041064485479673105\n",
            "Corr between capital_loss_bin and the target:  0.051003350569388935\n",
            "***********************************************\n",
            "Binning  age^2\n",
            "Corr between age^2 and the target:  0.2402648672280699\n",
            "Corr between age^2_bin and the target:  0.27733114804722286\n",
            "***********************************************\n",
            "Binning  age education_duration\n",
            "Corr between age education_duration and the target:  0.3276289828969567\n",
            "Corr between age education_duration_bin and the target:  0.3311666460206654\n",
            "***********************************************\n",
            "Binning  age hours_per_week\n",
            "Corr between age hours_per_week and the target:  0.27584072865967624\n",
            "Corr between age hours_per_week_bin and the target:  0.2817272659804491\n",
            "***********************************************\n",
            "Binning  age capital_gain\n",
            "Corr between age capital_gain and the target:  0.05085711415538633\n",
            "Corr between age capital_gain_bin and the target:  0.08064849928443123\n",
            "***********************************************\n",
            "Binning  age capital_loss\n",
            "Corr between age capital_loss and the target:  0.04152552050140271\n",
            "Corr between age capital_loss_bin and the target:  0.04459050349429215\n",
            "***********************************************\n",
            "Binning  education_duration^2\n",
            "Corr between education_duration^2 and the target:  0.18921526288211715\n",
            "Corr between education_duration^2_bin and the target:  0.20003241971710892\n",
            "***********************************************\n",
            "Binning  education_duration hours_per_week\n",
            "Corr between education_duration hours_per_week and the target:  0.21809263612627794\n",
            "Corr between education_duration hours_per_week_bin and the target:  0.2303826443738221\n",
            "***********************************************\n",
            "Binning  education_duration capital_gain\n",
            "Corr between education_duration capital_gain and the target:  0.050230997073472304\n",
            "Corr between education_duration capital_gain_bin and the target:  0.08377199566386069\n",
            "***********************************************\n",
            "Binning  education_duration capital_loss\n",
            "Corr between education_duration capital_loss and the target:  0.04412305496226617\n",
            "Corr between education_duration capital_loss_bin and the target:  0.04701593092422545\n",
            "***********************************************\n",
            "Binning  hours_per_week^2\n",
            "Corr between hours_per_week^2 and the target:  0.13515491692233642\n",
            "Corr between hours_per_week^2_bin and the target:  0.15413325365151256\n",
            "***********************************************\n",
            "Binning  hours_per_week capital_gain\n",
            "Corr between hours_per_week capital_gain and the target:  0.04885282446035787\n",
            "Corr between hours_per_week capital_gain_bin and the target:  0.07068464172557816\n",
            "***********************************************\n",
            "Binning  hours_per_week capital_loss\n",
            "Corr between hours_per_week capital_loss and the target:  0.04214664609960819\n",
            "Corr between hours_per_week capital_loss_bin and the target:  0.04717845171758475\n",
            "***********************************************\n",
            "Binning  capital_gain^2\n",
            "Corr between capital_gain^2 and the target:  0.030825676503558122\n",
            "Corr between capital_gain^2_bin and the target:  0.03317322485154912\n",
            "***********************************************\n",
            "Binning  capital_gain capital_loss\n"
          ],
          "name": "stdout"
        },
        {
          "output_type": "stream",
          "text": [
            "/usr/local/lib/python3.6/dist-packages/scipy/stats/stats.py:3399: PearsonRConstantInputWarning: An input array is constant; the correlation coefficent is not defined.\n",
            "  warnings.warn(PearsonRConstantInputWarning())\n"
          ],
          "name": "stderr"
        },
        {
          "output_type": "stream",
          "text": [
            "Corr between capital_gain capital_loss and the target:  nan\n"
          ],
          "name": "stdout"
        },
        {
          "output_type": "stream",
          "text": [
            "/usr/local/lib/python3.6/dist-packages/ipykernel_launcher.py:10: RuntimeWarning: invalid value encountered in double_scalars\n",
            "  # Remove the CWD from sys.path while we load stuff.\n"
          ],
          "name": "stderr"
        },
        {
          "output_type": "stream",
          "text": [
            "Corr between capital_gain capital_loss_bin and the target:  nan\n",
            "***********************************************\n",
            "Binning  capital_loss^2\n",
            "Corr between capital_loss^2 and the target:  0.040555170605750125\n",
            "Corr between capital_loss^2_bin and the target:  0.05166665250796031\n",
            "***********************************************\n"
          ],
          "name": "stdout"
        }
      ]
    },
    {
      "cell_type": "markdown",
      "metadata": {
        "id": "nAgVoqsBwryf",
        "colab_type": "text"
      },
      "source": [
        "### Delete weak correlated features"
      ]
    },
    {
      "cell_type": "code",
      "metadata": {
        "id": "6nflMFU6wkJS",
        "colab_type": "code",
        "colab": {
          "base_uri": "https://localhost:8080/",
          "height": 110
        },
        "outputId": "46ca8319-367d-4cdf-f132-e259779dda25"
      },
      "source": [
        "for col in poly_columns_names:\n",
        "  corr = print_corr(df, col, verbose = False)\n",
        "  if corr < 0.1 or corr == np.nan:\n",
        "    df = df.drop(columns = col)\n",
        "for col in binned_features:\n",
        "  corr = print_corr(df, col, verbose = False)\n",
        "  if corr < 0.1 or corr == np.nan:\n",
        "    df = df.drop(columns = col)"
      ],
      "execution_count": 37,
      "outputs": [
        {
          "output_type": "stream",
          "text": [
            "/usr/local/lib/python3.6/dist-packages/scipy/stats/stats.py:3399: PearsonRConstantInputWarning: An input array is constant; the correlation coefficent is not defined.\n",
            "  warnings.warn(PearsonRConstantInputWarning())\n",
            "/usr/local/lib/python3.6/dist-packages/ipykernel_launcher.py:10: RuntimeWarning: invalid value encountered in double_scalars\n",
            "  # Remove the CWD from sys.path while we load stuff.\n"
          ],
          "name": "stderr"
        }
      ]
    },
    {
      "cell_type": "markdown",
      "metadata": {
        "id": "fflx4n8d7CqZ",
        "colab_type": "text"
      },
      "source": [
        "### age"
      ]
    },
    {
      "cell_type": "code",
      "metadata": {
        "colab_type": "code",
        "outputId": "401a475c-b0c3-42f1-ccde-d0d475cade16",
        "id": "1DMIXa0zygnd",
        "colab": {
          "base_uri": "https://localhost:8080/",
          "height": 283
        }
      },
      "source": [
        "sns.distplot(df['age'])\n",
        "plt.show()"
      ],
      "execution_count": 0,
      "outputs": [
        {
          "output_type": "display_data",
          "data": {
            "image/png": "[encoded data removed]",
            "text/plain": [
              "<Figure size 432x288 with 1 Axes>"
            ]
          },
          "metadata": {
            "tags": []
          }
        }
      ]
    },
    {
      "cell_type": "code",
      "metadata": {
        "colab_type": "code",
        "outputId": "02f765a0-c1c1-4f06-bd1c-36791f51ebc3",
        "id": "sgyotu8ayf1x",
        "colab": {
          "base_uri": "https://localhost:8080/",
          "height": 360
        }
      },
      "source": [
        "bin_number = 30\n",
        "df['age_bin'] = pd.cut(df['age'], bin_number, labels = [str(i + 1) for i in np.arange(bin_number)])\n",
        "plt.style.use('seaborn-ticks')\n",
        "fig = plt.figure(figsize=(15, 5)) \n",
        "plt.subplot(1, 2, 1)\n",
        "sns.countplot(y=\"age_bin\", hue = 'target', data=df)\n",
        "plt.subplot(1, 2, 2)\n",
        "sns.distplot(df[df['target'] == '>50k']['age'], kde_kws={\"label\": \">$50k\"})\n",
        "sns.distplot(df[df['target'] == '<=50k']['age'], kde_kws={\"label\": \"<=$50k\"})"
      ],
      "execution_count": 0,
      "outputs": [
        {
          "output_type": "execute_result",
          "data": {
            "text/plain": [
              "<matplotlib.axes._subplots.AxesSubplot at 0x7ff67414a358>"
            ]
          },
          "metadata": {
            "tags": []
          },
          "execution_count": 134
        },
        {
          "output_type": "display_data",
          "data": {
            "image/png": "[encoded data removed]",
            "text/plain": [
              "<Figure size 1080x360 with 2 Axes>"
            ]
          },
          "metadata": {
            "tags": []
          }
        }
      ]
    },
    {
      "cell_type": "code",
      "metadata": {
        "colab_type": "code",
        "outputId": "9c2de3a0-a2ba-4e01-c0e1-02c284edf594",
        "id": "sMPCmNVkyfGt",
        "colab": {
          "base_uri": "https://localhost:8080/",
          "height": 54
        }
      },
      "source": [
        "print_corr(df, 'age')\n",
        "df['age_bin'] = df['age_bin'].astype('object')\n",
        "print_corr(df, 'age_bin')"
      ],
      "execution_count": 0,
      "outputs": [
        {
          "output_type": "stream",
          "text": [
            "Corr between age and the target:  PointbiserialrResult(correlation=0.2586678398806067, pvalue=0.0)\n",
            "Corr between age_bin and the target:  0.27965419867948293\n"
          ],
          "name": "stdout"
        }
      ]
    },
    {
      "cell_type": "code",
      "metadata": {
        "colab_type": "code",
        "outputId": "eb26146d-440f-4c3d-8bfe-c354a9358713",
        "id": "nWb4xOvIyenQ",
        "colab": {
          "base_uri": "https://localhost:8080/",
          "height": 35
        }
      },
      "source": [
        "df['age_bin'].isnull().sum()"
      ],
      "execution_count": 0,
      "outputs": [
        {
          "output_type": "execute_result",
          "data": {
            "text/plain": [
              "94"
            ]
          },
          "metadata": {
            "tags": []
          },
          "execution_count": 152
        }
      ]
    },
    {
      "cell_type": "markdown",
      "metadata": {
        "colab_type": "text",
        "id": "ehBm38lFyeHh"
      },
      "source": [
        "### hours_per_week"
      ]
    },
    {
      "cell_type": "code",
      "metadata": {
        "colab_type": "code",
        "outputId": "8a077e98-1a6b-477c-eda6-1ed7261ce10b",
        "id": "3zvxBhItydQE",
        "colab": {
          "base_uri": "https://localhost:8080/",
          "height": 288
        }
      },
      "source": [
        "sns.distplot(df['hours_per_week'])\n",
        "plt.show()"
      ],
      "execution_count": 0,
      "outputs": [
        {
          "output_type": "display_data",
          "data": {
            "image/png": "[encoded data removed]",
            "text/plain": [
              "<Figure size 432x288 with 1 Axes>"
            ]
          },
          "metadata": {
            "tags": []
          }
        }
      ]
    },
    {
      "cell_type": "code",
      "metadata": {
        "id": "tlpAhymcPlk1",
        "colab_type": "code",
        "outputId": "a9483f24-4968-4f6b-89c6-4a2c28c45944",
        "colab": {
          "base_uri": "https://localhost:8080/",
          "height": 330
        }
      },
      "source": [
        "bin_number = 20\n",
        "df['hours_per_week_bin'] = pd.cut(df['hours_per_week'], bin_number, labels = [str(i + 1) for i in np.arange(bin_number)])\n",
        "plt.style.use('seaborn-whitegrid')\n",
        "fig = plt.figure(figsize=(15, 5)) \n",
        "plt.subplot(1, 2, 1)\n",
        "sns.countplot(y = \"hours_per_week_bin\", hue = 'target', data = df);\n",
        "plt.subplot(1, 2, 2)\n",
        "sns.distplot(df[df['target'] == '>50k']['hours_per_week'], kde_kws={\"label\": \">$50K\"})\n",
        "sns.distplot(df[df['target'] == '<=50k']['hours_per_week'], kde_kws={\"label\": \"<$50K\"})\n",
        "plt.show()"
      ],
      "execution_count": 0,
      "outputs": [
        {
          "output_type": "display_data",
          "data": {
            "image/png": "[encoded data removed]",
            "text/plain": [
              "<Figure size 1080x360 with 2 Axes>"
            ]
          },
          "metadata": {
            "tags": []
          }
        }
      ]
    },
    {
      "cell_type": "code",
      "metadata": {
        "id": "XrRsK1vUWRyC",
        "colab_type": "code",
        "outputId": "1bfe274a-84eb-47b1-977e-61f2efbc591e",
        "colab": {
          "base_uri": "https://localhost:8080/",
          "height": 54
        }
      },
      "source": [
        "print_corr(df, 'hours_per_week')\n",
        "df['hours_per_week_bin'] = df['hours_per_week_bin'].astype('object')\n",
        "print_corr(df, 'hours_per_week_bin')"
      ],
      "execution_count": 0,
      "outputs": [
        {
          "output_type": "stream",
          "text": [
            "Corr between hours_per_week and the target:  PointbiserialrResult(correlation=0.2276494944005854, pvalue=0.0)\n",
            "Corr between hours_per_week_bin and the target:  0.2749110639535535\n"
          ],
          "name": "stdout"
        }
      ]
    },
    {
      "cell_type": "markdown",
      "metadata": {
        "id": "kekuKIPM5GwM",
        "colab_type": "text"
      },
      "source": [
        "### capital_gain"
      ]
    },
    {
      "cell_type": "code",
      "metadata": {
        "id": "u5Xy10nM6kwx",
        "colab_type": "code",
        "outputId": "75aa260a-ac4e-4e75-89e5-62959412007c",
        "colab": {
          "base_uri": "https://localhost:8080/",
          "height": 276
        }
      },
      "source": [
        "sns.distplot(df['capital_gain'])\n",
        "plt.show()"
      ],
      "execution_count": 0,
      "outputs": [
        {
          "output_type": "display_data",
          "data": {
            "image/png": "[encoded data removed]",
            "text/plain": [
              "<Figure size 432x288 with 1 Axes>"
            ]
          },
          "metadata": {
            "tags": []
          }
        }
      ]
    },
    {
      "cell_type": "code",
      "metadata": {
        "id": "Nps0Q4L-8D8Y",
        "colab_type": "code",
        "outputId": "278fa22a-1047-4aa1-ef25-29ca4e02a155",
        "colab": {
          "base_uri": "https://localhost:8080/",
          "height": 330
        }
      },
      "source": [
        "bin_number = 20\n",
        "df['capital_gain_bin'] = pd.cut(df['capital_gain'], bin_number, labels = [str(i + 1) for i in np.arange(bin_number)])\n",
        "plt.style.use('seaborn-whitegrid')\n",
        "fig = plt.figure(figsize=(15, 5)) \n",
        "plt.subplot(1, 2, 1)\n",
        "sns.countplot(y = \"capital_gain_bin\", hue = 'target', data = df);\n",
        "plt.subplot(1, 2, 2)\n",
        "sns.distplot(df[df['target'] == '>50k']['capital_gain'], kde_kws={\"label\": \">$50K\"})\n",
        "sns.distplot(df[df['target'] == '<=50k']['capital_gain'], kde_kws={\"label\": \"<$50K\"})\n",
        "plt.show()"
      ],
      "execution_count": 0,
      "outputs": [
        {
          "output_type": "display_data",
          "data": {
            "image/png": "[encoded data removed]",
            "text/plain": [
              "<Figure size 1080x360 with 2 Axes>"
            ]
          },
          "metadata": {
            "tags": []
          }
        }
      ]
    },
    {
      "cell_type": "code",
      "metadata": {
        "id": "67ZOD3k28O-4",
        "colab_type": "code",
        "outputId": "7d29d690-0b3d-4448-deda-61f22adf2b9d",
        "colab": {
          "base_uri": "https://localhost:8080/",
          "height": 54
        }
      },
      "source": [
        "print_corr(df, 'capital_gain')\n",
        "df['capital_gain_bin'] = df['capital_gain_bin'].astype('object')\n",
        "print_corr(df, 'capital_gain_bin')"
      ],
      "execution_count": 0,
      "outputs": [
        {
          "output_type": "stream",
          "text": [
            "Corr between capital_gain and the target:  PointbiserialrResult(correlation=0.22301398145686202, pvalue=0.0)\n",
            "Corr between capital_gain_bin and the target:  0.3599203569218101\n"
          ],
          "name": "stdout"
        }
      ]
    },
    {
      "cell_type": "markdown",
      "metadata": {
        "id": "Q7B8oncr5HBD",
        "colab_type": "text"
      },
      "source": [
        "### capital_loss"
      ]
    },
    {
      "cell_type": "code",
      "metadata": {
        "id": "C_ZR8qav90Nf",
        "colab_type": "code",
        "outputId": "62902db6-4fbc-42fa-f7c9-3009c33c81cf",
        "colab": {
          "base_uri": "https://localhost:8080/",
          "height": 276
        }
      },
      "source": [
        "sns.distplot(df['capital_loss'])\n",
        "plt.show()"
      ],
      "execution_count": 0,
      "outputs": [
        {
          "output_type": "display_data",
          "data": {
            "image/png": "[encoded data removed]",
            "text/plain": [
              "<Figure size 432x288 with 1 Axes>"
            ]
          },
          "metadata": {
            "tags": []
          }
        }
      ]
    },
    {
      "cell_type": "code",
      "metadata": {
        "id": "WMoIz80r96aq",
        "colab_type": "code",
        "outputId": "a8e2e2af-5d31-4ed8-9ea0-eb2b88de456d",
        "colab": {
          "base_uri": "https://localhost:8080/",
          "height": 330
        }
      },
      "source": [
        "bin_number = 20\n",
        "df['capital_loss_bin'] = pd.cut(df['capital_loss'], bin_number, labels = [str(i + 1) for i in np.arange(bin_number)])\n",
        "plt.style.use('seaborn-whitegrid')\n",
        "fig = plt.figure(figsize=(15, 5)) \n",
        "plt.subplot(1, 2, 1)\n",
        "sns.countplot(y = \"capital_loss_bin\", hue = 'target', data = df);\n",
        "plt.subplot(1, 2, 2)\n",
        "sns.distplot(df[df['target'] == '>50k']['capital_loss'], kde_kws={\"label\": \">$50K\"})\n",
        "sns.distplot(df[df['target'] == '<=50k']['capital_loss'], kde_kws={\"label\": \"<$50K\"})\n",
        "plt.show()"
      ],
      "execution_count": 0,
      "outputs": [
        {
          "output_type": "display_data",
          "data": {
            "image/png": "[encoded data removed]",
            "text/plain": [
              "<Figure size 1080x360 with 2 Axes>"
            ]
          },
          "metadata": {
            "tags": []
          }
        }
      ]
    },
    {
      "cell_type": "code",
      "metadata": {
        "id": "OnIvMww2-FiU",
        "colab_type": "code",
        "outputId": "92293adf-af96-4fd5-a1dc-388b6fa3e92c",
        "colab": {
          "base_uri": "https://localhost:8080/",
          "height": 54
        }
      },
      "source": [
        "print_corr(df, 'capital_loss')\n",
        "df['capital_loss_bin'] = df['capital_loss_bin'].astype('object')\n",
        "print_corr(df, 'capital_loss_bin')"
      ],
      "execution_count": 0,
      "outputs": [
        {
          "output_type": "stream",
          "text": [
            "Corr between capital_loss and the target:  PointbiserialrResult(correlation=0.14752749360857575, pvalue=1.4347540359310811e-235)\n",
            "Corr between capital_loss_bin and the target:  0.2110700696509502\n"
          ],
          "name": "stdout"
        }
      ]
    },
    {
      "cell_type": "markdown",
      "metadata": {
        "id": "TLMql2HHGaTa",
        "colab_type": "text"
      },
      "source": [
        "# Encode target"
      ]
    },
    {
      "cell_type": "code",
      "metadata": {
        "id": "GXV-wt19GZcv",
        "colab_type": "code",
        "colab": {}
      },
      "source": [
        "df.loc[df['target'] == '<=50k', 'target'] = 0\n",
        "df.loc[df['target'] == '>50k', 'target'] = 1"
      ],
      "execution_count": 0,
      "outputs": []
    },
    {
      "cell_type": "markdown",
      "metadata": {
        "id": "XRzIbJT8ALkJ",
        "colab_type": "text"
      },
      "source": [
        "# Features classification"
      ]
    },
    {
      "cell_type": "code",
      "metadata": {
        "id": "gcY5OWdRPllV",
        "colab_type": "code",
        "colab": {}
      },
      "source": [
        "target = ['target']\n",
        "categorical_features = ['workclass', 'marital_status', 'occupation', 'relationship', 'race', 'sex', ]\n",
        "\n",
        "binned_features = [col for col in  df.columns if '_bin' in col]\n",
        "all_cat_features = binned_features + categorical_features\n",
        "\n",
        "continuous_features = list(set(df.columns).difference(set(all_cat_features + target)))"
      ],
      "execution_count": 0,
      "outputs": []
    },
    {
      "cell_type": "code",
      "metadata": {
        "id": "Lh2h91Ti2bMC",
        "colab_type": "code",
        "outputId": "d3c8aee0-421a-45ec-a79e-184e71679032",
        "colab": {
          "base_uri": "https://localhost:8080/",
          "height": 90
        }
      },
      "source": [
        "print('Data features: ', len(df.columns) - 1)\n",
        "print('Continuous features: ', len(continuous_features))\n",
        "print('Binned features: ', len(binned_features))\n",
        "print('Categorical features: ', len(categorical_features))"
      ],
      "execution_count": 63,
      "outputs": [
        {
          "output_type": "stream",
          "text": [
            "Data features:  26\n",
            "Continuous features:  10\n",
            "Binned features:  10\n",
            "Categorical features:  6\n"
          ],
          "name": "stdout"
        }
      ]
    },
    {
      "cell_type": "markdown",
      "metadata": {
        "id": "3AlGGAMhPllV",
        "colab_type": "text"
      },
      "source": [
        "# Scale continuous features"
      ]
    },
    {
      "cell_type": "code",
      "metadata": {
        "id": "febD_tkoPllX",
        "colab_type": "code",
        "colab": {}
      },
      "source": [
        "min_max_scaler = MinMaxScaler()\n",
        "df[continuous_features] = min_max_scaler.fit_transform(df[continuous_features])"
      ],
      "execution_count": 0,
      "outputs": []
    },
    {
      "cell_type": "markdown",
      "metadata": {
        "id": "b8PT6mJU5h9W",
        "colab_type": "text"
      },
      "source": [
        "# Define dataframes for different encodings"
      ]
    },
    {
      "cell_type": "code",
      "metadata": {
        "id": "tE-2QwDQEBwu",
        "colab_type": "code",
        "outputId": "5fa4f023-7d43-45c4-e353-d7a32b9780f6",
        "colab": {
          "base_uri": "https://localhost:8080/",
          "height": 90
        }
      },
      "source": [
        "# dataframe that contains: continuous and label encoded categorical features\n",
        "cont_cat_lb = df.copy()\n",
        "cont_cat_lb = cont_cat_lb.drop(columns = binned_features)\n",
        "\n",
        "# dataframe that contains: continuous and one-hot encoded categorical features\n",
        "cont_cat_oh = df.copy()\n",
        "cont_cat_oh = cont_cat_oh.drop(columns = binned_features)\n",
        "\n",
        "# dataframe that contains: label encoded binned and label encoded categorical features\n",
        "bin_lb_cat_lb = df.copy()\n",
        "bin_lb_cat_lb = bin_lb_cat_lb.drop(columns = continuous_features)\n",
        "\n",
        "# dataframe that contains: one-hot encoded binned and one-hot encoded categorical features\n",
        "bin_oh_cat_oh = df.copy()\n",
        "bin_oh_cat_oh = bin_oh_cat_oh.drop(columns = continuous_features)\n",
        "\n",
        "print('cont_cat_lb: ', len(cont_cat_lb.columns))\n",
        "print('cont_cat_oh: ', len(cont_cat_oh.columns))\n",
        "print('bin_lb_cat_lb: ', len(bin_lb_cat_lb.columns))\n",
        "print('bin_oh_cat_oh: ', len(bin_oh_cat_oh.columns))"
      ],
      "execution_count": 75,
      "outputs": [
        {
          "output_type": "stream",
          "text": [
            "cont_cat_lb:  17\n",
            "cont_cat_oh:  17\n",
            "bin_lb_cat_lb:  17\n",
            "bin_oh_cat_oh:  17\n"
          ],
          "name": "stdout"
        }
      ]
    },
    {
      "cell_type": "markdown",
      "metadata": {
        "id": "eT-sCx6YPllM",
        "colab_type": "text"
      },
      "source": [
        "# Encode categorical features"
      ]
    },
    {
      "cell_type": "markdown",
      "metadata": {
        "id": "eckY7md8CZKc",
        "colab_type": "text"
      },
      "source": [
        "## Label_encoding"
      ]
    },
    {
      "cell_type": "code",
      "metadata": {
        "id": "6-Bww5oqPllN",
        "colab_type": "code",
        "colab": {}
      },
      "source": [
        "for col in categorical_features:\n",
        "  lb_enc = LabelEncoder()\n",
        "  cont_cat_lb[col] = lb_enc.fit_transform(cont_cat_lb[col])\n",
        "for col in categorical_features + binned_features:\n",
        "  lb_enc = LabelEncoder()\n",
        "  bin_lb_cat_lb[col] = lb_enc.fit_transform(bin_lb_cat_lb[col])"
      ],
      "execution_count": 0,
      "outputs": []
    },
    {
      "cell_type": "code",
      "metadata": {
        "id": "Ra2l8ppCKRVT",
        "colab_type": "code",
        "outputId": "8feaf352-2c74-4210-9ad8-17ca945d5e1d",
        "colab": {
          "base_uri": "https://localhost:8080/",
          "height": 54
        }
      },
      "source": [
        "print('cont_cat_lb: ', len(cont_cat_lb.columns))\n",
        "print('bin_lb_cat_lb: ', len(bin_lb_cat_lb.columns))"
      ],
      "execution_count": 77,
      "outputs": [
        {
          "output_type": "stream",
          "text": [
            "cont_cat_lb:  17\n",
            "bin_lb_cat_lb:  17\n"
          ],
          "name": "stdout"
        }
      ]
    },
    {
      "cell_type": "markdown",
      "metadata": {
        "id": "dMoTvrfoCfN1",
        "colab_type": "text"
      },
      "source": [
        "## One hot encoding"
      ]
    },
    {
      "cell_type": "code",
      "metadata": {
        "id": "bTwNam-SI136",
        "colab_type": "code",
        "colab": {}
      },
      "source": [
        "cont_cat_oh = pd.get_dummies(cont_cat_oh, columns = categorical_features)\n",
        "bin_oh_cat_oh = pd.get_dummies(bin_oh_cat_oh, columns = categorical_features + binned_features)"
      ],
      "execution_count": 0,
      "outputs": []
    },
    {
      "cell_type": "code",
      "metadata": {
        "id": "HFHBDuTKIwec",
        "colab_type": "code",
        "outputId": "650c5ef6-a1b8-428d-b596-170f0aec553f",
        "colab": {
          "base_uri": "https://localhost:8080/",
          "height": 54
        }
      },
      "source": [
        "print('cont_cat_oh: ', len(cont_cat_oh.columns))\n",
        "print('bin_oh_cat_oh: ', len(bin_oh_cat_oh.columns))"
      ],
      "execution_count": 79,
      "outputs": [
        {
          "output_type": "stream",
          "text": [
            "cont_cat_oh:  55\n",
            "bin_oh_cat_oh:  286\n"
          ],
          "name": "stdout"
        }
      ]
    },
    {
      "cell_type": "markdown",
      "metadata": {
        "id": "cb3MxaIEPllY",
        "colab_type": "text"
      },
      "source": [
        "# Save data"
      ]
    },
    {
      "cell_type": "code",
      "metadata": {
        "id": "U0rNOCnp9C2A",
        "colab_type": "code",
        "colab": {
          "base_uri": "https://localhost:8080/",
          "height": 54
        },
        "outputId": "3ef3efc5-b492-4934-bd00-37ae5df926cb"
      },
      "source": [
        "cont_cat_lb = downcast_df(cont_cat_lb)"
      ],
      "execution_count": 80,
      "outputs": [
        {
          "output_type": "stream",
          "text": [
            "Memory usage: 323.60 MB\n",
            "New Memory usage: 170.79 MB\n"
          ],
          "name": "stdout"
        }
      ]
    },
    {
      "cell_type": "code",
      "metadata": {
        "id": "7Sj2r_sx9g2s",
        "colab_type": "code",
        "colab": {
          "base_uri": "https://localhost:8080/",
          "height": 54
        },
        "outputId": "c8dd80b8-585c-4636-f53f-c698bff5682d"
      },
      "source": [
        "cont_cat_oh = downcast_df(cont_cat_oh)"
      ],
      "execution_count": 81,
      "outputs": [
        {
          "output_type": "stream",
          "text": [
            "Memory usage: 314.61 MB\n",
            "New Memory usage: 215.73 MB\n"
          ],
          "name": "stdout"
        }
      ]
    },
    {
      "cell_type": "code",
      "metadata": {
        "id": "JBDXulV39ipE",
        "colab_type": "code",
        "colab": {
          "base_uri": "https://localhost:8080/",
          "height": 54
        },
        "outputId": "08568e8b-e277-481e-c6fe-674b77f0e53c"
      },
      "source": [
        "bin_lb_cat_lb = downcast_df(bin_lb_cat_lb)"
      ],
      "execution_count": 82,
      "outputs": [
        {
          "output_type": "stream",
          "text": [
            "Memory usage: 323.60 MB\n",
            "New Memory usage: 170.79 MB\n"
          ],
          "name": "stdout"
        }
      ]
    },
    {
      "cell_type": "code",
      "metadata": {
        "id": "bEilYMWH9kcb",
        "colab_type": "code",
        "colab": {
          "base_uri": "https://localhost:8080/",
          "height": 54
        },
        "outputId": "c5a02055-ef14-4d2d-95ec-611de3b9a2ce"
      },
      "source": [
        "bin_oh_cat_oh = downcast_df(bin_oh_cat_oh)"
      ],
      "execution_count": 83,
      "outputs": [
        {
          "output_type": "stream",
          "text": [
            "Memory usage: 676.41 MB\n",
            "New Memory usage: 667.42 MB\n"
          ],
          "name": "stdout"
        }
      ]
    },
    {
      "cell_type": "code",
      "metadata": {
        "colab_type": "code",
        "id": "-H5IduJj-do5",
        "colab": {}
      },
      "source": [
        "cont_cat_lb.to_csv(data_path + 'data_cont_cat_lb.csv', index = False)\n",
        "cont_cat_oh.to_csv(data_path + 'data_cont_cat_oh.csv', index = False)\n",
        "bin_lb_cat_lb.to_csv(data_path + 'data_bin_lb_cat_lb.csv', index = False)\n",
        "bin_oh_cat_oh.to_csv(data_path + 'data_bin_oh_cat_oh.csv', index = False)"
      ],
      "execution_count": 0,
      "outputs": []
    },
    {
      "cell_type": "code",
      "metadata": {
        "id": "-b0pKXQmAvRq",
        "colab_type": "code",
        "colab": {}
      },
      "source": [
        "cont_cat_lb.to_pickle(data_path + 'data_cont_cat_lb.pkl')\n",
        "cont_cat_oh.to_pickle(data_path + 'data_cont_cat_oh.pkl')\n",
        "bin_lb_cat_lb.to_pickle(data_path + 'data_bin_lb_cat_lb.pkl')\n",
        "bin_oh_cat_oh.to_pickle(data_path + 'data_bin_oh_cat_oh.pkl')"
      ],
      "execution_count": 0,
      "outputs": []
    },
    {
      "cell_type": "code",
      "metadata": {
        "id": "_JxCOE4vPlld",
        "colab_type": "code",
        "colab": {}
      },
      "source": [
        "print('Finished !')"
      ],
      "execution_count": 0,
      "outputs": []
    },
    {
      "cell_type": "code",
      "metadata": {
        "id": "5Kh5fHriA3fB",
        "colab_type": "code",
        "colab": {}
      },
      "source": [
        ""
      ],
      "execution_count": 0,
      "outputs": []
    }
  ]
}