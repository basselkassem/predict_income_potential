{
  "nbformat": 4,
  "nbformat_minor": 0,
  "metadata": {
    "colab": {
      "name": "model_lgbm.ipynb",
      "provenance": [],
      "collapsed_sections": [
        "FIHH7JjBdYwg",
        "CtLkdYLddUhz",
        "Qsbiy6NycWaj",
        "cn63DjbrZ5gA",
        "rHcoSpY8bQV7",
        "Kz8djr-1c5f0",
        "Ds-cbtmKZ0lI",
        "tVoIkIKjdI-N",
        "PUmNTmFscuaf",
        "2Yn3S6PsQU5L",
        "r5QRzMZ1OkKt",
        "aqe_rY7pcz8y",
        "Fc-JUDooc0KZ"
      ],
      "include_colab_link": true
    },
    "kernelspec": {
      "name": "python3",
      "display_name": "Python 3"
    },
    "accelerator": "GPU"
  },
  "cells": [
    {
      "cell_type": "markdown",
      "metadata": {
        "id": "view-in-github",
        "colab_type": "text"
      },
      "source": [
        "<a href=\"https://colab.research.google.com/github/basselkassem/predict_income_potential/blob/master/model_lgbm.ipynb\" target=\"_parent\"><img src=\"https://colab.research.google.com/assets/colab-badge.svg\" alt=\"Open In Colab\"/></a>"
      ]
    },
    {
      "cell_type": "code",
      "metadata": {
        "id": "8EsY30Mlq6Bz",
        "colab_type": "code",
        "outputId": "8fa6314b-a4f7-48f9-9bff-12f9b9d8d501",
        "colab": {
          "base_uri": "https://localhost:8080/",
          "height": 129
        }
      },
      "source": [
        "from google.colab import drive\n",
        "drive.mount('/content/gdrive')\n",
        "data_path = \"/content/gdrive/My Drive/Colab Notebooks/predict_income_potential/data/\"\n",
        "model_path = '/content/gdrive/My Drive/Colab Notebooks/predict_income_potential/models/'"
      ],
      "execution_count": 1,
      "outputs": [
        {
          "output_type": "stream",
          "text": [
            "Go to this URL in a browser: https://accounts.google.com/o/oauth2/auth?client_id=947318989803-6bn6qk8qdgf4n4g3pfee6491hc0brc4i.apps.googleusercontent.com&redirect_uri=urn%3Aietf%3Awg%3Aoauth%3A2.0%3Aoob&scope=email%20https%3A%2F%2Fwww.googleapis.com%2Fauth%2Fdocs.test%20https%3A%2F%2Fwww.googleapis.com%2Fauth%2Fdrive%20https%3A%2F%2Fwww.googleapis.com%2Fauth%2Fdrive.photos.readonly%20https%3A%2F%2Fwww.googleapis.com%2Fauth%2Fpeopleapi.readonly&response_type=code\n",
            "\n",
            "Enter your authorization code:\n",
            "··········\n",
            "Mounted at /content/gdrive\n"
          ],
          "name": "stdout"
        }
      ]
    },
    {
      "cell_type": "markdown",
      "metadata": {
        "id": "FIHH7JjBdYwg",
        "colab_type": "text"
      },
      "source": [
        "# Import Libs"
      ]
    },
    {
      "cell_type": "code",
      "metadata": {
        "id": "jyuwooeo0Th7",
        "colab_type": "code",
        "colab": {}
      },
      "source": [
        "import pandas as pd\n",
        "import numpy as np\n",
        "import lightgbm as lgb\n",
        "from sklearn.model_selection import train_test_split\n",
        "from sklearn.metrics import f1_score, accuracy_score, roc_auc_score\n",
        "import matplotlib.pyplot as plt\n",
        "%matplotlib inline"
      ],
      "execution_count": 0,
      "outputs": []
    },
    {
      "cell_type": "markdown",
      "metadata": {
        "id": "CtLkdYLddUhz",
        "colab_type": "text"
      },
      "source": [
        "# Load Data"
      ]
    },
    {
      "cell_type": "code",
      "metadata": {
        "id": "CVde-Gq-0kgf",
        "colab_type": "code",
        "outputId": "b2988f9d-7ffb-4172-a6e4-d4d4912ce513",
        "colab": {
          "base_uri": "https://localhost:8080/",
          "height": 54
        }
      },
      "source": [
        "data = pd.read_pickle(data_path + 'data_cont_cat_lb.pkl')\n",
        "features = list(np.load(data_path + 'features.pkl.npy'))\n",
        "print('data shape: ', data.shape)\n",
        "print('features lenght: ', len(features))"
      ],
      "execution_count": 3,
      "outputs": [
        {
          "output_type": "stream",
          "text": [
            "data shape:  (48813, 39)\n",
            "features lenght:  31\n"
          ],
          "name": "stdout"
        }
      ]
    },
    {
      "cell_type": "markdown",
      "metadata": {
        "id": "YQdGrVUeczlK",
        "colab_type": "text"
      },
      "source": [
        "# Model Defintion"
      ]
    },
    {
      "cell_type": "markdown",
      "metadata": {
        "id": "r5QRzMZ1OkKt",
        "colab_type": "text"
      },
      "source": [
        "## Hyperparameter Tuning"
      ]
    },
    {
      "cell_type": "code",
      "metadata": {
        "id": "-Pd46xxOHId_",
        "colab_type": "code",
        "colab": {}
      },
      "source": [
        "data = data[features + ['target']]\n",
        "X, y = data.drop(columns = 'target'), data['target']"
      ],
      "execution_count": 0,
      "outputs": []
    },
    {
      "cell_type": "code",
      "metadata": {
        "id": "ApUOE6xhamtu",
        "colab_type": "code",
        "outputId": "0ba981b3-b603-41f1-cd8e-68faa50de4f5",
        "colab": {
          "base_uri": "https://localhost:8080/",
          "height": 1000
        }
      },
      "source": [
        "from hyperopt import hp, tpe\n",
        "from hyperopt.fmin import fmin\n",
        "from sklearn.model_selection import cross_val_score, StratifiedKFold\n",
        "from sklearn.metrics import make_scorer, log_loss\n",
        "\n",
        "def objective(params):\n",
        "  local_params = {\n",
        "      'objective': 'binary',\n",
        "      'metric': 'binary_logloss',\n",
        "      'save_binary': True,\n",
        "      'bagging_freq': 1,\n",
        "      'bagging_seed': 2**7,\n",
        "      'learning_rate': '{:.3f}'.format(params['learning_rate']),\n",
        "      'num_leaves': int(params['num_leaves']),\n",
        "      'min_data_in_leaf': int(params['min_data_in_leaf']),\n",
        "      'max_depth': int(params['max_depth']),\n",
        "      'bagging_fraction': '{:.3f}'.format(params['bagging_fraction']),\n",
        "  }\n",
        "  d_train = lgb.Dataset(X, label = y)\n",
        "  cv_results = lgb.cv(local_params, d_train, num_boost_round = 2000, nfold = 5, \n",
        "                    verbose_eval = 0, early_stopping_rounds = 10)\n",
        "  print('Best num_boost_round: {}'.format(len(cv_results['binary_logloss-mean'])))\n",
        "  print(\"Best CV score {:.3f} params {}\".format(cv_results['binary_logloss-mean'][-1], local_params))\n",
        "  return cv_results['binary_logloss-mean'][-1]\n",
        "\n",
        "space = {\n",
        "    'learning_rate': hp.uniform('learning_rate', 0.01, 0.3),\n",
        "    'num_leaves': hp.quniform('num_leaves', 7, 4095, 2),\n",
        "    'min_data_in_leaf': hp.quniform('min_data_in_leaf', 20, 500, 5),\n",
        "    'max_depth': hp.quniform('max_depth', 2, 63, 1),\n",
        "    'bagging_fraction': hp.uniform('bagging_fraction', 0.4, 1),\n",
        "}\n",
        "\n",
        "best = fmin(fn = objective,\n",
        "            space = space,\n",
        "            algo = tpe.suggest,\n",
        "            max_evals = 100)"
      ],
      "execution_count": 0,
      "outputs": [
        {
          "output_type": "stream",
          "text": [
            "Best num_boost_round: 65\n",
            "Best CV score 0.289 params {'objective': 'binary', 'metric': 'binary_logloss', 'save_binary': True, 'bagging_freq': 1, 'bagging_seed': 128, 'learning_rate': '0.141', 'num_leaves': 1364, 'min_data_in_leaf': 225, 'max_depth': 41, 'bagging_fraction': '0.727'}\n",
            "Best num_boost_round: 31\n",
            "Best CV score 0.299 params {'objective': 'binary', 'metric': 'binary_logloss', 'save_binary': True, 'bagging_freq': 1, 'bagging_seed': 128, 'learning_rate': '0.220', 'num_leaves': 3502, 'min_data_in_leaf': 310, 'max_depth': 59, 'bagging_fraction': '0.473'}\n",
            "Best num_boost_round: 397\n",
            "Best CV score 0.286 params {'objective': 'binary', 'metric': 'binary_logloss', 'save_binary': True, 'bagging_freq': 1, 'bagging_seed': 128, 'learning_rate': '0.035', 'num_leaves': 3798, 'min_data_in_leaf': 235, 'max_depth': 10, 'bagging_fraction': '0.622'}\n",
            "Best num_boost_round: 26\n",
            "Best CV score 0.289 params {'objective': 'binary', 'metric': 'binary_logloss', 'save_binary': True, 'bagging_freq': 1, 'bagging_seed': 128, 'learning_rate': '0.279', 'num_leaves': 460, 'min_data_in_leaf': 250, 'max_depth': 41, 'bagging_fraction': '0.921'}\n",
            "Best num_boost_round: 90\n",
            "Best CV score 0.289 params {'objective': 'binary', 'metric': 'binary_logloss', 'save_binary': True, 'bagging_freq': 1, 'bagging_seed': 128, 'learning_rate': '0.117', 'num_leaves': 2836, 'min_data_in_leaf': 420, 'max_depth': 63, 'bagging_fraction': '0.969'}\n",
            "Best num_boost_round: 77\n",
            "Best CV score 0.289 params {'objective': 'binary', 'metric': 'binary_logloss', 'save_binary': True, 'bagging_freq': 1, 'bagging_seed': 128, 'learning_rate': '0.114', 'num_leaves': 3200, 'min_data_in_leaf': 305, 'max_depth': 54, 'bagging_fraction': '0.757'}\n",
            "Best num_boost_round: 209\n",
            "Best CV score 0.289 params {'objective': 'binary', 'metric': 'binary_logloss', 'save_binary': True, 'bagging_freq': 1, 'bagging_seed': 128, 'learning_rate': '0.061', 'num_leaves': 612, 'min_data_in_leaf': 445, 'max_depth': 53, 'bagging_fraction': '0.867'}\n",
            "Best num_boost_round: 494\n",
            "Best CV score 0.285 params {'objective': 'binary', 'metric': 'binary_logloss', 'save_binary': True, 'bagging_freq': 1, 'bagging_seed': 128, 'learning_rate': '0.010', 'num_leaves': 710, 'min_data_in_leaf': 65, 'max_depth': 32, 'bagging_fraction': '0.809'}\n",
            "Best num_boost_round: 152\n",
            "Best CV score 0.291 params {'objective': 'binary', 'metric': 'binary_logloss', 'save_binary': True, 'bagging_freq': 1, 'bagging_seed': 128, 'learning_rate': '0.065', 'num_leaves': 1618, 'min_data_in_leaf': 305, 'max_depth': 48, 'bagging_fraction': '0.611'}\n",
            "Best num_boost_round: 32\n",
            "Best CV score 0.301 params {'objective': 'binary', 'metric': 'binary_logloss', 'save_binary': True, 'bagging_freq': 1, 'bagging_seed': 128, 'learning_rate': '0.279', 'num_leaves': 3190, 'min_data_in_leaf': 390, 'max_depth': 56, 'bagging_fraction': '0.505'}\n",
            "Best num_boost_round: 178\n",
            "Best CV score 0.285 params {'objective': 'binary', 'metric': 'binary_logloss', 'save_binary': True, 'bagging_freq': 1, 'bagging_seed': 128, 'learning_rate': '0.111', 'num_leaves': 2836, 'min_data_in_leaf': 100, 'max_depth': 4, 'bagging_fraction': '0.444'}\n",
            "Best num_boost_round: 18\n",
            "Best CV score 0.292 params {'objective': 'binary', 'metric': 'binary_logloss', 'save_binary': True, 'bagging_freq': 1, 'bagging_seed': 128, 'learning_rate': '0.276', 'num_leaves': 3514, 'min_data_in_leaf': 85, 'max_depth': 24, 'bagging_fraction': '0.715'}\n",
            "Best num_boost_round: 375\n",
            "Best CV score 0.284 params {'objective': 'binary', 'metric': 'binary_logloss', 'save_binary': True, 'bagging_freq': 1, 'bagging_seed': 128, 'learning_rate': '0.020', 'num_leaves': 1642, 'min_data_in_leaf': 215, 'max_depth': 46, 'bagging_fraction': '0.874'}\n",
            "Best num_boost_round: 69\n",
            "Best CV score 0.286 params {'objective': 'binary', 'metric': 'binary_logloss', 'save_binary': True, 'bagging_freq': 1, 'bagging_seed': 128, 'learning_rate': '0.082', 'num_leaves': 466, 'min_data_in_leaf': 145, 'max_depth': 54, 'bagging_fraction': '0.771'}\n",
            "Best num_boost_round: 42\n",
            "Best CV score 0.298 params {'objective': 'binary', 'metric': 'binary_logloss', 'save_binary': True, 'bagging_freq': 1, 'bagging_seed': 128, 'learning_rate': '0.288', 'num_leaves': 2922, 'min_data_in_leaf': 490, 'max_depth': 20, 'bagging_fraction': '0.673'}\n",
            "Best num_boost_round: 142\n",
            "Best CV score 0.285 params {'objective': 'binary', 'metric': 'binary_logloss', 'save_binary': True, 'bagging_freq': 1, 'bagging_seed': 128, 'learning_rate': '0.052', 'num_leaves': 2070, 'min_data_in_leaf': 200, 'max_depth': 49, 'bagging_fraction': '0.892'}\n",
            "Best num_boost_round: 27\n",
            "Best CV score 0.290 params {'objective': 'binary', 'metric': 'binary_logloss', 'save_binary': True, 'bagging_freq': 1, 'bagging_seed': 128, 'learning_rate': '0.168', 'num_leaves': 338, 'min_data_in_leaf': 90, 'max_depth': 50, 'bagging_fraction': '0.634'}\n",
            "Best num_boost_round: 22\n",
            "Best CV score 0.289 params {'objective': 'binary', 'metric': 'binary_logloss', 'save_binary': True, 'bagging_freq': 1, 'bagging_seed': 128, 'learning_rate': '0.201', 'num_leaves': 1694, 'min_data_in_leaf': 85, 'max_depth': 38, 'bagging_fraction': '0.893'}\n",
            "Best num_boost_round: 108\n",
            "Best CV score 0.292 params {'objective': 'binary', 'metric': 'binary_logloss', 'save_binary': True, 'bagging_freq': 1, 'bagging_seed': 128, 'learning_rate': '0.112', 'num_leaves': 862, 'min_data_in_leaf': 390, 'max_depth': 37, 'bagging_fraction': '0.690'}\n",
            "Best num_boost_round: 87\n",
            "Best CV score 0.284 params {'objective': 'binary', 'metric': 'binary_logloss', 'save_binary': True, 'bagging_freq': 1, 'bagging_seed': 128, 'learning_rate': '0.067', 'num_leaves': 794, 'min_data_in_leaf': 70, 'max_depth': 22, 'bagging_fraction': '0.930'}\n",
            "Best num_boost_round: 311\n",
            "Best CV score 0.296 params {'objective': 'binary', 'metric': 'binary_logloss', 'save_binary': True, 'bagging_freq': 1, 'bagging_seed': 128, 'learning_rate': '0.012', 'num_leaves': 2212, 'min_data_in_leaf': 20, 'max_depth': 25, 'bagging_fraction': '0.992'}\n",
            "Best num_boost_round: 427\n",
            "Best CV score 0.281 params {'objective': 'binary', 'metric': 'binary_logloss', 'save_binary': True, 'bagging_freq': 1, 'bagging_seed': 128, 'learning_rate': '0.022', 'num_leaves': 56, 'min_data_in_leaf': 145, 'max_depth': 16, 'bagging_fraction': '0.827'}\n",
            "Best num_boost_round: 100\n",
            "Best CV score 0.282 params {'objective': 'binary', 'metric': 'binary_logloss', 'save_binary': True, 'bagging_freq': 1, 'bagging_seed': 128, 'learning_rate': '0.081', 'num_leaves': 62, 'min_data_in_leaf': 150, 'max_depth': 14, 'bagging_fraction': '0.837'}\n",
            "Best num_boost_round: 96\n",
            "Best CV score 0.283 params {'objective': 'binary', 'metric': 'binary_logloss', 'save_binary': True, 'bagging_freq': 1, 'bagging_seed': 128, 'learning_rate': '0.092', 'num_leaves': 140, 'min_data_in_leaf': 160, 'max_depth': 13, 'bagging_fraction': '0.831'}\n",
            "Best num_boost_round: 1195\n",
            "Best CV score 0.280 params {'objective': 'binary', 'metric': 'binary_logloss', 'save_binary': True, 'bagging_freq': 1, 'bagging_seed': 128, 'learning_rate': '0.036', 'num_leaves': 44, 'min_data_in_leaf': 145, 'max_depth': 3, 'bagging_fraction': '0.811'}\n",
            "Best num_boost_round: 588\n",
            "Best CV score 0.280 params {'objective': 'binary', 'metric': 'binary_logloss', 'save_binary': True, 'bagging_freq': 1, 'bagging_seed': 128, 'learning_rate': '0.037', 'num_leaves': 1150, 'min_data_in_leaf': 25, 'max_depth': 4, 'bagging_fraction': '0.558'}\n",
            "Best num_boost_round: 383\n",
            "Best CV score 0.279 params {'objective': 'binary', 'metric': 'binary_logloss', 'save_binary': True, 'bagging_freq': 1, 'bagging_seed': 128, 'learning_rate': '0.039', 'num_leaves': 1184, 'min_data_in_leaf': 20, 'max_depth': 5, 'bagging_fraction': '0.568'}\n",
            "Best num_boost_round: 53\n",
            "Best CV score 0.283 params {'objective': 'binary', 'metric': 'binary_logloss', 'save_binary': True, 'bagging_freq': 1, 'bagging_seed': 128, 'learning_rate': '0.147', 'num_leaves': 1128, 'min_data_in_leaf': 25, 'max_depth': 8, 'bagging_fraction': '0.555'}\n",
            "Best num_boost_round: 20\n",
            "Best CV score 0.297 params {'objective': 'binary', 'metric': 'binary_logloss', 'save_binary': True, 'bagging_freq': 1, 'bagging_seed': 128, 'learning_rate': '0.177', 'num_leaves': 1200, 'min_data_in_leaf': 35, 'max_depth': 29, 'bagging_fraction': '0.547'}\n",
            "Best num_boost_round: 241\n",
            "Best CV score 0.283 params {'objective': 'binary', 'metric': 'binary_logloss', 'save_binary': True, 'bagging_freq': 1, 'bagging_seed': 128, 'learning_rate': '0.044', 'num_leaves': 2384, 'min_data_in_leaf': 45, 'max_depth': 7, 'bagging_fraction': '0.416'}\n",
            "Best num_boost_round: 21\n",
            "Best CV score 0.292 params {'objective': 'binary', 'metric': 'binary_logloss', 'save_binary': True, 'bagging_freq': 1, 'bagging_seed': 128, 'learning_rate': '0.247', 'num_leaves': 1442, 'min_data_in_leaf': 115, 'max_depth': 18, 'bagging_fraction': '0.548'}\n",
            "Best num_boost_round: 401\n",
            "Best CV score 0.287 params {'objective': 'binary', 'metric': 'binary_logloss', 'save_binary': True, 'bagging_freq': 1, 'bagging_seed': 128, 'learning_rate': '0.137', 'num_leaves': 978, 'min_data_in_leaf': 180, 'max_depth': 2, 'bagging_fraction': '0.501'}\n",
            "Best num_boost_round: 132\n",
            "Best CV score 0.296 params {'objective': 'binary', 'metric': 'binary_logloss', 'save_binary': True, 'bagging_freq': 1, 'bagging_seed': 128, 'learning_rate': '0.093', 'num_leaves': 1852, 'min_data_in_leaf': 275, 'max_depth': 12, 'bagging_fraction': '0.402'}\n",
            "Best num_boost_round: 50\n",
            "Best CV score 0.286 params {'objective': 'binary', 'metric': 'binary_logloss', 'save_binary': True, 'bagging_freq': 1, 'bagging_seed': 128, 'learning_rate': '0.204', 'num_leaves': 2408, 'min_data_in_leaf': 120, 'max_depth': 9, 'bagging_fraction': '0.591'}\n",
            "Best num_boost_round: 570\n",
            "Best CV score 0.286 params {'objective': 'binary', 'metric': 'binary_logloss', 'save_binary': True, 'bagging_freq': 1, 'bagging_seed': 128, 'learning_rate': '0.037', 'num_leaves': 1328, 'min_data_in_leaf': 345, 'max_depth': 6, 'bagging_fraction': '0.655'}\n",
            "Best num_boost_round: 34\n",
            "Best CV score 0.292 params {'objective': 'binary', 'metric': 'binary_logloss', 'save_binary': True, 'bagging_freq': 1, 'bagging_seed': 128, 'learning_rate': '0.131', 'num_leaves': 1890, 'min_data_in_leaf': 50, 'max_depth': 28, 'bagging_fraction': '0.468'}\n",
            "Best num_boost_round: 30\n",
            "Best CV score 0.295 params {'objective': 'binary', 'metric': 'binary_logloss', 'save_binary': True, 'bagging_freq': 1, 'bagging_seed': 128, 'learning_rate': '0.248', 'num_leaves': 1116, 'min_data_in_leaf': 265, 'max_depth': 63, 'bagging_fraction': '0.584'}\n",
            "Best num_boost_round: 540\n",
            "Best CV score 0.289 params {'objective': 'binary', 'metric': 'binary_logloss', 'save_binary': True, 'bagging_freq': 1, 'bagging_seed': 128, 'learning_rate': '0.024', 'num_leaves': 3998, 'min_data_in_leaf': 230, 'max_depth': 11, 'bagging_fraction': '0.506'}\n",
            "Best num_boost_round: 128\n",
            "Best CV score 0.284 params {'objective': 'binary', 'metric': 'binary_logloss', 'save_binary': True, 'bagging_freq': 1, 'bagging_seed': 128, 'learning_rate': '0.072', 'num_leaves': 1466, 'min_data_in_leaf': 185, 'max_depth': 16, 'bagging_fraction': '0.768'}\n",
            "Best num_boost_round: 48\n",
            "Best CV score 0.298 params {'objective': 'binary', 'metric': 'binary_logloss', 'save_binary': True, 'bagging_freq': 1, 'bagging_seed': 128, 'learning_rate': '0.163', 'num_leaves': 286, 'min_data_in_leaf': 340, 'max_depth': 34, 'bagging_fraction': '0.452'}\n",
            "Best num_boost_round: 423\n",
            "Best CV score 0.279 params {'objective': 'binary', 'metric': 'binary_logloss', 'save_binary': True, 'bagging_freq': 1, 'bagging_seed': 128, 'learning_rate': '0.050', 'num_leaves': 560, 'min_data_in_leaf': 20, 'max_depth': 4, 'bagging_fraction': '0.736'}\n",
            "Best num_boost_round: 164\n",
            "Best CV score 0.293 params {'objective': 'binary', 'metric': 'binary_logloss', 'save_binary': True, 'bagging_freq': 1, 'bagging_seed': 128, 'learning_rate': '0.103', 'num_leaves': 564, 'min_data_in_leaf': 470, 'max_depth': 20, 'bagging_fraction': '0.740'}\n",
            "Best num_boost_round: 38\n",
            "Best CV score 0.287 params {'objective': 'binary', 'metric': 'binary_logloss', 'save_binary': True, 'bagging_freq': 1, 'bagging_seed': 128, 'learning_rate': '0.127', 'num_leaves': 716, 'min_data_in_leaf': 115, 'max_depth': 60, 'bagging_fraction': '0.717'}\n",
            "Best num_boost_round: 80\n",
            "Best CV score 0.288 params {'objective': 'binary', 'metric': 'binary_logloss', 'save_binary': True, 'bagging_freq': 1, 'bagging_seed': 128, 'learning_rate': '0.055', 'num_leaves': 286, 'min_data_in_leaf': 60, 'max_depth': 44, 'bagging_fraction': '0.635'}\n",
            "Best num_boost_round: 120\n",
            "Best CV score 0.290 params {'objective': 'binary', 'metric': 'binary_logloss', 'save_binary': True, 'bagging_freq': 1, 'bagging_seed': 128, 'learning_rate': '0.099', 'num_leaves': 890, 'min_data_in_leaf': 415, 'max_depth': 27, 'bagging_fraction': '0.787'}\n",
            "Best num_boost_round: 218\n",
            "Best CV score 0.291 params {'objective': 'binary', 'metric': 'binary_logloss', 'save_binary': True, 'bagging_freq': 1, 'bagging_seed': 128, 'learning_rate': '0.051', 'num_leaves': 2590, 'min_data_in_leaf': 280, 'max_depth': 31, 'bagging_fraction': '0.605'}\n",
            "Best num_boost_round: 1406\n",
            "Best CV score 0.280 params {'objective': 'binary', 'metric': 'binary_logloss', 'save_binary': True, 'bagging_freq': 1, 'bagging_seed': 128, 'learning_rate': '0.010', 'num_leaves': 510, 'min_data_in_leaf': 70, 'max_depth': 6, 'bagging_fraction': '0.687'}\n",
            "Best num_boost_round: 374\n",
            "Best CV score 0.285 params {'objective': 'binary', 'metric': 'binary_logloss', 'save_binary': True, 'bagging_freq': 1, 'bagging_seed': 128, 'learning_rate': '0.181', 'num_leaves': 1856, 'min_data_in_leaf': 245, 'max_depth': 2, 'bagging_fraction': '0.658'}\n",
            "Best num_boost_round: 123\n",
            "Best CV score 0.287 params {'objective': 'binary', 'metric': 'binary_logloss', 'save_binary': True, 'bagging_freq': 1, 'bagging_seed': 128, 'learning_rate': '0.125', 'num_leaves': 1592, 'min_data_in_leaf': 330, 'max_depth': 10, 'bagging_fraction': '0.744'}\n",
            "Best num_boost_round: 96\n",
            "Best CV score 0.291 params {'objective': 'binary', 'metric': 'binary_logloss', 'save_binary': True, 'bagging_freq': 1, 'bagging_seed': 128, 'learning_rate': '0.083', 'num_leaves': 3432, 'min_data_in_leaf': 210, 'max_depth': 24, 'bagging_fraction': '0.522'}\n",
            "Best num_boost_round: 48\n",
            "Best CV score 0.282 params {'objective': 'binary', 'metric': 'binary_logloss', 'save_binary': True, 'bagging_freq': 1, 'bagging_seed': 128, 'learning_rate': '0.152', 'num_leaves': 984, 'min_data_in_leaf': 100, 'max_depth': 15, 'bagging_fraction': '0.937'}\n",
            "Best num_boost_round: 19\n",
            "Best CV score 0.291 params {'objective': 'binary', 'metric': 'binary_logloss', 'save_binary': True, 'bagging_freq': 1, 'bagging_seed': 128, 'learning_rate': '0.300', 'num_leaves': 1300, 'min_data_in_leaf': 130, 'max_depth': 19, 'bagging_fraction': '0.713'}\n",
            "Best num_boost_round: 361\n",
            "Best CV score 0.280 params {'objective': 'binary', 'metric': 'binary_logloss', 'save_binary': True, 'bagging_freq': 1, 'bagging_seed': 128, 'learning_rate': '0.073', 'num_leaves': 642, 'min_data_in_leaf': 175, 'max_depth': 5, 'bagging_fraction': '0.862'}\n",
            "Best num_boost_round: 293\n",
            "Best CV score 0.285 params {'objective': 'binary', 'metric': 'binary_logloss', 'save_binary': True, 'bagging_freq': 1, 'bagging_seed': 128, 'learning_rate': '0.018', 'num_leaves': 2122, 'min_data_in_leaf': 75, 'max_depth': 42, 'bagging_fraction': '0.788'}\n",
            "Best num_boost_round: 75\n",
            "Best CV score 0.298 params {'objective': 'binary', 'metric': 'binary_logloss', 'save_binary': True, 'bagging_freq': 1, 'bagging_seed': 128, 'learning_rate': '0.120', 'num_leaves': 3106, 'min_data_in_leaf': 370, 'max_depth': 37, 'bagging_fraction': '0.429'}\n",
            "Best num_boost_round: 408\n",
            "Best CV score 0.295 params {'objective': 'binary', 'metric': 'binary_logloss', 'save_binary': True, 'bagging_freq': 1, 'bagging_seed': 128, 'learning_rate': '0.028', 'num_leaves': 202, 'min_data_in_leaf': 500, 'max_depth': 34, 'bagging_fraction': '0.625'}\n",
            "Best num_boost_round: 167\n",
            "Best CV score 0.286 params {'objective': 'binary', 'metric': 'binary_logloss', 'save_binary': True, 'bagging_freq': 1, 'bagging_seed': 128, 'learning_rate': '0.057', 'num_leaves': 2698, 'min_data_in_leaf': 300, 'max_depth': 59, 'bagging_fraction': '0.954'}\n",
            "Best num_boost_round: 16\n",
            "Best CV score 0.297 params {'objective': 'binary', 'metric': 'binary_logloss', 'save_binary': True, 'bagging_freq': 1, 'bagging_seed': 128, 'learning_rate': '0.233', 'num_leaves': 420, 'min_data_in_leaf': 40, 'max_depth': 22, 'bagging_fraction': '0.577'}\n",
            "Best num_boost_round: 25\n",
            "Best CV score 0.290 params {'objective': 'binary', 'metric': 'binary_logloss', 'save_binary': True, 'bagging_freq': 1, 'bagging_seed': 128, 'learning_rate': '0.191', 'num_leaves': 1562, 'min_data_in_leaf': 95, 'max_depth': 51, 'bagging_fraction': '0.677'}\n",
            "Best num_boost_round: 74\n",
            "Best CV score 0.292 params {'objective': 'binary', 'metric': 'binary_logloss', 'save_binary': True, 'bagging_freq': 1, 'bagging_seed': 128, 'learning_rate': '0.113', 'num_leaves': 1752, 'min_data_in_leaf': 200, 'max_depth': 22, 'bagging_fraction': '0.487'}\n",
            "Best num_boost_round: 52\n",
            "Best CV score 0.291 params {'objective': 'binary', 'metric': 'binary_logloss', 'save_binary': True, 'bagging_freq': 1, 'bagging_seed': 128, 'learning_rate': '0.141', 'num_leaves': 760, 'min_data_in_leaf': 165, 'max_depth': 18, 'bagging_fraction': '0.534'}\n",
            "Best num_boost_round: 244\n",
            "Best CV score 0.277 params {'objective': 'binary', 'metric': 'binary_logloss', 'save_binary': True, 'bagging_freq': 1, 'bagging_seed': 128, 'learning_rate': '0.046', 'num_leaves': 1980, 'min_data_in_leaf': 20, 'max_depth': 8, 'bagging_fraction': '0.995'}\n",
            "Best num_boost_round: 45\n",
            "Best CV score 0.288 params {'objective': 'binary', 'metric': 'binary_logloss', 'save_binary': True, 'bagging_freq': 1, 'bagging_seed': 128, 'learning_rate': '0.103', 'num_leaves': 3054, 'min_data_in_leaf': 55, 'max_depth': 26, 'bagging_fraction': '0.978'}\n",
            "Best num_boost_round: 290\n",
            "Best CV score 0.284 params {'objective': 'binary', 'metric': 'binary_logloss', 'save_binary': True, 'bagging_freq': 1, 'bagging_seed': 128, 'learning_rate': '0.068', 'num_leaves': 4056, 'min_data_in_leaf': 455, 'max_depth': 8, 'bagging_fraction': '0.907'}\n",
            "Best num_boost_round: 163\n",
            "Best CV score 0.281 params {'objective': 'binary', 'metric': 'binary_logloss', 'save_binary': True, 'bagging_freq': 1, 'bagging_seed': 128, 'learning_rate': '0.044', 'num_leaves': 3406, 'min_data_in_leaf': 80, 'max_depth': 12, 'bagging_fraction': '0.869'}\n",
            "Best num_boost_round: 1999\n",
            "Best CV score 0.278 params {'objective': 'binary', 'metric': 'binary_logloss', 'save_binary': True, 'bagging_freq': 1, 'bagging_seed': 128, 'learning_rate': '0.010', 'num_leaves': 2386, 'min_data_in_leaf': 35, 'max_depth': 4, 'bagging_fraction': '0.993'}\n",
            "Best num_boost_round: 1457\n",
            "Best CV score 0.277 params {'objective': 'binary', 'metric': 'binary_logloss', 'save_binary': True, 'bagging_freq': 1, 'bagging_seed': 128, 'learning_rate': '0.030', 'num_leaves': 2316, 'min_data_in_leaf': 30, 'max_depth': 3, 'bagging_fraction': '0.959'}\n",
            "Best num_boost_round: 547\n",
            "Best CV score 0.282 params {'objective': 'binary', 'metric': 'binary_logloss', 'save_binary': True, 'bagging_freq': 1, 'bagging_seed': 128, 'learning_rate': '0.011', 'num_leaves': 2328, 'min_data_in_leaf': 35, 'max_depth': 14, 'bagging_fraction': '0.997'}\n",
            "Best num_boost_round: 374\n",
            "Best CV score 0.279 params {'objective': 'binary', 'metric': 'binary_logloss', 'save_binary': True, 'bagging_freq': 1, 'bagging_seed': 128, 'learning_rate': '0.028', 'num_leaves': 2564, 'min_data_in_leaf': 105, 'max_depth': 10, 'bagging_fraction': '0.946'}\n",
            "Best num_boost_round: 2000\n",
            "Best CV score 0.285 params {'objective': 'binary', 'metric': 'binary_logloss', 'save_binary': True, 'bagging_freq': 1, 'bagging_seed': 128, 'learning_rate': '0.019', 'num_leaves': 2830, 'min_data_in_leaf': 135, 'max_depth': 2, 'bagging_fraction': '0.980'}\n",
            "Best num_boost_round: 101\n",
            "Best CV score 0.283 params {'objective': 'binary', 'metric': 'binary_logloss', 'save_binary': True, 'bagging_freq': 1, 'bagging_seed': 128, 'learning_rate': '0.061', 'num_leaves': 3788, 'min_data_in_leaf': 60, 'max_depth': 17, 'bagging_fraction': '0.917'}\n",
            "Best num_boost_round: 104\n",
            "Best CV score 0.280 params {'objective': 'binary', 'metric': 'binary_logloss', 'save_binary': True, 'bagging_freq': 1, 'bagging_seed': 128, 'learning_rate': '0.087', 'num_leaves': 1982, 'min_data_in_leaf': 40, 'max_depth': 8, 'bagging_fraction': '0.849'}\n",
            "Best num_boost_round: 708\n",
            "Best CV score 0.278 params {'objective': 'binary', 'metric': 'binary_logloss', 'save_binary': True, 'bagging_freq': 1, 'bagging_seed': 128, 'learning_rate': '0.078', 'num_leaves': 2316, 'min_data_in_leaf': 130, 'max_depth': 3, 'bagging_fraction': '0.961'}\n",
            "Best num_boost_round: 193\n",
            "Best CV score 0.281 params {'objective': 'binary', 'metric': 'binary_logloss', 'save_binary': True, 'bagging_freq': 1, 'bagging_seed': 128, 'learning_rate': '0.032', 'num_leaves': 2516, 'min_data_in_leaf': 30, 'max_depth': 13, 'bagging_fraction': '0.897'}\n",
            "Best num_boost_round: 416\n",
            "Best CV score 0.278 params {'objective': 'binary', 'metric': 'binary_logloss', 'save_binary': True, 'bagging_freq': 1, 'bagging_seed': 128, 'learning_rate': '0.042', 'num_leaves': 2110, 'min_data_in_leaf': 85, 'max_depth': 6, 'bagging_fraction': '0.999'}\n",
            "Best num_boost_round: 857\n",
            "Best CV score 0.280 params {'objective': 'binary', 'metric': 'binary_logloss', 'save_binary': True, 'bagging_freq': 1, 'bagging_seed': 128, 'learning_rate': '0.014', 'num_leaves': 3290, 'min_data_in_leaf': 155, 'max_depth': 10, 'bagging_fraction': '0.976'}\n",
            "Best num_boost_round: 48\n",
            "Best CV score 0.301 params {'objective': 'binary', 'metric': 'binary_logloss', 'save_binary': True, 'bagging_freq': 1, 'bagging_seed': 128, 'learning_rate': '0.065', 'num_leaves': 2222, 'min_data_in_leaf': 20, 'max_depth': 56, 'bagging_fraction': '0.929'}\n",
            "Best num_boost_round: 736\n",
            "Best CV score 0.280 params {'objective': 'binary', 'metric': 'binary_logloss', 'save_binary': True, 'bagging_freq': 1, 'bagging_seed': 128, 'learning_rate': '0.048', 'num_leaves': 3672, 'min_data_in_leaf': 220, 'max_depth': 4, 'bagging_fraction': '0.890'}\n",
            "Best num_boost_round: 238\n",
            "Best CV score 0.282 params {'objective': 'binary', 'metric': 'binary_logloss', 'save_binary': True, 'bagging_freq': 1, 'bagging_seed': 128, 'learning_rate': '0.033', 'num_leaves': 2740, 'min_data_in_leaf': 110, 'max_depth': 15, 'bagging_fraction': '0.800'}\n",
            "Best num_boost_round: 22\n",
            "Best CV score 0.289 params {'objective': 'binary', 'metric': 'binary_logloss', 'save_binary': True, 'bagging_freq': 1, 'bagging_seed': 128, 'learning_rate': '0.216', 'num_leaves': 1726, 'min_data_in_leaf': 65, 'max_depth': 21, 'bagging_fraction': '0.845'}\n",
            "Best num_boost_round: 138\n",
            "Best CV score 0.279 params {'objective': 'binary', 'metric': 'binary_logloss', 'save_binary': True, 'bagging_freq': 1, 'bagging_seed': 128, 'learning_rate': '0.076', 'num_leaves': 2986, 'min_data_in_leaf': 50, 'max_depth': 7, 'bagging_fraction': '0.946'}\n",
            "Best num_boost_round: 116\n",
            "Best CV score 0.282 params {'objective': 'binary', 'metric': 'binary_logloss', 'save_binary': True, 'bagging_freq': 1, 'bagging_seed': 128, 'learning_rate': '0.098', 'num_leaves': 2004, 'min_data_in_leaf': 245, 'max_depth': 12, 'bagging_fraction': '0.879'}\n",
            "Best num_boost_round: 25\n",
            "Best CV score 0.289 params {'objective': 'binary', 'metric': 'binary_logloss', 'save_binary': True, 'bagging_freq': 1, 'bagging_seed': 128, 'learning_rate': '0.256', 'num_leaves': 2468, 'min_data_in_leaf': 190, 'max_depth': 30, 'bagging_fraction': '0.823'}\n",
            "Best num_boost_round: 35\n",
            "Best CV score 0.286 params {'objective': 'binary', 'metric': 'binary_logloss', 'save_binary': True, 'bagging_freq': 1, 'bagging_seed': 128, 'learning_rate': '0.168', 'num_leaves': 2234, 'min_data_in_leaf': 165, 'max_depth': 47, 'bagging_fraction': '0.918'}\n",
            "Best num_boost_round: 84\n",
            "Best CV score 0.285 params {'objective': 'binary', 'metric': 'binary_logloss', 'save_binary': True, 'bagging_freq': 1, 'bagging_seed': 128, 'learning_rate': '0.059', 'num_leaves': 3218, 'min_data_in_leaf': 90, 'max_depth': 39, 'bagging_fraction': '0.988'}\n",
            "Best num_boost_round: 2000\n",
            "Best CV score 0.288 params {'objective': 'binary', 'metric': 'binary_logloss', 'save_binary': True, 'bagging_freq': 1, 'bagging_seed': 128, 'learning_rate': '0.022', 'num_leaves': 2642, 'min_data_in_leaf': 415, 'max_depth': 2, 'bagging_fraction': '0.906'}\n",
            "Best num_boost_round: 71\n",
            "Best CV score 0.283 params {'objective': 'binary', 'metric': 'binary_logloss', 'save_binary': True, 'bagging_freq': 1, 'bagging_seed': 128, 'learning_rate': '0.108', 'num_leaves': 1454, 'min_data_in_leaf': 135, 'max_depth': 24, 'bagging_fraction': '0.966'}\n",
            "Best num_boost_round: 141\n",
            "Best CV score 0.280 params {'objective': 'binary', 'metric': 'binary_logloss', 'save_binary': True, 'bagging_freq': 1, 'bagging_seed': 128, 'learning_rate': '0.092', 'num_leaves': 2902, 'min_data_in_leaf': 125, 'max_depth': 9, 'bagging_fraction': '0.940'}\n",
            "Best num_boost_round: 566\n",
            "Best CV score 0.280 params {'objective': 'binary', 'metric': 'binary_logloss', 'save_binary': True, 'bagging_freq': 1, 'bagging_seed': 128, 'learning_rate': '0.045', 'num_leaves': 1942, 'min_data_in_leaf': 145, 'max_depth': 5, 'bagging_fraction': '0.816'}\n",
            "Best num_boost_round: 391\n",
            "Best CV score 0.281 params {'objective': 'binary', 'metric': 'binary_logloss', 'save_binary': True, 'bagging_freq': 1, 'bagging_seed': 128, 'learning_rate': '0.016', 'num_leaves': 1766, 'min_data_in_leaf': 75, 'max_depth': 16, 'bagging_fraction': '0.960'}\n",
            "Best num_boost_round: 300\n",
            "Best CV score 0.279 params {'objective': 'binary', 'metric': 'binary_logloss', 'save_binary': True, 'bagging_freq': 1, 'bagging_seed': 128, 'learning_rate': '0.135', 'num_leaves': 2760, 'min_data_in_leaf': 50, 'max_depth': 3, 'bagging_fraction': '0.856'}\n",
            "Best num_boost_round: 403\n",
            "Best CV score 0.285 params {'objective': 'binary', 'metric': 'binary_logloss', 'save_binary': True, 'bagging_freq': 1, 'bagging_seed': 128, 'learning_rate': '0.025', 'num_leaves': 2428, 'min_data_in_leaf': 295, 'max_depth': 20, 'bagging_fraction': '0.878'}\n",
            "Best num_boost_round: 173\n",
            "Best CV score 0.287 params {'objective': 'binary', 'metric': 'binary_logloss', 'save_binary': True, 'bagging_freq': 1, 'bagging_seed': 128, 'learning_rate': '0.086', 'num_leaves': 2160, 'min_data_in_leaf': 325, 'max_depth': 14, 'bagging_fraction': '0.758'}\n",
            "Best num_boost_round: 174\n",
            "Best CV score 0.282 params {'objective': 'binary', 'metric': 'binary_logloss', 'save_binary': True, 'bagging_freq': 1, 'bagging_seed': 128, 'learning_rate': '0.147', 'num_leaves': 1556, 'min_data_in_leaf': 370, 'max_depth': 7, 'bagging_fraction': '0.989'}\n",
            "Best num_boost_round: 28\n",
            "Best CV score 0.296 params {'objective': 'binary', 'metric': 'binary_logloss', 'save_binary': True, 'bagging_freq': 1, 'bagging_seed': 128, 'learning_rate': '0.120', 'num_leaves': 1836, 'min_data_in_leaf': 30, 'max_depth': 44, 'bagging_fraction': '0.833'}\n",
            "Best num_boost_round: 128\n",
            "Best CV score 0.280 params {'objective': 'binary', 'metric': 'binary_logloss', 'save_binary': True, 'bagging_freq': 1, 'bagging_seed': 128, 'learning_rate': '0.070', 'num_leaves': 3580, 'min_data_in_leaf': 100, 'max_depth': 11, 'bagging_fraction': '0.926'}\n",
            "Best num_boost_round: 306\n",
            "Best CV score 0.288 params {'objective': 'binary', 'metric': 'binary_logloss', 'save_binary': True, 'bagging_freq': 1, 'bagging_seed': 128, 'learning_rate': '0.037', 'num_leaves': 1302, 'min_data_in_leaf': 430, 'max_depth': 33, 'bagging_fraction': '0.971'}\n",
            "Best num_boost_round: 22\n",
            "Best CV score 0.290 params {'objective': 'binary', 'metric': 'binary_logloss', 'save_binary': True, 'bagging_freq': 1, 'bagging_seed': 128, 'learning_rate': '0.264', 'num_leaves': 1642, 'min_data_in_leaf': 175, 'max_depth': 36, 'bagging_fraction': '0.784'}\n",
            "Best num_boost_round: 195\n",
            "Best CV score 0.282 params {'objective': 'binary', 'metric': 'binary_logloss', 'save_binary': True, 'bagging_freq': 1, 'bagging_seed': 128, 'learning_rate': '0.053', 'num_leaves': 1026, 'min_data_in_leaf': 200, 'max_depth': 18, 'bagging_fraction': '0.887'}\n",
            "Best num_boost_round: 57\n",
            "Best CV score 0.286 params {'objective': 'binary', 'metric': 'binary_logloss', 'save_binary': True, 'bagging_freq': 1, 'bagging_seed': 128, 'learning_rate': '0.160', 'num_leaves': 2046, 'min_data_in_leaf': 235, 'max_depth': 26, 'bagging_fraction': '0.900'}\n",
            "100%|██████████| 100/100 [32:46<00:00, 12.49s/it, best loss: 0.27693129122430793]\n"
          ],
          "name": "stdout"
        }
      ]
    },
    {
      "cell_type": "code",
      "metadata": {
        "id": "OrPrTx7DtHAr",
        "colab_type": "code",
        "outputId": "d469917b-d4f4-4338-994c-3b5e9dc1b0ef",
        "colab": {
          "base_uri": "https://localhost:8080/",
          "height": 55
        }
      },
      "source": [
        "print(\"Hyperopt estimated optimum {}\".format(best))"
      ],
      "execution_count": 0,
      "outputs": [
        {
          "output_type": "stream",
          "text": [
            "Hyperopt estimated optimum {'bagging_fraction': 0.9950862015751782, 'learning_rate': 0.04588724059954422, 'max_depth': 8.0, 'min_data_in_leaf': 20.0, 'num_leaves': 1980.0}\n"
          ],
          "name": "stdout"
        }
      ]
    },
    {
      "cell_type": "markdown",
      "metadata": {
        "id": "aqe_rY7pcz8y",
        "colab_type": "text"
      },
      "source": [
        "# Model Training"
      ]
    },
    {
      "cell_type": "code",
      "metadata": {
        "id": "evooOJk08PfS",
        "colab_type": "code",
        "outputId": "b0c37f5f-e2f1-4cf1-c56f-88e2606b1e2d",
        "colab": {
          "base_uri": "https://localhost:8080/",
          "height": 182
        }
      },
      "source": [
        "data = data[features + ['target']]\n",
        "X, y = data.drop(columns = 'target'), data['target']\n",
        "X_train, X_test, y_train, y_test = train_test_split(X, y, test_size = 0.2, random_state = 42)\n",
        "X_train, X_val, y_train, y_val = train_test_split(X_train, y_train, test_size = 0.25, random_state = 42)\n",
        "print('---Train size----')\n",
        "print(X_train.shape)\n",
        "print(y_train.shape)\n",
        "print('---Validation size----')\n",
        "print(X_val.shape)\n",
        "print(y_val.shape)\n",
        "print('---Test size----')\n",
        "print(X_test.shape)\n",
        "print(y_test.shape)"
      ],
      "execution_count": 4,
      "outputs": [
        {
          "output_type": "stream",
          "text": [
            "---Train size----\n",
            "(29287, 31)\n",
            "(29287,)\n",
            "---Validation size----\n",
            "(9763, 31)\n",
            "(9763,)\n",
            "---Test size----\n",
            "(9763, 31)\n",
            "(9763,)\n"
          ],
          "name": "stdout"
        }
      ]
    },
    {
      "cell_type": "code",
      "metadata": {
        "id": "p3TlGzWA4szM",
        "colab_type": "code",
        "colab": {}
      },
      "source": [
        "lgbm_params = {\n",
        "      'objective': 'binary',\n",
        "      'metric': 'binary_logloss',\n",
        "      'save_binary': True,\n",
        "      'bagging_freq': 1,\n",
        "      'bagging_seed': 2**7,\n",
        "      'learning_rate': 0.045,\n",
        "      'num_leaves': 1980,\n",
        "      'min_data_in_leaf': 20,\n",
        "      'max_depth': 8,\n",
        "      'bagging_fraction':  0.995,\n",
        "}"
      ],
      "execution_count": 0,
      "outputs": []
    },
    {
      "cell_type": "code",
      "metadata": {
        "id": "pNC_obV0_pot",
        "colab_type": "code",
        "outputId": "46b666f0-b463-46fe-d5e0-408a761d54ed",
        "colab": {
          "base_uri": "https://localhost:8080/",
          "height": 828
        }
      },
      "source": [
        "d_train = lgb.Dataset(X_train, y_train)\n",
        "d_val = lgb.Dataset(X_val, y_val)\n",
        "n_estimator = 2000\n",
        "evals_result = {}\n",
        "gbm_model = lgb.LGBMClassifier(\n",
        "        n_estimators = n_estimator,\n",
        "        **lgbm_params,\n",
        ")\n",
        "gbm_model.fit(X_train, y_train,\n",
        "        eval_set = [(X_train, y_train), (X_val, y_val)],\n",
        "        verbose = 10, \n",
        "        early_stopping_rounds = 50)\n",
        "ax = lgb.plot_metric(gbm_model.evals_result_)\n",
        "plt.show()"
      ],
      "execution_count": 8,
      "outputs": [
        {
          "output_type": "stream",
          "text": [
            "Training until validation scores don't improve for 50 rounds.\n",
            "[10]\ttraining's binary_logloss: 0.416259\tvalid_1's binary_logloss: 0.418255\n",
            "[20]\ttraining's binary_logloss: 0.355118\tvalid_1's binary_logloss: 0.360291\n",
            "[30]\ttraining's binary_logloss: 0.32064\tvalid_1's binary_logloss: 0.32897\n",
            "[40]\ttraining's binary_logloss: 0.29941\tvalid_1's binary_logloss: 0.310427\n",
            "[50]\ttraining's binary_logloss: 0.285635\tvalid_1's binary_logloss: 0.299311\n",
            "[60]\ttraining's binary_logloss: 0.276506\tvalid_1's binary_logloss: 0.292463\n",
            "[70]\ttraining's binary_logloss: 0.269264\tvalid_1's binary_logloss: 0.288065\n",
            "[80]\ttraining's binary_logloss: 0.263397\tvalid_1's binary_logloss: 0.284565\n",
            "[90]\ttraining's binary_logloss: 0.258547\tvalid_1's binary_logloss: 0.281632\n",
            "[100]\ttraining's binary_logloss: 0.254454\tvalid_1's binary_logloss: 0.279603\n",
            "[110]\ttraining's binary_logloss: 0.250243\tvalid_1's binary_logloss: 0.278362\n",
            "[120]\ttraining's binary_logloss: 0.245352\tvalid_1's binary_logloss: 0.27711\n",
            "[130]\ttraining's binary_logloss: 0.241661\tvalid_1's binary_logloss: 0.27629\n",
            "[140]\ttraining's binary_logloss: 0.238435\tvalid_1's binary_logloss: 0.2755\n",
            "[150]\ttraining's binary_logloss: 0.234714\tvalid_1's binary_logloss: 0.275346\n",
            "[160]\ttraining's binary_logloss: 0.231943\tvalid_1's binary_logloss: 0.274997\n",
            "[170]\ttraining's binary_logloss: 0.229355\tvalid_1's binary_logloss: 0.274801\n",
            "[180]\ttraining's binary_logloss: 0.226727\tvalid_1's binary_logloss: 0.274559\n",
            "[190]\ttraining's binary_logloss: 0.224737\tvalid_1's binary_logloss: 0.274254\n",
            "[200]\ttraining's binary_logloss: 0.222495\tvalid_1's binary_logloss: 0.274015\n",
            "[210]\ttraining's binary_logloss: 0.219411\tvalid_1's binary_logloss: 0.274014\n",
            "[220]\ttraining's binary_logloss: 0.217279\tvalid_1's binary_logloss: 0.274111\n",
            "[230]\ttraining's binary_logloss: 0.214815\tvalid_1's binary_logloss: 0.274231\n",
            "[240]\ttraining's binary_logloss: 0.212555\tvalid_1's binary_logloss: 0.274121\n",
            "[250]\ttraining's binary_logloss: 0.210676\tvalid_1's binary_logloss: 0.274138\n",
            "[260]\ttraining's binary_logloss: 0.208555\tvalid_1's binary_logloss: 0.274241\n",
            "Early stopping, best iteration is:\n",
            "[215]\ttraining's binary_logloss: 0.218254\tvalid_1's binary_logloss: 0.273932\n"
          ],
          "name": "stdout"
        },
        {
          "output_type": "display_data",
          "data": {
            "image/png": "[encoded data removed]",
            "text/plain": [
              "<Figure size 432x288 with 1 Axes>"
            ]
          },
          "metadata": {
            "tags": []
          }
        }
      ]
    },
    {
      "cell_type": "code",
      "metadata": {
        "id": "AembjR7bAGL9",
        "colab_type": "code",
        "outputId": "7b509690-baca-49c7-90b4-7fcc2138adc2",
        "colab": {
          "base_uri": "https://localhost:8080/",
          "height": 513
        }
      },
      "source": [
        "axis = lgb.plot_importance(gbm_model, max_num_features = 31, figsize = (8, 8))\n",
        "plt.show()"
      ],
      "execution_count": 9,
      "outputs": [
        {
          "output_type": "display_data",
          "data": {
            "image/png": "[encoded data removed]",
            "text/plain": [
              "<Figure size 576x576 with 1 Axes>"
            ]
          },
          "metadata": {
            "tags": []
          }
        }
      ]
    },
    {
      "cell_type": "markdown",
      "metadata": {
        "id": "Fc-JUDooc0KZ",
        "colab_type": "text"
      },
      "source": [
        "# Model Evaluation"
      ]
    },
    {
      "cell_type": "code",
      "metadata": {
        "id": "ymxeh-JYLSoF",
        "colab_type": "code",
        "outputId": "a7ed38dd-b205-4bed-b233-67288c51aea8",
        "colab": {
          "base_uri": "https://localhost:8080/",
          "height": 164
        }
      },
      "source": [
        "y_train_hat = gbm_model.predict(X_train)\n",
        "y_test_hat = gbm_model.predict(X_test)\n",
        "\n",
        "tr_acc = accuracy_score(y_train, y_train_hat)\n",
        "tr_f1 = f1_score(y_train, y_train_hat)\n",
        "tr_auc = roc_auc_score(y_train, y_train_hat)\n",
        "\n",
        "test_acc = accuracy_score(y_test, y_test_hat)\n",
        "test_f1 = f1_score(y_test, y_test_hat)\n",
        "test_auc = roc_auc_score(y_test, y_test_hat)\n",
        "print('------train-----------')\n",
        "print('accuracy_score: ', tr_acc)\n",
        "print('f1_score: ', tr_f1)\n",
        "print('roc_auc_score: ', tr_auc)\n",
        "print('------test-------------')\n",
        "print('accuracy_score: ', test_acc)\n",
        "print('f1_score: ', test_f1)\n",
        "print('roc_auc_score: ', test_auc)"
      ],
      "execution_count": 10,
      "outputs": [
        {
          "output_type": "stream",
          "text": [
            "------train-----------\n",
            "accuracy_score:  0.9014921296138219\n",
            "f1_score:  0.7776835940510133\n",
            "roc_auc_score:  0.8399030640778926\n",
            "------test-------------\n",
            "accuracy_score:  0.8700194612311789\n",
            "f1_score:  0.7155346334902487\n",
            "roc_auc_score:  0.8018318712205094\n"
          ],
          "name": "stdout"
        }
      ]
    },
    {
      "cell_type": "code",
      "metadata": {
        "id": "o6kcuCxGR1Ca",
        "colab_type": "code",
        "outputId": "f2a5e680-29b6-4b00-a79f-2497d703588e",
        "colab": {
          "base_uri": "https://localhost:8080/",
          "height": 332
        }
      },
      "source": [
        "from sklearn.metrics import confusion_matrix\n",
        "import seaborn as sns\n",
        "labels = [0, 1]\n",
        "cm = confusion_matrix(y_test, y_test_hat, labels)\n",
        "print(cm)\n",
        "ax =  plt.subplot()\n",
        "sns.heatmap(cm, annot = True, ax = ax);\n",
        "\n",
        "ax.set_xlabel('Predicted labels');\n",
        "ax.set_ylabel('True labels'); \n",
        "ax.set_title('Confusion Matrix'); \n",
        "ax.xaxis.set_ticklabels(['<=50k', '>50k']); \n",
        "ax.yaxis.set_ticklabels(['<=50k', '>50k']);"
      ],
      "execution_count": 12,
      "outputs": [
        {
          "output_type": "stream",
          "text": [
            "[[6898  477]\n",
            " [ 792 1596]]\n"
          ],
          "name": "stdout"
        },
        {
          "output_type": "display_data",
          "data": {
            "image/png": "[encoded data removed]",
            "text/plain": [
              "<Figure size 432x288 with 2 Axes>"
            ]
          },
          "metadata": {
            "tags": []
          }
        }
      ]
    },
    {
      "cell_type": "code",
      "metadata": {
        "id": "bxmN1cerRVuu",
        "colab_type": "code",
        "outputId": "8c86aaf0-ddc2-4b4c-d535-20b5b55e1f03",
        "colab": {
          "base_uri": "https://localhost:8080/",
          "height": 182
        }
      },
      "source": [
        "from sklearn.metrics import classification_report\n",
        "print(classification_report(y_test, y_test_hat))"
      ],
      "execution_count": 13,
      "outputs": [
        {
          "output_type": "stream",
          "text": [
            "              precision    recall  f1-score   support\n",
            "\n",
            "           0       0.90      0.94      0.92      7375\n",
            "           1       0.77      0.67      0.72      2388\n",
            "\n",
            "    accuracy                           0.87      9763\n",
            "   macro avg       0.83      0.80      0.82      9763\n",
            "weighted avg       0.87      0.87      0.87      9763\n",
            "\n"
          ],
          "name": "stdout"
        }
      ]
    },
    {
      "cell_type": "markdown",
      "metadata": {
        "id": "w-nLbHHqc0sv",
        "colab_type": "text"
      },
      "source": [
        "# Model Saving"
      ]
    },
    {
      "cell_type": "code",
      "metadata": {
        "id": "gzY3VHhN2uMu",
        "colab_type": "code",
        "outputId": "793fcddd-b55f-4ade-abfa-c06cd1e75456",
        "colab": {
          "base_uri": "https://localhost:8080/",
          "height": 35
        }
      },
      "source": [
        "gbm_model.booster_.save_model(model_path + 'lgbm_model.txt', num_iteration = gbm_model.booster_.best_iteration)"
      ],
      "execution_count": 14,
      "outputs": [
        {
          "output_type": "execute_result",
          "data": {
            "text/plain": [
              "<lightgbm.basic.Booster at 0x7f9553173978>"
            ]
          },
          "metadata": {
            "tags": []
          },
          "execution_count": 14
        }
      ]
    },
    {
      "cell_type": "code",
      "metadata": {
        "id": "1KQahhFH-FMU",
        "colab_type": "code",
        "colab": {}
      },
      "source": [
        ""
      ],
      "execution_count": 0,
      "outputs": []
    }
  ]
}