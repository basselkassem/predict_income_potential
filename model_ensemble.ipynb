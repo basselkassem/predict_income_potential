{
  "nbformat": 4,
  "nbformat_minor": 0,
  "metadata": {
    "colab": {
      "name": "model_ensemble.ipynb",
      "provenance": [],
      "include_colab_link": true
    },
    "kernelspec": {
      "name": "python3",
      "display_name": "Python 3"
    },
    "accelerator": "GPU"
  },
  "cells": [
    {
      "cell_type": "markdown",
      "metadata": {
        "id": "view-in-github",
        "colab_type": "text"
      },
      "source": [
        "<a href=\"https://colab.research.google.com/github/basselkassem/predict_income_potential/blob/master/model_ensemble.ipynb\" target=\"_parent\"><img src=\"https://colab.research.google.com/assets/colab-badge.svg\" alt=\"Open In Colab\"/></a>"
      ]
    },
    {
      "cell_type": "code",
      "metadata": {
        "id": "XKP7gHfKkzel",
        "colab_type": "code",
        "colab": {
          "base_uri": "https://localhost:8080/",
          "height": 129
        },
        "outputId": "4688c380-5dd5-40ec-85a4-6f042e506f28"
      },
      "source": [
        "from google.colab import drive\n",
        "drive.mount('/content/gdrive')\n",
        "data_path = \"/content/gdrive/My Drive/Colab Notebooks/predict_income_potential/data/\"\n",
        "model_path = '/content/gdrive/My Drive/Colab Notebooks/predict_income_potential/models/'"
      ],
      "execution_count": 1,
      "outputs": [
        {
          "output_type": "stream",
          "text": [
            "Go to this URL in a browser: https://accounts.google.com/o/oauth2/auth?client_id=947318989803-6bn6qk8qdgf4n4g3pfee6491hc0brc4i.apps.googleusercontent.com&redirect_uri=urn%3Aietf%3Awg%3Aoauth%3A2.0%3Aoob&scope=email%20https%3A%2F%2Fwww.googleapis.com%2Fauth%2Fdocs.test%20https%3A%2F%2Fwww.googleapis.com%2Fauth%2Fdrive%20https%3A%2F%2Fwww.googleapis.com%2Fauth%2Fdrive.photos.readonly%20https%3A%2F%2Fwww.googleapis.com%2Fauth%2Fpeopleapi.readonly&response_type=code\n",
            "\n",
            "Enter your authorization code:\n",
            "··········\n",
            "Mounted at /content/gdrive\n"
          ],
          "name": "stdout"
        }
      ]
    },
    {
      "cell_type": "code",
      "metadata": {
        "id": "i17OtAWlgYQl",
        "colab_type": "code",
        "colab": {
          "base_uri": "https://localhost:8080/",
          "height": 386
        },
        "outputId": "e018600c-b710-4174-f5f9-acb8a619ad70"
      },
      "source": [
        "!pip install catboost"
      ],
      "execution_count": 9,
      "outputs": [
        {
          "output_type": "stream",
          "text": [
            "Collecting catboost\n",
            "\u001b[?25l  Downloading https://files.pythonhosted.org/packages/14/14/35b211f9b1c779faba8061b696760f6da743a15d7b215cd6babb211ced0c/catboost-0.18-cp36-none-manylinux1_x86_64.whl (62.9MB)\n",
            "\u001b[K     |████████████████████████████████| 62.9MB 135kB/s \n",
            "\u001b[?25hRequirement already satisfied: graphviz in /usr/local/lib/python3.6/dist-packages (from catboost) (0.10.1)\n",
            "Requirement already satisfied: plotly in /usr/local/lib/python3.6/dist-packages (from catboost) (4.1.1)\n",
            "Requirement already satisfied: six in /usr/local/lib/python3.6/dist-packages (from catboost) (1.12.0)\n",
            "Requirement already satisfied: numpy>=1.16.0 in /usr/local/lib/python3.6/dist-packages (from catboost) (1.16.5)\n",
            "Requirement already satisfied: matplotlib in /usr/local/lib/python3.6/dist-packages (from catboost) (3.0.3)\n",
            "Requirement already satisfied: scipy in /usr/local/lib/python3.6/dist-packages (from catboost) (1.3.1)\n",
            "Requirement already satisfied: pandas>=0.24.0 in /usr/local/lib/python3.6/dist-packages (from catboost) (0.24.2)\n",
            "Requirement already satisfied: retrying>=1.3.3 in /usr/local/lib/python3.6/dist-packages (from plotly->catboost) (1.3.3)\n",
            "Requirement already satisfied: pyparsing!=2.0.4,!=2.1.2,!=2.1.6,>=2.0.1 in /usr/local/lib/python3.6/dist-packages (from matplotlib->catboost) (2.4.2)\n",
            "Requirement already satisfied: python-dateutil>=2.1 in /usr/local/lib/python3.6/dist-packages (from matplotlib->catboost) (2.5.3)\n",
            "Requirement already satisfied: cycler>=0.10 in /usr/local/lib/python3.6/dist-packages (from matplotlib->catboost) (0.10.0)\n",
            "Requirement already satisfied: kiwisolver>=1.0.1 in /usr/local/lib/python3.6/dist-packages (from matplotlib->catboost) (1.1.0)\n",
            "Requirement already satisfied: pytz>=2011k in /usr/local/lib/python3.6/dist-packages (from pandas>=0.24.0->catboost) (2018.9)\n",
            "Requirement already satisfied: setuptools in /usr/local/lib/python3.6/dist-packages (from kiwisolver>=1.0.1->matplotlib->catboost) (41.4.0)\n",
            "Installing collected packages: catboost\n",
            "Successfully installed catboost-0.18\n"
          ],
          "name": "stdout"
        }
      ]
    },
    {
      "cell_type": "markdown",
      "metadata": {
        "id": "x1NiptVCgVwO",
        "colab_type": "text"
      },
      "source": [
        "# Import libs"
      ]
    },
    {
      "cell_type": "code",
      "metadata": {
        "id": "G0sCFUzclc63",
        "colab_type": "code",
        "colab": {}
      },
      "source": [
        "import pandas as pd\n",
        "import numpy as np\n",
        "import lightgbm as lgb\n",
        "from sklearn.model_selection import train_test_split\n",
        "from sklearn.metrics import f1_score, accuracy_score, roc_auc_score\n",
        "import matplotlib.pyplot as plt\n",
        "%matplotlib inline\n",
        "import joblib\n",
        "import lightgbm as lgb\n",
        "from xgboost import XGBClassifier\n",
        "from catboost import CatBoostClassifier"
      ],
      "execution_count": 0,
      "outputs": []
    },
    {
      "cell_type": "markdown",
      "metadata": {
        "id": "hdY7nBLeopTj",
        "colab_type": "text"
      },
      "source": [
        "# Utile functions"
      ]
    },
    {
      "cell_type": "code",
      "metadata": {
        "id": "DruwEvjQotFT",
        "colab_type": "code",
        "colab": {}
      },
      "source": [
        "\n",
        "\n",
        "cat_features = ['workclass', 'education_duration',\n",
        "       'marital_status', 'occupation', 'relationship', 'race', 'sex', 'native_country',\n",
        "       'has_missing_values', 'com_workclass', 'com_marital_status',\n",
        "       'com_native_country']\n",
        "       \n",
        "def preproc(X_train, X_val, X_test):\n",
        "    input_list_train = []\n",
        "    input_list_val = []\n",
        "    input_list_test = []\n",
        "    \n",
        "    #the cols to be embedded: rescaling to range [0, # values)\n",
        "    for c in cat_features:\n",
        "        raw_vals = np.unique(X_train[c])\n",
        "        val_map = {}\n",
        "        for i in range(len(raw_vals)):\n",
        "            val_map[raw_vals[i]] = i       \n",
        "        input_list_train.append(X_train[c].map(val_map).values)\n",
        "        input_list_val.append(X_val[c].map(val_map).fillna(0).values)\n",
        "        input_list_test.append(X_test[c].map(val_map).fillna(0).values)\n",
        "     \n",
        "    #the rest of the columns\n",
        "    other_cols = [c for c in X_train.columns if (not c in cat_features)]\n",
        "    input_list_train.append(X_train[other_cols].values)\n",
        "    input_list_val.append(X_val[other_cols].values)\n",
        "    input_list_test.append(X_test[other_cols].values)\n",
        "    \n",
        "    return input_list_train, input_list_val, input_list_test"
      ],
      "execution_count": 0,
      "outputs": []
    },
    {
      "cell_type": "markdown",
      "metadata": {
        "id": "qyGXq39Ge7Iz",
        "colab_type": "text"
      },
      "source": [
        "# Load data"
      ]
    },
    {
      "cell_type": "code",
      "metadata": {
        "id": "7G8OFNk0fAR3",
        "colab_type": "code",
        "colab": {
          "base_uri": "https://localhost:8080/",
          "height": 54
        },
        "outputId": "667aa1c5-72a1-47d3-9d04-1700b9ecbd0a"
      },
      "source": [
        "data = pd.read_pickle(data_path + 'data_cont_cat_lb.pkl')\n",
        "features = list(np.load(data_path + 'features.pkl.npy'))\n",
        "print('data shape: ', data.shape)\n",
        "print('features lenght: ', len(features))"
      ],
      "execution_count": 3,
      "outputs": [
        {
          "output_type": "stream",
          "text": [
            "data shape:  (48813, 39)\n",
            "features lenght:  31\n"
          ],
          "name": "stdout"
        }
      ]
    },
    {
      "cell_type": "markdown",
      "metadata": {
        "id": "QJMYmQXSe0aR",
        "colab_type": "text"
      },
      "source": [
        "# Load base model"
      ]
    },
    {
      "cell_type": "code",
      "metadata": {
        "id": "Ug6VyK_mlxYO",
        "colab_type": "code",
        "colab": {}
      },
      "source": [
        "model_lrg = joblib.load(model_path + 'model_lrg.joblib')\n",
        "model_gmm = joblib.load(model_path + 'model_gmm.joblib')\n",
        "model_knn = joblib.load(model_path + 'model_knn.joblib')"
      ],
      "execution_count": 0,
      "outputs": []
    },
    {
      "cell_type": "code",
      "metadata": {
        "id": "d00PIkgqgDZP",
        "colab_type": "code",
        "colab": {}
      },
      "source": [
        "model_catboost = CatBoostClassifier()\n",
        "model_catboost.load_model(model_path + 'catboost_model.json', format = 'json')\n",
        "\n",
        "model_lgbm = lgb.Booster(model_file = model_path + 'lgbm_model.txt')"
      ],
      "execution_count": 0,
      "outputs": []
    },
    {
      "cell_type": "code",
      "metadata": {
        "id": "84UYdhYpfnqd",
        "colab_type": "code",
        "colab": {}
      },
      "source": [
        "from keras.models import load_model\n",
        "from keras.models import model_from_json\n",
        "\n",
        "json_file = open(model_path + 'nn_model.json', 'r')\n",
        "loaded_model_json = json_file.read()\n",
        "json_file.close()\n",
        "model_nn = model_from_json(loaded_model_json)\n",
        "model_nn.load_weights(model_path + \"nn_model_1.h5\")"
      ],
      "execution_count": 0,
      "outputs": []
    },
    {
      "cell_type": "markdown",
      "metadata": {
        "id": "sXJyTCPAhArN",
        "colab_type": "text"
      },
      "source": [
        "# Generate meta features"
      ]
    },
    {
      "cell_type": "code",
      "metadata": {
        "id": "ieyxqyuIg_KB",
        "colab_type": "code",
        "colab": {}
      },
      "source": [
        "data = data[features + ['target']]\n",
        "X, y = data.drop(columns = 'target'), data['target']\n",
        "X_train, X_test, y_train, y_test = train_test_split(X, y, test_size = 0.2, random_state = 42)\n",
        "X_train, X_val, y_train, y_val = train_test_split(X_train, y_train, test_size = 0.25, random_state = 42)"
      ],
      "execution_count": 0,
      "outputs": []
    },
    {
      "cell_type": "code",
      "metadata": {
        "id": "zyie3G6FpGYM",
        "colab_type": "code",
        "colab": {}
      },
      "source": [
        "X_train_list, X_val_list, X_test_list = preproc(X_train, X_val, X_test)"
      ],
      "execution_count": 0,
      "outputs": []
    },
    {
      "cell_type": "markdown",
      "metadata": {
        "id": "CgRVYtTJmbYY",
        "colab_type": "text"
      },
      "source": [
        "## Test meta features"
      ]
    },
    {
      "cell_type": "code",
      "metadata": {
        "id": "ehPDccwZmQSF",
        "colab_type": "code",
        "colab": {}
      },
      "source": [
        "y_test_lrg_hat = model_lrg.predict(X_test)\n",
        "y_test_gmm_hat = model_gmm.predict(X_test)\n",
        "y_test_knn_hat = model_knn.predict(X_test)\n",
        "y_test_catboost_hat = model_catboost.predict(X_test)\n",
        "y_test_lgbm_hat = model_lgbm.predict(X_test).round()\n",
        "y_test_nn_hat = model_nn.predict(X_test_list).round()"
      ],
      "execution_count": 0,
      "outputs": []
    },
    {
      "cell_type": "code",
      "metadata": {
        "id": "jKU2eiN_nkBO",
        "colab_type": "code",
        "colab": {}
      },
      "source": [
        "X_test_level2 = np.c_[y_test_lrg_hat,\n",
        "                      y_test_gmm_hat, \n",
        "                      y_test_knn_hat, \n",
        "                      y_test_catboost_hat,\n",
        "                      #y_test_lgbm_hat, \n",
        "                      y_test_nn_hat,\n",
        "                      ] "
      ],
      "execution_count": 0,
      "outputs": []
    },
    {
      "cell_type": "code",
      "metadata": {
        "id": "QKoi3bNjpmTE",
        "colab_type": "code",
        "colab": {
          "base_uri": "https://localhost:8080/",
          "height": 35
        },
        "outputId": "945be920-8d9d-4594-ac05-8d5392c48f4d"
      },
      "source": [
        "X_test_level2.shape"
      ],
      "execution_count": 156,
      "outputs": [
        {
          "output_type": "execute_result",
          "data": {
            "text/plain": [
              "(9763, 5)"
            ]
          },
          "metadata": {
            "tags": []
          },
          "execution_count": 156
        }
      ]
    },
    {
      "cell_type": "markdown",
      "metadata": {
        "id": "rX66DTr2puqd",
        "colab_type": "text"
      },
      "source": [
        "## Validation meta features"
      ]
    },
    {
      "cell_type": "code",
      "metadata": {
        "id": "d1EOmLpXpp2w",
        "colab_type": "code",
        "colab": {}
      },
      "source": [
        "y_val_lrg_hat = model_lrg.predict(X_val)\n",
        "y_val_gmm_hat = model_gmm.predict(X_val)\n",
        "y_val_knn_hat = model_knn.predict(X_val)\n",
        "y_val_catboost_hat = model_catboost.predict(X_val)\n",
        "y_val_lgbm_hat = model_lgbm.predict(X_val).round()\n",
        "y_val_nn_hat = model_nn.predict(X_val_list).round()"
      ],
      "execution_count": 0,
      "outputs": []
    },
    {
      "cell_type": "code",
      "metadata": {
        "id": "5N4moSL9qBEs",
        "colab_type": "code",
        "colab": {}
      },
      "source": [
        "X_val_level2 = np.c_[y_val_lrg_hat, \n",
        "                     y_val_gmm_hat,\n",
        "                     y_val_knn_hat, \n",
        "                     y_val_catboost_hat,\n",
        "                     y_val_lgbm_hat,\n",
        "                     y_val_nn_hat,\n",
        "                     ] "
      ],
      "execution_count": 0,
      "outputs": []
    },
    {
      "cell_type": "code",
      "metadata": {
        "id": "vpohBr3zqL7m",
        "colab_type": "code",
        "colab": {
          "base_uri": "https://localhost:8080/",
          "height": 35
        },
        "outputId": "b4a096bd-5116-4f52-8183-d07079c89b39"
      },
      "source": [
        "X_val_level2.shape"
      ],
      "execution_count": 174,
      "outputs": [
        {
          "output_type": "execute_result",
          "data": {
            "text/plain": [
              "(9763, 6)"
            ]
          },
          "metadata": {
            "tags": []
          },
          "execution_count": 174
        }
      ]
    },
    {
      "cell_type": "markdown",
      "metadata": {
        "id": "GGYHD3KuqTIo",
        "colab_type": "text"
      },
      "source": [
        "## Train meta features"
      ]
    },
    {
      "cell_type": "code",
      "metadata": {
        "id": "hG6hedRKqOLk",
        "colab_type": "code",
        "colab": {}
      },
      "source": [
        "y_train_lrg_hat = model_lrg.predict(X_train)\n",
        "y_train_gmm_hat = model_gmm.predict(X_train)\n",
        "y_train_knn_hat = model_knn.predict(X_train)\n",
        "y_train_catboost_hat = model_catboost.predict(X_train)\n",
        "y_train_lgbm_hat = model_lgbm.predict(X_train).round()\n",
        "y_train_nn_hat = model_nn.predict(X_train_list).round()"
      ],
      "execution_count": 0,
      "outputs": []
    },
    {
      "cell_type": "code",
      "metadata": {
        "id": "x8mtOZdtqj09",
        "colab_type": "code",
        "colab": {}
      },
      "source": [
        "X_train_level2 = np.c_[y_train_lrg_hat, \n",
        "                       y_train_gmm_hat,\n",
        "                       y_train_knn_hat, \n",
        "                       y_train_catboost_hat,\n",
        "                       y_train_lgbm_hat, \n",
        "                       y_train_nn_hat,\n",
        "                       ] "
      ],
      "execution_count": 0,
      "outputs": []
    },
    {
      "cell_type": "code",
      "metadata": {
        "id": "s7cT75x8quC3",
        "colab_type": "code",
        "colab": {
          "base_uri": "https://localhost:8080/",
          "height": 35
        },
        "outputId": "c1fe7da1-232f-4510-edf5-3d8b87f96cf1"
      },
      "source": [
        "X_train_level2.shape"
      ],
      "execution_count": 177,
      "outputs": [
        {
          "output_type": "execute_result",
          "data": {
            "text/plain": [
              "(29287, 6)"
            ]
          },
          "metadata": {
            "tags": []
          },
          "execution_count": 177
        }
      ]
    },
    {
      "cell_type": "markdown",
      "metadata": {
        "id": "IB-NEE5Mq2zz",
        "colab_type": "text"
      },
      "source": [
        "# Stacking"
      ]
    },
    {
      "cell_type": "code",
      "metadata": {
        "id": "JNnnZJWaqwyM",
        "colab_type": "code",
        "colab": {}
      },
      "source": [
        "cols = ['llrg', \n",
        "        'gmm', \n",
        "        'knn', \n",
        "        'catboost',\n",
        "        'lgbm',\n",
        "        'nn',]"
      ],
      "execution_count": 0,
      "outputs": []
    },
    {
      "cell_type": "code",
      "metadata": {
        "id": "L_A8gWDVrFMY",
        "colab_type": "code",
        "colab": {}
      },
      "source": [
        "X_test_level2 = pd.DataFrame(X_test_level2, columns=cols)\n",
        "X_val_level2 = pd.DataFrame(X_val_level2, columns=cols)\n",
        "X_train_level2 = pd.DataFrame(X_train_level2, columns=cols)"
      ],
      "execution_count": 0,
      "outputs": []
    },
    {
      "cell_type": "markdown",
      "metadata": {
        "id": "oK4564sZrj8Q",
        "colab_type": "text"
      },
      "source": [
        "## Build meta model"
      ]
    },
    {
      "cell_type": "code",
      "metadata": {
        "id": "CNrrUMY8rf6-",
        "colab_type": "code",
        "colab": {
          "base_uri": "https://localhost:8080/",
          "height": 458
        },
        "outputId": "82dd53ac-3201-42c8-d119-59137fcb400b"
      },
      "source": [
        "meta_model = XGBClassifier(\n",
        "    n_estimators = 2000,\n",
        "   )\n",
        "\n",
        "meta_model.fit(\n",
        "    X_train_level2, \n",
        "    y_train, \n",
        "    eval_set = [(X_train_level2, y_train), (X_val_level2, y_val)], \n",
        "    verbose=True, \n",
        "    early_stopping_rounds = 10)"
      ],
      "execution_count": 180,
      "outputs": [
        {
          "output_type": "stream",
          "text": [
            "[0]\tvalidation_0-error:0.098508\tvalidation_1-error:0.12322\n",
            "Multiple eval metrics have been passed: 'validation_1-error' will be used for early stopping.\n",
            "\n",
            "Will train until validation_1-error hasn't improved in 10 rounds.\n",
            "[1]\tvalidation_0-error:0.098508\tvalidation_1-error:0.12322\n",
            "[2]\tvalidation_0-error:0.098508\tvalidation_1-error:0.12322\n",
            "[3]\tvalidation_0-error:0.098508\tvalidation_1-error:0.12322\n",
            "[4]\tvalidation_0-error:0.098508\tvalidation_1-error:0.12322\n",
            "[5]\tvalidation_0-error:0.098508\tvalidation_1-error:0.12322\n",
            "[6]\tvalidation_0-error:0.098508\tvalidation_1-error:0.12322\n",
            "[7]\tvalidation_0-error:0.098508\tvalidation_1-error:0.12322\n",
            "[8]\tvalidation_0-error:0.098508\tvalidation_1-error:0.12322\n",
            "[9]\tvalidation_0-error:0.098508\tvalidation_1-error:0.12322\n",
            "[10]\tvalidation_0-error:0.098508\tvalidation_1-error:0.12322\n",
            "Stopping. Best iteration:\n",
            "[0]\tvalidation_0-error:0.098508\tvalidation_1-error:0.12322\n",
            "\n"
          ],
          "name": "stdout"
        },
        {
          "output_type": "execute_result",
          "data": {
            "text/plain": [
              "XGBClassifier(base_score=0.5, booster='gbtree', colsample_bylevel=1,\n",
              "              colsample_bynode=1, colsample_bytree=1, gamma=0,\n",
              "              learning_rate=0.1, max_delta_step=0, max_depth=3,\n",
              "              min_child_weight=1, missing=None, n_estimators=2000, n_jobs=1,\n",
              "              nthread=None, objective='binary:logistic', random_state=0,\n",
              "              reg_alpha=0, reg_lambda=1, scale_pos_weight=1, seed=None,\n",
              "              silent=None, subsample=1, verbosity=1)"
            ]
          },
          "metadata": {
            "tags": []
          },
          "execution_count": 180
        }
      ]
    },
    {
      "cell_type": "code",
      "metadata": {
        "id": "vm2eniAesdEc",
        "colab_type": "code",
        "colab": {
          "base_uri": "https://localhost:8080/",
          "height": 221
        },
        "outputId": "a782365c-7a40-4ad8-9020-5c58c90bd288"
      },
      "source": [
        "y_train_hat = meta_model.predict(X_train_level2).round()\n",
        "y_test_hat = meta_model.predict(X_test_level2).round()\n",
        "tr_acc = accuracy_score(y_train, y_train_hat)\n",
        "tr_f1 = f1_score(y_train, y_train_hat)\n",
        "tr_auc = roc_auc_score(y_train, y_train_hat)\n",
        "\n",
        "test_acc = accuracy_score(y_test, y_test_hat)\n",
        "test_f1 = f1_score(y_test, y_test_hat)\n",
        "test_auc = roc_auc_score(y_test, y_test_hat)\n",
        "print('------train-----------')\n",
        "print('accuracy_score: ', tr_acc)\n",
        "print('f1_score: ', tr_f1)\n",
        "print('roc_auc_score: ', tr_auc)\n",
        "print('------test-------------')\n",
        "print('accuracy_score: ', test_acc)\n",
        "print('f1_score: ', test_f1)\n",
        "print('roc_auc_score: ', test_auc)\n",
        "\n"
      ],
      "execution_count": 181,
      "outputs": [
        {
          "output_type": "stream",
          "text": [
            "------train-----------\n",
            "accuracy_score:  0.9014921296138219\n",
            "f1_score:  0.7776835940510133\n",
            "roc_auc_score:  0.8399030640778926\n",
            "------test-------------\n",
            "accuracy_score:  0.7554030523404691\n",
            "f1_score:  0.0\n",
            "roc_auc_score:  0.5\n"
          ],
          "name": "stdout"
        },
        {
          "output_type": "stream",
          "text": [
            "/usr/local/lib/python3.6/dist-packages/sklearn/metrics/classification.py:1437: UndefinedMetricWarning: F-score is ill-defined and being set to 0.0 due to no predicted samples.\n",
            "  'precision', 'predicted', average, warn_for)\n"
          ],
          "name": "stderr"
        }
      ]
    },
    {
      "cell_type": "code",
      "metadata": {
        "id": "XA0QHS6is-8Z",
        "colab_type": "code",
        "colab": {
          "base_uri": "https://localhost:8080/",
          "height": 332
        },
        "outputId": "cc592e0a-1e61-4c8a-da64-79bbb6411495"
      },
      "source": [
        "from sklearn.metrics import confusion_matrix\n",
        "import seaborn as sns\n",
        "labels = [0, 1]\n",
        "cm = confusion_matrix(y_test, y_test_hat, labels)\n",
        "print(cm)\n",
        "ax =  plt.subplot()\n",
        "sns.heatmap(cm, annot = True, ax = ax);\n",
        "\n",
        "ax.set_xlabel('Predicted labels');\n",
        "ax.set_ylabel('True labels'); \n",
        "ax.set_title('Confusion Matrix'); \n",
        "ax.xaxis.set_ticklabels(['<=50k', '>50k']); \n",
        "ax.yaxis.set_ticklabels(['<=50k', '>50k']);"
      ],
      "execution_count": 182,
      "outputs": [
        {
          "output_type": "stream",
          "text": [
            "[[7375    0]\n",
            " [2388    0]]\n"
          ],
          "name": "stdout"
        },
        {
          "output_type": "display_data",
          "data": {
            "image/png": "[encoded data removed]",
            "text/plain": [
              "<Figure size 432x288 with 2 Axes>"
            ]
          },
          "metadata": {
            "tags": []
          }
        }
      ]
    },
    {
      "cell_type": "code",
      "metadata": {
        "id": "EIUtwZ2cuGOm",
        "colab_type": "code",
        "colab": {
          "base_uri": "https://localhost:8080/",
          "height": 239
        },
        "outputId": "870e8a39-c2b8-4042-b709-dce0862210c5"
      },
      "source": [
        "from sklearn.metrics import classification_report\n",
        "print(classification_report(y_test, y_test_hat))"
      ],
      "execution_count": 183,
      "outputs": [
        {
          "output_type": "stream",
          "text": [
            "              precision    recall  f1-score   support\n",
            "\n",
            "           0       0.76      1.00      0.86      7375\n",
            "           1       0.00      0.00      0.00      2388\n",
            "\n",
            "    accuracy                           0.76      9763\n",
            "   macro avg       0.38      0.50      0.43      9763\n",
            "weighted avg       0.57      0.76      0.65      9763\n",
            "\n"
          ],
          "name": "stdout"
        },
        {
          "output_type": "stream",
          "text": [
            "/usr/local/lib/python3.6/dist-packages/sklearn/metrics/classification.py:1437: UndefinedMetricWarning: Precision and F-score are ill-defined and being set to 0.0 in labels with no predicted samples.\n",
            "  'precision', 'predicted', average, warn_for)\n"
          ],
          "name": "stderr"
        }
      ]
    },
    {
      "cell_type": "code",
      "metadata": {
        "id": "zdep8Kh8uKzo",
        "colab_type": "code",
        "colab": {}
      },
      "source": [
        ""
      ],
      "execution_count": 0,
      "outputs": []
    }
  ]
}